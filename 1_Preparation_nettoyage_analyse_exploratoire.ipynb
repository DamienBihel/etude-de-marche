{
 "cells":[
  {
   "cell_type":"markdown",
   "source":[
    "# Préparation, nettoyage et analyse exploratoire\n",
    "Ce notebook prépare et nettoie les données pour l'étude de marché de \"La poule qui chante\". Une analyse exploratoire des variables est faite sur ce notebook."
   ],
   "attachments":{
    
   },
   "metadata":{
    "datalore":{
     "node_id":"mz7gyiptYNQDo6pblVe3Ez",
     "type":"MD",
     "hide_input_from_viewers":false,
     "hide_output_from_viewers":false,
     "report_properties":{
      
     }
    }
   }
  },
  {
   "cell_type":"markdown",
   "source":[
    "# Sommaire\n",
    "\n",
    "- [1 - Import des données](#1---Import-des-données)\n",
    "  * [1.1 - Disponibilité alimentaire](#1.1---Disponibilité-alimentaire)\n",
    "    * [a - Import](#a---Import)\n",
    "    * [b - Description](#b---Description)\n",
    "    * [c - Nettoyage et préparation.](#c---Nettoyage-et-préparation.)\n",
    "    * [d - Analyse univariée](#d---Analyse-univariée)\n",
    "      * [Exportation](#Exportation)\n",
    "      * [Importation](#Importation)\n",
    "      * [Nourriture](#Nourriture)\n",
    "      * [Production](#Production)\n",
    "  * [1.2 - Population](#1.2---Population)\n",
    "    * [a - Import](#a---Import)\n",
    "    * [b - Description](#b---Description)\n",
    "    * [c - Nettoyage et préparation.](#c---Nettoyage-et-préparation.)\n",
    "    * [d - Analyse univariée](#d---Analyse-univariée)\n",
    "      * [Population](#Population)\n",
    "  * [1.3 - Stabilité Politique](#1.3---Stabilité-Politique)\n",
    "    * [a - Import](#a---Import)\n",
    "    * [b - Description](#b---Description)\n",
    "    * [c - Nettoyage et préparation](#c---Nettoyage-et-préparation)\n",
    "    * [d - Analyse univariée](#d---Analyse-univariée)\n",
    "      * [Stabilité politique](#Stabilité-politique)\n",
    "  * [1.4 - ISO3](#1.4---ISO3)\n",
    "    * [a - Import](#a---Import)\n",
    "    * [b - Description](#b---Description)\n",
    "    * [c - Nettoyage et préparation](#c---Nettoyage-et-préparation)\n",
    "  * [1.5 - Doing Business](#1.5---Doing-Business)\n",
    "    * [a - Import](#a---Import)\n",
    "    * [b - Description](#b---Description)\n",
    "    * [c - Nettoyage et préparation](#c---Nettoyage-et-préparation)\n",
    "    * [d - Analyse univariée](#d---Analyse-univariée)\n",
    "      * [Facilité du Business](#Facilité-du-Business)\n",
    "  * [1.6 - Distance](#1.6---Distance)\n",
    "    * [a - Import](#a---Import)\n",
    "    * [b - Description](#b---Description)\n",
    "    * [c - Nettoyage et préparation](#c---Nettoyage-et-préparation)\n",
    "    * [d - Analyse univariée](#d---Analyse-univariée)\n",
    "      * [distance](#distance)\n",
    "- [2 - Merge](#2---Merge)\n",
    "  * [2.1 - \"Disponibilité alimentaire\" + \"Population\"](#2.1---\"Disponibilité-alimentaire\"-+-\"Population\")\n",
    "  * [2.2 - Ajout de la \"Stabilité Politique\"](#2.2---Ajout-de-la-\"Stabilité-Politique\")\n",
    "  * [2.3 - Ajout du code ISO 3](#2.3---Ajout-du-code-ISO-3)\n",
    "  * [2.4 - Ajout du score sur facilité du business](#2.4---Ajout-du-score-sur-facilité-du-business)\n",
    "  * [2.5 - Ajout du paramètre distance](#2.5---Ajout-du-paramètre-distance)\n",
    "- [3 - Relations entre les variables](#3---Relations-entre-les-variables)\n",
    "  * [3.1 - Paramétrage de l'ACP](#3.1---Paramétrage-de-l'ACP)\n",
    "  * [3.2 détermination du nombre de composante](#3.2-détermination-du-nombre-de-composante)\n",
    "    * [Création de l'éboulis des valeurs](#Création-de-l'éboulis-des-valeurs)\n",
    "  * [3.3 Cercles de corrélations](#3.3-Cercles-de-corrélations)\n",
    "  * [3.4 - projection des données sur les axes d'inertie](#3.4---projection-des-données-sur-les-axes-d'inertie)\n",
    "- [4 - Export](#4---Export)"
   ],
   "attachments":{
    
   },
   "metadata":{
    "datalore":{
     "node_id":"J8gN0r8d4ZgCYqWc0jN1G1",
     "type":"MD",
     "hide_input_from_viewers":true,
     "hide_output_from_viewers":true
    }
   }
  },
  {
   "cell_type":"markdown",
   "source":[
    "On importe les différentes librairies que l'on va utiliser."
   ],
   "attachments":{
    
   },
   "metadata":{
    "datalore":{
     "node_id":"BkLI1xx3VDrCYxpmvskmjm",
     "type":"MD",
     "hide_input_from_viewers":true,
     "hide_output_from_viewers":true
    }
   }
  },
  {
   "cell_type":"code",
   "source":[
    "import pandas as pd\n",
    "\n",
    "import numpy as np\n",
    "\n",
    "from sklearn.decomposition import PCA\n",
    "from sklearn.preprocessing import StandardScaler\n",
    "\n",
    "import seaborn as sns\n",
    "\n",
    "import plotly.express as px\n",
    "import plotly.graph_objects as go"
   ],
   "execution_count":8,
   "outputs":[
    
   ],
   "metadata":{
    "datalore":{
     "node_id":"pbHcME3j4PqgWBB5z1iJfk",
     "type":"CODE",
     "hide_input_from_viewers":false,
     "hide_output_from_viewers":false,
     "report_properties":{
      
     }
    }
   }
  },
  {
   "cell_type":"markdown",
   "source":[
    "On définit les fonctions que l'on va utiliser"
   ],
   "attachments":{
    
   },
   "metadata":{
    "datalore":{
     "node_id":"uCu7pBrtpLFR6L20uusiG2",
     "type":"MD",
     "hide_input_from_viewers":true,
     "hide_output_from_viewers":true
    }
   }
  },
  {
   "cell_type":"code",
   "source":[
    "def analyse_univarie(df, colonne, nbins = 50, log_y = False):\n",
    "    print(\"Description rapide\")\n",
    "    print(df[colonne].describe())\n",
    "\n",
    "    fig = px.histogram(df, x= colonne, nbins= nbins, log_y= log_y)\n",
    "    fig.show()\n",
    "\n",
    "    print(\"--------------------\")\n",
    "    print(\"Évaluation de la distribution avec les coefficients d'assymétrie et de Kurtosis.\")\n",
    "    print(f\"Skewness: {df[colonne].skew()}\")\n",
    "    print(f\"Kurtosis: {df[colonne].kurt()}\")\n",
    "\n",
    "def cercle_correlation(acp, rang_1, rang_2):\n",
    "    pcs = acp.components_\n",
    "\n",
    "    data = [go.Scatter(x=[0, x], y=[0, y], mode='lines', \n",
    "                    line = dict(width=4), \n",
    "                    name=variables[i]) for i, (x, y) in enumerate(zip(pcs[rang_1-1,:], pcs[rang_2-1,:]))]\n",
    "\n",
    "    layout = go.Layout(\n",
    "        xaxis=dict(range=[-1, 1]),\n",
    "        yaxis=dict(range=[-1, 1]),\n",
    "        annotations=[go.layout.Annotation(x=x, y=y, text=variables[i]) for i, (x, y) in enumerate(zip(pcs[rang_1-1,:], pcs[rang_2-1,:]))])\n",
    "\n",
    "\n",
    "    fig = go.Figure(data=data, layout=layout)\n",
    "\n",
    "\n",
    "    fig.add_shape(type=\"circle\",\n",
    "        xref=\"x\", yref=\"y\",\n",
    "        x0=-1, y0=-1, x1=1, y1=1,\n",
    "        line_color=\"LightSeaGreen\"\n",
    "    )\n",
    "\n",
    "\n",
    "    fig.update_layout(xaxis_range=[-1, 1], \n",
    "                    yaxis_range=[-1, 1],\n",
    "                    width=800, height=800,\n",
    "                    showlegend = False,\n",
    "                    title= \"Cercle des corrélations (F{} et F{})\".format(rang_1, rang_2),\n",
    "                    xaxis_title= 'F{} ({}%)'.format(rang_1, round(100*acp.explained_variance_ratio_[rang_1-1],1)),\n",
    "                    yaxis_title= 'F{} ({}%)'.format(rang_2, round(100*acp.explained_variance_ratio_[rang_2-1],1)))\n",
    "\n",
    "    fig.show()\n",
    "\n",
    "\n",
    "\n",
    "def projection_acp(X_proj, rang_1, rang_2):\n",
    "    trace = go.Scatter(x=X_proj[:,rang_1-1], y=X_proj[:,rang_2-1], mode='markers', text=pays)\n",
    "\n",
    "    layout = go.Layout(hovermode='closest')\n",
    "\n",
    "\n",
    "    X_ = np.array(X_proj)\n",
    "\n",
    "    x_max = np.abs(X_[:, rang_1-1]).max() * 1.1\n",
    "    y_max = np.abs(X_[:, rang_2-1]).max() * 1.1\n",
    "\n",
    "    axe_1 = df_axe_inertie[df_axe_inertie['rang']==rang_1]['signification'].values[0]\n",
    "    axe_2 = df_axe_inertie[df_axe_inertie['rang']==rang_2]['signification'].values[0]\n",
    "\n",
    "    data = [trace]\n",
    "    fig = go.Figure(data=data, layout=layout)\n",
    "\n",
    "    fig.update_layout(width=800, height=800,\n",
    "                        showlegend = False,\n",
    "                        title= \"Projection des individus sur (F{} et F{})\".format(rang_1, rang_2),\n",
    "                        xaxis=dict(title='F{} ({}%) {}'.format(rang_1, round(100*acp.explained_variance_ratio_[rang_1-1],1),axe_1), \n",
    "                                range=[-x_max, x_max]),\n",
    "                        yaxis=dict(title='F{} ({}%) {}'.format(rang_2, round(100*acp.explained_variance_ratio_[rang_2-1],1),axe_2), \n",
    "                                range=[-y_max, y_max]))\n",
    "\n",
    "\n",
    "    fig.show()\n",
    "\n",
    "\n",
    "\n",
    "\n",
    "def projection_acp_3d(X_proj, rang_1, rang_2, rang_3):\n",
    "\n",
    "    axe_1 = df_axe_inertie[df_axe_inertie['rang']==rang_1]['signification'].values[0]\n",
    "    axe_2 = df_axe_inertie[df_axe_inertie['rang']==rang_2]['signification'].values[0]\n",
    "    axe_3 = df_axe_inertie[df_axe_inertie['rang']==rang_3]['signification'].values[0]\n",
    "\n",
    "\n",
    "    trace = go.Scatter3d(x=X_proj[:,rang_1-1], y=X_proj[:,rang_2-1], z=X_proj[:,rang_3-1], mode='markers', text=pays)\n",
    "    layout = go.Layout(scene = dict(xaxis_title='F{} ({}%) {}'.format(rang_1, round(100*acp.explained_variance_ratio_[rang_1-1],1),axe_1),\n",
    "                                    yaxis_title='F{} ({}%) {}'.format(rang_2, round(100*acp.explained_variance_ratio_[rang_2-1],1),axe_2),\n",
    "                                    zaxis_title='F{} ({}%) {}'.format(rang_3, round(100*acp.explained_variance_ratio_[rang_3-1],1),axe_3),\n",
    "                                    hovermode='closest'))\n",
    "    X_ = np.array(X_proj)\n",
    "\n",
    "    x_max = np.abs(X_[:, rang_1-1]).max() * 1.1\n",
    "    y_max = np.abs(X_[:, rang_2-1]).max() * 1.1\n",
    "    z_max = np.abs(X_[:, rang_3-1]).max() * 1.1\n",
    "\n",
    "\n",
    "\n",
    "\n",
    "    data = [trace]\n",
    "    fig = go.Figure(data=data, layout=layout)\n",
    "    fig.update_layout(scene_aspectmode='manual',\n",
    "                      scene_aspectratio=dict(x=1, y=1, z=1),\n",
    "                      width=1200, height=1200,\n",
    "                      showlegend = False,\n",
    "                      title= \"Projection des individus sur (F{}, F{}, F{})\".format(rang_1, rang_2, rang_3),\n",
    "                      scene=dict(xaxis=dict(range=[-x_max, x_max]),\n",
    "                                yaxis=dict(range=[-y_max, y_max]),\n",
    "                                zaxis=dict(range=[-z_max, z_max])))\n",
    "\n",
    "    fig.show()\n"
   ],
   "execution_count":9,
   "outputs":[
    
   ],
   "metadata":{
    "datalore":{
     "node_id":"0GfaUQXZxGIeadJ6rVWkRV",
     "type":"CODE",
     "hide_input_from_viewers":true,
     "hide_output_from_viewers":true
    }
   }
  },
  {
   "cell_type":"markdown",
   "source":[
    "# 1 - Import des données\n",
    "\n",
    "On va importer les différentes tables de données suivantes pour chaque pays : \n",
    "- La disponibilité alimentaire (source : https:\/\/www.fao.org\/faostat\/fr\/#data)\n",
    "- La population (source : https:\/\/www.fao.org\/faostat\/fr\/#data)\n",
    "- La stabilité politique (source : https:\/\/www.fao.org\/faostat\/fr\/#data)\n",
    "- Le code ISO 3, c'est la norme de codification des pays. Par exemple pour la France, on a le code FRA. (source : https:\/\/www.fao.org\/faostat\/fr\/#data )\n",
    "- La facilité à faire du business (source : https:\/\/databank.worldbank.org\/source\/doing-business)\n",
    "- La distance entre les pays. C'est une distance qui tient compte de la dispersion de la population dans le pays (source : http:\/\/www.cepii.fr\/CEPII\/en\/bdd_modele\/bdd_modele_item.asp?id=6)"
   ],
   "attachments":{
    
   },
   "metadata":{
    "datalore":{
     "node_id":"Qb6p6z3QDOekFwBW3hNxyy",
     "type":"MD",
     "hide_input_from_viewers":false,
     "hide_output_from_viewers":false,
     "report_properties":{
      
     }
    }
   }
  },
  {
   "cell_type":"markdown",
   "source":[
    "## 1.1 - Disponibilité alimentaire\n",
    "### a - Import "
   ],
   "attachments":{
    
   },
   "metadata":{
    "datalore":{
     "node_id":"nPjmzKOo6kDu4dA1UquNlM",
     "type":"MD",
     "hide_input_from_viewers":true,
     "hide_output_from_viewers":true
    }
   }
  },
  {
   "cell_type":"code",
   "source":[
    "df_dispo_alimentaire = pd.read_csv('DisponibiliteAlimentaire_2017.csv', sep=',')\n",
    "\n",
    "df_dispo_alimentaire.head()"
   ],
   "execution_count":10,
   "outputs":[
    {
     "data":{
      "text\/html":[
       "<div>\n",
       "<style scoped>\n",
       "    .dataframe tbody tr th:only-of-type {\n",
       "        vertical-align: middle;\n",
       "    }\n",
       "\n",
       "    .dataframe tbody tr th {\n",
       "        vertical-align: top;\n",
       "    }\n",
       "\n",
       "    .dataframe thead th {\n",
       "        text-align: right;\n",
       "    }\n",
       "<\/style>\n",
       "<table border=\"1\" class=\"dataframe\">\n",
       "  <thead>\n",
       "    <tr style=\"text-align: right;\">\n",
       "      <th><\/th>\n",
       "      <th>Code Domaine<\/th>\n",
       "      <th>Domaine<\/th>\n",
       "      <th>Code zone<\/th>\n",
       "      <th>Zone<\/th>\n",
       "      <th>Code Élément<\/th>\n",
       "      <th>Élément<\/th>\n",
       "      <th>Code Produit<\/th>\n",
       "      <th>Produit<\/th>\n",
       "      <th>Code année<\/th>\n",
       "      <th>Année<\/th>\n",
       "      <th>Unité<\/th>\n",
       "      <th>Valeur<\/th>\n",
       "      <th>Symbole<\/th>\n",
       "      <th>Description du Symbole<\/th>\n",
       "    <\/tr>\n",
       "  <\/thead>\n",
       "  <tbody>\n",
       "    <tr>\n",
       "      <th>0<\/th>\n",
       "      <td>FBS<\/td>\n",
       "      <td>Nouveaux Bilans Alimentaire<\/td>\n",
       "      <td>2<\/td>\n",
       "      <td>Afghanistan<\/td>\n",
       "      <td>5511<\/td>\n",
       "      <td>Production<\/td>\n",
       "      <td>2511<\/td>\n",
       "      <td>Blé et produits<\/td>\n",
       "      <td>2017<\/td>\n",
       "      <td>2017<\/td>\n",
       "      <td>Milliers de tonnes<\/td>\n",
       "      <td>4281.0<\/td>\n",
       "      <td>S<\/td>\n",
       "      <td>Données standardisées<\/td>\n",
       "    <\/tr>\n",
       "    <tr>\n",
       "      <th>1<\/th>\n",
       "      <td>FBS<\/td>\n",
       "      <td>Nouveaux Bilans Alimentaire<\/td>\n",
       "      <td>2<\/td>\n",
       "      <td>Afghanistan<\/td>\n",
       "      <td>5611<\/td>\n",
       "      <td>Importations - Quantité<\/td>\n",
       "      <td>2511<\/td>\n",
       "      <td>Blé et produits<\/td>\n",
       "      <td>2017<\/td>\n",
       "      <td>2017<\/td>\n",
       "      <td>Milliers de tonnes<\/td>\n",
       "      <td>2302.0<\/td>\n",
       "      <td>S<\/td>\n",
       "      <td>Données standardisées<\/td>\n",
       "    <\/tr>\n",
       "    <tr>\n",
       "      <th>2<\/th>\n",
       "      <td>FBS<\/td>\n",
       "      <td>Nouveaux Bilans Alimentaire<\/td>\n",
       "      <td>2<\/td>\n",
       "      <td>Afghanistan<\/td>\n",
       "      <td>5072<\/td>\n",
       "      <td>Variation de stock<\/td>\n",
       "      <td>2511<\/td>\n",
       "      <td>Blé et produits<\/td>\n",
       "      <td>2017<\/td>\n",
       "      <td>2017<\/td>\n",
       "      <td>Milliers de tonnes<\/td>\n",
       "      <td>-119.0<\/td>\n",
       "      <td>S<\/td>\n",
       "      <td>Données standardisées<\/td>\n",
       "    <\/tr>\n",
       "    <tr>\n",
       "      <th>3<\/th>\n",
       "      <td>FBS<\/td>\n",
       "      <td>Nouveaux Bilans Alimentaire<\/td>\n",
       "      <td>2<\/td>\n",
       "      <td>Afghanistan<\/td>\n",
       "      <td>5911<\/td>\n",
       "      <td>Exportations - Quantité<\/td>\n",
       "      <td>2511<\/td>\n",
       "      <td>Blé et produits<\/td>\n",
       "      <td>2017<\/td>\n",
       "      <td>2017<\/td>\n",
       "      <td>Milliers de tonnes<\/td>\n",
       "      <td>0.0<\/td>\n",
       "      <td>S<\/td>\n",
       "      <td>Données standardisées<\/td>\n",
       "    <\/tr>\n",
       "    <tr>\n",
       "      <th>4<\/th>\n",
       "      <td>FBS<\/td>\n",
       "      <td>Nouveaux Bilans Alimentaire<\/td>\n",
       "      <td>2<\/td>\n",
       "      <td>Afghanistan<\/td>\n",
       "      <td>5301<\/td>\n",
       "      <td>Disponibilité intérieure<\/td>\n",
       "      <td>2511<\/td>\n",
       "      <td>Blé et produits<\/td>\n",
       "      <td>2017<\/td>\n",
       "      <td>2017<\/td>\n",
       "      <td>Milliers de tonnes<\/td>\n",
       "      <td>6701.0<\/td>\n",
       "      <td>S<\/td>\n",
       "      <td>Données standardisées<\/td>\n",
       "    <\/tr>\n",
       "  <\/tbody>\n",
       "<\/table>\n",
       "<\/div>"
      ]
     },
     "metadata":{
      
     },
     "output_type":"display_data"
    }
   ],
   "metadata":{
    "datalore":{
     "node_id":"e3G5bl2GXzRYd1LXMwdFE1",
     "type":"CODE",
     "hide_input_from_viewers":true,
     "hide_output_from_viewers":true
    }
   }
  },
  {
   "cell_type":"markdown",
   "source":[
    "### b - Description\n",
    "Ici, on va voir en détail un petit peu, notre jeu de données et les variables qu'il contient"
   ],
   "attachments":{
    
   },
   "metadata":{
    "datalore":{
     "node_id":"OwCDmhYXlcOZfET6h06zqc",
     "type":"MD",
     "hide_input_from_viewers":true,
     "hide_output_from_viewers":true
    }
   }
  },
  {
   "cell_type":"code",
   "source":[
    "df_dispo_alimentaire.shape"
   ],
   "execution_count":11,
   "outputs":[
    {
     "data":{
      "text\/plain":[
       "(176600, 14)"
      ]
     },
     "metadata":{
      
     },
     "output_type":"display_data"
    }
   ],
   "metadata":{
    "datalore":{
     "node_id":"f2SJNLWIrCi2y3vuspxSaP",
     "type":"CODE",
     "hide_input_from_viewers":true,
     "hide_output_from_viewers":true
    }
   }
  },
  {
   "cell_type":"markdown",
   "source":[
    "Nous avons 14 variables et 176 600 lignes."
   ],
   "attachments":{
    
   },
   "metadata":{
    "datalore":{
     "node_id":"pIgMDgpL9qoCMqNShjg824",
     "type":"MD",
     "hide_input_from_viewers":true,
     "hide_output_from_viewers":true
    }
   }
  },
  {
   "cell_type":"code",
   "source":[
    "df_dispo_alimentaire.describe(include='all')"
   ],
   "execution_count":12,
   "outputs":[
    {
     "data":{
      "text\/html":[
       "<div>\n",
       "<style scoped>\n",
       "    .dataframe tbody tr th:only-of-type {\n",
       "        vertical-align: middle;\n",
       "    }\n",
       "\n",
       "    .dataframe tbody tr th {\n",
       "        vertical-align: top;\n",
       "    }\n",
       "\n",
       "    .dataframe thead th {\n",
       "        text-align: right;\n",
       "    }\n",
       "<\/style>\n",
       "<table border=\"1\" class=\"dataframe\">\n",
       "  <thead>\n",
       "    <tr style=\"text-align: right;\">\n",
       "      <th><\/th>\n",
       "      <th>Code Domaine<\/th>\n",
       "      <th>Domaine<\/th>\n",
       "      <th>Code zone<\/th>\n",
       "      <th>Zone<\/th>\n",
       "      <th>Code Élément<\/th>\n",
       "      <th>Élément<\/th>\n",
       "      <th>Code Produit<\/th>\n",
       "      <th>Produit<\/th>\n",
       "      <th>Code année<\/th>\n",
       "      <th>Année<\/th>\n",
       "      <th>Unité<\/th>\n",
       "      <th>Valeur<\/th>\n",
       "      <th>Symbole<\/th>\n",
       "      <th>Description du Symbole<\/th>\n",
       "    <\/tr>\n",
       "  <\/thead>\n",
       "  <tbody>\n",
       "    <tr>\n",
       "      <th>count<\/th>\n",
       "      <td>176600<\/td>\n",
       "      <td>176600<\/td>\n",
       "      <td>176600.000000<\/td>\n",
       "      <td>176600<\/td>\n",
       "      <td>176600.000000<\/td>\n",
       "      <td>176600<\/td>\n",
       "      <td>176600.000000<\/td>\n",
       "      <td>176600<\/td>\n",
       "      <td>176600.0<\/td>\n",
       "      <td>176600.0<\/td>\n",
       "      <td>176600<\/td>\n",
       "      <td>176600.000000<\/td>\n",
       "      <td>176600<\/td>\n",
       "      <td>176600<\/td>\n",
       "    <\/tr>\n",
       "    <tr>\n",
       "      <th>unique<\/th>\n",
       "      <td>1<\/td>\n",
       "      <td>1<\/td>\n",
       "      <td>NaN<\/td>\n",
       "      <td>174<\/td>\n",
       "      <td>NaN<\/td>\n",
       "      <td>17<\/td>\n",
       "      <td>NaN<\/td>\n",
       "      <td>98<\/td>\n",
       "      <td>NaN<\/td>\n",
       "      <td>NaN<\/td>\n",
       "      <td>4<\/td>\n",
       "      <td>NaN<\/td>\n",
       "      <td>2<\/td>\n",
       "      <td>2<\/td>\n",
       "    <\/tr>\n",
       "    <tr>\n",
       "      <th>top<\/th>\n",
       "      <td>FBS<\/td>\n",
       "      <td>Nouveaux Bilans Alimentaire<\/td>\n",
       "      <td>NaN<\/td>\n",
       "      <td>Tchad<\/td>\n",
       "      <td>NaN<\/td>\n",
       "      <td>Disponibilité intérieure<\/td>\n",
       "      <td>NaN<\/td>\n",
       "      <td>Maïs et produits<\/td>\n",
       "      <td>NaN<\/td>\n",
       "      <td>NaN<\/td>\n",
       "      <td>Milliers de tonnes<\/td>\n",
       "      <td>NaN<\/td>\n",
       "      <td>S<\/td>\n",
       "      <td>Données standardisées<\/td>\n",
       "    <\/tr>\n",
       "    <tr>\n",
       "      <th>freq<\/th>\n",
       "      <td>176600<\/td>\n",
       "      <td>176600<\/td>\n",
       "      <td>NaN<\/td>\n",
       "      <td>1416<\/td>\n",
       "      <td>NaN<\/td>\n",
       "      <td>15905<\/td>\n",
       "      <td>NaN<\/td>\n",
       "      <td>2593<\/td>\n",
       "      <td>NaN<\/td>\n",
       "      <td>NaN<\/td>\n",
       "      <td>118487<\/td>\n",
       "      <td>NaN<\/td>\n",
       "      <td>118487<\/td>\n",
       "      <td>118487<\/td>\n",
       "    <\/tr>\n",
       "    <tr>\n",
       "      <th>mean<\/th>\n",
       "      <td>NaN<\/td>\n",
       "      <td>NaN<\/td>\n",
       "      <td>125.474740<\/td>\n",
       "      <td>NaN<\/td>\n",
       "      <td>3810.052894<\/td>\n",
       "      <td>NaN<\/td>\n",
       "      <td>2628.778545<\/td>\n",
       "      <td>NaN<\/td>\n",
       "      <td>2017.0<\/td>\n",
       "      <td>2017.0<\/td>\n",
       "      <td>NaN<\/td>\n",
       "      <td>210.554918<\/td>\n",
       "      <td>NaN<\/td>\n",
       "      <td>NaN<\/td>\n",
       "    <\/tr>\n",
       "    <tr>\n",
       "      <th>std<\/th>\n",
       "      <td>NaN<\/td>\n",
       "      <td>NaN<\/td>\n",
       "      <td>72.941699<\/td>\n",
       "      <td>NaN<\/td>\n",
       "      <td>2211.790089<\/td>\n",
       "      <td>NaN<\/td>\n",
       "      <td>91.993247<\/td>\n",
       "      <td>NaN<\/td>\n",
       "      <td>0.0<\/td>\n",
       "      <td>0.0<\/td>\n",
       "      <td>NaN<\/td>\n",
       "      <td>4762.047787<\/td>\n",
       "      <td>NaN<\/td>\n",
       "      <td>NaN<\/td>\n",
       "    <\/tr>\n",
       "    <tr>\n",
       "      <th>min<\/th>\n",
       "      <td>NaN<\/td>\n",
       "      <td>NaN<\/td>\n",
       "      <td>1.000000<\/td>\n",
       "      <td>NaN<\/td>\n",
       "      <td>645.000000<\/td>\n",
       "      <td>NaN<\/td>\n",
       "      <td>2511.000000<\/td>\n",
       "      <td>NaN<\/td>\n",
       "      <td>2017.0<\/td>\n",
       "      <td>2017.0<\/td>\n",
       "      <td>NaN<\/td>\n",
       "      <td>-10388.000000<\/td>\n",
       "      <td>NaN<\/td>\n",
       "      <td>NaN<\/td>\n",
       "    <\/tr>\n",
       "    <tr>\n",
       "      <th>25%<\/th>\n",
       "      <td>NaN<\/td>\n",
       "      <td>NaN<\/td>\n",
       "      <td>63.000000<\/td>\n",
       "      <td>NaN<\/td>\n",
       "      <td>684.000000<\/td>\n",
       "      <td>NaN<\/td>\n",
       "      <td>2556.000000<\/td>\n",
       "      <td>NaN<\/td>\n",
       "      <td>2017.0<\/td>\n",
       "      <td>2017.0<\/td>\n",
       "      <td>NaN<\/td>\n",
       "      <td>0.000000<\/td>\n",
       "      <td>NaN<\/td>\n",
       "      <td>NaN<\/td>\n",
       "    <\/tr>\n",
       "    <tr>\n",
       "      <th>50%<\/th>\n",
       "      <td>NaN<\/td>\n",
       "      <td>NaN<\/td>\n",
       "      <td>120.000000<\/td>\n",
       "      <td>NaN<\/td>\n",
       "      <td>5142.000000<\/td>\n",
       "      <td>NaN<\/td>\n",
       "      <td>2612.000000<\/td>\n",
       "      <td>NaN<\/td>\n",
       "      <td>2017.0<\/td>\n",
       "      <td>2017.0<\/td>\n",
       "      <td>NaN<\/td>\n",
       "      <td>0.120000<\/td>\n",
       "      <td>NaN<\/td>\n",
       "      <td>NaN<\/td>\n",
       "    <\/tr>\n",
       "    <tr>\n",
       "      <th>75%<\/th>\n",
       "      <td>NaN<\/td>\n",
       "      <td>NaN<\/td>\n",
       "      <td>188.000000<\/td>\n",
       "      <td>NaN<\/td>\n",
       "      <td>5301.000000<\/td>\n",
       "      <td>NaN<\/td>\n",
       "      <td>2732.000000<\/td>\n",
       "      <td>NaN<\/td>\n",
       "      <td>2017.0<\/td>\n",
       "      <td>2017.0<\/td>\n",
       "      <td>NaN<\/td>\n",
       "      <td>8.462500<\/td>\n",
       "      <td>NaN<\/td>\n",
       "      <td>NaN<\/td>\n",
       "    <\/tr>\n",
       "    <tr>\n",
       "      <th>max<\/th>\n",
       "      <td>NaN<\/td>\n",
       "      <td>NaN<\/td>\n",
       "      <td>276.000000<\/td>\n",
       "      <td>NaN<\/td>\n",
       "      <td>5911.000000<\/td>\n",
       "      <td>NaN<\/td>\n",
       "      <td>2899.000000<\/td>\n",
       "      <td>NaN<\/td>\n",
       "      <td>2017.0<\/td>\n",
       "      <td>2017.0<\/td>\n",
       "      <td>NaN<\/td>\n",
       "      <td>758548.000000<\/td>\n",
       "      <td>NaN<\/td>\n",
       "      <td>NaN<\/td>\n",
       "    <\/tr>\n",
       "  <\/tbody>\n",
       "<\/table>\n",
       "<\/div>"
      ]
     },
     "metadata":{
      
     },
     "output_type":"display_data"
    }
   ],
   "metadata":{
    "datalore":{
     "node_id":"C4qP7U4kG6dxmZDxEqvMYo",
     "type":"CODE",
     "hide_input_from_viewers":true,
     "hide_output_from_viewers":true
    }
   }
  },
  {
   "cell_type":"markdown",
   "source":[
    "On peut s'apercevoir qu'on a des variables qui sont des constantes, parce que la valeur est la même pour toutes les lignes. C'est le cas de `Code domaine` ou de `Année` par exemple. On va vérifier le type des variables et remplir un petit tableau pour chaque variable."
   ],
   "attachments":{
    
   },
   "metadata":{
    "datalore":{
     "node_id":"jf3KPQbAdEq3ECllo01m7I",
     "type":"MD",
     "hide_input_from_viewers":true,
     "hide_output_from_viewers":true
    }
   }
  },
  {
   "cell_type":"code",
   "source":[
    "df_dispo_alimentaire.info()"
   ],
   "execution_count":13,
   "outputs":[
    {
     "name":"stdout",
     "text":[
      "<class 'pandas.core.frame.DataFrame'>\n",
      "RangeIndex: 176600 entries, 0 to 176599\n",
      "Data columns (total 14 columns):\n",
      " #   Column                  Non-Null Count   Dtype  \n",
      "---  ------                  --------------   -----  \n",
      " 0   Code Domaine            176600 non-null  object \n",
      " 1   Domaine                 176600 non-null  object \n",
      " 2   Code zone               176600 non-null  int64  \n",
      " 3   Zone                    176600 non-null  object \n",
      " 4   Code Élément            176600 non-null  int64  \n",
      " 5   Élément                 176600 non-null  object \n",
      " 6   Code Produit            176600 non-null  int64  \n",
      " 7   Produit                 176600 non-null  object \n",
      " 8   Code année              176600 non-null  int64  \n",
      " 9   Année                   176600 non-null  int64  \n",
      " 10  Unité                   176600 non-null  object \n",
      " 11  Valeur                  176600 non-null  float64\n",
      " 12  Symbole                 176600 non-null  object \n",
      " 13  Description du Symbole  176600 non-null  object \n",
      "dtypes: float64(1), int64(5), object(8)\n",
      "memory usage: 18.9+ MB\n"
     ],
     "output_type":"stream"
    }
   ],
   "metadata":{
    "datalore":{
     "node_id":"doCh83ZnHewRGaFRgUOYPM",
     "type":"CODE",
     "hide_input_from_viewers":true,
     "hide_output_from_viewers":true
    }
   }
  },
  {
   "cell_type":"markdown",
   "source":[
    "On s'aperçoit qu'il y a beaucoup de données liées entre elles, comme `Code élément` et `Élément`, on supprimera les variables de type Code.\n",
    "Les colonnes `Élément` et `Valeur` contiennent différentes variables comme l'exportation, l'importation... On fera un pivot de ces colonnes\n",
    "\n",
    "\n",
    "On peut remplir le tableau suivant :\n",
    "\n",
    "\n",
    "|Variable|Type|Contexte|Utilité|Commentaire|\n",
    "|---|---|---|---|---|\n",
    "|Code Domaine|Texte| prend qu'une seule valeur : \"FBS\" | inutile | à supprimer |\n",
    "|Domaine|Texte|prend qu'une seule valeur : \"Nouveaux Bilans Alimentaire\" | inutile | à supprimer |\n",
    "|Code Zone|Entier|code associé à chaque pays|inutile| à supprimer |\n",
    "|Zone|Texte|Nom du pays|Clef de liaison|   |\n",
    "|Code ÉLément|Entier|codes associés aux utilisations faites des produits par les pays|inutile| à supprimer |\n",
    "|Élément|Texte|utilisations faites des produits par les pays|Ce sont les variables clefs de l'analyse|à pivoter|\n",
    "|Code Produit|Entier|codes associés aux produits|inutile| à supprimer |\n",
    "|Produit|Texte|produits|C'est une variable clef|à filtrer sur la viande de volaille|\n",
    "|Code Année|Entier|prend qu'une seule valeur : \"2017\" | inutile | à supprimer |\n",
    "|Année|Année|prend qu'une seule valeur : \"2017\" | inutile | à supprimer |\n",
    "|Unité|Texte|Unité de la valeur mesuré|inutile|Après le pivot, on pourra rajouter cette info dans le nom de la variable|\n",
    "|Valeur|Float|valeur de l'élément mesuré|C'est une variable clef|    |\n",
    "|Symbole|Texte|code associé au moyen d'obtenir la mesure|inutile | à supprimer |\n",
    "|Description symbole|Texte|moyen d'obtenir la mesure|inutile | à supprimer |\n",
    "\n"
   ],
   "attachments":{
    
   },
   "metadata":{
    "datalore":{
     "node_id":"Wxx7fm4cb1RUtDbtXhqkOi",
     "type":"MD",
     "hide_input_from_viewers":true,
     "hide_output_from_viewers":true
    }
   }
  },
  {
   "cell_type":"markdown",
   "source":[
    "On utilise ce tableau pour réaliser le nettoyage et la préparation des données"
   ],
   "attachments":{
    
   },
   "metadata":{
    "datalore":{
     "node_id":"CWkvn42j4SdtEb7VEcpIEs",
     "type":"MD",
     "hide_input_from_viewers":true,
     "hide_output_from_viewers":true
    }
   }
  },
  {
   "cell_type":"markdown",
   "source":[
    "### c - Nettoyage et préparation. \n",
    "On va tout d'abord voir s'il y a des doublons."
   ],
   "attachments":{
    
   },
   "metadata":{
    "datalore":{
     "node_id":"jppudX642GNWXHp9Ow7Pd7",
     "type":"MD",
     "hide_input_from_viewers":true,
     "hide_output_from_viewers":true
    }
   }
  },
  {
   "cell_type":"code",
   "source":[
    "df_dispo_alimentaire.duplicated().sum()"
   ],
   "execution_count":14,
   "outputs":[
    {
     "data":{
      "text\/plain":[
       "0"
      ]
     },
     "metadata":{
      
     },
     "output_type":"display_data"
    }
   ],
   "metadata":{
    "datalore":{
     "node_id":"lk3PoprwoWjcjHbVI6QGor",
     "type":"CODE",
     "hide_input_from_viewers":true,
     "hide_output_from_viewers":true
    }
   }
  },
  {
   "cell_type":"markdown",
   "source":[
    "Il n'y a pas de doublon.\n",
    "\n",
    "On va réaliser toutes les opérations que l'on est défini dans le tableau précédent."
   ],
   "attachments":{
    
   },
   "metadata":{
    "datalore":{
     "node_id":"HAma9TSlNGTHLXv49Mwnnd",
     "type":"MD",
     "hide_input_from_viewers":true,
     "hide_output_from_viewers":true
    }
   }
  },
  {
   "cell_type":"code",
   "source":[
    "df_dispo_alimentaire = df_dispo_alimentaire.pivot_table(index=['Zone','Produit'], \n",
    "                                                        columns='Élément', \n",
    "                                                        values='Valeur', \n",
    "                                                        fill_value=0)\n",
    "\n",
    "\n",
    "# Les colonnes Produit et zone sont transformées en index par la méthode pivot_table. On les retransforme en colonnes\n",
    "df_dispo_alimentaire.reset_index(inplace= True)\n",
    "\n",
    "df_dispo_alimentaire = df_dispo_alimentaire[df_dispo_alimentaire['Produit'] == 'Viande de Volailles']\n",
    "\n",
    "df_dispo_alimentaire = df_dispo_alimentaire[['Zone', \n",
    "                                             'Exportations - Quantité', \n",
    "                                             'Importations - Quantité', \n",
    "                                             'Nourriture', \n",
    "                                             'Production']]\n",
    "\n",
    "df_dispo_alimentaire.rename(columns={'Exportations - Quantité': 'Exportations (en millier de tonnes)',\n",
    "                                     'Importations - Quantité': 'Importations (en millier de tonnes)',\n",
    "                                     'Nourriture' : 'Nourriture (en millier de tonnes)',\n",
    "                                     'Production' : 'Production(en millier de tonnes)'}, \n",
    "                                     inplace=True)\n",
    "\n",
    "df_dispo_alimentaire.head()"
   ],
   "execution_count":15,
   "outputs":[
    {
     "data":{
      "text\/html":[
       "<div>\n",
       "<style scoped>\n",
       "    .dataframe tbody tr th:only-of-type {\n",
       "        vertical-align: middle;\n",
       "    }\n",
       "\n",
       "    .dataframe tbody tr th {\n",
       "        vertical-align: top;\n",
       "    }\n",
       "\n",
       "    .dataframe thead th {\n",
       "        text-align: right;\n",
       "    }\n",
       "<\/style>\n",
       "<table border=\"1\" class=\"dataframe\">\n",
       "  <thead>\n",
       "    <tr style=\"text-align: right;\">\n",
       "      <th>Élément<\/th>\n",
       "      <th>Zone<\/th>\n",
       "      <th>Exportations (en millier de tonnes)<\/th>\n",
       "      <th>Importations (en millier de tonnes)<\/th>\n",
       "      <th>Nourriture (en millier de tonnes)<\/th>\n",
       "      <th>Production(en millier de tonnes)<\/th>\n",
       "    <\/tr>\n",
       "  <\/thead>\n",
       "  <tbody>\n",
       "    <tr>\n",
       "      <th>78<\/th>\n",
       "      <td>Afghanistan<\/td>\n",
       "      <td>0<\/td>\n",
       "      <td>29<\/td>\n",
       "      <td>55<\/td>\n",
       "      <td>28<\/td>\n",
       "    <\/tr>\n",
       "    <tr>\n",
       "      <th>173<\/th>\n",
       "      <td>Afrique du Sud<\/td>\n",
       "      <td>63<\/td>\n",
       "      <td>514<\/td>\n",
       "      <td>2035<\/td>\n",
       "      <td>1667<\/td>\n",
       "    <\/tr>\n",
       "    <tr>\n",
       "      <th>265<\/th>\n",
       "      <td>Albanie<\/td>\n",
       "      <td>0<\/td>\n",
       "      <td>38<\/td>\n",
       "      <td>47<\/td>\n",
       "      <td>13<\/td>\n",
       "    <\/tr>\n",
       "    <tr>\n",
       "      <th>357<\/th>\n",
       "      <td>Algérie<\/td>\n",
       "      <td>0<\/td>\n",
       "      <td>2<\/td>\n",
       "      <td>264<\/td>\n",
       "      <td>275<\/td>\n",
       "    <\/tr>\n",
       "    <tr>\n",
       "      <th>452<\/th>\n",
       "      <td>Allemagne<\/td>\n",
       "      <td>646<\/td>\n",
       "      <td>842<\/td>\n",
       "      <td>1609<\/td>\n",
       "      <td>1514<\/td>\n",
       "    <\/tr>\n",
       "  <\/tbody>\n",
       "<\/table>\n",
       "<\/div>"
      ]
     },
     "metadata":{
      
     },
     "output_type":"display_data"
    }
   ],
   "metadata":{
    "datalore":{
     "node_id":"1mMNHuHPa9aWaaAunfVko4",
     "type":"CODE",
     "hide_input_from_viewers":false,
     "hide_output_from_viewers":false,
     "report_properties":{
      
     }
    }
   }
  },
  {
   "cell_type":"markdown",
   "source":[
    "Les valeurs à `0` correspondent aux pays qui ne produisent pas de poulet ou qui ne font pas d'importation ou d'exportation de poulet.\n",
    "\n",
    "Maintenant que notre dataset est propre, on va regarder les variables dans le détail."
   ],
   "attachments":{
    
   },
   "metadata":{
    "datalore":{
     "node_id":"phYPqA1Uduvo6GbM07dEhQ",
     "type":"MD",
     "hide_input_from_viewers":true,
     "hide_output_from_viewers":true
    }
   }
  },
  {
   "cell_type":"markdown",
   "source":[
    "### d - Analyse univariée\n",
    "Ici, on va s'intéresser plus particulièrement à chacune des variables."
   ],
   "attachments":{
    
   },
   "metadata":{
    "datalore":{
     "node_id":"iOiVTOr0zm1Fm91BLjYBAj",
     "type":"MD",
     "hide_input_from_viewers":true,
     "hide_output_from_viewers":true
    }
   }
  },
  {
   "cell_type":"markdown",
   "source":[
    "#### Exportation\n",
    "\n",
    "On réalise une description rapide."
   ],
   "attachments":{
    
   },
   "metadata":{
    "datalore":{
     "node_id":"Eg30lUrRaKCZnI8v0HYFDu",
     "type":"MD",
     "hide_input_from_viewers":true,
     "hide_output_from_viewers":true
    }
   }
  },
  {
   "cell_type":"code",
   "source":[
    "analyse_univarie(df_dispo_alimentaire, 'Exportations (en millier de tonnes)')"
   ],
   "execution_count":16,
   "outputs":[
    {
     "name":"stdout",
     "text":[
      "Description rapide\n",
      "count     172.000000\n",
      "mean      103.750000\n",
      "std       458.066125\n",
      "min         0.000000\n",
      "25%         0.000000\n",
      "50%         0.000000\n",
      "75%        12.000000\n",
      "max      4223.000000\n",
      "Name: Exportations (en millier de tonnes), dtype: float64\n",
      "--------------------\n",
      "Évaluation de la distribution avec les coefficients d'assymétrie et de Kurtosis.\n",
      "Skewness: 7.3912924275999625\n",
      "Kurtosis: 59.95692289814235\n"
     ],
     "output_type":"stream"
    },
    {
     "data":{
      "application\/vnd.plotly.v1+json":{
       "data":[
        {
         "alignmentgroup":"True",
         "bingroup":"x",
         "hovertemplate":"Exportations (en millier de tonnes)=%{x}<br>count=%{y}<extra><\/extra>",
         "legendgroup":"",
         "marker":{
          "color":"#636efa",
          "pattern":{
           "shape":""
          }
         },
         "name":"",
         "nbinsx":50,
         "offsetgroup":"",
         "orientation":"v",
         "showlegend":false,
         "x":[
          0,
          63,
          0,
          0,
          646,
          0,
          0,
          10,
          207,
          0,
          42,
          78,
          0,
          0,
          0,
          0,
          656,
          0,
          1,
          8,
          0,
          4223,
          45,
          0,
          152,
          0,
          0,
          0,
          0,
          163,
          115,
          663,
          0,
          8,
          576,
          1,
          2,
          0,
          3,
          17,
          0,
          0,
          139,
          0,
          0,
          2,
          212,
          11,
          0,
          0,
          12,
          501,
          115,
          0,
          0,
          0,
          0,
          29,
          7,
          0,
          0,
          0,
          5,
          0,
          1,
          210,
          4,
          0,
          45,
          0,
          93,
          0,
          3,
          183,
          1,
          10,
          10,
          6,
          0,
          0,
          0,
          4,
          0,
          20,
          4,
          0,
          68,
          1,
          1,
          0,
          44,
          0,
          0,
          0,
          0,
          1,
          0,
          0,
          9,
          0,
          0,
          0,
          0,
          12,
          0,
          0,
          0,
          0,
          0,
          23,
          0,
          16,
          0,
          0,
          4,
          0,
          4,
          1418,
          2,
          1025,
          0,
          44,
          1,
          69,
          359,
          0,
          0,
          6,
          0,
          6,
          0,
          0,
          0,
          0,
          0,
          0,
          0,
          0,
          7,
          0,
          35,
          29,
          0,
          2,
          4,
          5,
          23,
          0,
          0,
          0,
          27,
          796,
          0,
          0,
          0,
          4,
          0,
          429,
          273,
          3,
          0,
          0,
          1,
          0,
          1,
          0,
          1,
          94,
          0,
          3692,
          0,
          0
         ],
         "xaxis":"x",
         "yaxis":"y",
         "type":"histogram"
        }
       ],
       "layout":{
        "template":{
         "data":{
          "bar":[
           {
            "error_x":{
             "color":"#2a3f5f"
            },
            "error_y":{
             "color":"#2a3f5f"
            },
            "marker":{
             "line":{
              "color":"#E5ECF6",
              "width":0.5
             },
             "pattern":{
              "fillmode":"overlay",
              "size":10,
              "solidity":0.2
             }
            },
            "type":"bar"
           }
          ],
          "barpolar":[
           {
            "marker":{
             "line":{
              "color":"#E5ECF6",
              "width":0.5
             },
             "pattern":{
              "fillmode":"overlay",
              "size":10,
              "solidity":0.2
             }
            },
            "type":"barpolar"
           }
          ],
          "carpet":[
           {
            "aaxis":{
             "endlinecolor":"#2a3f5f",
             "gridcolor":"white",
             "linecolor":"white",
             "minorgridcolor":"white",
             "startlinecolor":"#2a3f5f"
            },
            "baxis":{
             "endlinecolor":"#2a3f5f",
             "gridcolor":"white",
             "linecolor":"white",
             "minorgridcolor":"white",
             "startlinecolor":"#2a3f5f"
            },
            "type":"carpet"
           }
          ],
          "choropleth":[
           {
            "colorbar":{
             "outlinewidth":0,
             "ticks":""
            },
            "type":"choropleth"
           }
          ],
          "contour":[
           {
            "colorbar":{
             "outlinewidth":0,
             "ticks":""
            },
            "colorscale":[
             [
              0,
              "#0d0887"
             ],
             [
              0.1111111111111111,
              "#46039f"
             ],
             [
              0.2222222222222222,
              "#7201a8"
             ],
             [
              0.3333333333333333,
              "#9c179e"
             ],
             [
              0.4444444444444444,
              "#bd3786"
             ],
             [
              0.5555555555555556,
              "#d8576b"
             ],
             [
              0.6666666666666666,
              "#ed7953"
             ],
             [
              0.7777777777777778,
              "#fb9f3a"
             ],
             [
              0.8888888888888888,
              "#fdca26"
             ],
             [
              1,
              "#f0f921"
             ]
            ],
            "type":"contour"
           }
          ],
          "contourcarpet":[
           {
            "colorbar":{
             "outlinewidth":0,
             "ticks":""
            },
            "type":"contourcarpet"
           }
          ],
          "heatmap":[
           {
            "colorbar":{
             "outlinewidth":0,
             "ticks":""
            },
            "colorscale":[
             [
              0,
              "#0d0887"
             ],
             [
              0.1111111111111111,
              "#46039f"
             ],
             [
              0.2222222222222222,
              "#7201a8"
             ],
             [
              0.3333333333333333,
              "#9c179e"
             ],
             [
              0.4444444444444444,
              "#bd3786"
             ],
             [
              0.5555555555555556,
              "#d8576b"
             ],
             [
              0.6666666666666666,
              "#ed7953"
             ],
             [
              0.7777777777777778,
              "#fb9f3a"
             ],
             [
              0.8888888888888888,
              "#fdca26"
             ],
             [
              1,
              "#f0f921"
             ]
            ],
            "type":"heatmap"
           }
          ],
          "heatmapgl":[
           {
            "colorbar":{
             "outlinewidth":0,
             "ticks":""
            },
            "colorscale":[
             [
              0,
              "#0d0887"
             ],
             [
              0.1111111111111111,
              "#46039f"
             ],
             [
              0.2222222222222222,
              "#7201a8"
             ],
             [
              0.3333333333333333,
              "#9c179e"
             ],
             [
              0.4444444444444444,
              "#bd3786"
             ],
             [
              0.5555555555555556,
              "#d8576b"
             ],
             [
              0.6666666666666666,
              "#ed7953"
             ],
             [
              0.7777777777777778,
              "#fb9f3a"
             ],
             [
              0.8888888888888888,
              "#fdca26"
             ],
             [
              1,
              "#f0f921"
             ]
            ],
            "type":"heatmapgl"
           }
          ],
          "histogram":[
           {
            "marker":{
             "pattern":{
              "fillmode":"overlay",
              "size":10,
              "solidity":0.2
             }
            },
            "type":"histogram"
           }
          ],
          "histogram2d":[
           {
            "colorbar":{
             "outlinewidth":0,
             "ticks":""
            },
            "colorscale":[
             [
              0,
              "#0d0887"
             ],
             [
              0.1111111111111111,
              "#46039f"
             ],
             [
              0.2222222222222222,
              "#7201a8"
             ],
             [
              0.3333333333333333,
              "#9c179e"
             ],
             [
              0.4444444444444444,
              "#bd3786"
             ],
             [
              0.5555555555555556,
              "#d8576b"
             ],
             [
              0.6666666666666666,
              "#ed7953"
             ],
             [
              0.7777777777777778,
              "#fb9f3a"
             ],
             [
              0.8888888888888888,
              "#fdca26"
             ],
             [
              1,
              "#f0f921"
             ]
            ],
            "type":"histogram2d"
           }
          ],
          "histogram2dcontour":[
           {
            "colorbar":{
             "outlinewidth":0,
             "ticks":""
            },
            "colorscale":[
             [
              0,
              "#0d0887"
             ],
             [
              0.1111111111111111,
              "#46039f"
             ],
             [
              0.2222222222222222,
              "#7201a8"
             ],
             [
              0.3333333333333333,
              "#9c179e"
             ],
             [
              0.4444444444444444,
              "#bd3786"
             ],
             [
              0.5555555555555556,
              "#d8576b"
             ],
             [
              0.6666666666666666,
              "#ed7953"
             ],
             [
              0.7777777777777778,
              "#fb9f3a"
             ],
             [
              0.8888888888888888,
              "#fdca26"
             ],
             [
              1,
              "#f0f921"
             ]
            ],
            "type":"histogram2dcontour"
           }
          ],
          "mesh3d":[
           {
            "colorbar":{
             "outlinewidth":0,
             "ticks":""
            },
            "type":"mesh3d"
           }
          ],
          "parcoords":[
           {
            "line":{
             "colorbar":{
              "outlinewidth":0,
              "ticks":""
             }
            },
            "type":"parcoords"
           }
          ],
          "pie":[
           {
            "automargin":true,
            "type":"pie"
           }
          ],
          "scatter":[
           {
            "marker":{
             "colorbar":{
              "outlinewidth":0,
              "ticks":""
             }
            },
            "type":"scatter"
           }
          ],
          "scatter3d":[
           {
            "line":{
             "colorbar":{
              "outlinewidth":0,
              "ticks":""
             }
            },
            "marker":{
             "colorbar":{
              "outlinewidth":0,
              "ticks":""
             }
            },
            "type":"scatter3d"
           }
          ],
          "scattercarpet":[
           {
            "marker":{
             "colorbar":{
              "outlinewidth":0,
              "ticks":""
             }
            },
            "type":"scattercarpet"
           }
          ],
          "scattergeo":[
           {
            "marker":{
             "colorbar":{
              "outlinewidth":0,
              "ticks":""
             }
            },
            "type":"scattergeo"
           }
          ],
          "scattergl":[
           {
            "marker":{
             "colorbar":{
              "outlinewidth":0,
              "ticks":""
             }
            },
            "type":"scattergl"
           }
          ],
          "scattermapbox":[
           {
            "marker":{
             "colorbar":{
              "outlinewidth":0,
              "ticks":""
             }
            },
            "type":"scattermapbox"
           }
          ],
          "scatterpolar":[
           {
            "marker":{
             "colorbar":{
              "outlinewidth":0,
              "ticks":""
             }
            },
            "type":"scatterpolar"
           }
          ],
          "scatterpolargl":[
           {
            "marker":{
             "colorbar":{
              "outlinewidth":0,
              "ticks":""
             }
            },
            "type":"scatterpolargl"
           }
          ],
          "scatterternary":[
           {
            "marker":{
             "colorbar":{
              "outlinewidth":0,
              "ticks":""
             }
            },
            "type":"scatterternary"
           }
          ],
          "surface":[
           {
            "colorbar":{
             "outlinewidth":0,
             "ticks":""
            },
            "colorscale":[
             [
              0,
              "#0d0887"
             ],
             [
              0.1111111111111111,
              "#46039f"
             ],
             [
              0.2222222222222222,
              "#7201a8"
             ],
             [
              0.3333333333333333,
              "#9c179e"
             ],
             [
              0.4444444444444444,
              "#bd3786"
             ],
             [
              0.5555555555555556,
              "#d8576b"
             ],
             [
              0.6666666666666666,
              "#ed7953"
             ],
             [
              0.7777777777777778,
              "#fb9f3a"
             ],
             [
              0.8888888888888888,
              "#fdca26"
             ],
             [
              1,
              "#f0f921"
             ]
            ],
            "type":"surface"
           }
          ],
          "table":[
           {
            "cells":{
             "fill":{
              "color":"#EBF0F8"
             },
             "line":{
              "color":"white"
             }
            },
            "header":{
             "fill":{
              "color":"#C8D4E3"
             },
             "line":{
              "color":"white"
             }
            },
            "type":"table"
           }
          ]
         },
         "layout":{
          "annotationdefaults":{
           "arrowcolor":"#2a3f5f",
           "arrowhead":0,
           "arrowwidth":1
          },
          "autotypenumbers":"strict",
          "coloraxis":{
           "colorbar":{
            "outlinewidth":0,
            "ticks":""
           }
          },
          "colorscale":{
           "diverging":[
            [
             0,
             "#8e0152"
            ],
            [
             0.1,
             "#c51b7d"
            ],
            [
             0.2,
             "#de77ae"
            ],
            [
             0.3,
             "#f1b6da"
            ],
            [
             0.4,
             "#fde0ef"
            ],
            [
             0.5,
             "#f7f7f7"
            ],
            [
             0.6,
             "#e6f5d0"
            ],
            [
             0.7,
             "#b8e186"
            ],
            [
             0.8,
             "#7fbc41"
            ],
            [
             0.9,
             "#4d9221"
            ],
            [
             1,
             "#276419"
            ]
           ],
           "sequential":[
            [
             0,
             "#0d0887"
            ],
            [
             0.1111111111111111,
             "#46039f"
            ],
            [
             0.2222222222222222,
             "#7201a8"
            ],
            [
             0.3333333333333333,
             "#9c179e"
            ],
            [
             0.4444444444444444,
             "#bd3786"
            ],
            [
             0.5555555555555556,
             "#d8576b"
            ],
            [
             0.6666666666666666,
             "#ed7953"
            ],
            [
             0.7777777777777778,
             "#fb9f3a"
            ],
            [
             0.8888888888888888,
             "#fdca26"
            ],
            [
             1,
             "#f0f921"
            ]
           ],
           "sequentialminus":[
            [
             0,
             "#0d0887"
            ],
            [
             0.1111111111111111,
             "#46039f"
            ],
            [
             0.2222222222222222,
             "#7201a8"
            ],
            [
             0.3333333333333333,
             "#9c179e"
            ],
            [
             0.4444444444444444,
             "#bd3786"
            ],
            [
             0.5555555555555556,
             "#d8576b"
            ],
            [
             0.6666666666666666,
             "#ed7953"
            ],
            [
             0.7777777777777778,
             "#fb9f3a"
            ],
            [
             0.8888888888888888,
             "#fdca26"
            ],
            [
             1,
             "#f0f921"
            ]
           ]
          },
          "colorway":[
           "#636efa",
           "#EF553B",
           "#00cc96",
           "#ab63fa",
           "#FFA15A",
           "#19d3f3",
           "#FF6692",
           "#B6E880",
           "#FF97FF",
           "#FECB52"
          ],
          "font":{
           "color":"#2a3f5f"
          },
          "geo":{
           "bgcolor":"white",
           "lakecolor":"white",
           "landcolor":"#E5ECF6",
           "showlakes":true,
           "showland":true,
           "subunitcolor":"white"
          },
          "hoverlabel":{
           "align":"left"
          },
          "hovermode":"closest",
          "mapbox":{
           "style":"light"
          },
          "paper_bgcolor":"white",
          "plot_bgcolor":"#E5ECF6",
          "polar":{
           "angularaxis":{
            "gridcolor":"white",
            "linecolor":"white",
            "ticks":""
           },
           "bgcolor":"#E5ECF6",
           "radialaxis":{
            "gridcolor":"white",
            "linecolor":"white",
            "ticks":""
           }
          },
          "scene":{
           "xaxis":{
            "backgroundcolor":"#E5ECF6",
            "gridcolor":"white",
            "gridwidth":2,
            "linecolor":"white",
            "showbackground":true,
            "ticks":"",
            "zerolinecolor":"white"
           },
           "yaxis":{
            "backgroundcolor":"#E5ECF6",
            "gridcolor":"white",
            "gridwidth":2,
            "linecolor":"white",
            "showbackground":true,
            "ticks":"",
            "zerolinecolor":"white"
           },
           "zaxis":{
            "backgroundcolor":"#E5ECF6",
            "gridcolor":"white",
            "gridwidth":2,
            "linecolor":"white",
            "showbackground":true,
            "ticks":"",
            "zerolinecolor":"white"
           }
          },
          "shapedefaults":{
           "line":{
            "color":"#2a3f5f"
           }
          },
          "ternary":{
           "aaxis":{
            "gridcolor":"white",
            "linecolor":"white",
            "ticks":""
           },
           "baxis":{
            "gridcolor":"white",
            "linecolor":"white",
            "ticks":""
           },
           "bgcolor":"#E5ECF6",
           "caxis":{
            "gridcolor":"white",
            "linecolor":"white",
            "ticks":""
           }
          },
          "title":{
           "x":0.05
          },
          "xaxis":{
           "automargin":true,
           "gridcolor":"white",
           "linecolor":"white",
           "ticks":"",
           "title":{
            "standoff":15
           },
           "zerolinecolor":"white",
           "zerolinewidth":2
          },
          "yaxis":{
           "automargin":true,
           "gridcolor":"white",
           "linecolor":"white",
           "ticks":"",
           "title":{
            "standoff":15
           },
           "zerolinecolor":"white",
           "zerolinewidth":2
          }
         }
        },
        "xaxis":{
         "anchor":"y",
         "domain":[
          0,
          1
         ],
         "title":{
          "text":"Exportations (en millier de tonnes)"
         }
        },
        "yaxis":{
         "anchor":"x",
         "domain":[
          0,
          1
         ],
         "title":{
          "text":"count"
         }
        },
        "legend":{
         "tracegroupgap":0
        },
        "margin":{
         "t":60
        },
        "barmode":"relative"
       },
       "config":{
        "plotlyServerURL":"https:\/\/plot.ly"
       }
      }
     },
     "metadata":{
      
     },
     "output_type":"display_data"
    }
   ],
   "metadata":{
    "datalore":{
     "node_id":"7MEzljx4ewSxZN6XfwrI2U",
     "type":"CODE",
     "hide_input_from_viewers":true,
     "hide_output_from_viewers":true
    }
   }
  },
  {
   "cell_type":"markdown",
   "source":[
    "On voit que la grande partie des pays exporte peu de poulet entre 0 et 100 000 tonnes, mais il y a quelques pays qui exportent plus de 1 000 000 tonnes de poulet. Quels sont ces pays ?"
   ],
   "attachments":{
    
   },
   "metadata":{
    "datalore":{
     "node_id":"UVvERsIk7jnrCx1s2OuRyu",
     "type":"MD",
     "hide_input_from_viewers":true,
     "hide_output_from_viewers":true
    }
   }
  },
  {
   "cell_type":"code",
   "source":[
    "df_dispo_alimentaire[df_dispo_alimentaire['Exportations (en millier de tonnes)'] > 1000 ]"
   ],
   "execution_count":17,
   "outputs":[
    {
     "data":{
      "text\/html":[
       "<div>\n",
       "<style scoped>\n",
       "    .dataframe tbody tr th:only-of-type {\n",
       "        vertical-align: middle;\n",
       "    }\n",
       "\n",
       "    .dataframe tbody tr th {\n",
       "        vertical-align: top;\n",
       "    }\n",
       "\n",
       "    .dataframe thead th {\n",
       "        text-align: right;\n",
       "    }\n",
       "<\/style>\n",
       "<table border=\"1\" class=\"dataframe\">\n",
       "  <thead>\n",
       "    <tr style=\"text-align: right;\">\n",
       "      <th>Élément<\/th>\n",
       "      <th>Zone<\/th>\n",
       "      <th>Exportations (en millier de tonnes)<\/th>\n",
       "      <th>Importations (en millier de tonnes)<\/th>\n",
       "      <th>Nourriture (en millier de tonnes)<\/th>\n",
       "      <th>Production(en millier de tonnes)<\/th>\n",
       "    <\/tr>\n",
       "  <\/thead>\n",
       "  <tbody>\n",
       "    <tr>\n",
       "      <th>2073<\/th>\n",
       "      <td>Brésil<\/td>\n",
       "      <td>4223<\/td>\n",
       "      <td>3<\/td>\n",
       "      <td>9982<\/td>\n",
       "      <td>14201<\/td>\n",
       "    <\/tr>\n",
       "    <tr>\n",
       "      <th>11036<\/th>\n",
       "      <td>Pays-Bas<\/td>\n",
       "      <td>1418<\/td>\n",
       "      <td>608<\/td>\n",
       "      <td>346<\/td>\n",
       "      <td>1100<\/td>\n",
       "    <\/tr>\n",
       "    <tr>\n",
       "      <th>11227<\/th>\n",
       "      <td>Pologne<\/td>\n",
       "      <td>1025<\/td>\n",
       "      <td>55<\/td>\n",
       "      <td>1150<\/td>\n",
       "      <td>2351<\/td>\n",
       "    <\/tr>\n",
       "    <tr>\n",
       "      <th>15860<\/th>\n",
       "      <td>États-Unis d'Amérique<\/td>\n",
       "      <td>3692<\/td>\n",
       "      <td>123<\/td>\n",
       "      <td>18100<\/td>\n",
       "      <td>21914<\/td>\n",
       "    <\/tr>\n",
       "  <\/tbody>\n",
       "<\/table>\n",
       "<\/div>"
      ]
     },
     "metadata":{
      
     },
     "output_type":"display_data"
    }
   ],
   "metadata":{
    "datalore":{
     "node_id":"QfVGij8gfZqY8hzdfOSUoP",
     "type":"CODE",
     "hide_input_from_viewers":true,
     "hide_output_from_viewers":true
    }
   }
  },
  {
   "cell_type":"markdown",
   "source":[
    "On a maintenant les quatre pays qui exportent le plus de viande de volaille au monde."
   ],
   "attachments":{
    
   },
   "metadata":{
    "datalore":{
     "node_id":"PkqWY4GykC4X37XchKBXtS",
     "type":"MD",
     "hide_input_from_viewers":true,
     "hide_output_from_viewers":true
    }
   }
  },
  {
   "cell_type":"markdown",
   "source":[
    "#### Importation\n",
    "\n",
    "On réalise une description rapide."
   ],
   "attachments":{
    
   },
   "metadata":{
    "datalore":{
     "node_id":"C8gcTOCkE037zCl0pqYRdk",
     "type":"MD",
     "hide_input_from_viewers":true,
     "hide_output_from_viewers":true
    }
   }
  },
  {
   "cell_type":"code",
   "source":[
    "analyse_univarie(df_dispo_alimentaire, 'Importations (en millier de tonnes)')"
   ],
   "execution_count":18,
   "outputs":[
    {
     "name":"stdout",
     "text":[
      "Description rapide\n",
      "count     172.000000\n",
      "mean       88.488372\n",
      "std       185.824620\n",
      "min         0.000000\n",
      "25%         3.000000\n",
      "50%        16.000000\n",
      "75%        79.750000\n",
      "max      1069.000000\n",
      "Name: Importations (en millier de tonnes), dtype: float64\n",
      "--------------------\n",
      "Évaluation de la distribution avec les coefficients d'assymétrie et de Kurtosis.\n",
      "Skewness: 3.3389744604199065\n",
      "Kurtosis: 11.66500629821301\n"
     ],
     "output_type":"stream"
    },
    {
     "data":{
      "application\/vnd.plotly.v1+json":{
       "data":[
        {
         "alignmentgroup":"True",
         "bingroup":"x",
         "hovertemplate":"Importations (en millier de tonnes)=%{x}<br>count=%{y}<extra><\/extra>",
         "legendgroup":"",
         "marker":{
          "color":"#636efa",
          "pattern":{
           "shape":""
          }
         },
         "name":"",
         "nbinsx":50,
         "offsetgroup":"",
         "orientation":"v",
         "showlegend":false,
         "x":[
          29,
          514,
          38,
          2,
          842,
          277,
          7,
          722,
          8,
          35,
          16,
          110,
          27,
          24,
          0,
          2,
          338,
          0,
          1,
          10,
          3,
          3,
          108,
          0,
          21,
          123,
          12,
          10,
          0,
          182,
          155,
          907,
          23,
          161,
          452,
          14,
          78,
          104,
          17,
          24,
          312,
          7,
          133,
          3,
          4,
          16,
          205,
          21,
          2,
          3,
          16,
          506,
          226,
          76,
          16,
          151,
          7,
          79,
          129,
          37,
          4,
          0,
          51,
          89,
          12,
          58,
          0,
          1,
          6,
          470,
          99,
          2,
          0,
          97,
          31,
          1069,
          64,
          174,
          0,
          25,
          1,
          137,
          15,
          43,
          13,
          48,
          44,
          11,
          40,
          0,
          68,
          0,
          12,
          1,
          9,
          3,
          2,
          24,
          972,
          10,
          8,
          24,
          3,
          29,
          6,
          3,
          0,
          2,
          9,
          1,
          0,
          126,
          0,
          0,
          2,
          20,
          1,
          608,
          249,
          55,
          15,
          82,
          60,
          146,
          779,
          0,
          4,
          137,
          16,
          42,
          0,
          0,
          2,
          4,
          9,
          10,
          17,
          2,
          12,
          14,
          63,
          20,
          2,
          0,
          51,
          18,
          84,
          0,
          38,
          1,
          116,
          2,
          11,
          16,
          23,
          0,
          9,
          3,
          121,
          3,
          4,
          25,
          291,
          78,
          12,
          6,
          110,
          433,
          0,
          123,
          1,
          6
         ],
         "xaxis":"x",
         "yaxis":"y",
         "type":"histogram"
        }
       ],
       "layout":{
        "template":{
         "data":{
          "bar":[
           {
            "error_x":{
             "color":"#2a3f5f"
            },
            "error_y":{
             "color":"#2a3f5f"
            },
            "marker":{
             "line":{
              "color":"#E5ECF6",
              "width":0.5
             },
             "pattern":{
              "fillmode":"overlay",
              "size":10,
              "solidity":0.2
             }
            },
            "type":"bar"
           }
          ],
          "barpolar":[
           {
            "marker":{
             "line":{
              "color":"#E5ECF6",
              "width":0.5
             },
             "pattern":{
              "fillmode":"overlay",
              "size":10,
              "solidity":0.2
             }
            },
            "type":"barpolar"
           }
          ],
          "carpet":[
           {
            "aaxis":{
             "endlinecolor":"#2a3f5f",
             "gridcolor":"white",
             "linecolor":"white",
             "minorgridcolor":"white",
             "startlinecolor":"#2a3f5f"
            },
            "baxis":{
             "endlinecolor":"#2a3f5f",
             "gridcolor":"white",
             "linecolor":"white",
             "minorgridcolor":"white",
             "startlinecolor":"#2a3f5f"
            },
            "type":"carpet"
           }
          ],
          "choropleth":[
           {
            "colorbar":{
             "outlinewidth":0,
             "ticks":""
            },
            "type":"choropleth"
           }
          ],
          "contour":[
           {
            "colorbar":{
             "outlinewidth":0,
             "ticks":""
            },
            "colorscale":[
             [
              0,
              "#0d0887"
             ],
             [
              0.1111111111111111,
              "#46039f"
             ],
             [
              0.2222222222222222,
              "#7201a8"
             ],
             [
              0.3333333333333333,
              "#9c179e"
             ],
             [
              0.4444444444444444,
              "#bd3786"
             ],
             [
              0.5555555555555556,
              "#d8576b"
             ],
             [
              0.6666666666666666,
              "#ed7953"
             ],
             [
              0.7777777777777778,
              "#fb9f3a"
             ],
             [
              0.8888888888888888,
              "#fdca26"
             ],
             [
              1,
              "#f0f921"
             ]
            ],
            "type":"contour"
           }
          ],
          "contourcarpet":[
           {
            "colorbar":{
             "outlinewidth":0,
             "ticks":""
            },
            "type":"contourcarpet"
           }
          ],
          "heatmap":[
           {
            "colorbar":{
             "outlinewidth":0,
             "ticks":""
            },
            "colorscale":[
             [
              0,
              "#0d0887"
             ],
             [
              0.1111111111111111,
              "#46039f"
             ],
             [
              0.2222222222222222,
              "#7201a8"
             ],
             [
              0.3333333333333333,
              "#9c179e"
             ],
             [
              0.4444444444444444,
              "#bd3786"
             ],
             [
              0.5555555555555556,
              "#d8576b"
             ],
             [
              0.6666666666666666,
              "#ed7953"
             ],
             [
              0.7777777777777778,
              "#fb9f3a"
             ],
             [
              0.8888888888888888,
              "#fdca26"
             ],
             [
              1,
              "#f0f921"
             ]
            ],
            "type":"heatmap"
           }
          ],
          "heatmapgl":[
           {
            "colorbar":{
             "outlinewidth":0,
             "ticks":""
            },
            "colorscale":[
             [
              0,
              "#0d0887"
             ],
             [
              0.1111111111111111,
              "#46039f"
             ],
             [
              0.2222222222222222,
              "#7201a8"
             ],
             [
              0.3333333333333333,
              "#9c179e"
             ],
             [
              0.4444444444444444,
              "#bd3786"
             ],
             [
              0.5555555555555556,
              "#d8576b"
             ],
             [
              0.6666666666666666,
              "#ed7953"
             ],
             [
              0.7777777777777778,
              "#fb9f3a"
             ],
             [
              0.8888888888888888,
              "#fdca26"
             ],
             [
              1,
              "#f0f921"
             ]
            ],
            "type":"heatmapgl"
           }
          ],
          "histogram":[
           {
            "marker":{
             "pattern":{
              "fillmode":"overlay",
              "size":10,
              "solidity":0.2
             }
            },
            "type":"histogram"
           }
          ],
          "histogram2d":[
           {
            "colorbar":{
             "outlinewidth":0,
             "ticks":""
            },
            "colorscale":[
             [
              0,
              "#0d0887"
             ],
             [
              0.1111111111111111,
              "#46039f"
             ],
             [
              0.2222222222222222,
              "#7201a8"
             ],
             [
              0.3333333333333333,
              "#9c179e"
             ],
             [
              0.4444444444444444,
              "#bd3786"
             ],
             [
              0.5555555555555556,
              "#d8576b"
             ],
             [
              0.6666666666666666,
              "#ed7953"
             ],
             [
              0.7777777777777778,
              "#fb9f3a"
             ],
             [
              0.8888888888888888,
              "#fdca26"
             ],
             [
              1,
              "#f0f921"
             ]
            ],
            "type":"histogram2d"
           }
          ],
          "histogram2dcontour":[
           {
            "colorbar":{
             "outlinewidth":0,
             "ticks":""
            },
            "colorscale":[
             [
              0,
              "#0d0887"
             ],
             [
              0.1111111111111111,
              "#46039f"
             ],
             [
              0.2222222222222222,
              "#7201a8"
             ],
             [
              0.3333333333333333,
              "#9c179e"
             ],
             [
              0.4444444444444444,
              "#bd3786"
             ],
             [
              0.5555555555555556,
              "#d8576b"
             ],
             [
              0.6666666666666666,
              "#ed7953"
             ],
             [
              0.7777777777777778,
              "#fb9f3a"
             ],
             [
              0.8888888888888888,
              "#fdca26"
             ],
             [
              1,
              "#f0f921"
             ]
            ],
            "type":"histogram2dcontour"
           }
          ],
          "mesh3d":[
           {
            "colorbar":{
             "outlinewidth":0,
             "ticks":""
            },
            "type":"mesh3d"
           }
          ],
          "parcoords":[
           {
            "line":{
             "colorbar":{
              "outlinewidth":0,
              "ticks":""
             }
            },
            "type":"parcoords"
           }
          ],
          "pie":[
           {
            "automargin":true,
            "type":"pie"
           }
          ],
          "scatter":[
           {
            "marker":{
             "colorbar":{
              "outlinewidth":0,
              "ticks":""
             }
            },
            "type":"scatter"
           }
          ],
          "scatter3d":[
           {
            "line":{
             "colorbar":{
              "outlinewidth":0,
              "ticks":""
             }
            },
            "marker":{
             "colorbar":{
              "outlinewidth":0,
              "ticks":""
             }
            },
            "type":"scatter3d"
           }
          ],
          "scattercarpet":[
           {
            "marker":{
             "colorbar":{
              "outlinewidth":0,
              "ticks":""
             }
            },
            "type":"scattercarpet"
           }
          ],
          "scattergeo":[
           {
            "marker":{
             "colorbar":{
              "outlinewidth":0,
              "ticks":""
             }
            },
            "type":"scattergeo"
           }
          ],
          "scattergl":[
           {
            "marker":{
             "colorbar":{
              "outlinewidth":0,
              "ticks":""
             }
            },
            "type":"scattergl"
           }
          ],
          "scattermapbox":[
           {
            "marker":{
             "colorbar":{
              "outlinewidth":0,
              "ticks":""
             }
            },
            "type":"scattermapbox"
           }
          ],
          "scatterpolar":[
           {
            "marker":{
             "colorbar":{
              "outlinewidth":0,
              "ticks":""
             }
            },
            "type":"scatterpolar"
           }
          ],
          "scatterpolargl":[
           {
            "marker":{
             "colorbar":{
              "outlinewidth":0,
              "ticks":""
             }
            },
            "type":"scatterpolargl"
           }
          ],
          "scatterternary":[
           {
            "marker":{
             "colorbar":{
              "outlinewidth":0,
              "ticks":""
             }
            },
            "type":"scatterternary"
           }
          ],
          "surface":[
           {
            "colorbar":{
             "outlinewidth":0,
             "ticks":""
            },
            "colorscale":[
             [
              0,
              "#0d0887"
             ],
             [
              0.1111111111111111,
              "#46039f"
             ],
             [
              0.2222222222222222,
              "#7201a8"
             ],
             [
              0.3333333333333333,
              "#9c179e"
             ],
             [
              0.4444444444444444,
              "#bd3786"
             ],
             [
              0.5555555555555556,
              "#d8576b"
             ],
             [
              0.6666666666666666,
              "#ed7953"
             ],
             [
              0.7777777777777778,
              "#fb9f3a"
             ],
             [
              0.8888888888888888,
              "#fdca26"
             ],
             [
              1,
              "#f0f921"
             ]
            ],
            "type":"surface"
           }
          ],
          "table":[
           {
            "cells":{
             "fill":{
              "color":"#EBF0F8"
             },
             "line":{
              "color":"white"
             }
            },
            "header":{
             "fill":{
              "color":"#C8D4E3"
             },
             "line":{
              "color":"white"
             }
            },
            "type":"table"
           }
          ]
         },
         "layout":{
          "annotationdefaults":{
           "arrowcolor":"#2a3f5f",
           "arrowhead":0,
           "arrowwidth":1
          },
          "autotypenumbers":"strict",
          "coloraxis":{
           "colorbar":{
            "outlinewidth":0,
            "ticks":""
           }
          },
          "colorscale":{
           "diverging":[
            [
             0,
             "#8e0152"
            ],
            [
             0.1,
             "#c51b7d"
            ],
            [
             0.2,
             "#de77ae"
            ],
            [
             0.3,
             "#f1b6da"
            ],
            [
             0.4,
             "#fde0ef"
            ],
            [
             0.5,
             "#f7f7f7"
            ],
            [
             0.6,
             "#e6f5d0"
            ],
            [
             0.7,
             "#b8e186"
            ],
            [
             0.8,
             "#7fbc41"
            ],
            [
             0.9,
             "#4d9221"
            ],
            [
             1,
             "#276419"
            ]
           ],
           "sequential":[
            [
             0,
             "#0d0887"
            ],
            [
             0.1111111111111111,
             "#46039f"
            ],
            [
             0.2222222222222222,
             "#7201a8"
            ],
            [
             0.3333333333333333,
             "#9c179e"
            ],
            [
             0.4444444444444444,
             "#bd3786"
            ],
            [
             0.5555555555555556,
             "#d8576b"
            ],
            [
             0.6666666666666666,
             "#ed7953"
            ],
            [
             0.7777777777777778,
             "#fb9f3a"
            ],
            [
             0.8888888888888888,
             "#fdca26"
            ],
            [
             1,
             "#f0f921"
            ]
           ],
           "sequentialminus":[
            [
             0,
             "#0d0887"
            ],
            [
             0.1111111111111111,
             "#46039f"
            ],
            [
             0.2222222222222222,
             "#7201a8"
            ],
            [
             0.3333333333333333,
             "#9c179e"
            ],
            [
             0.4444444444444444,
             "#bd3786"
            ],
            [
             0.5555555555555556,
             "#d8576b"
            ],
            [
             0.6666666666666666,
             "#ed7953"
            ],
            [
             0.7777777777777778,
             "#fb9f3a"
            ],
            [
             0.8888888888888888,
             "#fdca26"
            ],
            [
             1,
             "#f0f921"
            ]
           ]
          },
          "colorway":[
           "#636efa",
           "#EF553B",
           "#00cc96",
           "#ab63fa",
           "#FFA15A",
           "#19d3f3",
           "#FF6692",
           "#B6E880",
           "#FF97FF",
           "#FECB52"
          ],
          "font":{
           "color":"#2a3f5f"
          },
          "geo":{
           "bgcolor":"white",
           "lakecolor":"white",
           "landcolor":"#E5ECF6",
           "showlakes":true,
           "showland":true,
           "subunitcolor":"white"
          },
          "hoverlabel":{
           "align":"left"
          },
          "hovermode":"closest",
          "mapbox":{
           "style":"light"
          },
          "paper_bgcolor":"white",
          "plot_bgcolor":"#E5ECF6",
          "polar":{
           "angularaxis":{
            "gridcolor":"white",
            "linecolor":"white",
            "ticks":""
           },
           "bgcolor":"#E5ECF6",
           "radialaxis":{
            "gridcolor":"white",
            "linecolor":"white",
            "ticks":""
           }
          },
          "scene":{
           "xaxis":{
            "backgroundcolor":"#E5ECF6",
            "gridcolor":"white",
            "gridwidth":2,
            "linecolor":"white",
            "showbackground":true,
            "ticks":"",
            "zerolinecolor":"white"
           },
           "yaxis":{
            "backgroundcolor":"#E5ECF6",
            "gridcolor":"white",
            "gridwidth":2,
            "linecolor":"white",
            "showbackground":true,
            "ticks":"",
            "zerolinecolor":"white"
           },
           "zaxis":{
            "backgroundcolor":"#E5ECF6",
            "gridcolor":"white",
            "gridwidth":2,
            "linecolor":"white",
            "showbackground":true,
            "ticks":"",
            "zerolinecolor":"white"
           }
          },
          "shapedefaults":{
           "line":{
            "color":"#2a3f5f"
           }
          },
          "ternary":{
           "aaxis":{
            "gridcolor":"white",
            "linecolor":"white",
            "ticks":""
           },
           "baxis":{
            "gridcolor":"white",
            "linecolor":"white",
            "ticks":""
           },
           "bgcolor":"#E5ECF6",
           "caxis":{
            "gridcolor":"white",
            "linecolor":"white",
            "ticks":""
           }
          },
          "title":{
           "x":0.05
          },
          "xaxis":{
           "automargin":true,
           "gridcolor":"white",
           "linecolor":"white",
           "ticks":"",
           "title":{
            "standoff":15
           },
           "zerolinecolor":"white",
           "zerolinewidth":2
          },
          "yaxis":{
           "automargin":true,
           "gridcolor":"white",
           "linecolor":"white",
           "ticks":"",
           "title":{
            "standoff":15
           },
           "zerolinecolor":"white",
           "zerolinewidth":2
          }
         }
        },
        "xaxis":{
         "anchor":"y",
         "domain":[
          0,
          1
         ],
         "title":{
          "text":"Importations (en millier de tonnes)"
         }
        },
        "yaxis":{
         "anchor":"x",
         "domain":[
          0,
          1
         ],
         "title":{
          "text":"count"
         }
        },
        "legend":{
         "tracegroupgap":0
        },
        "margin":{
         "t":60
        },
        "barmode":"relative"
       },
       "config":{
        "plotlyServerURL":"https:\/\/plot.ly"
       }
      }
     },
     "metadata":{
      
     },
     "output_type":"display_data"
    }
   ],
   "metadata":{
    "datalore":{
     "node_id":"5R9wFFG8NLiPrFLUSjUsbd",
     "type":"CODE",
     "hide_input_from_viewers":true,
     "hide_output_from_viewers":true
    }
   }
  },
  {
   "cell_type":"markdown",
   "source":[
    "On peut voir qu'une grande partie des pays importe moins de 400 000 tonnes de poulet, mais que quelques ans on importe plus de 400 000 tonnes. On va voir quels sont ces pays qui importent plus de poulet que les autres."
   ],
   "attachments":{
    
   },
   "metadata":{
    "datalore":{
     "node_id":"7rBkkDlGZ9mRYvTO8MZIDJ",
     "type":"MD",
     "hide_input_from_viewers":true,
     "hide_output_from_viewers":true
    }
   }
  },
  {
   "cell_type":"code",
   "source":[
    "df_dispo_alimentaire[df_dispo_alimentaire['Importations (en millier de tonnes)'] > 400 ]"
   ],
   "execution_count":19,
   "outputs":[
    {
     "data":{
      "text\/html":[
       "<div>\n",
       "<style scoped>\n",
       "    .dataframe tbody tr th:only-of-type {\n",
       "        vertical-align: middle;\n",
       "    }\n",
       "\n",
       "    .dataframe tbody tr th {\n",
       "        vertical-align: top;\n",
       "    }\n",
       "\n",
       "    .dataframe thead th {\n",
       "        text-align: right;\n",
       "    }\n",
       "<\/style>\n",
       "<table border=\"1\" class=\"dataframe\">\n",
       "  <thead>\n",
       "    <tr style=\"text-align: right;\">\n",
       "      <th>Élément<\/th>\n",
       "      <th>Zone<\/th>\n",
       "      <th>Exportations (en millier de tonnes)<\/th>\n",
       "      <th>Importations (en millier de tonnes)<\/th>\n",
       "      <th>Nourriture (en millier de tonnes)<\/th>\n",
       "      <th>Production(en millier de tonnes)<\/th>\n",
       "    <\/tr>\n",
       "  <\/thead>\n",
       "  <tbody>\n",
       "    <tr>\n",
       "      <th>173<\/th>\n",
       "      <td>Afrique du Sud<\/td>\n",
       "      <td>63<\/td>\n",
       "      <td>514<\/td>\n",
       "      <td>2035<\/td>\n",
       "      <td>1667<\/td>\n",
       "    <\/tr>\n",
       "    <tr>\n",
       "      <th>452<\/th>\n",
       "      <td>Allemagne<\/td>\n",
       "      <td>646<\/td>\n",
       "      <td>842<\/td>\n",
       "      <td>1609<\/td>\n",
       "      <td>1514<\/td>\n",
       "    <\/tr>\n",
       "    <tr>\n",
       "      <th>735<\/th>\n",
       "      <td>Arabie saoudite<\/td>\n",
       "      <td>10<\/td>\n",
       "      <td>722<\/td>\n",
       "      <td>1435<\/td>\n",
       "      <td>616<\/td>\n",
       "    <\/tr>\n",
       "    <tr>\n",
       "      <th>3014<\/th>\n",
       "      <td>Chine - RAS de Hong-Kong<\/td>\n",
       "      <td>663<\/td>\n",
       "      <td>907<\/td>\n",
       "      <td>391<\/td>\n",
       "      <td>24<\/td>\n",
       "    <\/tr>\n",
       "    <tr>\n",
       "      <th>3298<\/th>\n",
       "      <td>Chine, continentale<\/td>\n",
       "      <td>576<\/td>\n",
       "      <td>452<\/td>\n",
       "      <td>17518<\/td>\n",
       "      <td>18236<\/td>\n",
       "    <\/tr>\n",
       "    <tr>\n",
       "      <th>4898<\/th>\n",
       "      <td>France<\/td>\n",
       "      <td>501<\/td>\n",
       "      <td>506<\/td>\n",
       "      <td>1485<\/td>\n",
       "      <td>1750<\/td>\n",
       "    <\/tr>\n",
       "    <tr>\n",
       "      <th>6572<\/th>\n",
       "      <td>Iraq<\/td>\n",
       "      <td>0<\/td>\n",
       "      <td>470<\/td>\n",
       "      <td>561<\/td>\n",
       "      <td>96<\/td>\n",
       "    <\/tr>\n",
       "    <tr>\n",
       "      <th>7143<\/th>\n",
       "      <td>Japon<\/td>\n",
       "      <td>10<\/td>\n",
       "      <td>1069<\/td>\n",
       "      <td>2359<\/td>\n",
       "      <td>2215<\/td>\n",
       "    <\/tr>\n",
       "    <tr>\n",
       "      <th>9259<\/th>\n",
       "      <td>Mexique<\/td>\n",
       "      <td>9<\/td>\n",
       "      <td>972<\/td>\n",
       "      <td>4058<\/td>\n",
       "      <td>3249<\/td>\n",
       "    <\/tr>\n",
       "    <tr>\n",
       "      <th>11036<\/th>\n",
       "      <td>Pays-Bas<\/td>\n",
       "      <td>1418<\/td>\n",
       "      <td>608<\/td>\n",
       "      <td>346<\/td>\n",
       "      <td>1100<\/td>\n",
       "    <\/tr>\n",
       "    <tr>\n",
       "      <th>11696<\/th>\n",
       "      <td>Royaume-Uni de Grande-Bretagne et d'Irlande du...<\/td>\n",
       "      <td>359<\/td>\n",
       "      <td>779<\/td>\n",
       "      <td>2131<\/td>\n",
       "      <td>1814<\/td>\n",
       "    <\/tr>\n",
       "    <tr>\n",
       "      <th>15668<\/th>\n",
       "      <td>Émirats arabes unis<\/td>\n",
       "      <td>94<\/td>\n",
       "      <td>433<\/td>\n",
       "      <td>412<\/td>\n",
       "      <td>48<\/td>\n",
       "    <\/tr>\n",
       "  <\/tbody>\n",
       "<\/table>\n",
       "<\/div>"
      ]
     },
     "metadata":{
      
     },
     "output_type":"display_data"
    }
   ],
   "metadata":{
    "datalore":{
     "node_id":"Mui5SJVdaNX7Q4dSlP8BWT",
     "type":"CODE",
     "hide_input_from_viewers":true,
     "hide_output_from_viewers":true
    }
   }
  },
  {
   "cell_type":"markdown",
   "source":[
    "On a maintenant les 12 pays qui importent le plus de viande de volaille au monde."
   ],
   "attachments":{
    
   },
   "metadata":{
    "datalore":{
     "node_id":"oUk6jzjebisdKELocs8NUV",
     "type":"MD",
     "hide_input_from_viewers":true,
     "hide_output_from_viewers":true
    }
   }
  },
  {
   "cell_type":"markdown",
   "source":[
    "#### Nourriture"
   ],
   "attachments":{
    
   },
   "metadata":{
    "datalore":{
     "node_id":"S2bVTRBIXHfHAVWwiVvvlm",
     "type":"MD",
     "hide_input_from_viewers":true,
     "hide_output_from_viewers":true
    }
   }
  },
  {
   "cell_type":"code",
   "source":[
    "analyse_univarie(df_dispo_alimentaire, 'Nourriture (en millier de tonnes)')"
   ],
   "execution_count":20,
   "outputs":[
    {
     "name":"stdout",
     "text":[
      "Description rapide\n",
      "count      172.000000\n",
      "mean       649.406977\n",
      "std       2125.189092\n",
      "min          0.000000\n",
      "25%         27.500000\n",
      "50%         94.500000\n",
      "75%        353.750000\n",
      "max      18100.000000\n",
      "Name: Nourriture (en millier de tonnes), dtype: float64\n",
      "--------------------\n",
      "Évaluation de la distribution avec les coefficients d'assymétrie et de Kurtosis.\n",
      "Skewness: 6.803898376356385\n",
      "Kurtosis: 50.90548081760291\n"
     ],
     "output_type":"stream"
    },
    {
     "data":{
      "application\/vnd.plotly.v1+json":{
       "data":[
        {
         "alignmentgroup":"True",
         "bingroup":"x",
         "hovertemplate":"Nourriture (en millier de tonnes)=%{x}<br>count=%{y}<extra><\/extra>",
         "legendgroup":"",
         "marker":{
          "color":"#636efa",
          "pattern":{
           "shape":""
          }
         },
         "name":"",
         "nbinsx":50,
         "offsetgroup":"",
         "orientation":"v",
         "showlegend":false,
         "x":[
          55,
          2035,
          47,
          264,
          1609,
          315,
          5,
          1435,
          1856,
          47,
          1171,
          160,
          129,
          16,
          240,
          13,
          144,
          10,
          403,
          56,
          7,
          9982,
          157,
          44,
          264,
          161,
          9,
          37,
          78,
          1433,
          672,
          391,
          21,
          785,
          17518,
          30,
          1565,
          110,
          131,
          45,
          269,
          62,
          166,
          3,
          3,
          131,
          1418,
          28,
          7,
          25,
          103,
          1485,
          4509,
          61,
          8,
          211,
          5,
          162,
          348,
          49,
          4,
          30,
          61,
          98,
          205,
          246,
          2965,
          1904,
          2220,
          561,
          123,
          10,
          556,
          1146,
          149,
          2359,
          275,
          330,
          34,
          19,
          2,
          188,
          17,
          41,
          73,
          50,
          80,
          11,
          41,
          73,
          1220,
          91,
          7,
          52,
          12,
          746,
          48,
          22,
          4058,
          9,
          10,
          103,
          1621,
          28,
          138,
          20,
          192,
          101,
          11,
          164,
          55,
          101,
          62,
          0,
          1218,
          139,
          41,
          346,
          1459,
          1150,
          13,
          315,
          424,
          381,
          2131,
          18,
          11,
          854,
          66,
          371,
          0,
          41,
          103,
          3,
          8,
          10,
          13,
          2,
          90,
          30,
          76,
          51,
          65,
          164,
          133,
          18,
          164,
          73,
          39,
          7,
          234,
          896,
          5,
          54,
          75,
          195,
          26,
          1674,
          1006,
          31,
          3,
          596,
          1166,
          237,
          58,
          67,
          1250,
          412,
          324,
          18100,
          14,
          3
         ],
         "xaxis":"x",
         "yaxis":"y",
         "type":"histogram"
        }
       ],
       "layout":{
        "template":{
         "data":{
          "bar":[
           {
            "error_x":{
             "color":"#2a3f5f"
            },
            "error_y":{
             "color":"#2a3f5f"
            },
            "marker":{
             "line":{
              "color":"#E5ECF6",
              "width":0.5
             },
             "pattern":{
              "fillmode":"overlay",
              "size":10,
              "solidity":0.2
             }
            },
            "type":"bar"
           }
          ],
          "barpolar":[
           {
            "marker":{
             "line":{
              "color":"#E5ECF6",
              "width":0.5
             },
             "pattern":{
              "fillmode":"overlay",
              "size":10,
              "solidity":0.2
             }
            },
            "type":"barpolar"
           }
          ],
          "carpet":[
           {
            "aaxis":{
             "endlinecolor":"#2a3f5f",
             "gridcolor":"white",
             "linecolor":"white",
             "minorgridcolor":"white",
             "startlinecolor":"#2a3f5f"
            },
            "baxis":{
             "endlinecolor":"#2a3f5f",
             "gridcolor":"white",
             "linecolor":"white",
             "minorgridcolor":"white",
             "startlinecolor":"#2a3f5f"
            },
            "type":"carpet"
           }
          ],
          "choropleth":[
           {
            "colorbar":{
             "outlinewidth":0,
             "ticks":""
            },
            "type":"choropleth"
           }
          ],
          "contour":[
           {
            "colorbar":{
             "outlinewidth":0,
             "ticks":""
            },
            "colorscale":[
             [
              0,
              "#0d0887"
             ],
             [
              0.1111111111111111,
              "#46039f"
             ],
             [
              0.2222222222222222,
              "#7201a8"
             ],
             [
              0.3333333333333333,
              "#9c179e"
             ],
             [
              0.4444444444444444,
              "#bd3786"
             ],
             [
              0.5555555555555556,
              "#d8576b"
             ],
             [
              0.6666666666666666,
              "#ed7953"
             ],
             [
              0.7777777777777778,
              "#fb9f3a"
             ],
             [
              0.8888888888888888,
              "#fdca26"
             ],
             [
              1,
              "#f0f921"
             ]
            ],
            "type":"contour"
           }
          ],
          "contourcarpet":[
           {
            "colorbar":{
             "outlinewidth":0,
             "ticks":""
            },
            "type":"contourcarpet"
           }
          ],
          "heatmap":[
           {
            "colorbar":{
             "outlinewidth":0,
             "ticks":""
            },
            "colorscale":[
             [
              0,
              "#0d0887"
             ],
             [
              0.1111111111111111,
              "#46039f"
             ],
             [
              0.2222222222222222,
              "#7201a8"
             ],
             [
              0.3333333333333333,
              "#9c179e"
             ],
             [
              0.4444444444444444,
              "#bd3786"
             ],
             [
              0.5555555555555556,
              "#d8576b"
             ],
             [
              0.6666666666666666,
              "#ed7953"
             ],
             [
              0.7777777777777778,
              "#fb9f3a"
             ],
             [
              0.8888888888888888,
              "#fdca26"
             ],
             [
              1,
              "#f0f921"
             ]
            ],
            "type":"heatmap"
           }
          ],
          "heatmapgl":[
           {
            "colorbar":{
             "outlinewidth":0,
             "ticks":""
            },
            "colorscale":[
             [
              0,
              "#0d0887"
             ],
             [
              0.1111111111111111,
              "#46039f"
             ],
             [
              0.2222222222222222,
              "#7201a8"
             ],
             [
              0.3333333333333333,
              "#9c179e"
             ],
             [
              0.4444444444444444,
              "#bd3786"
             ],
             [
              0.5555555555555556,
              "#d8576b"
             ],
             [
              0.6666666666666666,
              "#ed7953"
             ],
             [
              0.7777777777777778,
              "#fb9f3a"
             ],
             [
              0.8888888888888888,
              "#fdca26"
             ],
             [
              1,
              "#f0f921"
             ]
            ],
            "type":"heatmapgl"
           }
          ],
          "histogram":[
           {
            "marker":{
             "pattern":{
              "fillmode":"overlay",
              "size":10,
              "solidity":0.2
             }
            },
            "type":"histogram"
           }
          ],
          "histogram2d":[
           {
            "colorbar":{
             "outlinewidth":0,
             "ticks":""
            },
            "colorscale":[
             [
              0,
              "#0d0887"
             ],
             [
              0.1111111111111111,
              "#46039f"
             ],
             [
              0.2222222222222222,
              "#7201a8"
             ],
             [
              0.3333333333333333,
              "#9c179e"
             ],
             [
              0.4444444444444444,
              "#bd3786"
             ],
             [
              0.5555555555555556,
              "#d8576b"
             ],
             [
              0.6666666666666666,
              "#ed7953"
             ],
             [
              0.7777777777777778,
              "#fb9f3a"
             ],
             [
              0.8888888888888888,
              "#fdca26"
             ],
             [
              1,
              "#f0f921"
             ]
            ],
            "type":"histogram2d"
           }
          ],
          "histogram2dcontour":[
           {
            "colorbar":{
             "outlinewidth":0,
             "ticks":""
            },
            "colorscale":[
             [
              0,
              "#0d0887"
             ],
             [
              0.1111111111111111,
              "#46039f"
             ],
             [
              0.2222222222222222,
              "#7201a8"
             ],
             [
              0.3333333333333333,
              "#9c179e"
             ],
             [
              0.4444444444444444,
              "#bd3786"
             ],
             [
              0.5555555555555556,
              "#d8576b"
             ],
             [
              0.6666666666666666,
              "#ed7953"
             ],
             [
              0.7777777777777778,
              "#fb9f3a"
             ],
             [
              0.8888888888888888,
              "#fdca26"
             ],
             [
              1,
              "#f0f921"
             ]
            ],
            "type":"histogram2dcontour"
           }
          ],
          "mesh3d":[
           {
            "colorbar":{
             "outlinewidth":0,
             "ticks":""
            },
            "type":"mesh3d"
           }
          ],
          "parcoords":[
           {
            "line":{
             "colorbar":{
              "outlinewidth":0,
              "ticks":""
             }
            },
            "type":"parcoords"
           }
          ],
          "pie":[
           {
            "automargin":true,
            "type":"pie"
           }
          ],
          "scatter":[
           {
            "marker":{
             "colorbar":{
              "outlinewidth":0,
              "ticks":""
             }
            },
            "type":"scatter"
           }
          ],
          "scatter3d":[
           {
            "line":{
             "colorbar":{
              "outlinewidth":0,
              "ticks":""
             }
            },
            "marker":{
             "colorbar":{
              "outlinewidth":0,
              "ticks":""
             }
            },
            "type":"scatter3d"
           }
          ],
          "scattercarpet":[
           {
            "marker":{
             "colorbar":{
              "outlinewidth":0,
              "ticks":""
             }
            },
            "type":"scattercarpet"
           }
          ],
          "scattergeo":[
           {
            "marker":{
             "colorbar":{
              "outlinewidth":0,
              "ticks":""
             }
            },
            "type":"scattergeo"
           }
          ],
          "scattergl":[
           {
            "marker":{
             "colorbar":{
              "outlinewidth":0,
              "ticks":""
             }
            },
            "type":"scattergl"
           }
          ],
          "scattermapbox":[
           {
            "marker":{
             "colorbar":{
              "outlinewidth":0,
              "ticks":""
             }
            },
            "type":"scattermapbox"
           }
          ],
          "scatterpolar":[
           {
            "marker":{
             "colorbar":{
              "outlinewidth":0,
              "ticks":""
             }
            },
            "type":"scatterpolar"
           }
          ],
          "scatterpolargl":[
           {
            "marker":{
             "colorbar":{
              "outlinewidth":0,
              "ticks":""
             }
            },
            "type":"scatterpolargl"
           }
          ],
          "scatterternary":[
           {
            "marker":{
             "colorbar":{
              "outlinewidth":0,
              "ticks":""
             }
            },
            "type":"scatterternary"
           }
          ],
          "surface":[
           {
            "colorbar":{
             "outlinewidth":0,
             "ticks":""
            },
            "colorscale":[
             [
              0,
              "#0d0887"
             ],
             [
              0.1111111111111111,
              "#46039f"
             ],
             [
              0.2222222222222222,
              "#7201a8"
             ],
             [
              0.3333333333333333,
              "#9c179e"
             ],
             [
              0.4444444444444444,
              "#bd3786"
             ],
             [
              0.5555555555555556,
              "#d8576b"
             ],
             [
              0.6666666666666666,
              "#ed7953"
             ],
             [
              0.7777777777777778,
              "#fb9f3a"
             ],
             [
              0.8888888888888888,
              "#fdca26"
             ],
             [
              1,
              "#f0f921"
             ]
            ],
            "type":"surface"
           }
          ],
          "table":[
           {
            "cells":{
             "fill":{
              "color":"#EBF0F8"
             },
             "line":{
              "color":"white"
             }
            },
            "header":{
             "fill":{
              "color":"#C8D4E3"
             },
             "line":{
              "color":"white"
             }
            },
            "type":"table"
           }
          ]
         },
         "layout":{
          "annotationdefaults":{
           "arrowcolor":"#2a3f5f",
           "arrowhead":0,
           "arrowwidth":1
          },
          "autotypenumbers":"strict",
          "coloraxis":{
           "colorbar":{
            "outlinewidth":0,
            "ticks":""
           }
          },
          "colorscale":{
           "diverging":[
            [
             0,
             "#8e0152"
            ],
            [
             0.1,
             "#c51b7d"
            ],
            [
             0.2,
             "#de77ae"
            ],
            [
             0.3,
             "#f1b6da"
            ],
            [
             0.4,
             "#fde0ef"
            ],
            [
             0.5,
             "#f7f7f7"
            ],
            [
             0.6,
             "#e6f5d0"
            ],
            [
             0.7,
             "#b8e186"
            ],
            [
             0.8,
             "#7fbc41"
            ],
            [
             0.9,
             "#4d9221"
            ],
            [
             1,
             "#276419"
            ]
           ],
           "sequential":[
            [
             0,
             "#0d0887"
            ],
            [
             0.1111111111111111,
             "#46039f"
            ],
            [
             0.2222222222222222,
             "#7201a8"
            ],
            [
             0.3333333333333333,
             "#9c179e"
            ],
            [
             0.4444444444444444,
             "#bd3786"
            ],
            [
             0.5555555555555556,
             "#d8576b"
            ],
            [
             0.6666666666666666,
             "#ed7953"
            ],
            [
             0.7777777777777778,
             "#fb9f3a"
            ],
            [
             0.8888888888888888,
             "#fdca26"
            ],
            [
             1,
             "#f0f921"
            ]
           ],
           "sequentialminus":[
            [
             0,
             "#0d0887"
            ],
            [
             0.1111111111111111,
             "#46039f"
            ],
            [
             0.2222222222222222,
             "#7201a8"
            ],
            [
             0.3333333333333333,
             "#9c179e"
            ],
            [
             0.4444444444444444,
             "#bd3786"
            ],
            [
             0.5555555555555556,
             "#d8576b"
            ],
            [
             0.6666666666666666,
             "#ed7953"
            ],
            [
             0.7777777777777778,
             "#fb9f3a"
            ],
            [
             0.8888888888888888,
             "#fdca26"
            ],
            [
             1,
             "#f0f921"
            ]
           ]
          },
          "colorway":[
           "#636efa",
           "#EF553B",
           "#00cc96",
           "#ab63fa",
           "#FFA15A",
           "#19d3f3",
           "#FF6692",
           "#B6E880",
           "#FF97FF",
           "#FECB52"
          ],
          "font":{
           "color":"#2a3f5f"
          },
          "geo":{
           "bgcolor":"white",
           "lakecolor":"white",
           "landcolor":"#E5ECF6",
           "showlakes":true,
           "showland":true,
           "subunitcolor":"white"
          },
          "hoverlabel":{
           "align":"left"
          },
          "hovermode":"closest",
          "mapbox":{
           "style":"light"
          },
          "paper_bgcolor":"white",
          "plot_bgcolor":"#E5ECF6",
          "polar":{
           "angularaxis":{
            "gridcolor":"white",
            "linecolor":"white",
            "ticks":""
           },
           "bgcolor":"#E5ECF6",
           "radialaxis":{
            "gridcolor":"white",
            "linecolor":"white",
            "ticks":""
           }
          },
          "scene":{
           "xaxis":{
            "backgroundcolor":"#E5ECF6",
            "gridcolor":"white",
            "gridwidth":2,
            "linecolor":"white",
            "showbackground":true,
            "ticks":"",
            "zerolinecolor":"white"
           },
           "yaxis":{
            "backgroundcolor":"#E5ECF6",
            "gridcolor":"white",
            "gridwidth":2,
            "linecolor":"white",
            "showbackground":true,
            "ticks":"",
            "zerolinecolor":"white"
           },
           "zaxis":{
            "backgroundcolor":"#E5ECF6",
            "gridcolor":"white",
            "gridwidth":2,
            "linecolor":"white",
            "showbackground":true,
            "ticks":"",
            "zerolinecolor":"white"
           }
          },
          "shapedefaults":{
           "line":{
            "color":"#2a3f5f"
           }
          },
          "ternary":{
           "aaxis":{
            "gridcolor":"white",
            "linecolor":"white",
            "ticks":""
           },
           "baxis":{
            "gridcolor":"white",
            "linecolor":"white",
            "ticks":""
           },
           "bgcolor":"#E5ECF6",
           "caxis":{
            "gridcolor":"white",
            "linecolor":"white",
            "ticks":""
           }
          },
          "title":{
           "x":0.05
          },
          "xaxis":{
           "automargin":true,
           "gridcolor":"white",
           "linecolor":"white",
           "ticks":"",
           "title":{
            "standoff":15
           },
           "zerolinecolor":"white",
           "zerolinewidth":2
          },
          "yaxis":{
           "automargin":true,
           "gridcolor":"white",
           "linecolor":"white",
           "ticks":"",
           "title":{
            "standoff":15
           },
           "zerolinecolor":"white",
           "zerolinewidth":2
          }
         }
        },
        "xaxis":{
         "anchor":"y",
         "domain":[
          0,
          1
         ],
         "title":{
          "text":"Nourriture (en millier de tonnes)"
         }
        },
        "yaxis":{
         "anchor":"x",
         "domain":[
          0,
          1
         ],
         "title":{
          "text":"count"
         }
        },
        "legend":{
         "tracegroupgap":0
        },
        "margin":{
         "t":60
        },
        "barmode":"relative"
       },
       "config":{
        "plotlyServerURL":"https:\/\/plot.ly"
       }
      }
     },
     "metadata":{
      
     },
     "output_type":"display_data"
    }
   ],
   "metadata":{
    "datalore":{
     "node_id":"EW1dgOhB4G5bGgoGy9hDiD",
     "type":"CODE",
     "hide_input_from_viewers":true,
     "hide_output_from_viewers":true
    }
   }
  },
  {
   "cell_type":"markdown",
   "source":[
    "La grande majorité des pays utilise moins de 2 millions de tonnes de viande de volaille pour nourrir la population. Quelques pays on utilise plus."
   ],
   "attachments":{
    
   },
   "metadata":{
    "datalore":{
     "node_id":"5NvvKtoGx8uud7EEuABQ34",
     "type":"MD",
     "hide_input_from_viewers":true,
     "hide_output_from_viewers":true
    }
   }
  },
  {
   "cell_type":"code",
   "source":[
    "df_dispo_alimentaire[df_dispo_alimentaire['Nourriture (en millier de tonnes)'] > 2000 ]"
   ],
   "execution_count":21,
   "outputs":[
    {
     "data":{
      "text\/html":[
       "<div>\n",
       "<style scoped>\n",
       "    .dataframe tbody tr th:only-of-type {\n",
       "        vertical-align: middle;\n",
       "    }\n",
       "\n",
       "    .dataframe tbody tr th {\n",
       "        vertical-align: top;\n",
       "    }\n",
       "\n",
       "    .dataframe thead th {\n",
       "        text-align: right;\n",
       "    }\n",
       "<\/style>\n",
       "<table border=\"1\" class=\"dataframe\">\n",
       "  <thead>\n",
       "    <tr style=\"text-align: right;\">\n",
       "      <th>Élément<\/th>\n",
       "      <th>Zone<\/th>\n",
       "      <th>Exportations (en millier de tonnes)<\/th>\n",
       "      <th>Importations (en millier de tonnes)<\/th>\n",
       "      <th>Nourriture (en millier de tonnes)<\/th>\n",
       "      <th>Production(en millier de tonnes)<\/th>\n",
       "    <\/tr>\n",
       "  <\/thead>\n",
       "  <tbody>\n",
       "    <tr>\n",
       "      <th>173<\/th>\n",
       "      <td>Afrique du Sud<\/td>\n",
       "      <td>63<\/td>\n",
       "      <td>514<\/td>\n",
       "      <td>2035<\/td>\n",
       "      <td>1667<\/td>\n",
       "    <\/tr>\n",
       "    <tr>\n",
       "      <th>2073<\/th>\n",
       "      <td>Brésil<\/td>\n",
       "      <td>4223<\/td>\n",
       "      <td>3<\/td>\n",
       "      <td>9982<\/td>\n",
       "      <td>14201<\/td>\n",
       "    <\/tr>\n",
       "    <tr>\n",
       "      <th>3298<\/th>\n",
       "      <td>Chine, continentale<\/td>\n",
       "      <td>576<\/td>\n",
       "      <td>452<\/td>\n",
       "      <td>17518<\/td>\n",
       "      <td>18236<\/td>\n",
       "    <\/tr>\n",
       "    <tr>\n",
       "      <th>4993<\/th>\n",
       "      <td>Fédération de Russie<\/td>\n",
       "      <td>115<\/td>\n",
       "      <td>226<\/td>\n",
       "      <td>4509<\/td>\n",
       "      <td>4444<\/td>\n",
       "    <\/tr>\n",
       "    <tr>\n",
       "      <th>6289<\/th>\n",
       "      <td>Inde<\/td>\n",
       "      <td>4<\/td>\n",
       "      <td>0<\/td>\n",
       "      <td>2965<\/td>\n",
       "      <td>3545<\/td>\n",
       "    <\/tr>\n",
       "    <tr>\n",
       "      <th>6478<\/th>\n",
       "      <td>Iran (République islamique d')<\/td>\n",
       "      <td>45<\/td>\n",
       "      <td>6<\/td>\n",
       "      <td>2220<\/td>\n",
       "      <td>2174<\/td>\n",
       "    <\/tr>\n",
       "    <tr>\n",
       "      <th>7143<\/th>\n",
       "      <td>Japon<\/td>\n",
       "      <td>10<\/td>\n",
       "      <td>1069<\/td>\n",
       "      <td>2359<\/td>\n",
       "      <td>2215<\/td>\n",
       "    <\/tr>\n",
       "    <tr>\n",
       "      <th>9259<\/th>\n",
       "      <td>Mexique<\/td>\n",
       "      <td>9<\/td>\n",
       "      <td>972<\/td>\n",
       "      <td>4058<\/td>\n",
       "      <td>3249<\/td>\n",
       "    <\/tr>\n",
       "    <tr>\n",
       "      <th>11696<\/th>\n",
       "      <td>Royaume-Uni de Grande-Bretagne et d'Irlande du...<\/td>\n",
       "      <td>359<\/td>\n",
       "      <td>779<\/td>\n",
       "      <td>2131<\/td>\n",
       "      <td>1814<\/td>\n",
       "    <\/tr>\n",
       "    <tr>\n",
       "      <th>15860<\/th>\n",
       "      <td>États-Unis d'Amérique<\/td>\n",
       "      <td>3692<\/td>\n",
       "      <td>123<\/td>\n",
       "      <td>18100<\/td>\n",
       "      <td>21914<\/td>\n",
       "    <\/tr>\n",
       "  <\/tbody>\n",
       "<\/table>\n",
       "<\/div>"
      ]
     },
     "metadata":{
      
     },
     "output_type":"display_data"
    }
   ],
   "metadata":{
    "datalore":{
     "node_id":"DMkpLnChVCAKL7r700nUwd",
     "type":"CODE",
     "hide_input_from_viewers":true,
     "hide_output_from_viewers":true
    }
   }
  },
  {
   "cell_type":"markdown",
   "source":[
    "On retrouve parmi les pays qui utilisent le plus de viande de volaille pour nourrir leurs populations, les pays les plus peuplés. Ce qui est logique. Ce qui serait intéressant de faire ici c'est d'avoir le ratio entre le nombre de nourriture disponible pour la population et la population du pays"
   ],
   "attachments":{
    
   },
   "metadata":{
    "datalore":{
     "node_id":"pxeeIYjXMhlTRgjNFJeFbR",
     "type":"MD",
     "hide_input_from_viewers":true,
     "hide_output_from_viewers":true
    }
   }
  },
  {
   "cell_type":"markdown",
   "source":[
    "#### Production"
   ],
   "attachments":{
    
   },
   "metadata":{
    "datalore":{
     "node_id":"Pg9OBcxYPnuiY3ZLdlwtyX",
     "type":"MD",
     "hide_input_from_viewers":true,
     "hide_output_from_viewers":true
    }
   }
  },
  {
   "cell_type":"code",
   "source":[
    "analyse_univarie(df_dispo_alimentaire, 'Production(en millier de tonnes)')"
   ],
   "execution_count":22,
   "outputs":[
    {
     "name":"stdout",
     "text":[
      "Description rapide\n",
      "count      172.000000\n",
      "mean       708.325581\n",
      "std       2474.456332\n",
      "min          0.000000\n",
      "25%         11.000000\n",
      "50%         66.000000\n",
      "75%        368.750000\n",
      "max      21914.000000\n",
      "Name: Production(en millier de tonnes), dtype: float64\n",
      "--------------------\n",
      "Évaluation de la distribution avec les coefficients d'assymétrie et de Kurtosis.\n",
      "Skewness: 6.8198812530837705\n",
      "Kurtosis: 50.277322011953345\n"
     ],
     "output_type":"stream"
    },
    {
     "data":{
      "application\/vnd.plotly.v1+json":{
       "data":[
        {
         "alignmentgroup":"True",
         "bingroup":"x",
         "hovertemplate":"Production(en millier de tonnes)=%{x}<br>count=%{y}<extra><\/extra>",
         "legendgroup":"",
         "marker":{
          "color":"#636efa",
          "pattern":{
           "shape":""
          }
         },
         "name":"",
         "nbinsx":50,
         "offsetgroup":"",
         "orientation":"v",
         "showlegend":false,
         "x":[
          28,
          1667,
          13,
          275,
          1514,
          42,
          0,
          616,
          2161,
          11,
          1269,
          148,
          104,
          6,
          249,
          15,
          463,
          20,
          533,
          61,
          5,
          14201,
          107,
          46,
          463,
          18,
          1,
          28,
          81,
          1417,
          712,
          24,
          3,
          652,
          18236,
          25,
          1564,
          7,
          133,
          61,
          29,
          58,
          173,
          0,
          0,
          136,
          1515,
          20,
          6,
          23,
          129,
          1750,
          4444,
          4,
          2,
          60,
          1,
          246,
          235,
          13,
          3,
          31,
          22,
          9,
          193,
          493,
          3545,
          2301,
          2174,
          96,
          110,
          10,
          629,
          1315,
          128,
          2215,
          210,
          171,
          35,
          7,
          1,
          56,
          2,
          33,
          64,
          15,
          118,
          0,
          2,
          81,
          1724,
          130,
          0,
          48,
          4,
          762,
          48,
          5,
          3249,
          0,
          4,
          92,
          1662,
          11,
          143,
          19,
          201,
          101,
          1,
          223,
          58,
          7,
          65,
          0,
          1281,
          198,
          45,
          1100,
          1272,
          2351,
          1,
          361,
          1465,
          392,
          1814,
          19,
          7,
          838,
          54,
          339,
          0,
          43,
          105,
          0,
          0,
          1,
          0,
          1,
          85,
          17,
          71,
          72,
          67,
          192,
          91,
          10,
          157,
          77,
          2,
          6,
          163,
          1676,
          1,
          40,
          61,
          213,
          20,
          2192,
          1211,
          33,
          1,
          600,
          918,
          168,
          49,
          69,
          1118,
          48,
          340,
          21914,
          14,
          0
         ],
         "xaxis":"x",
         "yaxis":"y",
         "type":"histogram"
        }
       ],
       "layout":{
        "template":{
         "data":{
          "bar":[
           {
            "error_x":{
             "color":"#2a3f5f"
            },
            "error_y":{
             "color":"#2a3f5f"
            },
            "marker":{
             "line":{
              "color":"#E5ECF6",
              "width":0.5
             },
             "pattern":{
              "fillmode":"overlay",
              "size":10,
              "solidity":0.2
             }
            },
            "type":"bar"
           }
          ],
          "barpolar":[
           {
            "marker":{
             "line":{
              "color":"#E5ECF6",
              "width":0.5
             },
             "pattern":{
              "fillmode":"overlay",
              "size":10,
              "solidity":0.2
             }
            },
            "type":"barpolar"
           }
          ],
          "carpet":[
           {
            "aaxis":{
             "endlinecolor":"#2a3f5f",
             "gridcolor":"white",
             "linecolor":"white",
             "minorgridcolor":"white",
             "startlinecolor":"#2a3f5f"
            },
            "baxis":{
             "endlinecolor":"#2a3f5f",
             "gridcolor":"white",
             "linecolor":"white",
             "minorgridcolor":"white",
             "startlinecolor":"#2a3f5f"
            },
            "type":"carpet"
           }
          ],
          "choropleth":[
           {
            "colorbar":{
             "outlinewidth":0,
             "ticks":""
            },
            "type":"choropleth"
           }
          ],
          "contour":[
           {
            "colorbar":{
             "outlinewidth":0,
             "ticks":""
            },
            "colorscale":[
             [
              0,
              "#0d0887"
             ],
             [
              0.1111111111111111,
              "#46039f"
             ],
             [
              0.2222222222222222,
              "#7201a8"
             ],
             [
              0.3333333333333333,
              "#9c179e"
             ],
             [
              0.4444444444444444,
              "#bd3786"
             ],
             [
              0.5555555555555556,
              "#d8576b"
             ],
             [
              0.6666666666666666,
              "#ed7953"
             ],
             [
              0.7777777777777778,
              "#fb9f3a"
             ],
             [
              0.8888888888888888,
              "#fdca26"
             ],
             [
              1,
              "#f0f921"
             ]
            ],
            "type":"contour"
           }
          ],
          "contourcarpet":[
           {
            "colorbar":{
             "outlinewidth":0,
             "ticks":""
            },
            "type":"contourcarpet"
           }
          ],
          "heatmap":[
           {
            "colorbar":{
             "outlinewidth":0,
             "ticks":""
            },
            "colorscale":[
             [
              0,
              "#0d0887"
             ],
             [
              0.1111111111111111,
              "#46039f"
             ],
             [
              0.2222222222222222,
              "#7201a8"
             ],
             [
              0.3333333333333333,
              "#9c179e"
             ],
             [
              0.4444444444444444,
              "#bd3786"
             ],
             [
              0.5555555555555556,
              "#d8576b"
             ],
             [
              0.6666666666666666,
              "#ed7953"
             ],
             [
              0.7777777777777778,
              "#fb9f3a"
             ],
             [
              0.8888888888888888,
              "#fdca26"
             ],
             [
              1,
              "#f0f921"
             ]
            ],
            "type":"heatmap"
           }
          ],
          "heatmapgl":[
           {
            "colorbar":{
             "outlinewidth":0,
             "ticks":""
            },
            "colorscale":[
             [
              0,
              "#0d0887"
             ],
             [
              0.1111111111111111,
              "#46039f"
             ],
             [
              0.2222222222222222,
              "#7201a8"
             ],
             [
              0.3333333333333333,
              "#9c179e"
             ],
             [
              0.4444444444444444,
              "#bd3786"
             ],
             [
              0.5555555555555556,
              "#d8576b"
             ],
             [
              0.6666666666666666,
              "#ed7953"
             ],
             [
              0.7777777777777778,
              "#fb9f3a"
             ],
             [
              0.8888888888888888,
              "#fdca26"
             ],
             [
              1,
              "#f0f921"
             ]
            ],
            "type":"heatmapgl"
           }
          ],
          "histogram":[
           {
            "marker":{
             "pattern":{
              "fillmode":"overlay",
              "size":10,
              "solidity":0.2
             }
            },
            "type":"histogram"
           }
          ],
          "histogram2d":[
           {
            "colorbar":{
             "outlinewidth":0,
             "ticks":""
            },
            "colorscale":[
             [
              0,
              "#0d0887"
             ],
             [
              0.1111111111111111,
              "#46039f"
             ],
             [
              0.2222222222222222,
              "#7201a8"
             ],
             [
              0.3333333333333333,
              "#9c179e"
             ],
             [
              0.4444444444444444,
              "#bd3786"
             ],
             [
              0.5555555555555556,
              "#d8576b"
             ],
             [
              0.6666666666666666,
              "#ed7953"
             ],
             [
              0.7777777777777778,
              "#fb9f3a"
             ],
             [
              0.8888888888888888,
              "#fdca26"
             ],
             [
              1,
              "#f0f921"
             ]
            ],
            "type":"histogram2d"
           }
          ],
          "histogram2dcontour":[
           {
            "colorbar":{
             "outlinewidth":0,
             "ticks":""
            },
            "colorscale":[
             [
              0,
              "#0d0887"
             ],
             [
              0.1111111111111111,
              "#46039f"
             ],
             [
              0.2222222222222222,
              "#7201a8"
             ],
             [
              0.3333333333333333,
              "#9c179e"
             ],
             [
              0.4444444444444444,
              "#bd3786"
             ],
             [
              0.5555555555555556,
              "#d8576b"
             ],
             [
              0.6666666666666666,
              "#ed7953"
             ],
             [
              0.7777777777777778,
              "#fb9f3a"
             ],
             [
              0.8888888888888888,
              "#fdca26"
             ],
             [
              1,
              "#f0f921"
             ]
            ],
            "type":"histogram2dcontour"
           }
          ],
          "mesh3d":[
           {
            "colorbar":{
             "outlinewidth":0,
             "ticks":""
            },
            "type":"mesh3d"
           }
          ],
          "parcoords":[
           {
            "line":{
             "colorbar":{
              "outlinewidth":0,
              "ticks":""
             }
            },
            "type":"parcoords"
           }
          ],
          "pie":[
           {
            "automargin":true,
            "type":"pie"
           }
          ],
          "scatter":[
           {
            "marker":{
             "colorbar":{
              "outlinewidth":0,
              "ticks":""
             }
            },
            "type":"scatter"
           }
          ],
          "scatter3d":[
           {
            "line":{
             "colorbar":{
              "outlinewidth":0,
              "ticks":""
             }
            },
            "marker":{
             "colorbar":{
              "outlinewidth":0,
              "ticks":""
             }
            },
            "type":"scatter3d"
           }
          ],
          "scattercarpet":[
           {
            "marker":{
             "colorbar":{
              "outlinewidth":0,
              "ticks":""
             }
            },
            "type":"scattercarpet"
           }
          ],
          "scattergeo":[
           {
            "marker":{
             "colorbar":{
              "outlinewidth":0,
              "ticks":""
             }
            },
            "type":"scattergeo"
           }
          ],
          "scattergl":[
           {
            "marker":{
             "colorbar":{
              "outlinewidth":0,
              "ticks":""
             }
            },
            "type":"scattergl"
           }
          ],
          "scattermapbox":[
           {
            "marker":{
             "colorbar":{
              "outlinewidth":0,
              "ticks":""
             }
            },
            "type":"scattermapbox"
           }
          ],
          "scatterpolar":[
           {
            "marker":{
             "colorbar":{
              "outlinewidth":0,
              "ticks":""
             }
            },
            "type":"scatterpolar"
           }
          ],
          "scatterpolargl":[
           {
            "marker":{
             "colorbar":{
              "outlinewidth":0,
              "ticks":""
             }
            },
            "type":"scatterpolargl"
           }
          ],
          "scatterternary":[
           {
            "marker":{
             "colorbar":{
              "outlinewidth":0,
              "ticks":""
             }
            },
            "type":"scatterternary"
           }
          ],
          "surface":[
           {
            "colorbar":{
             "outlinewidth":0,
             "ticks":""
            },
            "colorscale":[
             [
              0,
              "#0d0887"
             ],
             [
              0.1111111111111111,
              "#46039f"
             ],
             [
              0.2222222222222222,
              "#7201a8"
             ],
             [
              0.3333333333333333,
              "#9c179e"
             ],
             [
              0.4444444444444444,
              "#bd3786"
             ],
             [
              0.5555555555555556,
              "#d8576b"
             ],
             [
              0.6666666666666666,
              "#ed7953"
             ],
             [
              0.7777777777777778,
              "#fb9f3a"
             ],
             [
              0.8888888888888888,
              "#fdca26"
             ],
             [
              1,
              "#f0f921"
             ]
            ],
            "type":"surface"
           }
          ],
          "table":[
           {
            "cells":{
             "fill":{
              "color":"#EBF0F8"
             },
             "line":{
              "color":"white"
             }
            },
            "header":{
             "fill":{
              "color":"#C8D4E3"
             },
             "line":{
              "color":"white"
             }
            },
            "type":"table"
           }
          ]
         },
         "layout":{
          "annotationdefaults":{
           "arrowcolor":"#2a3f5f",
           "arrowhead":0,
           "arrowwidth":1
          },
          "autotypenumbers":"strict",
          "coloraxis":{
           "colorbar":{
            "outlinewidth":0,
            "ticks":""
           }
          },
          "colorscale":{
           "diverging":[
            [
             0,
             "#8e0152"
            ],
            [
             0.1,
             "#c51b7d"
            ],
            [
             0.2,
             "#de77ae"
            ],
            [
             0.3,
             "#f1b6da"
            ],
            [
             0.4,
             "#fde0ef"
            ],
            [
             0.5,
             "#f7f7f7"
            ],
            [
             0.6,
             "#e6f5d0"
            ],
            [
             0.7,
             "#b8e186"
            ],
            [
             0.8,
             "#7fbc41"
            ],
            [
             0.9,
             "#4d9221"
            ],
            [
             1,
             "#276419"
            ]
           ],
           "sequential":[
            [
             0,
             "#0d0887"
            ],
            [
             0.1111111111111111,
             "#46039f"
            ],
            [
             0.2222222222222222,
             "#7201a8"
            ],
            [
             0.3333333333333333,
             "#9c179e"
            ],
            [
             0.4444444444444444,
             "#bd3786"
            ],
            [
             0.5555555555555556,
             "#d8576b"
            ],
            [
             0.6666666666666666,
             "#ed7953"
            ],
            [
             0.7777777777777778,
             "#fb9f3a"
            ],
            [
             0.8888888888888888,
             "#fdca26"
            ],
            [
             1,
             "#f0f921"
            ]
           ],
           "sequentialminus":[
            [
             0,
             "#0d0887"
            ],
            [
             0.1111111111111111,
             "#46039f"
            ],
            [
             0.2222222222222222,
             "#7201a8"
            ],
            [
             0.3333333333333333,
             "#9c179e"
            ],
            [
             0.4444444444444444,
             "#bd3786"
            ],
            [
             0.5555555555555556,
             "#d8576b"
            ],
            [
             0.6666666666666666,
             "#ed7953"
            ],
            [
             0.7777777777777778,
             "#fb9f3a"
            ],
            [
             0.8888888888888888,
             "#fdca26"
            ],
            [
             1,
             "#f0f921"
            ]
           ]
          },
          "colorway":[
           "#636efa",
           "#EF553B",
           "#00cc96",
           "#ab63fa",
           "#FFA15A",
           "#19d3f3",
           "#FF6692",
           "#B6E880",
           "#FF97FF",
           "#FECB52"
          ],
          "font":{
           "color":"#2a3f5f"
          },
          "geo":{
           "bgcolor":"white",
           "lakecolor":"white",
           "landcolor":"#E5ECF6",
           "showlakes":true,
           "showland":true,
           "subunitcolor":"white"
          },
          "hoverlabel":{
           "align":"left"
          },
          "hovermode":"closest",
          "mapbox":{
           "style":"light"
          },
          "paper_bgcolor":"white",
          "plot_bgcolor":"#E5ECF6",
          "polar":{
           "angularaxis":{
            "gridcolor":"white",
            "linecolor":"white",
            "ticks":""
           },
           "bgcolor":"#E5ECF6",
           "radialaxis":{
            "gridcolor":"white",
            "linecolor":"white",
            "ticks":""
           }
          },
          "scene":{
           "xaxis":{
            "backgroundcolor":"#E5ECF6",
            "gridcolor":"white",
            "gridwidth":2,
            "linecolor":"white",
            "showbackground":true,
            "ticks":"",
            "zerolinecolor":"white"
           },
           "yaxis":{
            "backgroundcolor":"#E5ECF6",
            "gridcolor":"white",
            "gridwidth":2,
            "linecolor":"white",
            "showbackground":true,
            "ticks":"",
            "zerolinecolor":"white"
           },
           "zaxis":{
            "backgroundcolor":"#E5ECF6",
            "gridcolor":"white",
            "gridwidth":2,
            "linecolor":"white",
            "showbackground":true,
            "ticks":"",
            "zerolinecolor":"white"
           }
          },
          "shapedefaults":{
           "line":{
            "color":"#2a3f5f"
           }
          },
          "ternary":{
           "aaxis":{
            "gridcolor":"white",
            "linecolor":"white",
            "ticks":""
           },
           "baxis":{
            "gridcolor":"white",
            "linecolor":"white",
            "ticks":""
           },
           "bgcolor":"#E5ECF6",
           "caxis":{
            "gridcolor":"white",
            "linecolor":"white",
            "ticks":""
           }
          },
          "title":{
           "x":0.05
          },
          "xaxis":{
           "automargin":true,
           "gridcolor":"white",
           "linecolor":"white",
           "ticks":"",
           "title":{
            "standoff":15
           },
           "zerolinecolor":"white",
           "zerolinewidth":2
          },
          "yaxis":{
           "automargin":true,
           "gridcolor":"white",
           "linecolor":"white",
           "ticks":"",
           "title":{
            "standoff":15
           },
           "zerolinecolor":"white",
           "zerolinewidth":2
          }
         }
        },
        "xaxis":{
         "anchor":"y",
         "domain":[
          0,
          1
         ],
         "title":{
          "text":"Production(en millier de tonnes)"
         }
        },
        "yaxis":{
         "anchor":"x",
         "domain":[
          0,
          1
         ],
         "title":{
          "text":"count"
         }
        },
        "legend":{
         "tracegroupgap":0
        },
        "margin":{
         "t":60
        },
        "barmode":"relative"
       },
       "config":{
        "plotlyServerURL":"https:\/\/plot.ly"
       }
      }
     },
     "metadata":{
      
     },
     "output_type":"display_data"
    }
   ],
   "metadata":{
    "datalore":{
     "node_id":"HDOPg5NVyACUQPDT7FJUT5",
     "type":"CODE",
     "hide_input_from_viewers":true,
     "hide_output_from_viewers":true
    }
   }
  },
  {
   "cell_type":"markdown",
   "source":[
    "La plupart des pays produisent moins de 2,5 millions de tonnes de viande de volaille. Mais quelques pays en produits jusqu'à 21 millions de tonnes."
   ],
   "attachments":{
    
   },
   "metadata":{
    "datalore":{
     "node_id":"SibjHUt6gyQUjdjLAYDk39",
     "type":"MD",
     "hide_input_from_viewers":true,
     "hide_output_from_viewers":true
    }
   }
  },
  {
   "cell_type":"code",
   "source":[
    "df_dispo_alimentaire[df_dispo_alimentaire['Production(en millier de tonnes)'] > 2500 ]"
   ],
   "execution_count":23,
   "outputs":[
    {
     "data":{
      "text\/html":[
       "<div>\n",
       "<style scoped>\n",
       "    .dataframe tbody tr th:only-of-type {\n",
       "        vertical-align: middle;\n",
       "    }\n",
       "\n",
       "    .dataframe tbody tr th {\n",
       "        vertical-align: top;\n",
       "    }\n",
       "\n",
       "    .dataframe thead th {\n",
       "        text-align: right;\n",
       "    }\n",
       "<\/style>\n",
       "<table border=\"1\" class=\"dataframe\">\n",
       "  <thead>\n",
       "    <tr style=\"text-align: right;\">\n",
       "      <th>Élément<\/th>\n",
       "      <th>Zone<\/th>\n",
       "      <th>Exportations (en millier de tonnes)<\/th>\n",
       "      <th>Importations (en millier de tonnes)<\/th>\n",
       "      <th>Nourriture (en millier de tonnes)<\/th>\n",
       "      <th>Production(en millier de tonnes)<\/th>\n",
       "    <\/tr>\n",
       "  <\/thead>\n",
       "  <tbody>\n",
       "    <tr>\n",
       "      <th>2073<\/th>\n",
       "      <td>Brésil<\/td>\n",
       "      <td>4223<\/td>\n",
       "      <td>3<\/td>\n",
       "      <td>9982<\/td>\n",
       "      <td>14201<\/td>\n",
       "    <\/tr>\n",
       "    <tr>\n",
       "      <th>3298<\/th>\n",
       "      <td>Chine, continentale<\/td>\n",
       "      <td>576<\/td>\n",
       "      <td>452<\/td>\n",
       "      <td>17518<\/td>\n",
       "      <td>18236<\/td>\n",
       "    <\/tr>\n",
       "    <tr>\n",
       "      <th>4993<\/th>\n",
       "      <td>Fédération de Russie<\/td>\n",
       "      <td>115<\/td>\n",
       "      <td>226<\/td>\n",
       "      <td>4509<\/td>\n",
       "      <td>4444<\/td>\n",
       "    <\/tr>\n",
       "    <tr>\n",
       "      <th>6289<\/th>\n",
       "      <td>Inde<\/td>\n",
       "      <td>4<\/td>\n",
       "      <td>0<\/td>\n",
       "      <td>2965<\/td>\n",
       "      <td>3545<\/td>\n",
       "    <\/tr>\n",
       "    <tr>\n",
       "      <th>9259<\/th>\n",
       "      <td>Mexique<\/td>\n",
       "      <td>9<\/td>\n",
       "      <td>972<\/td>\n",
       "      <td>4058<\/td>\n",
       "      <td>3249<\/td>\n",
       "    <\/tr>\n",
       "    <tr>\n",
       "      <th>15860<\/th>\n",
       "      <td>États-Unis d'Amérique<\/td>\n",
       "      <td>3692<\/td>\n",
       "      <td>123<\/td>\n",
       "      <td>18100<\/td>\n",
       "      <td>21914<\/td>\n",
       "    <\/tr>\n",
       "  <\/tbody>\n",
       "<\/table>\n",
       "<\/div>"
      ]
     },
     "metadata":{
      
     },
     "output_type":"display_data"
    }
   ],
   "metadata":{
    "datalore":{
     "node_id":"EDTuy2TX27SB4gSZUT1poc",
     "type":"CODE",
     "hide_input_from_viewers":true,
     "hide_output_from_viewers":true
    }
   }
  },
  {
   "cell_type":"markdown",
   "source":[
    "On retrouve les mêmes pays qui ont une grande population à nourrir et qui utilise aussi beaucoup de disponibilité pour la nourriture de leur population. Certains de ces pays en profitent pour faire de l'exportation et d'autres pas du tout."
   ],
   "attachments":{
    
   },
   "metadata":{
    "datalore":{
     "node_id":"avhEw0eDAHhXeOC0vN5REK",
     "type":"MD",
     "hide_input_from_viewers":true,
     "hide_output_from_viewers":true
    }
   }
  },
  {
   "cell_type":"markdown",
   "source":[
    "## 1.2 - Population\n",
    "### a - Import"
   ],
   "attachments":{
    
   },
   "metadata":{
    "datalore":{
     "node_id":"RiJhMHlM4s6zgaf0wFXI6i",
     "type":"MD",
     "hide_input_from_viewers":true,
     "hide_output_from_viewers":true
    }
   }
  },
  {
   "cell_type":"code",
   "source":[
    "df_population = pd.read_csv('Population_2000_2018.csv', sep=',')\n",
    "\n",
    "df_population.head()"
   ],
   "execution_count":24,
   "outputs":[
    {
     "data":{
      "text\/html":[
       "<div>\n",
       "<style scoped>\n",
       "    .dataframe tbody tr th:only-of-type {\n",
       "        vertical-align: middle;\n",
       "    }\n",
       "\n",
       "    .dataframe tbody tr th {\n",
       "        vertical-align: top;\n",
       "    }\n",
       "\n",
       "    .dataframe thead th {\n",
       "        text-align: right;\n",
       "    }\n",
       "<\/style>\n",
       "<table border=\"1\" class=\"dataframe\">\n",
       "  <thead>\n",
       "    <tr style=\"text-align: right;\">\n",
       "      <th><\/th>\n",
       "      <th>Code Domaine<\/th>\n",
       "      <th>Domaine<\/th>\n",
       "      <th>Code zone<\/th>\n",
       "      <th>Zone<\/th>\n",
       "      <th>Code Élément<\/th>\n",
       "      <th>Élément<\/th>\n",
       "      <th>Code Produit<\/th>\n",
       "      <th>Produit<\/th>\n",
       "      <th>Code année<\/th>\n",
       "      <th>Année<\/th>\n",
       "      <th>Unité<\/th>\n",
       "      <th>Valeur<\/th>\n",
       "      <th>Symbole<\/th>\n",
       "      <th>Description du Symbole<\/th>\n",
       "      <th>Note<\/th>\n",
       "    <\/tr>\n",
       "  <\/thead>\n",
       "  <tbody>\n",
       "    <tr>\n",
       "      <th>0<\/th>\n",
       "      <td>OA<\/td>\n",
       "      <td>Séries temporelles annuelles<\/td>\n",
       "      <td>2<\/td>\n",
       "      <td>Afghanistan<\/td>\n",
       "      <td>511<\/td>\n",
       "      <td>Population totale<\/td>\n",
       "      <td>3010<\/td>\n",
       "      <td>Population-Estimations<\/td>\n",
       "      <td>2000<\/td>\n",
       "      <td>2000<\/td>\n",
       "      <td>1000 personnes<\/td>\n",
       "      <td>20779.953<\/td>\n",
       "      <td>X<\/td>\n",
       "      <td>Sources internationales sûres<\/td>\n",
       "      <td>NaN<\/td>\n",
       "    <\/tr>\n",
       "    <tr>\n",
       "      <th>1<\/th>\n",
       "      <td>OA<\/td>\n",
       "      <td>Séries temporelles annuelles<\/td>\n",
       "      <td>2<\/td>\n",
       "      <td>Afghanistan<\/td>\n",
       "      <td>511<\/td>\n",
       "      <td>Population totale<\/td>\n",
       "      <td>3010<\/td>\n",
       "      <td>Population-Estimations<\/td>\n",
       "      <td>2001<\/td>\n",
       "      <td>2001<\/td>\n",
       "      <td>1000 personnes<\/td>\n",
       "      <td>21606.988<\/td>\n",
       "      <td>X<\/td>\n",
       "      <td>Sources internationales sûres<\/td>\n",
       "      <td>NaN<\/td>\n",
       "    <\/tr>\n",
       "    <tr>\n",
       "      <th>2<\/th>\n",
       "      <td>OA<\/td>\n",
       "      <td>Séries temporelles annuelles<\/td>\n",
       "      <td>2<\/td>\n",
       "      <td>Afghanistan<\/td>\n",
       "      <td>511<\/td>\n",
       "      <td>Population totale<\/td>\n",
       "      <td>3010<\/td>\n",
       "      <td>Population-Estimations<\/td>\n",
       "      <td>2002<\/td>\n",
       "      <td>2002<\/td>\n",
       "      <td>1000 personnes<\/td>\n",
       "      <td>22600.770<\/td>\n",
       "      <td>X<\/td>\n",
       "      <td>Sources internationales sûres<\/td>\n",
       "      <td>NaN<\/td>\n",
       "    <\/tr>\n",
       "    <tr>\n",
       "      <th>3<\/th>\n",
       "      <td>OA<\/td>\n",
       "      <td>Séries temporelles annuelles<\/td>\n",
       "      <td>2<\/td>\n",
       "      <td>Afghanistan<\/td>\n",
       "      <td>511<\/td>\n",
       "      <td>Population totale<\/td>\n",
       "      <td>3010<\/td>\n",
       "      <td>Population-Estimations<\/td>\n",
       "      <td>2003<\/td>\n",
       "      <td>2003<\/td>\n",
       "      <td>1000 personnes<\/td>\n",
       "      <td>23680.871<\/td>\n",
       "      <td>X<\/td>\n",
       "      <td>Sources internationales sûres<\/td>\n",
       "      <td>NaN<\/td>\n",
       "    <\/tr>\n",
       "    <tr>\n",
       "      <th>4<\/th>\n",
       "      <td>OA<\/td>\n",
       "      <td>Séries temporelles annuelles<\/td>\n",
       "      <td>2<\/td>\n",
       "      <td>Afghanistan<\/td>\n",
       "      <td>511<\/td>\n",
       "      <td>Population totale<\/td>\n",
       "      <td>3010<\/td>\n",
       "      <td>Population-Estimations<\/td>\n",
       "      <td>2004<\/td>\n",
       "      <td>2004<\/td>\n",
       "      <td>1000 personnes<\/td>\n",
       "      <td>24726.684<\/td>\n",
       "      <td>X<\/td>\n",
       "      <td>Sources internationales sûres<\/td>\n",
       "      <td>NaN<\/td>\n",
       "    <\/tr>\n",
       "  <\/tbody>\n",
       "<\/table>\n",
       "<\/div>"
      ]
     },
     "metadata":{
      
     },
     "output_type":"display_data"
    }
   ],
   "metadata":{
    "datalore":{
     "node_id":"yuNV9RSDFFUhjZsuypvWzp",
     "type":"CODE",
     "hide_input_from_viewers":true,
     "hide_output_from_viewers":true
    }
   }
  },
  {
   "cell_type":"markdown",
   "source":[
    "### b - Description\n",
    "Ici, on va voir en détail un petit peu, notre jeu de données et les variables qu'il contient"
   ],
   "attachments":{
    
   },
   "metadata":{
    "datalore":{
     "node_id":"ZinoyvoJrzG6QOk69CEkQ4",
     "type":"MD",
     "hide_input_from_viewers":true,
     "hide_output_from_viewers":true
    }
   }
  },
  {
   "cell_type":"code",
   "source":[
    "df_population.shape"
   ],
   "execution_count":25,
   "outputs":[
    {
     "data":{
      "text\/plain":[
       "(4411, 15)"
      ]
     },
     "metadata":{
      
     },
     "output_type":"display_data"
    }
   ],
   "metadata":{
    "datalore":{
     "node_id":"VOFaAygNkwmWOfEjtBror4",
     "type":"CODE",
     "hide_input_from_viewers":true,
     "hide_output_from_viewers":true
    }
   }
  },
  {
   "cell_type":"markdown",
   "source":[
    "Nous avons 15 variables et 4 411 lignes."
   ],
   "attachments":{
    
   },
   "metadata":{
    "datalore":{
     "node_id":"swtFlWSKmT5Yz4HEOIgQdx",
     "type":"MD",
     "hide_input_from_viewers":true,
     "hide_output_from_viewers":true
    }
   }
  },
  {
   "cell_type":"code",
   "source":[
    "df_population.describe(include='all')"
   ],
   "execution_count":26,
   "outputs":[
    {
     "data":{
      "text\/html":[
       "<div>\n",
       "<style scoped>\n",
       "    .dataframe tbody tr th:only-of-type {\n",
       "        vertical-align: middle;\n",
       "    }\n",
       "\n",
       "    .dataframe tbody tr th {\n",
       "        vertical-align: top;\n",
       "    }\n",
       "\n",
       "    .dataframe thead th {\n",
       "        text-align: right;\n",
       "    }\n",
       "<\/style>\n",
       "<table border=\"1\" class=\"dataframe\">\n",
       "  <thead>\n",
       "    <tr style=\"text-align: right;\">\n",
       "      <th><\/th>\n",
       "      <th>Code Domaine<\/th>\n",
       "      <th>Domaine<\/th>\n",
       "      <th>Code zone<\/th>\n",
       "      <th>Zone<\/th>\n",
       "      <th>Code Élément<\/th>\n",
       "      <th>Élément<\/th>\n",
       "      <th>Code Produit<\/th>\n",
       "      <th>Produit<\/th>\n",
       "      <th>Code année<\/th>\n",
       "      <th>Année<\/th>\n",
       "      <th>Unité<\/th>\n",
       "      <th>Valeur<\/th>\n",
       "      <th>Symbole<\/th>\n",
       "      <th>Description du Symbole<\/th>\n",
       "      <th>Note<\/th>\n",
       "    <\/tr>\n",
       "  <\/thead>\n",
       "  <tbody>\n",
       "    <tr>\n",
       "      <th>count<\/th>\n",
       "      <td>4411<\/td>\n",
       "      <td>4411<\/td>\n",
       "      <td>4411.000000<\/td>\n",
       "      <td>4411<\/td>\n",
       "      <td>4411.0<\/td>\n",
       "      <td>4411<\/td>\n",
       "      <td>4411.0<\/td>\n",
       "      <td>4411<\/td>\n",
       "      <td>4411.000000<\/td>\n",
       "      <td>4411.000000<\/td>\n",
       "      <td>4411<\/td>\n",
       "      <td>4.411000e+03<\/td>\n",
       "      <td>4411<\/td>\n",
       "      <td>4411<\/td>\n",
       "      <td>258<\/td>\n",
       "    <\/tr>\n",
       "    <tr>\n",
       "      <th>unique<\/th>\n",
       "      <td>1<\/td>\n",
       "      <td>1<\/td>\n",
       "      <td>NaN<\/td>\n",
       "      <td>238<\/td>\n",
       "      <td>NaN<\/td>\n",
       "      <td>1<\/td>\n",
       "      <td>NaN<\/td>\n",
       "      <td>1<\/td>\n",
       "      <td>NaN<\/td>\n",
       "      <td>NaN<\/td>\n",
       "      <td>1<\/td>\n",
       "      <td>NaN<\/td>\n",
       "      <td>2<\/td>\n",
       "      <td>2<\/td>\n",
       "      <td>1<\/td>\n",
       "    <\/tr>\n",
       "    <tr>\n",
       "      <th>top<\/th>\n",
       "      <td>OA<\/td>\n",
       "      <td>Séries temporelles annuelles<\/td>\n",
       "      <td>NaN<\/td>\n",
       "      <td>Afghanistan<\/td>\n",
       "      <td>NaN<\/td>\n",
       "      <td>Population totale<\/td>\n",
       "      <td>NaN<\/td>\n",
       "      <td>Population-Estimations<\/td>\n",
       "      <td>NaN<\/td>\n",
       "      <td>NaN<\/td>\n",
       "      <td>1000 personnes<\/td>\n",
       "      <td>NaN<\/td>\n",
       "      <td>X<\/td>\n",
       "      <td>Sources internationales sûres<\/td>\n",
       "      <td>UNDESA, Population Division – World Population...<\/td>\n",
       "    <\/tr>\n",
       "    <tr>\n",
       "      <th>freq<\/th>\n",
       "      <td>4411<\/td>\n",
       "      <td>4411<\/td>\n",
       "      <td>NaN<\/td>\n",
       "      <td>19<\/td>\n",
       "      <td>NaN<\/td>\n",
       "      <td>4411<\/td>\n",
       "      <td>NaN<\/td>\n",
       "      <td>4411<\/td>\n",
       "      <td>NaN<\/td>\n",
       "      <td>NaN<\/td>\n",
       "      <td>4411<\/td>\n",
       "      <td>NaN<\/td>\n",
       "      <td>4374<\/td>\n",
       "      <td>4374<\/td>\n",
       "      <td>258<\/td>\n",
       "    <\/tr>\n",
       "    <tr>\n",
       "      <th>mean<\/th>\n",
       "      <td>NaN<\/td>\n",
       "      <td>NaN<\/td>\n",
       "      <td>132.202902<\/td>\n",
       "      <td>NaN<\/td>\n",
       "      <td>511.0<\/td>\n",
       "      <td>NaN<\/td>\n",
       "      <td>3010.0<\/td>\n",
       "      <td>NaN<\/td>\n",
       "      <td>2009.068238<\/td>\n",
       "      <td>2009.068238<\/td>\n",
       "      <td>NaN<\/td>\n",
       "      <td>2.963004e+04<\/td>\n",
       "      <td>NaN<\/td>\n",
       "      <td>NaN<\/td>\n",
       "      <td>NaN<\/td>\n",
       "    <\/tr>\n",
       "    <tr>\n",
       "      <th>std<\/th>\n",
       "      <td>NaN<\/td>\n",
       "      <td>NaN<\/td>\n",
       "      <td>75.854840<\/td>\n",
       "      <td>NaN<\/td>\n",
       "      <td>0.0<\/td>\n",
       "      <td>NaN<\/td>\n",
       "      <td>0.0<\/td>\n",
       "      <td>NaN<\/td>\n",
       "      <td>5.481539<\/td>\n",
       "      <td>5.481539<\/td>\n",
       "      <td>NaN<\/td>\n",
       "      <td>1.238029e+05<\/td>\n",
       "      <td>NaN<\/td>\n",
       "      <td>NaN<\/td>\n",
       "      <td>NaN<\/td>\n",
       "    <\/tr>\n",
       "    <tr>\n",
       "      <th>min<\/th>\n",
       "      <td>NaN<\/td>\n",
       "      <td>NaN<\/td>\n",
       "      <td>1.000000<\/td>\n",
       "      <td>NaN<\/td>\n",
       "      <td>511.0<\/td>\n",
       "      <td>NaN<\/td>\n",
       "      <td>3010.0<\/td>\n",
       "      <td>NaN<\/td>\n",
       "      <td>2000.000000<\/td>\n",
       "      <td>2000.000000<\/td>\n",
       "      <td>NaN<\/td>\n",
       "      <td>7.850000e-01<\/td>\n",
       "      <td>NaN<\/td>\n",
       "      <td>NaN<\/td>\n",
       "      <td>NaN<\/td>\n",
       "    <\/tr>\n",
       "    <tr>\n",
       "      <th>25%<\/th>\n",
       "      <td>NaN<\/td>\n",
       "      <td>NaN<\/td>\n",
       "      <td>68.000000<\/td>\n",
       "      <td>NaN<\/td>\n",
       "      <td>511.0<\/td>\n",
       "      <td>NaN<\/td>\n",
       "      <td>3010.0<\/td>\n",
       "      <td>NaN<\/td>\n",
       "      <td>2004.000000<\/td>\n",
       "      <td>2004.000000<\/td>\n",
       "      <td>NaN<\/td>\n",
       "      <td>3.921890e+02<\/td>\n",
       "      <td>NaN<\/td>\n",
       "      <td>NaN<\/td>\n",
       "      <td>NaN<\/td>\n",
       "    <\/tr>\n",
       "    <tr>\n",
       "      <th>50%<\/th>\n",
       "      <td>NaN<\/td>\n",
       "      <td>NaN<\/td>\n",
       "      <td>132.000000<\/td>\n",
       "      <td>NaN<\/td>\n",
       "      <td>511.0<\/td>\n",
       "      <td>NaN<\/td>\n",
       "      <td>3010.0<\/td>\n",
       "      <td>NaN<\/td>\n",
       "      <td>2009.000000<\/td>\n",
       "      <td>2009.000000<\/td>\n",
       "      <td>NaN<\/td>\n",
       "      <td>4.764741e+03<\/td>\n",
       "      <td>NaN<\/td>\n",
       "      <td>NaN<\/td>\n",
       "      <td>NaN<\/td>\n",
       "    <\/tr>\n",
       "    <tr>\n",
       "      <th>75%<\/th>\n",
       "      <td>NaN<\/td>\n",
       "      <td>NaN<\/td>\n",
       "      <td>195.000000<\/td>\n",
       "      <td>NaN<\/td>\n",
       "      <td>511.0<\/td>\n",
       "      <td>NaN<\/td>\n",
       "      <td>3010.0<\/td>\n",
       "      <td>NaN<\/td>\n",
       "      <td>2014.000000<\/td>\n",
       "      <td>2014.000000<\/td>\n",
       "      <td>NaN<\/td>\n",
       "      <td>1.821548e+04<\/td>\n",
       "      <td>NaN<\/td>\n",
       "      <td>NaN<\/td>\n",
       "      <td>NaN<\/td>\n",
       "    <\/tr>\n",
       "    <tr>\n",
       "      <th>max<\/th>\n",
       "      <td>NaN<\/td>\n",
       "      <td>NaN<\/td>\n",
       "      <td>299.000000<\/td>\n",
       "      <td>NaN<\/td>\n",
       "      <td>511.0<\/td>\n",
       "      <td>NaN<\/td>\n",
       "      <td>3010.0<\/td>\n",
       "      <td>NaN<\/td>\n",
       "      <td>2018.000000<\/td>\n",
       "      <td>2018.000000<\/td>\n",
       "      <td>NaN<\/td>\n",
       "      <td>1.427648e+06<\/td>\n",
       "      <td>NaN<\/td>\n",
       "      <td>NaN<\/td>\n",
       "      <td>NaN<\/td>\n",
       "    <\/tr>\n",
       "  <\/tbody>\n",
       "<\/table>\n",
       "<\/div>"
      ]
     },
     "metadata":{
      
     },
     "output_type":"display_data"
    }
   ],
   "metadata":{
    "datalore":{
     "node_id":"VgTbi3DBJnYFOsU63LmdJm",
     "type":"CODE",
     "hide_input_from_viewers":true,
     "hide_output_from_viewers":true
    }
   }
  },
  {
   "cell_type":"markdown",
   "source":[
    "On peut s'apercevoir que l'on a encore des variables qui sont des constantes et que l'on a toujours la partie code qui correspond à la variable d'après. On va voir un petit peu les types de variables."
   ],
   "attachments":{
    
   },
   "metadata":{
    "datalore":{
     "node_id":"frGuBsDGvsZ2WrDOGDKyNS",
     "type":"MD",
     "hide_input_from_viewers":true,
     "hide_output_from_viewers":true
    }
   }
  },
  {
   "cell_type":"code",
   "source":[
    "df_population.info()"
   ],
   "execution_count":27,
   "outputs":[
    {
     "name":"stdout",
     "text":[
      "<class 'pandas.core.frame.DataFrame'>\n",
      "RangeIndex: 4411 entries, 0 to 4410\n",
      "Data columns (total 15 columns):\n",
      " #   Column                  Non-Null Count  Dtype  \n",
      "---  ------                  --------------  -----  \n",
      " 0   Code Domaine            4411 non-null   object \n",
      " 1   Domaine                 4411 non-null   object \n",
      " 2   Code zone               4411 non-null   int64  \n",
      " 3   Zone                    4411 non-null   object \n",
      " 4   Code Élément            4411 non-null   int64  \n",
      " 5   Élément                 4411 non-null   object \n",
      " 6   Code Produit            4411 non-null   int64  \n",
      " 7   Produit                 4411 non-null   object \n",
      " 8   Code année              4411 non-null   int64  \n",
      " 9   Année                   4411 non-null   int64  \n",
      " 10  Unité                   4411 non-null   object \n",
      " 11  Valeur                  4411 non-null   float64\n",
      " 12  Symbole                 4411 non-null   object \n",
      " 13  Description du Symbole  4411 non-null   object \n",
      " 14  Note                    258 non-null    object \n",
      "dtypes: float64(1), int64(5), object(9)\n",
      "memory usage: 517.0+ KB\n"
     ],
     "output_type":"stream"
    }
   ],
   "metadata":{
    "datalore":{
     "node_id":"msSJvl5tLcv73zJO3jVwac",
     "type":"CODE",
     "hide_input_from_viewers":true,
     "hide_output_from_viewers":true
    }
   }
  },
  {
   "cell_type":"markdown",
   "source":[
    "On peut remplir le tableau suivant :\n",
    "\n",
    "\n",
    "|Variable|Type|Contexte|Utilité|Commentaire|\n",
    "|---|---|---|---|---|\n",
    "|Code Domaine  |Texte|Prend qu'une seule valeur|inutile|à supprimer|\n",
    "|Domaine|Texte|Prend qu'une seule valeur|inutile|à supprimer|\n",
    "|Code zone| Entier|Code associé à chaque pays|inutile|à supprimer|\n",
    "|Zone|Texte|nom du pays|clef de liaison|  |\n",
    "|Code Élément|Entier|Prend qu'une seule valeur|inutile|à supprimer|\n",
    "|Élément|Texte|Prend qu'une seule valeur|inutile|à supprimer|\n",
    "|Code Produit|Entier|Prend qu'une seule valeur|inutile|à supprimer|\n",
    "|Produit|Texte|Prend qu'une seule valeur|inutile|à supprimer|\n",
    "|Code année|Entier| Code associé à l'année|inutile|à supprimer|\n",
    "|Année|Année|année|doit correspondre au dataframe précédent|à filtrer sur 2017|\n",
    "|Unité|Texte|Unité de la valeur|  |à rajouter dans le nom de la variable|\n",
    "|Valeur|Entier|population|valeur clef|  |\n",
    "|Symbole|Texte|Symbole associé au moyen d'obtenir la mesure|inutile|à supprimer|\n",
    "|Description du Symbole|Texte|moyen d'obtenir la mesure|inutile|à supprimer|\n",
    "|Note|Texte|Note|inutile|à supprimer|"
   ],
   "attachments":{
    
   },
   "metadata":{
    "datalore":{
     "node_id":"AU4YaG5DxrkTHwUkH829Bt",
     "type":"MD",
     "hide_input_from_viewers":true,
     "hide_output_from_viewers":true
    }
   }
  },
  {
   "cell_type":"markdown",
   "source":[
    "On utilise ce tableau pour réaliser le nettoyage et la préparation des données"
   ],
   "attachments":{
    
   },
   "metadata":{
    "datalore":{
     "node_id":"i1alNHHRpT41dVAL6Rt4zg",
     "type":"MD",
     "hide_input_from_viewers":true,
     "hide_output_from_viewers":true
    }
   }
  },
  {
   "cell_type":"markdown",
   "source":[
    "### c - Nettoyage et préparation.\n",
    "On va tout d'abord voir s'il y a des doublons"
   ],
   "attachments":{
    
   },
   "metadata":{
    "datalore":{
     "node_id":"UQAOe6XgMj8BaQxeALkF2k",
     "type":"MD",
     "hide_input_from_viewers":true,
     "hide_output_from_viewers":true
    }
   }
  },
  {
   "cell_type":"code",
   "source":[
    "df_population.duplicated().sum()"
   ],
   "execution_count":28,
   "outputs":[
    {
     "data":{
      "text\/plain":[
       "0"
      ]
     },
     "metadata":{
      
     },
     "output_type":"display_data"
    }
   ],
   "metadata":{
    "datalore":{
     "node_id":"J2rbitCKTt5x2RI3ew0PvB",
     "type":"CODE",
     "hide_input_from_viewers":true,
     "hide_output_from_viewers":true
    }
   }
  },
  {
   "cell_type":"markdown",
   "source":[
    "Il n'y a pas de doublon.\n",
    "\n",
    "On va réaliser toutes les opérations que l'on est défini dans le tableau précédent."
   ],
   "attachments":{
    
   },
   "metadata":{
    "datalore":{
     "node_id":"mHqCLLoBFqzhX4BvCMsUKW",
     "type":"MD",
     "hide_input_from_viewers":true,
     "hide_output_from_viewers":true
    }
   }
  },
  {
   "cell_type":"code",
   "source":[
    "df_population = df_population.pivot_table(index=['Zone'], \n",
    "                                          columns='Année', \n",
    "                                          values='Valeur', \n",
    "                                          fill_value=0,) #Remplace les Nan en 0\n",
    "\n",
    "\n",
    "# La colonne zone est transformée en index par la méthode pivot_table. On la retransforme en colonne\n",
    "df_population.reset_index(inplace= True)\n",
    "\n",
    "df_population = df_population[['Zone', 2017]]\n",
    "\n",
    "df_population.rename(columns={2017: \"Population en 2017 (en millier de personne)\"}, inplace=True)\n",
    "\n",
    "df_population.head()"
   ],
   "execution_count":29,
   "outputs":[
    {
     "data":{
      "text\/html":[
       "<div>\n",
       "<style scoped>\n",
       "    .dataframe tbody tr th:only-of-type {\n",
       "        vertical-align: middle;\n",
       "    }\n",
       "\n",
       "    .dataframe tbody tr th {\n",
       "        vertical-align: top;\n",
       "    }\n",
       "\n",
       "    .dataframe thead th {\n",
       "        text-align: right;\n",
       "    }\n",
       "<\/style>\n",
       "<table border=\"1\" class=\"dataframe\">\n",
       "  <thead>\n",
       "    <tr style=\"text-align: right;\">\n",
       "      <th>Année<\/th>\n",
       "      <th>Zone<\/th>\n",
       "      <th>Population en 2017 (en millier de personne)<\/th>\n",
       "    <\/tr>\n",
       "  <\/thead>\n",
       "  <tbody>\n",
       "    <tr>\n",
       "      <th>0<\/th>\n",
       "      <td>Afghanistan<\/td>\n",
       "      <td>36296.113<\/td>\n",
       "    <\/tr>\n",
       "    <tr>\n",
       "      <th>1<\/th>\n",
       "      <td>Afrique du Sud<\/td>\n",
       "      <td>57009.756<\/td>\n",
       "    <\/tr>\n",
       "    <tr>\n",
       "      <th>2<\/th>\n",
       "      <td>Albanie<\/td>\n",
       "      <td>2884.169<\/td>\n",
       "    <\/tr>\n",
       "    <tr>\n",
       "      <th>3<\/th>\n",
       "      <td>Algérie<\/td>\n",
       "      <td>41389.189<\/td>\n",
       "    <\/tr>\n",
       "    <tr>\n",
       "      <th>4<\/th>\n",
       "      <td>Allemagne<\/td>\n",
       "      <td>82658.409<\/td>\n",
       "    <\/tr>\n",
       "  <\/tbody>\n",
       "<\/table>\n",
       "<\/div>"
      ]
     },
     "metadata":{
      
     },
     "output_type":"display_data"
    }
   ],
   "metadata":{
    "datalore":{
     "node_id":"uRcjoPGRWQfEigwMt0XLlE",
     "type":"CODE",
     "hide_input_from_viewers":false,
     "hide_output_from_viewers":false,
     "report_properties":{
      
     }
    }
   }
  },
  {
   "cell_type":"markdown",
   "source":[
    "Maintenant que notre dataframe est propre, on va regarder les variables dans le détail."
   ],
   "attachments":{
    
   },
   "metadata":{
    "datalore":{
     "node_id":"NcOlLx3C3giCHMLpdDBfou",
     "type":"MD",
     "hide_input_from_viewers":true,
     "hide_output_from_viewers":true
    }
   }
  },
  {
   "cell_type":"markdown",
   "source":[
    "### d - Analyse univariée\n",
    "#### Population\n",
    "On utilise une description rapide."
   ],
   "attachments":{
    
   },
   "metadata":{
    "datalore":{
     "node_id":"wMBKEWlnPtmg0lCQxiR0lD",
     "type":"MD",
     "hide_input_from_viewers":true,
     "hide_output_from_viewers":true
    }
   }
  },
  {
   "cell_type":"code",
   "source":[
    "analyse_univarie(df_population, 'Population en 2017 (en millier de personne)')"
   ],
   "execution_count":30,
   "outputs":[
    {
     "name":"stdout",
     "text":[
      "Description rapide\n",
      "count    2.380000e+02\n",
      "mean     3.171485e+04\n",
      "std      1.313698e+05\n",
      "min      0.000000e+00\n",
      "25%      3.758138e+02\n",
      "50%      5.030324e+03\n",
      "75%      1.902303e+04\n",
      "max      1.421022e+06\n",
      "Name: Population en 2017 (en millier de personne), dtype: float64\n",
      "--------------------\n",
      "Évaluation de la distribution avec les coefficients d'assymétrie et de Kurtosis.\n",
      "Skewness: 9.328329313879022\n",
      "Kurtosis: 93.68920524061015\n"
     ],
     "output_type":"stream"
    },
    {
     "data":{
      "application\/vnd.plotly.v1+json":{
       "data":[
        {
         "alignmentgroup":"True",
         "bingroup":"x",
         "hovertemplate":"Population en 2017 (en millier de personne)=%{x}<br>count=%{y}<extra><\/extra>",
         "legendgroup":"",
         "marker":{
          "color":"#636efa",
          "pattern":{
           "shape":""
          }
         },
         "name":"",
         "nbinsx":50,
         "offsetgroup":"",
         "orientation":"v",
         "showlegend":false,
         "x":[
          36296.113,
          57009.756,
          2884.169,
          41389.189,
          82658.409,
          77.001,
          29816.766,
          14.584,
          95.426,
          275.186,
          33101.179,
          43937.14,
          2944.791,
          105.366,
          24584.62,
          8819.901,
          9845.32,
          381.755,
          1494.076,
          159685.424,
          286.232,
          11419.748,
          375.769,
          63.049,
          745.563,
          11192.855,
          25.401,
          3351.525,
          2205.08,
          424.473,
          207833.823,
          7102.444,
          19193.234,
          10827.019,
          9450.231,
          11175.198,
          537.498,
          16009.409,
          24566.073,
          36732.095,
          18470.439,
          7306.322,
          622.585,
          23674.546,
          1421021.791,
          1179.678,
          48909.839,
          813.892,
          5110.695,
          4949.954,
          4182.857,
          11339.254,
          161.997,
          24437.47,
          5732.274,
          944.099,
          71.458,
          6388.126,
          46647.428,
          1319.39,
          1124.805,
          877.459,
          5511.371,
          64842.509,
          145530.082,
          2064.823,
          2213.889,
          29121.465,
          33.728,
          110.874,
          56.481,
          10569.45,
          399.672,
          164.281,
          16914.97,
          12067.519,
          1262.002,
          1828.145,
          775.222,
          275.191,
          4008.716,
          10982.366,
          9429.013,
          9729.823,
          1338676.785,
          264650.963,
          80673.883,
          37552.781,
          4753.279,
          334.393,
          8243.848,
          60673.701,
          2920.848,
          127502.725,
          9785.843,
          18080.019,
          50221.142,
          6189.733,
          114.158,
          4056.099,
          2091.534,
          1951.097,
          6819.373,
          6580.724,
          4702.226,
          37.8,
          2845.414,
          591.91,
          2081.996,
          25570.512,
          31104.646,
          17670.196,
          496.402,
          18512.43,
          437.933,
          35581.255,
          375.948,
          1264.499,
          4282.57,
          252.957,
          124777.324,
          111.459,
          38.392,
          3113.786,
          4.984,
          627.563,
          28649.018,
          53382.523,
          2402.633,
          10.573,
          6384.846,
          21602.382,
          190873.244,
          1.609,
          5296.326,
          277.15,
          4702.034,
          27632.681,
          4665.928,
          41166.588,
          31959.785,
          207906.209,
          17.808,
          4747.227,
          4106.769,
          8438.036,
          6867.061,
          17021.347,
          105172.925,
          37953.18,
          276.102,
          3163.667,
          10288.527,
          31444.298,
          2724.728,
          19653.969,
          66727.461,
          11980.961,
          17095.678,
          4596.023,
          51096.415,
          4059.684,
          10513.104,
          81398.764,
          6953.035,
          25429.825,
          54660.339,
          876.134,
          552.615,
          9.784,
          52.045,
          33.671,
          36.56,
          5.887,
          0.793,
          109.827,
          6.008,
          180.954,
          195.352,
          55.62,
          207.089,
          8829.628,
          0,
          96.418,
          7488.423,
          5708.041,
          41.444,
          5447.9,
          2076.394,
          14589.179,
          40813.397,
          0,
          10910.763,
          21128.032,
          8455.804,
          570.496,
          9904.896,
          15419.355,
          8880.268,
          15016.753,
          10641.034,
          69209.81,
          1243.258,
          7698.474,
          1.3,
          101.998,
          1384.059,
          11433.443,
          5757.667,
          81116.45,
          11.37,
          44487.709,
          3436.641,
          285.51,
          29402.484,
          94600.648,
          27834.819,
          16853.599,
          14236.595,
          96442.591,
          9487.203,
          16785.361,
          3412.893,
          325084.756,
          106399.924,
          83.598,
          168.665,
          63.382,
          17.507,
          3.068,
          48.331,
          56.562,
          58.058,
          636.039,
          37.115,
          104.751,
          29.577,
          11.9
         ],
         "xaxis":"x",
         "yaxis":"y",
         "type":"histogram"
        }
       ],
       "layout":{
        "template":{
         "data":{
          "bar":[
           {
            "error_x":{
             "color":"#2a3f5f"
            },
            "error_y":{
             "color":"#2a3f5f"
            },
            "marker":{
             "line":{
              "color":"#E5ECF6",
              "width":0.5
             },
             "pattern":{
              "fillmode":"overlay",
              "size":10,
              "solidity":0.2
             }
            },
            "type":"bar"
           }
          ],
          "barpolar":[
           {
            "marker":{
             "line":{
              "color":"#E5ECF6",
              "width":0.5
             },
             "pattern":{
              "fillmode":"overlay",
              "size":10,
              "solidity":0.2
             }
            },
            "type":"barpolar"
           }
          ],
          "carpet":[
           {
            "aaxis":{
             "endlinecolor":"#2a3f5f",
             "gridcolor":"white",
             "linecolor":"white",
             "minorgridcolor":"white",
             "startlinecolor":"#2a3f5f"
            },
            "baxis":{
             "endlinecolor":"#2a3f5f",
             "gridcolor":"white",
             "linecolor":"white",
             "minorgridcolor":"white",
             "startlinecolor":"#2a3f5f"
            },
            "type":"carpet"
           }
          ],
          "choropleth":[
           {
            "colorbar":{
             "outlinewidth":0,
             "ticks":""
            },
            "type":"choropleth"
           }
          ],
          "contour":[
           {
            "colorbar":{
             "outlinewidth":0,
             "ticks":""
            },
            "colorscale":[
             [
              0,
              "#0d0887"
             ],
             [
              0.1111111111111111,
              "#46039f"
             ],
             [
              0.2222222222222222,
              "#7201a8"
             ],
             [
              0.3333333333333333,
              "#9c179e"
             ],
             [
              0.4444444444444444,
              "#bd3786"
             ],
             [
              0.5555555555555556,
              "#d8576b"
             ],
             [
              0.6666666666666666,
              "#ed7953"
             ],
             [
              0.7777777777777778,
              "#fb9f3a"
             ],
             [
              0.8888888888888888,
              "#fdca26"
             ],
             [
              1,
              "#f0f921"
             ]
            ],
            "type":"contour"
           }
          ],
          "contourcarpet":[
           {
            "colorbar":{
             "outlinewidth":0,
             "ticks":""
            },
            "type":"contourcarpet"
           }
          ],
          "heatmap":[
           {
            "colorbar":{
             "outlinewidth":0,
             "ticks":""
            },
            "colorscale":[
             [
              0,
              "#0d0887"
             ],
             [
              0.1111111111111111,
              "#46039f"
             ],
             [
              0.2222222222222222,
              "#7201a8"
             ],
             [
              0.3333333333333333,
              "#9c179e"
             ],
             [
              0.4444444444444444,
              "#bd3786"
             ],
             [
              0.5555555555555556,
              "#d8576b"
             ],
             [
              0.6666666666666666,
              "#ed7953"
             ],
             [
              0.7777777777777778,
              "#fb9f3a"
             ],
             [
              0.8888888888888888,
              "#fdca26"
             ],
             [
              1,
              "#f0f921"
             ]
            ],
            "type":"heatmap"
           }
          ],
          "heatmapgl":[
           {
            "colorbar":{
             "outlinewidth":0,
             "ticks":""
            },
            "colorscale":[
             [
              0,
              "#0d0887"
             ],
             [
              0.1111111111111111,
              "#46039f"
             ],
             [
              0.2222222222222222,
              "#7201a8"
             ],
             [
              0.3333333333333333,
              "#9c179e"
             ],
             [
              0.4444444444444444,
              "#bd3786"
             ],
             [
              0.5555555555555556,
              "#d8576b"
             ],
             [
              0.6666666666666666,
              "#ed7953"
             ],
             [
              0.7777777777777778,
              "#fb9f3a"
             ],
             [
              0.8888888888888888,
              "#fdca26"
             ],
             [
              1,
              "#f0f921"
             ]
            ],
            "type":"heatmapgl"
           }
          ],
          "histogram":[
           {
            "marker":{
             "pattern":{
              "fillmode":"overlay",
              "size":10,
              "solidity":0.2
             }
            },
            "type":"histogram"
           }
          ],
          "histogram2d":[
           {
            "colorbar":{
             "outlinewidth":0,
             "ticks":""
            },
            "colorscale":[
             [
              0,
              "#0d0887"
             ],
             [
              0.1111111111111111,
              "#46039f"
             ],
             [
              0.2222222222222222,
              "#7201a8"
             ],
             [
              0.3333333333333333,
              "#9c179e"
             ],
             [
              0.4444444444444444,
              "#bd3786"
             ],
             [
              0.5555555555555556,
              "#d8576b"
             ],
             [
              0.6666666666666666,
              "#ed7953"
             ],
             [
              0.7777777777777778,
              "#fb9f3a"
             ],
             [
              0.8888888888888888,
              "#fdca26"
             ],
             [
              1,
              "#f0f921"
             ]
            ],
            "type":"histogram2d"
           }
          ],
          "histogram2dcontour":[
           {
            "colorbar":{
             "outlinewidth":0,
             "ticks":""
            },
            "colorscale":[
             [
              0,
              "#0d0887"
             ],
             [
              0.1111111111111111,
              "#46039f"
             ],
             [
              0.2222222222222222,
              "#7201a8"
             ],
             [
              0.3333333333333333,
              "#9c179e"
             ],
             [
              0.4444444444444444,
              "#bd3786"
             ],
             [
              0.5555555555555556,
              "#d8576b"
             ],
             [
              0.6666666666666666,
              "#ed7953"
             ],
             [
              0.7777777777777778,
              "#fb9f3a"
             ],
             [
              0.8888888888888888,
              "#fdca26"
             ],
             [
              1,
              "#f0f921"
             ]
            ],
            "type":"histogram2dcontour"
           }
          ],
          "mesh3d":[
           {
            "colorbar":{
             "outlinewidth":0,
             "ticks":""
            },
            "type":"mesh3d"
           }
          ],
          "parcoords":[
           {
            "line":{
             "colorbar":{
              "outlinewidth":0,
              "ticks":""
             }
            },
            "type":"parcoords"
           }
          ],
          "pie":[
           {
            "automargin":true,
            "type":"pie"
           }
          ],
          "scatter":[
           {
            "marker":{
             "colorbar":{
              "outlinewidth":0,
              "ticks":""
             }
            },
            "type":"scatter"
           }
          ],
          "scatter3d":[
           {
            "line":{
             "colorbar":{
              "outlinewidth":0,
              "ticks":""
             }
            },
            "marker":{
             "colorbar":{
              "outlinewidth":0,
              "ticks":""
             }
            },
            "type":"scatter3d"
           }
          ],
          "scattercarpet":[
           {
            "marker":{
             "colorbar":{
              "outlinewidth":0,
              "ticks":""
             }
            },
            "type":"scattercarpet"
           }
          ],
          "scattergeo":[
           {
            "marker":{
             "colorbar":{
              "outlinewidth":0,
              "ticks":""
             }
            },
            "type":"scattergeo"
           }
          ],
          "scattergl":[
           {
            "marker":{
             "colorbar":{
              "outlinewidth":0,
              "ticks":""
             }
            },
            "type":"scattergl"
           }
          ],
          "scattermapbox":[
           {
            "marker":{
             "colorbar":{
              "outlinewidth":0,
              "ticks":""
             }
            },
            "type":"scattermapbox"
           }
          ],
          "scatterpolar":[
           {
            "marker":{
             "colorbar":{
              "outlinewidth":0,
              "ticks":""
             }
            },
            "type":"scatterpolar"
           }
          ],
          "scatterpolargl":[
           {
            "marker":{
             "colorbar":{
              "outlinewidth":0,
              "ticks":""
             }
            },
            "type":"scatterpolargl"
           }
          ],
          "scatterternary":[
           {
            "marker":{
             "colorbar":{
              "outlinewidth":0,
              "ticks":""
             }
            },
            "type":"scatterternary"
           }
          ],
          "surface":[
           {
            "colorbar":{
             "outlinewidth":0,
             "ticks":""
            },
            "colorscale":[
             [
              0,
              "#0d0887"
             ],
             [
              0.1111111111111111,
              "#46039f"
             ],
             [
              0.2222222222222222,
              "#7201a8"
             ],
             [
              0.3333333333333333,
              "#9c179e"
             ],
             [
              0.4444444444444444,
              "#bd3786"
             ],
             [
              0.5555555555555556,
              "#d8576b"
             ],
             [
              0.6666666666666666,
              "#ed7953"
             ],
             [
              0.7777777777777778,
              "#fb9f3a"
             ],
             [
              0.8888888888888888,
              "#fdca26"
             ],
             [
              1,
              "#f0f921"
             ]
            ],
            "type":"surface"
           }
          ],
          "table":[
           {
            "cells":{
             "fill":{
              "color":"#EBF0F8"
             },
             "line":{
              "color":"white"
             }
            },
            "header":{
             "fill":{
              "color":"#C8D4E3"
             },
             "line":{
              "color":"white"
             }
            },
            "type":"table"
           }
          ]
         },
         "layout":{
          "annotationdefaults":{
           "arrowcolor":"#2a3f5f",
           "arrowhead":0,
           "arrowwidth":1
          },
          "autotypenumbers":"strict",
          "coloraxis":{
           "colorbar":{
            "outlinewidth":0,
            "ticks":""
           }
          },
          "colorscale":{
           "diverging":[
            [
             0,
             "#8e0152"
            ],
            [
             0.1,
             "#c51b7d"
            ],
            [
             0.2,
             "#de77ae"
            ],
            [
             0.3,
             "#f1b6da"
            ],
            [
             0.4,
             "#fde0ef"
            ],
            [
             0.5,
             "#f7f7f7"
            ],
            [
             0.6,
             "#e6f5d0"
            ],
            [
             0.7,
             "#b8e186"
            ],
            [
             0.8,
             "#7fbc41"
            ],
            [
             0.9,
             "#4d9221"
            ],
            [
             1,
             "#276419"
            ]
           ],
           "sequential":[
            [
             0,
             "#0d0887"
            ],
            [
             0.1111111111111111,
             "#46039f"
            ],
            [
             0.2222222222222222,
             "#7201a8"
            ],
            [
             0.3333333333333333,
             "#9c179e"
            ],
            [
             0.4444444444444444,
             "#bd3786"
            ],
            [
             0.5555555555555556,
             "#d8576b"
            ],
            [
             0.6666666666666666,
             "#ed7953"
            ],
            [
             0.7777777777777778,
             "#fb9f3a"
            ],
            [
             0.8888888888888888,
             "#fdca26"
            ],
            [
             1,
             "#f0f921"
            ]
           ],
           "sequentialminus":[
            [
             0,
             "#0d0887"
            ],
            [
             0.1111111111111111,
             "#46039f"
            ],
            [
             0.2222222222222222,
             "#7201a8"
            ],
            [
             0.3333333333333333,
             "#9c179e"
            ],
            [
             0.4444444444444444,
             "#bd3786"
            ],
            [
             0.5555555555555556,
             "#d8576b"
            ],
            [
             0.6666666666666666,
             "#ed7953"
            ],
            [
             0.7777777777777778,
             "#fb9f3a"
            ],
            [
             0.8888888888888888,
             "#fdca26"
            ],
            [
             1,
             "#f0f921"
            ]
           ]
          },
          "colorway":[
           "#636efa",
           "#EF553B",
           "#00cc96",
           "#ab63fa",
           "#FFA15A",
           "#19d3f3",
           "#FF6692",
           "#B6E880",
           "#FF97FF",
           "#FECB52"
          ],
          "font":{
           "color":"#2a3f5f"
          },
          "geo":{
           "bgcolor":"white",
           "lakecolor":"white",
           "landcolor":"#E5ECF6",
           "showlakes":true,
           "showland":true,
           "subunitcolor":"white"
          },
          "hoverlabel":{
           "align":"left"
          },
          "hovermode":"closest",
          "mapbox":{
           "style":"light"
          },
          "paper_bgcolor":"white",
          "plot_bgcolor":"#E5ECF6",
          "polar":{
           "angularaxis":{
            "gridcolor":"white",
            "linecolor":"white",
            "ticks":""
           },
           "bgcolor":"#E5ECF6",
           "radialaxis":{
            "gridcolor":"white",
            "linecolor":"white",
            "ticks":""
           }
          },
          "scene":{
           "xaxis":{
            "backgroundcolor":"#E5ECF6",
            "gridcolor":"white",
            "gridwidth":2,
            "linecolor":"white",
            "showbackground":true,
            "ticks":"",
            "zerolinecolor":"white"
           },
           "yaxis":{
            "backgroundcolor":"#E5ECF6",
            "gridcolor":"white",
            "gridwidth":2,
            "linecolor":"white",
            "showbackground":true,
            "ticks":"",
            "zerolinecolor":"white"
           },
           "zaxis":{
            "backgroundcolor":"#E5ECF6",
            "gridcolor":"white",
            "gridwidth":2,
            "linecolor":"white",
            "showbackground":true,
            "ticks":"",
            "zerolinecolor":"white"
           }
          },
          "shapedefaults":{
           "line":{
            "color":"#2a3f5f"
           }
          },
          "ternary":{
           "aaxis":{
            "gridcolor":"white",
            "linecolor":"white",
            "ticks":""
           },
           "baxis":{
            "gridcolor":"white",
            "linecolor":"white",
            "ticks":""
           },
           "bgcolor":"#E5ECF6",
           "caxis":{
            "gridcolor":"white",
            "linecolor":"white",
            "ticks":""
           }
          },
          "title":{
           "x":0.05
          },
          "xaxis":{
           "automargin":true,
           "gridcolor":"white",
           "linecolor":"white",
           "ticks":"",
           "title":{
            "standoff":15
           },
           "zerolinecolor":"white",
           "zerolinewidth":2
          },
          "yaxis":{
           "automargin":true,
           "gridcolor":"white",
           "linecolor":"white",
           "ticks":"",
           "title":{
            "standoff":15
           },
           "zerolinecolor":"white",
           "zerolinewidth":2
          }
         }
        },
        "xaxis":{
         "anchor":"y",
         "domain":[
          0,
          1
         ],
         "title":{
          "text":"Population en 2017 (en millier de personne)"
         }
        },
        "yaxis":{
         "anchor":"x",
         "domain":[
          0,
          1
         ],
         "title":{
          "text":"count"
         }
        },
        "legend":{
         "tracegroupgap":0
        },
        "margin":{
         "t":60
        },
        "barmode":"relative"
       },
       "config":{
        "plotlyServerURL":"https:\/\/plot.ly"
       }
      }
     },
     "metadata":{
      
     },
     "output_type":"display_data"
    }
   ],
   "metadata":{
    "datalore":{
     "node_id":"BTeXrD2CYCKE00G2oL0cJh",
     "type":"CODE",
     "hide_input_from_viewers":true,
     "hide_output_from_viewers":true
    }
   }
  },
  {
   "cell_type":"markdown",
   "source":[
    "Il y a des pays qui ont une grande population"
   ],
   "attachments":{
    
   },
   "metadata":{
    "datalore":{
     "node_id":"ctxAdKKkEHSSCYnLJEYE5a",
     "type":"MD",
     "hide_input_from_viewers":true,
     "hide_output_from_viewers":true
    }
   }
  },
  {
   "cell_type":"code",
   "source":[
    "df_population.nlargest(n=10, columns=['Population en 2017 (en millier de personne)'])"
   ],
   "execution_count":31,
   "outputs":[
    {
     "data":{
      "text\/html":[
       "<div>\n",
       "<style scoped>\n",
       "    .dataframe tbody tr th:only-of-type {\n",
       "        vertical-align: middle;\n",
       "    }\n",
       "\n",
       "    .dataframe tbody tr th {\n",
       "        vertical-align: top;\n",
       "    }\n",
       "\n",
       "    .dataframe thead th {\n",
       "        text-align: right;\n",
       "    }\n",
       "<\/style>\n",
       "<table border=\"1\" class=\"dataframe\">\n",
       "  <thead>\n",
       "    <tr style=\"text-align: right;\">\n",
       "      <th>Année<\/th>\n",
       "      <th>Zone<\/th>\n",
       "      <th>Population en 2017 (en millier de personne)<\/th>\n",
       "    <\/tr>\n",
       "  <\/thead>\n",
       "  <tbody>\n",
       "    <tr>\n",
       "      <th>44<\/th>\n",
       "      <td>Chine, continentale<\/td>\n",
       "      <td>1421021.791<\/td>\n",
       "    <\/tr>\n",
       "    <tr>\n",
       "      <th>84<\/th>\n",
       "      <td>Inde<\/td>\n",
       "      <td>1338676.785<\/td>\n",
       "    <\/tr>\n",
       "    <tr>\n",
       "      <th>223<\/th>\n",
       "      <td>États-Unis d'Amérique<\/td>\n",
       "      <td>325084.756<\/td>\n",
       "    <\/tr>\n",
       "    <tr>\n",
       "      <th>85<\/th>\n",
       "      <td>Indonésie<\/td>\n",
       "      <td>264650.963<\/td>\n",
       "    <\/tr>\n",
       "    <tr>\n",
       "      <th>141<\/th>\n",
       "      <td>Pakistan<\/td>\n",
       "      <td>207906.209<\/td>\n",
       "    <\/tr>\n",
       "    <tr>\n",
       "      <th>30<\/th>\n",
       "      <td>Brésil<\/td>\n",
       "      <td>207833.823<\/td>\n",
       "    <\/tr>\n",
       "    <tr>\n",
       "      <th>132<\/th>\n",
       "      <td>Nigéria<\/td>\n",
       "      <td>190873.244<\/td>\n",
       "    <\/tr>\n",
       "    <tr>\n",
       "      <th>19<\/th>\n",
       "      <td>Bangladesh<\/td>\n",
       "      <td>159685.424<\/td>\n",
       "    <\/tr>\n",
       "    <tr>\n",
       "      <th>64<\/th>\n",
       "      <td>Fédération de Russie<\/td>\n",
       "      <td>145530.082<\/td>\n",
       "    <\/tr>\n",
       "    <tr>\n",
       "      <th>93<\/th>\n",
       "      <td>Japon<\/td>\n",
       "      <td>127502.725<\/td>\n",
       "    <\/tr>\n",
       "  <\/tbody>\n",
       "<\/table>\n",
       "<\/div>"
      ]
     },
     "metadata":{
      
     },
     "output_type":"display_data"
    }
   ],
   "metadata":{
    "datalore":{
     "node_id":"7sfB0YQycVJ4lVKzmz6cqI",
     "type":"CODE",
     "hide_input_from_viewers":true,
     "hide_output_from_viewers":true
    }
   }
  },
  {
   "cell_type":"markdown",
   "source":[
    "On a un listing des 10 pays les plus peuplés au monde"
   ],
   "attachments":{
    
   },
   "metadata":{
    "datalore":{
     "node_id":"ex0qLqB6PQujCOQtdo6K5h",
     "type":"MD",
     "hide_input_from_viewers":true,
     "hide_output_from_viewers":true
    }
   }
  },
  {
   "cell_type":"markdown",
   "source":[
    "## 1.3 - Stabilité Politique\n",
    "### a - Import"
   ],
   "attachments":{
    
   },
   "metadata":{
    "datalore":{
     "node_id":"Bvh7AvymLQM82H8VWNlxGd",
     "type":"MD",
     "hide_input_from_viewers":true,
     "hide_output_from_viewers":true
    }
   }
  },
  {
   "cell_type":"code",
   "source":[
    "df_stabilite_politique = pd.read_csv('PoliticalStability.csv', sep= ',')\n",
    "\n",
    "df_stabilite_politique.head()"
   ],
   "execution_count":32,
   "outputs":[
    {
     "data":{
      "text\/html":[
       "<div>\n",
       "<style scoped>\n",
       "    .dataframe tbody tr th:only-of-type {\n",
       "        vertical-align: middle;\n",
       "    }\n",
       "\n",
       "    .dataframe tbody tr th {\n",
       "        vertical-align: top;\n",
       "    }\n",
       "\n",
       "    .dataframe thead th {\n",
       "        text-align: right;\n",
       "    }\n",
       "<\/style>\n",
       "<table border=\"1\" class=\"dataframe\">\n",
       "  <thead>\n",
       "    <tr style=\"text-align: right;\">\n",
       "      <th><\/th>\n",
       "      <th>Code Domaine<\/th>\n",
       "      <th>Domaine<\/th>\n",
       "      <th>Code zone (M49)<\/th>\n",
       "      <th>Zone<\/th>\n",
       "      <th>Code Élément<\/th>\n",
       "      <th>Élément<\/th>\n",
       "      <th>Code Produit<\/th>\n",
       "      <th>Produit<\/th>\n",
       "      <th>Code année<\/th>\n",
       "      <th>Année<\/th>\n",
       "      <th>Unité<\/th>\n",
       "      <th>Valeur<\/th>\n",
       "      <th>Symbole<\/th>\n",
       "      <th>Description du Symbole<\/th>\n",
       "      <th>Note<\/th>\n",
       "    <\/tr>\n",
       "  <\/thead>\n",
       "  <tbody>\n",
       "    <tr>\n",
       "      <th>0<\/th>\n",
       "      <td>FS<\/td>\n",
       "      <td>Données de la sécurité alimentaire<\/td>\n",
       "      <td>4<\/td>\n",
       "      <td>Afghanistan<\/td>\n",
       "      <td>6125<\/td>\n",
       "      <td>Valeur<\/td>\n",
       "      <td>21032<\/td>\n",
       "      <td>Stabilité politique et absence de violence\/ter...<\/td>\n",
       "      <td>2017<\/td>\n",
       "      <td>2017<\/td>\n",
       "      <td>indice<\/td>\n",
       "      <td>-2.80<\/td>\n",
       "      <td>X<\/td>\n",
       "      <td>Ciffre de sources internationales<\/td>\n",
       "      <td>NaN<\/td>\n",
       "    <\/tr>\n",
       "    <tr>\n",
       "      <th>1<\/th>\n",
       "      <td>FS<\/td>\n",
       "      <td>Données de la sécurité alimentaire<\/td>\n",
       "      <td>710<\/td>\n",
       "      <td>Afrique du Sud<\/td>\n",
       "      <td>6125<\/td>\n",
       "      <td>Valeur<\/td>\n",
       "      <td>21032<\/td>\n",
       "      <td>Stabilité politique et absence de violence\/ter...<\/td>\n",
       "      <td>2017<\/td>\n",
       "      <td>2017<\/td>\n",
       "      <td>indice<\/td>\n",
       "      <td>-0.28<\/td>\n",
       "      <td>X<\/td>\n",
       "      <td>Ciffre de sources internationales<\/td>\n",
       "      <td>NaN<\/td>\n",
       "    <\/tr>\n",
       "    <tr>\n",
       "      <th>2<\/th>\n",
       "      <td>FS<\/td>\n",
       "      <td>Données de la sécurité alimentaire<\/td>\n",
       "      <td>8<\/td>\n",
       "      <td>Albanie<\/td>\n",
       "      <td>6125<\/td>\n",
       "      <td>Valeur<\/td>\n",
       "      <td>21032<\/td>\n",
       "      <td>Stabilité politique et absence de violence\/ter...<\/td>\n",
       "      <td>2017<\/td>\n",
       "      <td>2017<\/td>\n",
       "      <td>indice<\/td>\n",
       "      <td>0.38<\/td>\n",
       "      <td>X<\/td>\n",
       "      <td>Ciffre de sources internationales<\/td>\n",
       "      <td>NaN<\/td>\n",
       "    <\/tr>\n",
       "    <tr>\n",
       "      <th>3<\/th>\n",
       "      <td>FS<\/td>\n",
       "      <td>Données de la sécurité alimentaire<\/td>\n",
       "      <td>12<\/td>\n",
       "      <td>Algérie<\/td>\n",
       "      <td>6125<\/td>\n",
       "      <td>Valeur<\/td>\n",
       "      <td>21032<\/td>\n",
       "      <td>Stabilité politique et absence de violence\/ter...<\/td>\n",
       "      <td>2017<\/td>\n",
       "      <td>2017<\/td>\n",
       "      <td>indice<\/td>\n",
       "      <td>-0.92<\/td>\n",
       "      <td>X<\/td>\n",
       "      <td>Ciffre de sources internationales<\/td>\n",
       "      <td>NaN<\/td>\n",
       "    <\/tr>\n",
       "    <tr>\n",
       "      <th>4<\/th>\n",
       "      <td>FS<\/td>\n",
       "      <td>Données de la sécurité alimentaire<\/td>\n",
       "      <td>276<\/td>\n",
       "      <td>Allemagne<\/td>\n",
       "      <td>6125<\/td>\n",
       "      <td>Valeur<\/td>\n",
       "      <td>21032<\/td>\n",
       "      <td>Stabilité politique et absence de violence\/ter...<\/td>\n",
       "      <td>2017<\/td>\n",
       "      <td>2017<\/td>\n",
       "      <td>indice<\/td>\n",
       "      <td>0.59<\/td>\n",
       "      <td>X<\/td>\n",
       "      <td>Ciffre de sources internationales<\/td>\n",
       "      <td>NaN<\/td>\n",
       "    <\/tr>\n",
       "  <\/tbody>\n",
       "<\/table>\n",
       "<\/div>"
      ]
     },
     "metadata":{
      
     },
     "output_type":"display_data"
    }
   ],
   "metadata":{
    "datalore":{
     "node_id":"OyQKB7pJFDT3uFV3Mx6sQn",
     "type":"CODE",
     "hide_input_from_viewers":true,
     "hide_output_from_viewers":true
    }
   }
  },
  {
   "cell_type":"markdown",
   "source":[
    "### b - Description\n",
    "Ici, on va voir en détail un petit peu, notre jeu de données et les variables qu'il contient."
   ],
   "attachments":{
    
   },
   "metadata":{
    "datalore":{
     "node_id":"A9oZ3fa7VMWeOIy6xdujQ9",
     "type":"MD",
     "hide_input_from_viewers":true,
     "hide_output_from_viewers":true
    }
   }
  },
  {
   "cell_type":"code",
   "source":[
    "df_stabilite_politique.shape"
   ],
   "execution_count":33,
   "outputs":[
    {
     "data":{
      "text\/plain":[
       "(197, 15)"
      ]
     },
     "metadata":{
      
     },
     "output_type":"display_data"
    }
   ],
   "metadata":{
    "datalore":{
     "node_id":"uuvIIeNEUOyWyYfvkv2Jlo",
     "type":"CODE",
     "hide_input_from_viewers":true,
     "hide_output_from_viewers":true
    }
   }
  },
  {
   "cell_type":"markdown",
   "source":[
    "Nous avons 15 variables et 197 lignes."
   ],
   "attachments":{
    
   },
   "metadata":{
    "datalore":{
     "node_id":"bgffpeo3O7mlgjRJaTOBem",
     "type":"MD",
     "hide_input_from_viewers":true,
     "hide_output_from_viewers":true
    }
   }
  },
  {
   "cell_type":"code",
   "source":[
    "df_stabilite_politique.describe(include= 'all')"
   ],
   "execution_count":34,
   "outputs":[
    {
     "data":{
      "text\/html":[
       "<div>\n",
       "<style scoped>\n",
       "    .dataframe tbody tr th:only-of-type {\n",
       "        vertical-align: middle;\n",
       "    }\n",
       "\n",
       "    .dataframe tbody tr th {\n",
       "        vertical-align: top;\n",
       "    }\n",
       "\n",
       "    .dataframe thead th {\n",
       "        text-align: right;\n",
       "    }\n",
       "<\/style>\n",
       "<table border=\"1\" class=\"dataframe\">\n",
       "  <thead>\n",
       "    <tr style=\"text-align: right;\">\n",
       "      <th><\/th>\n",
       "      <th>Code Domaine<\/th>\n",
       "      <th>Domaine<\/th>\n",
       "      <th>Code zone (M49)<\/th>\n",
       "      <th>Zone<\/th>\n",
       "      <th>Code Élément<\/th>\n",
       "      <th>Élément<\/th>\n",
       "      <th>Code Produit<\/th>\n",
       "      <th>Produit<\/th>\n",
       "      <th>Code année<\/th>\n",
       "      <th>Année<\/th>\n",
       "      <th>Unité<\/th>\n",
       "      <th>Valeur<\/th>\n",
       "      <th>Symbole<\/th>\n",
       "      <th>Description du Symbole<\/th>\n",
       "      <th>Note<\/th>\n",
       "    <\/tr>\n",
       "  <\/thead>\n",
       "  <tbody>\n",
       "    <tr>\n",
       "      <th>count<\/th>\n",
       "      <td>197<\/td>\n",
       "      <td>197<\/td>\n",
       "      <td>197.000000<\/td>\n",
       "      <td>197<\/td>\n",
       "      <td>197.0<\/td>\n",
       "      <td>197<\/td>\n",
       "      <td>197.0<\/td>\n",
       "      <td>197<\/td>\n",
       "      <td>197.0<\/td>\n",
       "      <td>197.0<\/td>\n",
       "      <td>197<\/td>\n",
       "      <td>197.000000<\/td>\n",
       "      <td>197<\/td>\n",
       "      <td>197<\/td>\n",
       "      <td>0.0<\/td>\n",
       "    <\/tr>\n",
       "    <tr>\n",
       "      <th>unique<\/th>\n",
       "      <td>1<\/td>\n",
       "      <td>1<\/td>\n",
       "      <td>NaN<\/td>\n",
       "      <td>197<\/td>\n",
       "      <td>NaN<\/td>\n",
       "      <td>1<\/td>\n",
       "      <td>NaN<\/td>\n",
       "      <td>1<\/td>\n",
       "      <td>NaN<\/td>\n",
       "      <td>NaN<\/td>\n",
       "      <td>1<\/td>\n",
       "      <td>NaN<\/td>\n",
       "      <td>1<\/td>\n",
       "      <td>1<\/td>\n",
       "      <td>NaN<\/td>\n",
       "    <\/tr>\n",
       "    <tr>\n",
       "      <th>top<\/th>\n",
       "      <td>FS<\/td>\n",
       "      <td>Données de la sécurité alimentaire<\/td>\n",
       "      <td>NaN<\/td>\n",
       "      <td>Afghanistan<\/td>\n",
       "      <td>NaN<\/td>\n",
       "      <td>Valeur<\/td>\n",
       "      <td>NaN<\/td>\n",
       "      <td>Stabilité politique et absence de violence\/ter...<\/td>\n",
       "      <td>NaN<\/td>\n",
       "      <td>NaN<\/td>\n",
       "      <td>indice<\/td>\n",
       "      <td>NaN<\/td>\n",
       "      <td>X<\/td>\n",
       "      <td>Ciffre de sources internationales<\/td>\n",
       "      <td>NaN<\/td>\n",
       "    <\/tr>\n",
       "    <tr>\n",
       "      <th>freq<\/th>\n",
       "      <td>197<\/td>\n",
       "      <td>197<\/td>\n",
       "      <td>NaN<\/td>\n",
       "      <td>1<\/td>\n",
       "      <td>NaN<\/td>\n",
       "      <td>197<\/td>\n",
       "      <td>NaN<\/td>\n",
       "      <td>197<\/td>\n",
       "      <td>NaN<\/td>\n",
       "      <td>NaN<\/td>\n",
       "      <td>197<\/td>\n",
       "      <td>NaN<\/td>\n",
       "      <td>197<\/td>\n",
       "      <td>197<\/td>\n",
       "      <td>NaN<\/td>\n",
       "    <\/tr>\n",
       "    <tr>\n",
       "      <th>mean<\/th>\n",
       "      <td>NaN<\/td>\n",
       "      <td>NaN<\/td>\n",
       "      <td>426.883249<\/td>\n",
       "      <td>NaN<\/td>\n",
       "      <td>6125.0<\/td>\n",
       "      <td>NaN<\/td>\n",
       "      <td>21032.0<\/td>\n",
       "      <td>NaN<\/td>\n",
       "      <td>2017.0<\/td>\n",
       "      <td>2017.0<\/td>\n",
       "      <td>NaN<\/td>\n",
       "      <td>-0.061777<\/td>\n",
       "      <td>NaN<\/td>\n",
       "      <td>NaN<\/td>\n",
       "      <td>NaN<\/td>\n",
       "    <\/tr>\n",
       "    <tr>\n",
       "      <th>std<\/th>\n",
       "      <td>NaN<\/td>\n",
       "      <td>NaN<\/td>\n",
       "      <td>255.157278<\/td>\n",
       "      <td>NaN<\/td>\n",
       "      <td>0.0<\/td>\n",
       "      <td>NaN<\/td>\n",
       "      <td>0.0<\/td>\n",
       "      <td>NaN<\/td>\n",
       "      <td>0.0<\/td>\n",
       "      <td>0.0<\/td>\n",
       "      <td>NaN<\/td>\n",
       "      <td>0.994815<\/td>\n",
       "      <td>NaN<\/td>\n",
       "      <td>NaN<\/td>\n",
       "      <td>NaN<\/td>\n",
       "    <\/tr>\n",
       "    <tr>\n",
       "      <th>min<\/th>\n",
       "      <td>NaN<\/td>\n",
       "      <td>NaN<\/td>\n",
       "      <td>4.000000<\/td>\n",
       "      <td>NaN<\/td>\n",
       "      <td>6125.0<\/td>\n",
       "      <td>NaN<\/td>\n",
       "      <td>21032.0<\/td>\n",
       "      <td>NaN<\/td>\n",
       "      <td>2017.0<\/td>\n",
       "      <td>2017.0<\/td>\n",
       "      <td>NaN<\/td>\n",
       "      <td>-2.940000<\/td>\n",
       "      <td>NaN<\/td>\n",
       "      <td>NaN<\/td>\n",
       "      <td>NaN<\/td>\n",
       "    <\/tr>\n",
       "    <tr>\n",
       "      <th>25%<\/th>\n",
       "      <td>NaN<\/td>\n",
       "      <td>NaN<\/td>\n",
       "      <td>208.000000<\/td>\n",
       "      <td>NaN<\/td>\n",
       "      <td>6125.0<\/td>\n",
       "      <td>NaN<\/td>\n",
       "      <td>21032.0<\/td>\n",
       "      <td>NaN<\/td>\n",
       "      <td>2017.0<\/td>\n",
       "      <td>2017.0<\/td>\n",
       "      <td>NaN<\/td>\n",
       "      <td>-0.650000<\/td>\n",
       "      <td>NaN<\/td>\n",
       "      <td>NaN<\/td>\n",
       "      <td>NaN<\/td>\n",
       "    <\/tr>\n",
       "    <tr>\n",
       "      <th>50%<\/th>\n",
       "      <td>NaN<\/td>\n",
       "      <td>NaN<\/td>\n",
       "      <td>422.000000<\/td>\n",
       "      <td>NaN<\/td>\n",
       "      <td>6125.0<\/td>\n",
       "      <td>NaN<\/td>\n",
       "      <td>21032.0<\/td>\n",
       "      <td>NaN<\/td>\n",
       "      <td>2017.0<\/td>\n",
       "      <td>2017.0<\/td>\n",
       "      <td>NaN<\/td>\n",
       "      <td>0.040000<\/td>\n",
       "      <td>NaN<\/td>\n",
       "      <td>NaN<\/td>\n",
       "      <td>NaN<\/td>\n",
       "    <\/tr>\n",
       "    <tr>\n",
       "      <th>75%<\/th>\n",
       "      <td>NaN<\/td>\n",
       "      <td>NaN<\/td>\n",
       "      <td>643.000000<\/td>\n",
       "      <td>NaN<\/td>\n",
       "      <td>6125.0<\/td>\n",
       "      <td>NaN<\/td>\n",
       "      <td>21032.0<\/td>\n",
       "      <td>NaN<\/td>\n",
       "      <td>2017.0<\/td>\n",
       "      <td>2017.0<\/td>\n",
       "      <td>NaN<\/td>\n",
       "      <td>0.770000<\/td>\n",
       "      <td>NaN<\/td>\n",
       "      <td>NaN<\/td>\n",
       "      <td>NaN<\/td>\n",
       "    <\/tr>\n",
       "    <tr>\n",
       "      <th>max<\/th>\n",
       "      <td>NaN<\/td>\n",
       "      <td>NaN<\/td>\n",
       "      <td>894.000000<\/td>\n",
       "      <td>NaN<\/td>\n",
       "      <td>6125.0<\/td>\n",
       "      <td>NaN<\/td>\n",
       "      <td>21032.0<\/td>\n",
       "      <td>NaN<\/td>\n",
       "      <td>2017.0<\/td>\n",
       "      <td>2017.0<\/td>\n",
       "      <td>NaN<\/td>\n",
       "      <td>1.920000<\/td>\n",
       "      <td>NaN<\/td>\n",
       "      <td>NaN<\/td>\n",
       "      <td>NaN<\/td>\n",
       "    <\/tr>\n",
       "  <\/tbody>\n",
       "<\/table>\n",
       "<\/div>"
      ]
     },
     "metadata":{
      
     },
     "output_type":"display_data"
    }
   ],
   "metadata":{
    "datalore":{
     "node_id":"7aQfsdKQfxwqOHOAkchcss",
     "type":"CODE",
     "hide_input_from_viewers":true,
     "hide_output_from_viewers":true
    }
   }
  },
  {
   "cell_type":"markdown",
   "source":[
    "On peut s'apercevoir que l'on a encore des variables qui sont des constantes et que l'on a toujours la partie code qui correspond à la variable d'après. On va voir un petit peu les types de variables."
   ],
   "attachments":{
    
   },
   "metadata":{
    "datalore":{
     "node_id":"sMYeGDqYVU4htKMifTBxmT",
     "type":"MD",
     "hide_input_from_viewers":true,
     "hide_output_from_viewers":true
    }
   }
  },
  {
   "cell_type":"code",
   "source":[
    "df_stabilite_politique.info()"
   ],
   "execution_count":35,
   "outputs":[
    {
     "name":"stdout",
     "text":[
      "<class 'pandas.core.frame.DataFrame'>\n",
      "RangeIndex: 197 entries, 0 to 196\n",
      "Data columns (total 15 columns):\n",
      " #   Column                  Non-Null Count  Dtype  \n",
      "---  ------                  --------------  -----  \n",
      " 0   Code Domaine            197 non-null    object \n",
      " 1   Domaine                 197 non-null    object \n",
      " 2   Code zone (M49)         197 non-null    int64  \n",
      " 3   Zone                    197 non-null    object \n",
      " 4   Code Élément            197 non-null    int64  \n",
      " 5   Élément                 197 non-null    object \n",
      " 6   Code Produit            197 non-null    int64  \n",
      " 7   Produit                 197 non-null    object \n",
      " 8   Code année              197 non-null    int64  \n",
      " 9   Année                   197 non-null    int64  \n",
      " 10  Unité                   197 non-null    object \n",
      " 11  Valeur                  197 non-null    float64\n",
      " 12  Symbole                 197 non-null    object \n",
      " 13  Description du Symbole  197 non-null    object \n",
      " 14  Note                    0 non-null      float64\n",
      "dtypes: float64(2), int64(5), object(8)\n",
      "memory usage: 23.2+ KB\n"
     ],
     "output_type":"stream"
    }
   ],
   "metadata":{
    "datalore":{
     "node_id":"kKklg24csXJ0IKZdrbMxDw",
     "type":"CODE",
     "hide_input_from_viewers":true,
     "hide_output_from_viewers":true
    }
   }
  },
  {
   "cell_type":"markdown",
   "source":[
    "On peut remplir le tableau suivant :\n",
    "\n",
    "\n",
    "|Variable|Type|Contexte|Utilité|Commentaire|\n",
    "|---|---|---|---|---|\n",
    "|Code Domaine  |Texte|Prend qu'une seule valeur|inutile|à supprimer|\n",
    "|Domaine|Texte|Prend qu'une seule valeur|inutile|à supprimer|\n",
    "|Code zone| Entier|Code associé à chaque pays|inutile|à supprimer|\n",
    "|Zone|Texte|nom du pays|clef de liaison|  |\n",
    "|Code Élément|Entier|Prend qu'une seule valeur|inutile|à supprimer|\n",
    "|Élément|Texte|Prend qu'une seule valeur|inutile|à supprimer|\n",
    "|Code Produit|Entier|Prend qu'une seule valeur|inutile|à supprimer|\n",
    "|Produit|Texte|Prend qu'une seule valeur|inutile|à supprimer|\n",
    "|Code année|Entier| Code associé à l'année|inutile|à supprimer|\n",
    "|Année|Année|année|doit correspondre au dataframe précédent|à filtrer sur 2017|\n",
    "|Unité|Texte|Unité de la valeur|inutile c'est un indice|à supprimer|\n",
    "|Valeur|Entier|Stabilité politique|valeur clef|  |\n",
    "|Symbole|Texte|Symbole associé au moyen d'obtenir la mesure|inutile|à supprimer|\n",
    "|Description du Symbole|Texte|moyen d'obtenir la mesure|inutile|à supprimer|\n",
    "|Note|Texte|Note|inutile|à supprimer|"
   ],
   "attachments":{
    
   },
   "metadata":{
    "datalore":{
     "node_id":"Ot3gGqnaALBklandp6YvqL",
     "type":"MD",
     "hide_input_from_viewers":true,
     "hide_output_from_viewers":true
    }
   }
  },
  {
   "cell_type":"markdown",
   "source":[
    "On utilise ce tableau pour réaliser le nettoyage et la préparation des données"
   ],
   "attachments":{
    
   },
   "metadata":{
    "datalore":{
     "node_id":"L3FFABDnm8cW1bFchV87Tl",
     "type":"MD",
     "hide_input_from_viewers":true,
     "hide_output_from_viewers":true
    }
   }
  },
  {
   "cell_type":"markdown",
   "source":[
    "### c - Nettoyage et préparation\n",
    "On va tout d'abord voir s'il y a des doublons"
   ],
   "attachments":{
    
   },
   "metadata":{
    "datalore":{
     "node_id":"yQC0aT0NJuvMQ2seBxnU2m",
     "type":"MD",
     "hide_input_from_viewers":true,
     "hide_output_from_viewers":true
    }
   }
  },
  {
   "cell_type":"code",
   "source":[
    "df_stabilite_politique.duplicated().sum()"
   ],
   "execution_count":36,
   "outputs":[
    {
     "data":{
      "text\/plain":[
       "0"
      ]
     },
     "metadata":{
      
     },
     "output_type":"display_data"
    }
   ],
   "metadata":{
    "datalore":{
     "node_id":"kAjDojz15sN01sNOWwovbd",
     "type":"CODE",
     "hide_input_from_viewers":true,
     "hide_output_from_viewers":true
    }
   }
  },
  {
   "cell_type":"markdown",
   "source":[
    "Il n'y a aucun doublon\n",
    "\n",
    "On va réaliser toutes les opérations que l'on est défini dans le tableau précédent."
   ],
   "attachments":{
    
   },
   "metadata":{
    "datalore":{
     "node_id":"Ro5y14yyZbiVzMySfqJiTN",
     "type":"MD",
     "hide_input_from_viewers":true,
     "hide_output_from_viewers":true
    }
   }
  },
  {
   "cell_type":"code",
   "source":[
    "df_stabilite_politique = df_stabilite_politique[['Zone', 'Valeur']].copy()\n",
    "\n",
    "df_stabilite_politique.rename(columns={'Valeur' : 'Stabilité politique'}, inplace=True)\n",
    "\n",
    "df_stabilite_politique"
   ],
   "execution_count":37,
   "outputs":[
    {
     "data":{
      "text\/html":[
       "<div>\n",
       "<style scoped>\n",
       "    .dataframe tbody tr th:only-of-type {\n",
       "        vertical-align: middle;\n",
       "    }\n",
       "\n",
       "    .dataframe tbody tr th {\n",
       "        vertical-align: top;\n",
       "    }\n",
       "\n",
       "    .dataframe thead th {\n",
       "        text-align: right;\n",
       "    }\n",
       "<\/style>\n",
       "<table border=\"1\" class=\"dataframe\">\n",
       "  <thead>\n",
       "    <tr style=\"text-align: right;\">\n",
       "      <th><\/th>\n",
       "      <th>Zone<\/th>\n",
       "      <th>Stabilité politique<\/th>\n",
       "    <\/tr>\n",
       "  <\/thead>\n",
       "  <tbody>\n",
       "    <tr>\n",
       "      <th>0<\/th>\n",
       "      <td>Afghanistan<\/td>\n",
       "      <td>-2.80<\/td>\n",
       "    <\/tr>\n",
       "    <tr>\n",
       "      <th>1<\/th>\n",
       "      <td>Afrique du Sud<\/td>\n",
       "      <td>-0.28<\/td>\n",
       "    <\/tr>\n",
       "    <tr>\n",
       "      <th>2<\/th>\n",
       "      <td>Albanie<\/td>\n",
       "      <td>0.38<\/td>\n",
       "    <\/tr>\n",
       "    <tr>\n",
       "      <th>3<\/th>\n",
       "      <td>Algérie<\/td>\n",
       "      <td>-0.92<\/td>\n",
       "    <\/tr>\n",
       "    <tr>\n",
       "      <th>4<\/th>\n",
       "      <td>Allemagne<\/td>\n",
       "      <td>0.59<\/td>\n",
       "    <\/tr>\n",
       "    <tr>\n",
       "      <th>...<\/th>\n",
       "      <td>...<\/td>\n",
       "      <td>...<\/td>\n",
       "    <\/tr>\n",
       "    <tr>\n",
       "      <th>192<\/th>\n",
       "      <td>Venezuela (République bolivarienne du)<\/td>\n",
       "      <td>-1.27<\/td>\n",
       "    <\/tr>\n",
       "    <tr>\n",
       "      <th>193<\/th>\n",
       "      <td>Viet Nam<\/td>\n",
       "      <td>0.23<\/td>\n",
       "    <\/tr>\n",
       "    <tr>\n",
       "      <th>194<\/th>\n",
       "      <td>Yémen<\/td>\n",
       "      <td>-2.94<\/td>\n",
       "    <\/tr>\n",
       "    <tr>\n",
       "      <th>195<\/th>\n",
       "      <td>Zambie<\/td>\n",
       "      <td>0.15<\/td>\n",
       "    <\/tr>\n",
       "    <tr>\n",
       "      <th>196<\/th>\n",
       "      <td>Zimbabwe<\/td>\n",
       "      <td>-0.71<\/td>\n",
       "    <\/tr>\n",
       "  <\/tbody>\n",
       "<\/table>\n",
       "<p>197 rows × 2 columns<\/p>\n",
       "<\/div>"
      ]
     },
     "metadata":{
      
     },
     "output_type":"display_data"
    }
   ],
   "metadata":{
    "datalore":{
     "node_id":"twxiPnhQARv4imLRferOeJ",
     "type":"CODE",
     "hide_input_from_viewers":true,
     "hide_output_from_viewers":true
    }
   }
  },
  {
   "cell_type":"markdown",
   "source":[
    "Maintenant que notre dataframe est propre, on va regarder les variables dans le détail."
   ],
   "attachments":{
    
   },
   "metadata":{
    "datalore":{
     "node_id":"yozF5frbR1Un8TUpMv2bZq",
     "type":"MD",
     "hide_input_from_viewers":true,
     "hide_output_from_viewers":true
    }
   }
  },
  {
   "cell_type":"markdown",
   "source":[
    "### d - Analyse univariée\n",
    "#### Stabilité politique"
   ],
   "attachments":{
    
   },
   "metadata":{
    "datalore":{
     "node_id":"i4Fnng8eVuEfUMPVSssZwZ",
     "type":"MD",
     "hide_input_from_viewers":true,
     "hide_output_from_viewers":true
    }
   }
  },
  {
   "cell_type":"code",
   "source":[
    "analyse_univarie(df_stabilite_politique, 'Stabilité politique')"
   ],
   "execution_count":38,
   "outputs":[
    {
     "name":"stdout",
     "text":[
      "Description rapide\n",
      "count    197.000000\n",
      "mean      -0.061777\n",
      "std        0.994815\n",
      "min       -2.940000\n",
      "25%       -0.650000\n",
      "50%        0.040000\n",
      "75%        0.770000\n",
      "max        1.920000\n",
      "Name: Stabilité politique, dtype: float64\n",
      "--------------------\n",
      "Évaluation de la distribution avec les coefficients d'assymétrie et de Kurtosis.\n",
      "Skewness: -0.672368084877596\n",
      "Kurtosis: 0.06484930155904367\n"
     ],
     "output_type":"stream"
    },
    {
     "data":{
      "application\/vnd.plotly.v1+json":{
       "data":[
        {
         "alignmentgroup":"True",
         "bingroup":"x",
         "hovertemplate":"Stabilité politique=%{x}<br>count=%{y}<extra><\/extra>",
         "legendgroup":"",
         "marker":{
          "color":"#636efa",
          "pattern":{
           "shape":""
          }
         },
         "name":"",
         "nbinsx":50,
         "offsetgroup":"",
         "orientation":"v",
         "showlegend":false,
         "x":[
          -2.8,
          -0.28,
          0.38,
          -0.92,
          0.59,
          1.42,
          -0.38,
          0.75,
          -0.64,
          0.17,
          -0.62,
          0.9,
          1.05,
          -0.75,
          0.99,
          -0.96,
          -1.26,
          0.97,
          -0.05,
          0.43,
          0.04,
          0.03,
          1,
          1.12,
          -0.28,
          -0.35,
          1.02,
          -0.47,
          1.16,
          0.33,
          -0.93,
          -2.01,
          0.77,
          0.09,
          -1.1,
          1.1,
          0.42,
          0.83,
          1.43,
          0.86,
          0.54,
          -0.77,
          0.04,
          -0.53,
          0.61,
          -1.09,
          0.69,
          0.65,
          0.87,
          -0.74,
          1.2,
          -1.42,
          -0.26,
          0.62,
          -0.07,
          -0.73,
          0.28,
          0.65,
          -0.27,
          0.29,
          -1.68,
          -0.64,
          0.62,
          1.08,
          0.28,
          -0.1,
          -0.08,
          -0.37,
          0.09,
          -0.07,
          1.01,
          1.92,
          -0.65,
          -0.7,
          -0.17,
          -0.5,
          -0.04,
          -0.67,
          -0.56,
          0.81,
          0.87,
          0.2,
          -0.76,
          -0.5,
          -0.93,
          -2.31,
          1,
          1.35,
          -0.89,
          0.31,
          0.31,
          1.11,
          -0.45,
          0.03,
          -1.13,
          -0.38,
          0.88,
          -0.05,
          -0.19,
          0.46,
          -1.63,
          -0.33,
          -2.36,
          0.78,
          1.33,
          -0.25,
          -0.3,
          0.12,
          -0.25,
          0.23,
          -1.91,
          1.25,
          -0.37,
          0.97,
          -0.63,
          -0.8,
          1.18,
          0.79,
          -0.06,
          -0.93,
          -1.08,
          0.63,
          0.52,
          -0.61,
          -0.05,
          -1.27,
          -2,
          1.17,
          1.6,
          0.75,
          -0.57,
          -0.24,
          -2.41,
          0.87,
          -1.66,
          0.39,
          -0.7,
          0,
          0.92,
          -0.26,
          -1.19,
          0.52,
          0.48,
          1.12,
          0.66,
          -2.62,
          -2.01,
          0.39,
          -0.32,
          -2.3,
          0.4,
          0.16,
          -0.5,
          -0.56,
          0.06,
          0.39,
          0.09,
          0.99,
          0.65,
          0.89,
          1.18,
          1.22,
          0.19,
          -0.05,
          0.09,
          0.79,
          -0.04,
          1.62,
          0.91,
          0.87,
          -2.26,
          -1.98,
          -2.45,
          -0.07,
          0.98,
          1.26,
          0.13,
          -0.67,
          -1.29,
          1,
          -0.75,
          0.07,
          -0.88,
          0.79,
          0.28,
          -1.02,
          -0.13,
          -1.79,
          1.24,
          -1.87,
          1.05,
          0.7,
          -1.27,
          0.23,
          -2.94,
          0.15,
          -0.71
         ],
         "xaxis":"x",
         "yaxis":"y",
         "type":"histogram"
        }
       ],
       "layout":{
        "template":{
         "data":{
          "bar":[
           {
            "error_x":{
             "color":"#2a3f5f"
            },
            "error_y":{
             "color":"#2a3f5f"
            },
            "marker":{
             "line":{
              "color":"#E5ECF6",
              "width":0.5
             },
             "pattern":{
              "fillmode":"overlay",
              "size":10,
              "solidity":0.2
             }
            },
            "type":"bar"
           }
          ],
          "barpolar":[
           {
            "marker":{
             "line":{
              "color":"#E5ECF6",
              "width":0.5
             },
             "pattern":{
              "fillmode":"overlay",
              "size":10,
              "solidity":0.2
             }
            },
            "type":"barpolar"
           }
          ],
          "carpet":[
           {
            "aaxis":{
             "endlinecolor":"#2a3f5f",
             "gridcolor":"white",
             "linecolor":"white",
             "minorgridcolor":"white",
             "startlinecolor":"#2a3f5f"
            },
            "baxis":{
             "endlinecolor":"#2a3f5f",
             "gridcolor":"white",
             "linecolor":"white",
             "minorgridcolor":"white",
             "startlinecolor":"#2a3f5f"
            },
            "type":"carpet"
           }
          ],
          "choropleth":[
           {
            "colorbar":{
             "outlinewidth":0,
             "ticks":""
            },
            "type":"choropleth"
           }
          ],
          "contour":[
           {
            "colorbar":{
             "outlinewidth":0,
             "ticks":""
            },
            "colorscale":[
             [
              0,
              "#0d0887"
             ],
             [
              0.1111111111111111,
              "#46039f"
             ],
             [
              0.2222222222222222,
              "#7201a8"
             ],
             [
              0.3333333333333333,
              "#9c179e"
             ],
             [
              0.4444444444444444,
              "#bd3786"
             ],
             [
              0.5555555555555556,
              "#d8576b"
             ],
             [
              0.6666666666666666,
              "#ed7953"
             ],
             [
              0.7777777777777778,
              "#fb9f3a"
             ],
             [
              0.8888888888888888,
              "#fdca26"
             ],
             [
              1,
              "#f0f921"
             ]
            ],
            "type":"contour"
           }
          ],
          "contourcarpet":[
           {
            "colorbar":{
             "outlinewidth":0,
             "ticks":""
            },
            "type":"contourcarpet"
           }
          ],
          "heatmap":[
           {
            "colorbar":{
             "outlinewidth":0,
             "ticks":""
            },
            "colorscale":[
             [
              0,
              "#0d0887"
             ],
             [
              0.1111111111111111,
              "#46039f"
             ],
             [
              0.2222222222222222,
              "#7201a8"
             ],
             [
              0.3333333333333333,
              "#9c179e"
             ],
             [
              0.4444444444444444,
              "#bd3786"
             ],
             [
              0.5555555555555556,
              "#d8576b"
             ],
             [
              0.6666666666666666,
              "#ed7953"
             ],
             [
              0.7777777777777778,
              "#fb9f3a"
             ],
             [
              0.8888888888888888,
              "#fdca26"
             ],
             [
              1,
              "#f0f921"
             ]
            ],
            "type":"heatmap"
           }
          ],
          "heatmapgl":[
           {
            "colorbar":{
             "outlinewidth":0,
             "ticks":""
            },
            "colorscale":[
             [
              0,
              "#0d0887"
             ],
             [
              0.1111111111111111,
              "#46039f"
             ],
             [
              0.2222222222222222,
              "#7201a8"
             ],
             [
              0.3333333333333333,
              "#9c179e"
             ],
             [
              0.4444444444444444,
              "#bd3786"
             ],
             [
              0.5555555555555556,
              "#d8576b"
             ],
             [
              0.6666666666666666,
              "#ed7953"
             ],
             [
              0.7777777777777778,
              "#fb9f3a"
             ],
             [
              0.8888888888888888,
              "#fdca26"
             ],
             [
              1,
              "#f0f921"
             ]
            ],
            "type":"heatmapgl"
           }
          ],
          "histogram":[
           {
            "marker":{
             "pattern":{
              "fillmode":"overlay",
              "size":10,
              "solidity":0.2
             }
            },
            "type":"histogram"
           }
          ],
          "histogram2d":[
           {
            "colorbar":{
             "outlinewidth":0,
             "ticks":""
            },
            "colorscale":[
             [
              0,
              "#0d0887"
             ],
             [
              0.1111111111111111,
              "#46039f"
             ],
             [
              0.2222222222222222,
              "#7201a8"
             ],
             [
              0.3333333333333333,
              "#9c179e"
             ],
             [
              0.4444444444444444,
              "#bd3786"
             ],
             [
              0.5555555555555556,
              "#d8576b"
             ],
             [
              0.6666666666666666,
              "#ed7953"
             ],
             [
              0.7777777777777778,
              "#fb9f3a"
             ],
             [
              0.8888888888888888,
              "#fdca26"
             ],
             [
              1,
              "#f0f921"
             ]
            ],
            "type":"histogram2d"
           }
          ],
          "histogram2dcontour":[
           {
            "colorbar":{
             "outlinewidth":0,
             "ticks":""
            },
            "colorscale":[
             [
              0,
              "#0d0887"
             ],
             [
              0.1111111111111111,
              "#46039f"
             ],
             [
              0.2222222222222222,
              "#7201a8"
             ],
             [
              0.3333333333333333,
              "#9c179e"
             ],
             [
              0.4444444444444444,
              "#bd3786"
             ],
             [
              0.5555555555555556,
              "#d8576b"
             ],
             [
              0.6666666666666666,
              "#ed7953"
             ],
             [
              0.7777777777777778,
              "#fb9f3a"
             ],
             [
              0.8888888888888888,
              "#fdca26"
             ],
             [
              1,
              "#f0f921"
             ]
            ],
            "type":"histogram2dcontour"
           }
          ],
          "mesh3d":[
           {
            "colorbar":{
             "outlinewidth":0,
             "ticks":""
            },
            "type":"mesh3d"
           }
          ],
          "parcoords":[
           {
            "line":{
             "colorbar":{
              "outlinewidth":0,
              "ticks":""
             }
            },
            "type":"parcoords"
           }
          ],
          "pie":[
           {
            "automargin":true,
            "type":"pie"
           }
          ],
          "scatter":[
           {
            "marker":{
             "colorbar":{
              "outlinewidth":0,
              "ticks":""
             }
            },
            "type":"scatter"
           }
          ],
          "scatter3d":[
           {
            "line":{
             "colorbar":{
              "outlinewidth":0,
              "ticks":""
             }
            },
            "marker":{
             "colorbar":{
              "outlinewidth":0,
              "ticks":""
             }
            },
            "type":"scatter3d"
           }
          ],
          "scattercarpet":[
           {
            "marker":{
             "colorbar":{
              "outlinewidth":0,
              "ticks":""
             }
            },
            "type":"scattercarpet"
           }
          ],
          "scattergeo":[
           {
            "marker":{
             "colorbar":{
              "outlinewidth":0,
              "ticks":""
             }
            },
            "type":"scattergeo"
           }
          ],
          "scattergl":[
           {
            "marker":{
             "colorbar":{
              "outlinewidth":0,
              "ticks":""
             }
            },
            "type":"scattergl"
           }
          ],
          "scattermapbox":[
           {
            "marker":{
             "colorbar":{
              "outlinewidth":0,
              "ticks":""
             }
            },
            "type":"scattermapbox"
           }
          ],
          "scatterpolar":[
           {
            "marker":{
             "colorbar":{
              "outlinewidth":0,
              "ticks":""
             }
            },
            "type":"scatterpolar"
           }
          ],
          "scatterpolargl":[
           {
            "marker":{
             "colorbar":{
              "outlinewidth":0,
              "ticks":""
             }
            },
            "type":"scatterpolargl"
           }
          ],
          "scatterternary":[
           {
            "marker":{
             "colorbar":{
              "outlinewidth":0,
              "ticks":""
             }
            },
            "type":"scatterternary"
           }
          ],
          "surface":[
           {
            "colorbar":{
             "outlinewidth":0,
             "ticks":""
            },
            "colorscale":[
             [
              0,
              "#0d0887"
             ],
             [
              0.1111111111111111,
              "#46039f"
             ],
             [
              0.2222222222222222,
              "#7201a8"
             ],
             [
              0.3333333333333333,
              "#9c179e"
             ],
             [
              0.4444444444444444,
              "#bd3786"
             ],
             [
              0.5555555555555556,
              "#d8576b"
             ],
             [
              0.6666666666666666,
              "#ed7953"
             ],
             [
              0.7777777777777778,
              "#fb9f3a"
             ],
             [
              0.8888888888888888,
              "#fdca26"
             ],
             [
              1,
              "#f0f921"
             ]
            ],
            "type":"surface"
           }
          ],
          "table":[
           {
            "cells":{
             "fill":{
              "color":"#EBF0F8"
             },
             "line":{
              "color":"white"
             }
            },
            "header":{
             "fill":{
              "color":"#C8D4E3"
             },
             "line":{
              "color":"white"
             }
            },
            "type":"table"
           }
          ]
         },
         "layout":{
          "annotationdefaults":{
           "arrowcolor":"#2a3f5f",
           "arrowhead":0,
           "arrowwidth":1
          },
          "autotypenumbers":"strict",
          "coloraxis":{
           "colorbar":{
            "outlinewidth":0,
            "ticks":""
           }
          },
          "colorscale":{
           "diverging":[
            [
             0,
             "#8e0152"
            ],
            [
             0.1,
             "#c51b7d"
            ],
            [
             0.2,
             "#de77ae"
            ],
            [
             0.3,
             "#f1b6da"
            ],
            [
             0.4,
             "#fde0ef"
            ],
            [
             0.5,
             "#f7f7f7"
            ],
            [
             0.6,
             "#e6f5d0"
            ],
            [
             0.7,
             "#b8e186"
            ],
            [
             0.8,
             "#7fbc41"
            ],
            [
             0.9,
             "#4d9221"
            ],
            [
             1,
             "#276419"
            ]
           ],
           "sequential":[
            [
             0,
             "#0d0887"
            ],
            [
             0.1111111111111111,
             "#46039f"
            ],
            [
             0.2222222222222222,
             "#7201a8"
            ],
            [
             0.3333333333333333,
             "#9c179e"
            ],
            [
             0.4444444444444444,
             "#bd3786"
            ],
            [
             0.5555555555555556,
             "#d8576b"
            ],
            [
             0.6666666666666666,
             "#ed7953"
            ],
            [
             0.7777777777777778,
             "#fb9f3a"
            ],
            [
             0.8888888888888888,
             "#fdca26"
            ],
            [
             1,
             "#f0f921"
            ]
           ],
           "sequentialminus":[
            [
             0,
             "#0d0887"
            ],
            [
             0.1111111111111111,
             "#46039f"
            ],
            [
             0.2222222222222222,
             "#7201a8"
            ],
            [
             0.3333333333333333,
             "#9c179e"
            ],
            [
             0.4444444444444444,
             "#bd3786"
            ],
            [
             0.5555555555555556,
             "#d8576b"
            ],
            [
             0.6666666666666666,
             "#ed7953"
            ],
            [
             0.7777777777777778,
             "#fb9f3a"
            ],
            [
             0.8888888888888888,
             "#fdca26"
            ],
            [
             1,
             "#f0f921"
            ]
           ]
          },
          "colorway":[
           "#636efa",
           "#EF553B",
           "#00cc96",
           "#ab63fa",
           "#FFA15A",
           "#19d3f3",
           "#FF6692",
           "#B6E880",
           "#FF97FF",
           "#FECB52"
          ],
          "font":{
           "color":"#2a3f5f"
          },
          "geo":{
           "bgcolor":"white",
           "lakecolor":"white",
           "landcolor":"#E5ECF6",
           "showlakes":true,
           "showland":true,
           "subunitcolor":"white"
          },
          "hoverlabel":{
           "align":"left"
          },
          "hovermode":"closest",
          "mapbox":{
           "style":"light"
          },
          "paper_bgcolor":"white",
          "plot_bgcolor":"#E5ECF6",
          "polar":{
           "angularaxis":{
            "gridcolor":"white",
            "linecolor":"white",
            "ticks":""
           },
           "bgcolor":"#E5ECF6",
           "radialaxis":{
            "gridcolor":"white",
            "linecolor":"white",
            "ticks":""
           }
          },
          "scene":{
           "xaxis":{
            "backgroundcolor":"#E5ECF6",
            "gridcolor":"white",
            "gridwidth":2,
            "linecolor":"white",
            "showbackground":true,
            "ticks":"",
            "zerolinecolor":"white"
           },
           "yaxis":{
            "backgroundcolor":"#E5ECF6",
            "gridcolor":"white",
            "gridwidth":2,
            "linecolor":"white",
            "showbackground":true,
            "ticks":"",
            "zerolinecolor":"white"
           },
           "zaxis":{
            "backgroundcolor":"#E5ECF6",
            "gridcolor":"white",
            "gridwidth":2,
            "linecolor":"white",
            "showbackground":true,
            "ticks":"",
            "zerolinecolor":"white"
           }
          },
          "shapedefaults":{
           "line":{
            "color":"#2a3f5f"
           }
          },
          "ternary":{
           "aaxis":{
            "gridcolor":"white",
            "linecolor":"white",
            "ticks":""
           },
           "baxis":{
            "gridcolor":"white",
            "linecolor":"white",
            "ticks":""
           },
           "bgcolor":"#E5ECF6",
           "caxis":{
            "gridcolor":"white",
            "linecolor":"white",
            "ticks":""
           }
          },
          "title":{
           "x":0.05
          },
          "xaxis":{
           "automargin":true,
           "gridcolor":"white",
           "linecolor":"white",
           "ticks":"",
           "title":{
            "standoff":15
           },
           "zerolinecolor":"white",
           "zerolinewidth":2
          },
          "yaxis":{
           "automargin":true,
           "gridcolor":"white",
           "linecolor":"white",
           "ticks":"",
           "title":{
            "standoff":15
           },
           "zerolinecolor":"white",
           "zerolinewidth":2
          }
         }
        },
        "xaxis":{
         "anchor":"y",
         "domain":[
          0,
          1
         ],
         "title":{
          "text":"Stabilité politique"
         }
        },
        "yaxis":{
         "anchor":"x",
         "domain":[
          0,
          1
         ],
         "title":{
          "text":"count"
         }
        },
        "legend":{
         "tracegroupgap":0
        },
        "margin":{
         "t":60
        },
        "barmode":"relative"
       },
       "config":{
        "plotlyServerURL":"https:\/\/plot.ly"
       }
      }
     },
     "metadata":{
      
     },
     "output_type":"display_data"
    }
   ],
   "metadata":{
    "datalore":{
     "node_id":"2s0hlOTCPxPVqiBOtMO1Uo",
     "type":"CODE",
     "hide_input_from_viewers":true,
     "hide_output_from_viewers":true
    }
   }
  },
  {
   "cell_type":"markdown",
   "source":[
    "On a une asymétrie négative qui nous indique que l'on a plus de pays avec une note positive que négative."
   ],
   "attachments":{
    
   },
   "metadata":{
    "datalore":{
     "node_id":"y5II2Kjyb7NTgWaBtqo3rE",
     "type":"MD",
     "hide_input_from_viewers":true,
     "hide_output_from_viewers":true
    }
   }
  },
  {
   "cell_type":"markdown",
   "source":[
    "## 1.4 - ISO3\n",
    "### a - Import"
   ],
   "attachments":{
    
   },
   "metadata":{
    "datalore":{
     "node_id":"vWRB36AMrxzlPNgekLkSsy",
     "type":"MD",
     "hide_input_from_viewers":true,
     "hide_output_from_viewers":true
    }
   }
  },
  {
   "cell_type":"code",
   "source":[
    "df_iso3 = pd.read_csv('FAOSTAT_data_ISO3.csv', sep= ',')\n",
    "\n",
    "df_iso3.head()"
   ],
   "execution_count":39,
   "outputs":[
    {
     "data":{
      "text\/html":[
       "<div>\n",
       "<style scoped>\n",
       "    .dataframe tbody tr th:only-of-type {\n",
       "        vertical-align: middle;\n",
       "    }\n",
       "\n",
       "    .dataframe tbody tr th {\n",
       "        vertical-align: top;\n",
       "    }\n",
       "\n",
       "    .dataframe thead th {\n",
       "        text-align: right;\n",
       "    }\n",
       "<\/style>\n",
       "<table border=\"1\" class=\"dataframe\">\n",
       "  <thead>\n",
       "    <tr style=\"text-align: right;\">\n",
       "      <th><\/th>\n",
       "      <th>Code Groupe de pays<\/th>\n",
       "      <th>Groupe de pays<\/th>\n",
       "      <th>Code Pays<\/th>\n",
       "      <th>Pays<\/th>\n",
       "      <th>Code M49<\/th>\n",
       "      <th>Code ISO2<\/th>\n",
       "      <th>Code ISO3<\/th>\n",
       "    <\/tr>\n",
       "  <\/thead>\n",
       "  <tbody>\n",
       "    <tr>\n",
       "      <th>0<\/th>\n",
       "      <td>5100<\/td>\n",
       "      <td>Afrique<\/td>\n",
       "      <td>616<\/td>\n",
       "      <td>Afrique de l'Ouest, non spécifié<\/td>\n",
       "      <td>875.0<\/td>\n",
       "      <td>F616<\/td>\n",
       "      <td>F616<\/td>\n",
       "    <\/tr>\n",
       "    <tr>\n",
       "      <th>1<\/th>\n",
       "      <td>5100<\/td>\n",
       "      <td>Afrique<\/td>\n",
       "      <td>202<\/td>\n",
       "      <td>Afrique du Sud<\/td>\n",
       "      <td>710.0<\/td>\n",
       "      <td>ZA<\/td>\n",
       "      <td>ZAF<\/td>\n",
       "    <\/tr>\n",
       "    <tr>\n",
       "      <th>2<\/th>\n",
       "      <td>5100<\/td>\n",
       "      <td>Afrique<\/td>\n",
       "      <td>4<\/td>\n",
       "      <td>Algérie<\/td>\n",
       "      <td>12.0<\/td>\n",
       "      <td>DZ<\/td>\n",
       "      <td>DZA<\/td>\n",
       "    <\/tr>\n",
       "    <tr>\n",
       "      <th>3<\/th>\n",
       "      <td>5100<\/td>\n",
       "      <td>Afrique<\/td>\n",
       "      <td>7<\/td>\n",
       "      <td>Angola<\/td>\n",
       "      <td>24.0<\/td>\n",
       "      <td>AO<\/td>\n",
       "      <td>AGO<\/td>\n",
       "    <\/tr>\n",
       "    <tr>\n",
       "      <th>4<\/th>\n",
       "      <td>5100<\/td>\n",
       "      <td>Afrique<\/td>\n",
       "      <td>24<\/td>\n",
       "      <td>Archipel des Chagos<\/td>\n",
       "      <td>86.0<\/td>\n",
       "      <td>IO<\/td>\n",
       "      <td>IOT<\/td>\n",
       "    <\/tr>\n",
       "  <\/tbody>\n",
       "<\/table>\n",
       "<\/div>"
      ]
     },
     "metadata":{
      
     },
     "output_type":"display_data"
    }
   ],
   "metadata":{
    "datalore":{
     "node_id":"rojV4De8RVsBYgsQq9DTdL",
     "type":"CODE",
     "hide_input_from_viewers":true,
     "hide_output_from_viewers":true
    }
   }
  },
  {
   "cell_type":"markdown",
   "source":[
    "### b - Description\n",
    "Ici, on va voir en détail un petit peu, notre jeu de données et les variables qu'il contient."
   ],
   "attachments":{
    
   },
   "metadata":{
    "datalore":{
     "node_id":"bsaTM2nY1oCg9pXlMzZFG1",
     "type":"MD",
     "hide_input_from_viewers":true,
     "hide_output_from_viewers":true
    }
   }
  },
  {
   "cell_type":"code",
   "source":[
    "df_iso3.shape"
   ],
   "execution_count":40,
   "outputs":[
    {
     "data":{
      "text\/plain":[
       "(1941, 7)"
      ]
     },
     "metadata":{
      
     },
     "output_type":"display_data"
    }
   ],
   "metadata":{
    "datalore":{
     "node_id":"QwA43RTSEfWfVeNrEcXPkJ",
     "type":"CODE",
     "hide_input_from_viewers":true,
     "hide_output_from_viewers":true
    }
   }
  },
  {
   "cell_type":"markdown",
   "source":[
    "Nous avons 7 variables et 1 941 lignes."
   ],
   "attachments":{
    
   },
   "metadata":{
    "datalore":{
     "node_id":"OnBTYGeTSCOzkoz6L1SC6c",
     "type":"MD",
     "hide_input_from_viewers":true,
     "hide_output_from_viewers":true
    }
   }
  },
  {
   "cell_type":"code",
   "source":[
    "df_iso3.describe(include='all')"
   ],
   "execution_count":41,
   "outputs":[
    {
     "data":{
      "text\/html":[
       "<div>\n",
       "<style scoped>\n",
       "    .dataframe tbody tr th:only-of-type {\n",
       "        vertical-align: middle;\n",
       "    }\n",
       "\n",
       "    .dataframe tbody tr th {\n",
       "        vertical-align: top;\n",
       "    }\n",
       "\n",
       "    .dataframe thead th {\n",
       "        text-align: right;\n",
       "    }\n",
       "<\/style>\n",
       "<table border=\"1\" class=\"dataframe\">\n",
       "  <thead>\n",
       "    <tr style=\"text-align: right;\">\n",
       "      <th><\/th>\n",
       "      <th>Code Groupe de pays<\/th>\n",
       "      <th>Groupe de pays<\/th>\n",
       "      <th>Code Pays<\/th>\n",
       "      <th>Pays<\/th>\n",
       "      <th>Code M49<\/th>\n",
       "      <th>Code ISO2<\/th>\n",
       "      <th>Code ISO3<\/th>\n",
       "    <\/tr>\n",
       "  <\/thead>\n",
       "  <tbody>\n",
       "    <tr>\n",
       "      <th>count<\/th>\n",
       "      <td>1941.000000<\/td>\n",
       "      <td>1941<\/td>\n",
       "      <td>1941.000000<\/td>\n",
       "      <td>1941<\/td>\n",
       "      <td>1941.000000<\/td>\n",
       "      <td>1933<\/td>\n",
       "      <td>1941<\/td>\n",
       "    <\/tr>\n",
       "    <tr>\n",
       "      <th>unique<\/th>\n",
       "      <td>NaN<\/td>\n",
       "      <td>57<\/td>\n",
       "      <td>NaN<\/td>\n",
       "      <td>277<\/td>\n",
       "      <td>NaN<\/td>\n",
       "      <td>276<\/td>\n",
       "      <td>277<\/td>\n",
       "    <\/tr>\n",
       "    <tr>\n",
       "      <th>top<\/th>\n",
       "      <td>NaN<\/td>\n",
       "      <td>Monde<\/td>\n",
       "      <td>NaN<\/td>\n",
       "      <td>Rwanda<\/td>\n",
       "      <td>NaN<\/td>\n",
       "      <td>ST<\/td>\n",
       "      <td>RWA<\/td>\n",
       "    <\/tr>\n",
       "    <tr>\n",
       "      <th>freq<\/th>\n",
       "      <td>NaN<\/td>\n",
       "      <td>277<\/td>\n",
       "      <td>NaN<\/td>\n",
       "      <td>11<\/td>\n",
       "      <td>NaN<\/td>\n",
       "      <td>11<\/td>\n",
       "      <td>11<\/td>\n",
       "    <\/tr>\n",
       "    <tr>\n",
       "      <th>mean<\/th>\n",
       "      <td>5498.591963<\/td>\n",
       "      <td>NaN<\/td>\n",
       "      <td>142.163318<\/td>\n",
       "      <td>NaN<\/td>\n",
       "      <td>437.891886<\/td>\n",
       "      <td>NaN<\/td>\n",
       "      <td>NaN<\/td>\n",
       "    <\/tr>\n",
       "    <tr>\n",
       "      <th>std<\/th>\n",
       "      <td>1362.003105<\/td>\n",
       "      <td>NaN<\/td>\n",
       "      <td>96.454843<\/td>\n",
       "      <td>NaN<\/td>\n",
       "      <td>256.051735<\/td>\n",
       "      <td>NaN<\/td>\n",
       "      <td>NaN<\/td>\n",
       "    <\/tr>\n",
       "    <tr>\n",
       "      <th>min<\/th>\n",
       "      <td>336.000000<\/td>\n",
       "      <td>NaN<\/td>\n",
       "      <td>1.000000<\/td>\n",
       "      <td>NaN<\/td>\n",
       "      <td>4.000000<\/td>\n",
       "      <td>NaN<\/td>\n",
       "      <td>NaN<\/td>\n",
       "    <\/tr>\n",
       "    <tr>\n",
       "      <th>25%<\/th>\n",
       "      <td>5200.000000<\/td>\n",
       "      <td>NaN<\/td>\n",
       "      <td>69.000000<\/td>\n",
       "      <td>NaN<\/td>\n",
       "      <td>214.000000<\/td>\n",
       "      <td>NaN<\/td>\n",
       "      <td>NaN<\/td>\n",
       "    <\/tr>\n",
       "    <tr>\n",
       "      <th>50%<\/th>\n",
       "      <td>5403.000000<\/td>\n",
       "      <td>NaN<\/td>\n",
       "      <td>136.000000<\/td>\n",
       "      <td>NaN<\/td>\n",
       "      <td>434.000000<\/td>\n",
       "      <td>NaN<\/td>\n",
       "      <td>NaN<\/td>\n",
       "    <\/tr>\n",
       "    <tr>\n",
       "      <th>75%<\/th>\n",
       "      <td>5848.000000<\/td>\n",
       "      <td>NaN<\/td>\n",
       "      <td>202.000000<\/td>\n",
       "      <td>NaN<\/td>\n",
       "      <td>662.000000<\/td>\n",
       "      <td>NaN<\/td>\n",
       "      <td>NaN<\/td>\n",
       "    <\/tr>\n",
       "    <tr>\n",
       "      <th>max<\/th>\n",
       "      <td>9011.000000<\/td>\n",
       "      <td>NaN<\/td>\n",
       "      <td>622.000000<\/td>\n",
       "      <td>NaN<\/td>\n",
       "      <td>894.000000<\/td>\n",
       "      <td>NaN<\/td>\n",
       "      <td>NaN<\/td>\n",
       "    <\/tr>\n",
       "  <\/tbody>\n",
       "<\/table>\n",
       "<\/div>"
      ]
     },
     "metadata":{
      
     },
     "output_type":"display_data"
    }
   ],
   "metadata":{
    "datalore":{
     "node_id":"FSG9XehvwqWQDnC0DADdPg",
     "type":"CODE",
     "hide_input_from_viewers":true,
     "hide_output_from_viewers":true
    }
   }
  },
  {
   "cell_type":"code",
   "source":[
    "df_iso3.info()"
   ],
   "execution_count":42,
   "outputs":[
    {
     "name":"stdout",
     "text":[
      "<class 'pandas.core.frame.DataFrame'>\n",
      "RangeIndex: 1941 entries, 0 to 1940\n",
      "Data columns (total 7 columns):\n",
      " #   Column               Non-Null Count  Dtype  \n",
      "---  ------               --------------  -----  \n",
      " 0   Code Groupe de pays  1941 non-null   int64  \n",
      " 1   Groupe de pays       1941 non-null   object \n",
      " 2   Code Pays            1941 non-null   int64  \n",
      " 3   Pays                 1941 non-null   object \n",
      " 4   Code M49             1941 non-null   float64\n",
      " 5   Code ISO2            1933 non-null   object \n",
      " 6   Code ISO3            1941 non-null   object \n",
      "dtypes: float64(1), int64(2), object(4)\n",
      "memory usage: 106.3+ KB\n"
     ],
     "output_type":"stream"
    }
   ],
   "metadata":{
    "datalore":{
     "node_id":"LTxG3MxePrpmwu46vIvYWU",
     "type":"CODE",
     "hide_input_from_viewers":true,
     "hide_output_from_viewers":true
    }
   }
  },
  {
   "cell_type":"markdown",
   "source":[
    "On peut remplir le tableau suivant :\n",
    "\n",
    "\n",
    "|Variable|Type|Contexte|Utilité|Commentaire|\n",
    "|---|---|---|---|---|\n",
    "|Code Groupe de pays  |Entier|Code associé à un classement des pays|inutile|à supprimer|\n",
    "|Groupe de pays  |Texte|classement des pays|inutile|à supprimer|\n",
    "|Code Pays| Entier|Code associé à chaque pays|inutile|à supprimer|\n",
    "|Pays|Texte|nom du pays|clef de liaison|à renommer|\n",
    "|Code M49  |Float |Code M49|inutile|à supprimer|\n",
    "|Code ISO2  |Texte|Code ISO2|inutile|à supprimer|\n",
    "|Code ISO3  |Texte|Code ISO3|Variable qui nous intéresse | |"
   ],
   "attachments":{
    
   },
   "metadata":{
    "datalore":{
     "node_id":"XgBBvrurZTJQY7lspf3zu4",
     "type":"MD",
     "hide_input_from_viewers":true,
     "hide_output_from_viewers":true
    }
   }
  },
  {
   "cell_type":"markdown",
   "source":[
    "On utilise ce tableau pour réaliser le nettoyage et la préparation des données"
   ],
   "attachments":{
    
   },
   "metadata":{
    "datalore":{
     "node_id":"vzyyWZeLWu7f6k7Cn4pGfK",
     "type":"MD",
     "hide_input_from_viewers":true,
     "hide_output_from_viewers":true
    }
   }
  },
  {
   "cell_type":"markdown",
   "source":[
    "### c - Nettoyage et préparation\n",
    "On va tout d'abord voir s'il y a des doublons."
   ],
   "attachments":{
    
   },
   "metadata":{
    "datalore":{
     "node_id":"fLz8AOfS15BW8kPYktIHAl",
     "type":"MD",
     "hide_input_from_viewers":true,
     "hide_output_from_viewers":true
    }
   }
  },
  {
   "cell_type":"code",
   "source":[
    "df_iso3.duplicated().sum()"
   ],
   "execution_count":43,
   "outputs":[
    {
     "data":{
      "text\/plain":[
       "0"
      ]
     },
     "metadata":{
      
     },
     "output_type":"display_data"
    }
   ],
   "metadata":{
    "datalore":{
     "node_id":"8xpC2lwVxDUxwPpGEQgHEV",
     "type":"CODE",
     "hide_input_from_viewers":true,
     "hide_output_from_viewers":true
    }
   }
  },
  {
   "cell_type":"markdown",
   "source":[
    "Il n'y a aucun doublon.\n",
    "\n",
    "On va réaliser toutes les opérations que l'on est défini dans le tableau précédent."
   ],
   "attachments":{
    
   },
   "metadata":{
    "datalore":{
     "node_id":"kRihh0EPJ3hbYt4fAriCBl",
     "type":"MD",
     "hide_input_from_viewers":true,
     "hide_output_from_viewers":true
    }
   }
  },
  {
   "cell_type":"code",
   "source":[
    "df_iso3 = df_iso3[['Pays', 'Code ISO3']].copy()\n",
    "\n",
    "df_iso3.rename(columns= {'Pays' : 'Zone'}, inplace= True)\n",
    "\n",
    "df_iso3"
   ],
   "execution_count":44,
   "outputs":[
    {
     "data":{
      "text\/html":[
       "<div>\n",
       "<style scoped>\n",
       "    .dataframe tbody tr th:only-of-type {\n",
       "        vertical-align: middle;\n",
       "    }\n",
       "\n",
       "    .dataframe tbody tr th {\n",
       "        vertical-align: top;\n",
       "    }\n",
       "\n",
       "    .dataframe thead th {\n",
       "        text-align: right;\n",
       "    }\n",
       "<\/style>\n",
       "<table border=\"1\" class=\"dataframe\">\n",
       "  <thead>\n",
       "    <tr style=\"text-align: right;\">\n",
       "      <th><\/th>\n",
       "      <th>Zone<\/th>\n",
       "      <th>Code ISO3<\/th>\n",
       "    <\/tr>\n",
       "  <\/thead>\n",
       "  <tbody>\n",
       "    <tr>\n",
       "      <th>0<\/th>\n",
       "      <td>Afrique de l'Ouest, non spécifié<\/td>\n",
       "      <td>F616<\/td>\n",
       "    <\/tr>\n",
       "    <tr>\n",
       "      <th>1<\/th>\n",
       "      <td>Afrique du Sud<\/td>\n",
       "      <td>ZAF<\/td>\n",
       "    <\/tr>\n",
       "    <tr>\n",
       "      <th>2<\/th>\n",
       "      <td>Algérie<\/td>\n",
       "      <td>DZA<\/td>\n",
       "    <\/tr>\n",
       "    <tr>\n",
       "      <th>3<\/th>\n",
       "      <td>Angola<\/td>\n",
       "      <td>AGO<\/td>\n",
       "    <\/tr>\n",
       "    <tr>\n",
       "      <th>4<\/th>\n",
       "      <td>Archipel des Chagos<\/td>\n",
       "      <td>IOT<\/td>\n",
       "    <\/tr>\n",
       "    <tr>\n",
       "      <th>...<\/th>\n",
       "      <td>...<\/td>\n",
       "      <td>...<\/td>\n",
       "    <\/tr>\n",
       "    <tr>\n",
       "      <th>1936<\/th>\n",
       "      <td>Palestine<\/td>\n",
       "      <td>PSE<\/td>\n",
       "    <\/tr>\n",
       "    <tr>\n",
       "      <th>1937<\/th>\n",
       "      <td>Qatar<\/td>\n",
       "      <td>QAT<\/td>\n",
       "    <\/tr>\n",
       "    <tr>\n",
       "      <th>1938<\/th>\n",
       "      <td>République arabe syrienne<\/td>\n",
       "      <td>SYR<\/td>\n",
       "    <\/tr>\n",
       "    <tr>\n",
       "      <th>1939<\/th>\n",
       "      <td>Turquie<\/td>\n",
       "      <td>TUR<\/td>\n",
       "    <\/tr>\n",
       "    <tr>\n",
       "      <th>1940<\/th>\n",
       "      <td>Yémen<\/td>\n",
       "      <td>YEM<\/td>\n",
       "    <\/tr>\n",
       "  <\/tbody>\n",
       "<\/table>\n",
       "<p>1941 rows × 2 columns<\/p>\n",
       "<\/div>"
      ]
     },
     "metadata":{
      
     },
     "output_type":"display_data"
    }
   ],
   "metadata":{
    "datalore":{
     "node_id":"3rW9oOj0e0eiQFO6u8khmf",
     "type":"CODE",
     "hide_input_from_viewers":true,
     "hide_output_from_viewers":true
    }
   }
  },
  {
   "cell_type":"markdown",
   "source":[
    "Nous avons un dataframe contenant 1 941 données, maintenant que l'on a simplifié le dataframe, on va avoir des doublons."
   ],
   "attachments":{
    
   },
   "metadata":{
    "datalore":{
     "node_id":"qpUNKDSuInVfp9JZvh5fu3",
     "type":"MD",
     "hide_input_from_viewers":true,
     "hide_output_from_viewers":true
    }
   }
  },
  {
   "cell_type":"code",
   "source":[
    "df_iso3.duplicated().sum()"
   ],
   "execution_count":45,
   "outputs":[
    {
     "data":{
      "text\/plain":[
       "1664"
      ]
     },
     "metadata":{
      
     },
     "output_type":"display_data"
    }
   ],
   "metadata":{
    "datalore":{
     "node_id":"HkrgUDcpgKPrWsLW4MdsaW",
     "type":"CODE",
     "hide_input_from_viewers":true,
     "hide_output_from_viewers":true
    }
   }
  },
  {
   "cell_type":"markdown",
   "source":[
    "Nous avons 1 664 doublons, on va donc les supprimer."
   ],
   "attachments":{
    
   },
   "metadata":{
    "datalore":{
     "node_id":"P4fqapRkNuQLGQGjxgocqB",
     "type":"MD",
     "hide_input_from_viewers":true,
     "hide_output_from_viewers":true
    }
   }
  },
  {
   "cell_type":"code",
   "source":[
    "df_iso3.drop_duplicates(keep='first', inplace= True)\n",
    "\n",
    "df_iso3.duplicated().sum()"
   ],
   "execution_count":46,
   "outputs":[
    {
     "data":{
      "text\/plain":[
       "0"
      ]
     },
     "metadata":{
      
     },
     "output_type":"display_data"
    }
   ],
   "metadata":{
    "datalore":{
     "node_id":"1SfTSRg135zDWnl6Xvutgs",
     "type":"CODE",
     "hide_input_from_viewers":true,
     "hide_output_from_viewers":true
    }
   }
  },
  {
   "cell_type":"markdown",
   "source":[
    "Maintenant notre dataframe est propre. Il n'y a pas d'analyse univariée à faire car ce dataframe est une table de correspondance entre les pays et leurs codes ISO3."
   ],
   "attachments":{
    
   },
   "metadata":{
    "datalore":{
     "node_id":"IK62QHv1KboaTJUrSTLw2z",
     "type":"MD",
     "hide_input_from_viewers":true,
     "hide_output_from_viewers":true
    }
   }
  },
  {
   "cell_type":"markdown",
   "source":[
    "## 1.5 - Doing Business\n",
    "### a - Import"
   ],
   "attachments":{
    
   },
   "metadata":{
    "datalore":{
     "node_id":"VgpMx3bZ4ZGP5ZzSz6ZXRr",
     "type":"MD",
     "hide_input_from_viewers":true,
     "hide_output_from_viewers":true
    }
   }
  },
  {
   "cell_type":"code",
   "source":[
    "df_doing_business = pd.read_csv('doing_business.csv', sep =';')\n",
    "\n",
    "df_doing_business.head()"
   ],
   "execution_count":47,
   "outputs":[
    {
     "data":{
      "text\/html":[
       "<div>\n",
       "<style scoped>\n",
       "    .dataframe tbody tr th:only-of-type {\n",
       "        vertical-align: middle;\n",
       "    }\n",
       "\n",
       "    .dataframe tbody tr th {\n",
       "        vertical-align: top;\n",
       "    }\n",
       "\n",
       "    .dataframe thead th {\n",
       "        text-align: right;\n",
       "    }\n",
       "<\/style>\n",
       "<table border=\"1\" class=\"dataframe\">\n",
       "  <thead>\n",
       "    <tr style=\"text-align: right;\">\n",
       "      <th><\/th>\n",
       "      <th>Country Code<\/th>\n",
       "      <th>Series Name<\/th>\n",
       "      <th>Series Code<\/th>\n",
       "      <th>2017 [YR2017]<\/th>\n",
       "    <\/tr>\n",
       "  <\/thead>\n",
       "  <tbody>\n",
       "    <tr>\n",
       "      <th>0<\/th>\n",
       "      <td>AFG<\/td>\n",
       "      <td>Global: Ease of doing business score (DB17-20 ...<\/td>\n",
       "      <td>IC.BUS.EASE.DFRN.XQ.DB1719<\/td>\n",
       "      <td>38.9<\/td>\n",
       "    <\/tr>\n",
       "    <tr>\n",
       "      <th>1<\/th>\n",
       "      <td>ALB<\/td>\n",
       "      <td>Global: Ease of doing business score (DB17-20 ...<\/td>\n",
       "      <td>IC.BUS.EASE.DFRN.XQ.DB1719<\/td>\n",
       "      <td>64.2<\/td>\n",
       "    <\/tr>\n",
       "    <tr>\n",
       "      <th>2<\/th>\n",
       "      <td>DZA<\/td>\n",
       "      <td>Global: Ease of doing business score (DB17-20 ...<\/td>\n",
       "      <td>IC.BUS.EASE.DFRN.XQ.DB1719<\/td>\n",
       "      <td>46.1<\/td>\n",
       "    <\/tr>\n",
       "    <tr>\n",
       "      <th>3<\/th>\n",
       "      <td>AGO<\/td>\n",
       "      <td>Global: Ease of doing business score (DB17-20 ...<\/td>\n",
       "      <td>IC.BUS.EASE.DFRN.XQ.DB1719<\/td>\n",
       "      <td>37.7<\/td>\n",
       "    <\/tr>\n",
       "    <tr>\n",
       "      <th>4<\/th>\n",
       "      <td>ATG<\/td>\n",
       "      <td>Global: Ease of doing business score (DB17-20 ...<\/td>\n",
       "      <td>IC.BUS.EASE.DFRN.XQ.DB1719<\/td>\n",
       "      <td>58.8<\/td>\n",
       "    <\/tr>\n",
       "  <\/tbody>\n",
       "<\/table>\n",
       "<\/div>"
      ]
     },
     "metadata":{
      
     },
     "output_type":"display_data"
    }
   ],
   "metadata":{
    "datalore":{
     "node_id":"tJuHMXUNTOxVEBf7YmRLv6",
     "type":"CODE",
     "hide_input_from_viewers":true,
     "hide_output_from_viewers":true
    }
   }
  },
  {
   "cell_type":"markdown",
   "source":[
    "### b - Description\n",
    "Ici, on va voir en détail un petit peu, notre jeu de données et les variables qu'il contient."
   ],
   "attachments":{
    
   },
   "metadata":{
    "datalore":{
     "node_id":"4yT4UOHgjjrVLG673AkSBq",
     "type":"MD",
     "hide_input_from_viewers":true,
     "hide_output_from_viewers":true
    }
   }
  },
  {
   "cell_type":"code",
   "source":[
    "df_doing_business.shape"
   ],
   "execution_count":48,
   "outputs":[
    {
     "data":{
      "text\/plain":[
       "(191, 4)"
      ]
     },
     "metadata":{
      
     },
     "output_type":"display_data"
    }
   ],
   "metadata":{
    "datalore":{
     "node_id":"eVvIS85N85xxpV3wXhWSjc",
     "type":"CODE",
     "hide_input_from_viewers":true,
     "hide_output_from_viewers":true
    }
   }
  },
  {
   "cell_type":"markdown",
   "source":[
    " nous avons 4 variables et 191 lignes"
   ],
   "attachments":{
    
   },
   "metadata":{
    "datalore":{
     "node_id":"61hS9YOEGOLGHqzHkZY4ss",
     "type":"MD",
     "hide_input_from_viewers":true,
     "hide_output_from_viewers":true
    }
   }
  },
  {
   "cell_type":"code",
   "source":[
    "df_doing_business.describe(include= 'all')"
   ],
   "execution_count":49,
   "outputs":[
    {
     "data":{
      "text\/html":[
       "<div>\n",
       "<style scoped>\n",
       "    .dataframe tbody tr th:only-of-type {\n",
       "        vertical-align: middle;\n",
       "    }\n",
       "\n",
       "    .dataframe tbody tr th {\n",
       "        vertical-align: top;\n",
       "    }\n",
       "\n",
       "    .dataframe thead th {\n",
       "        text-align: right;\n",
       "    }\n",
       "<\/style>\n",
       "<table border=\"1\" class=\"dataframe\">\n",
       "  <thead>\n",
       "    <tr style=\"text-align: right;\">\n",
       "      <th><\/th>\n",
       "      <th>Country Code<\/th>\n",
       "      <th>Series Name<\/th>\n",
       "      <th>Series Code<\/th>\n",
       "      <th>2017 [YR2017]<\/th>\n",
       "    <\/tr>\n",
       "  <\/thead>\n",
       "  <tbody>\n",
       "    <tr>\n",
       "      <th>count<\/th>\n",
       "      <td>191<\/td>\n",
       "      <td>191<\/td>\n",
       "      <td>191<\/td>\n",
       "      <td>191<\/td>\n",
       "    <\/tr>\n",
       "    <tr>\n",
       "      <th>unique<\/th>\n",
       "      <td>191<\/td>\n",
       "      <td>1<\/td>\n",
       "      <td>1<\/td>\n",
       "      <td>158<\/td>\n",
       "    <\/tr>\n",
       "    <tr>\n",
       "      <th>top<\/th>\n",
       "      <td>AFG<\/td>\n",
       "      <td>Global: Ease of doing business score (DB17-20 ...<\/td>\n",
       "      <td>IC.BUS.EASE.DFRN.XQ.DB1719<\/td>\n",
       "      <td>58<\/td>\n",
       "    <\/tr>\n",
       "    <tr>\n",
       "      <th>freq<\/th>\n",
       "      <td>1<\/td>\n",
       "      <td>191<\/td>\n",
       "      <td>191<\/td>\n",
       "      <td>4<\/td>\n",
       "    <\/tr>\n",
       "  <\/tbody>\n",
       "<\/table>\n",
       "<\/div>"
      ]
     },
     "metadata":{
      
     },
     "output_type":"display_data"
    }
   ],
   "metadata":{
    "datalore":{
     "node_id":"hy4txvnnXy52tP17zEwEg3",
     "type":"CODE",
     "hide_input_from_viewers":true,
     "hide_output_from_viewers":true
    }
   }
  },
  {
   "cell_type":"markdown",
   "source":[
    "On a 2 colonnes qui sont des constantes : `Series name` et `Series code`."
   ],
   "attachments":{
    
   },
   "metadata":{
    "datalore":{
     "node_id":"47yVwUF9zXRoENuBX5ukPk",
     "type":"MD",
     "hide_input_from_viewers":true,
     "hide_output_from_viewers":true
    }
   }
  },
  {
   "cell_type":"code",
   "source":[
    "df_doing_business.info()"
   ],
   "execution_count":50,
   "outputs":[
    {
     "name":"stdout",
     "text":[
      "<class 'pandas.core.frame.DataFrame'>\n",
      "RangeIndex: 191 entries, 0 to 190\n",
      "Data columns (total 4 columns):\n",
      " #   Column         Non-Null Count  Dtype \n",
      "---  ------         --------------  ----- \n",
      " 0   Country Code   191 non-null    object\n",
      " 1   Series Name    191 non-null    object\n",
      " 2   Series Code    191 non-null    object\n",
      " 3   2017 [YR2017]  191 non-null    object\n",
      "dtypes: object(4)\n",
      "memory usage: 6.1+ KB\n"
     ],
     "output_type":"stream"
    }
   ],
   "metadata":{
    "datalore":{
     "node_id":"hHODFKEfwyhG9S68RKWD3l",
     "type":"CODE",
     "hide_input_from_viewers":true,
     "hide_output_from_viewers":true
    }
   }
  },
  {
   "cell_type":"markdown",
   "source":[
    "On peut remplir le tableau suivant :\n",
    "\n",
    "\n",
    "|Variable|Type|Contexte|Utilité|Commentaire|\n",
    "|---|---|---|---|---|\n",
    "|Country code|Texte|Code ISO3|Clef de liaison|à renommer 'Code ISO3'|\n",
    "|Series Name|Texte|Constant|inutile|à supprimer|\n",
    "|Series code|Texte|Constant|inutile|à supprimer|\n",
    "|2017 [YR2017]|Texte|note du pays sur la facilité à faire du business avec|variable qui nous intéresse|à convertir en format numérique|"
   ],
   "attachments":{
    
   },
   "metadata":{
    "datalore":{
     "node_id":"2Mcgsuu5RFDZrhJvfi864N",
     "type":"MD",
     "hide_input_from_viewers":true,
     "hide_output_from_viewers":true
    }
   }
  },
  {
   "cell_type":"markdown",
   "source":[
    "On utilise ce tableau pour réaliser le nettoyage et la préparation des données"
   ],
   "attachments":{
    
   },
   "metadata":{
    "datalore":{
     "node_id":"Y3zvwfKtfLwTKUgF4Qv9AS",
     "type":"MD",
     "hide_input_from_viewers":true,
     "hide_output_from_viewers":true
    }
   }
  },
  {
   "cell_type":"markdown",
   "source":[
    "### c - Nettoyage et préparation\n",
    "On va tout d'abord voir s'il y a des doublons"
   ],
   "attachments":{
    
   },
   "metadata":{
    "datalore":{
     "node_id":"x1hrz7D1NRlP7QYUB7UOtq",
     "type":"MD",
     "hide_input_from_viewers":true,
     "hide_output_from_viewers":true
    }
   }
  },
  {
   "cell_type":"code",
   "source":[
    "df_doing_business.duplicated().sum()"
   ],
   "execution_count":51,
   "outputs":[
    {
     "data":{
      "text\/plain":[
       "0"
      ]
     },
     "metadata":{
      
     },
     "output_type":"display_data"
    }
   ],
   "metadata":{
    "datalore":{
     "node_id":"pJyen5wFPpPASWn4YtJcUW",
     "type":"CODE",
     "hide_input_from_viewers":true,
     "hide_output_from_viewers":true
    }
   }
  },
  {
   "cell_type":"markdown",
   "source":[
    "Il n'y a aucun doublon.\n",
    "\n",
    "On va réaliser toutes les opérations que l'on est défini dans le tableau précédent."
   ],
   "attachments":{
    
   },
   "metadata":{
    "datalore":{
     "node_id":"AALwUFritjf30Q3CvArykj",
     "type":"MD",
     "hide_input_from_viewers":true,
     "hide_output_from_viewers":true
    }
   }
  },
  {
   "cell_type":"code",
   "source":[
    "df_doing_business['2017 [YR2017]'] = pd.to_numeric(df_doing_business['2017 [YR2017]'], errors='coerce')\n",
    "\n",
    "df_doing_business.rename(columns={'2017 [YR2017]' : 'Facilité du Business',\n",
    "                                  'Country Code' : 'Code ISO3'}, inplace= True)\n",
    "\n",
    "df_doing_business.drop(columns=['Series Name','Series Code'], inplace= True)\n",
    "\n",
    "df_doing_business"
   ],
   "execution_count":52,
   "outputs":[
    {
     "data":{
      "text\/html":[
       "<div>\n",
       "<style scoped>\n",
       "    .dataframe tbody tr th:only-of-type {\n",
       "        vertical-align: middle;\n",
       "    }\n",
       "\n",
       "    .dataframe tbody tr th {\n",
       "        vertical-align: top;\n",
       "    }\n",
       "\n",
       "    .dataframe thead th {\n",
       "        text-align: right;\n",
       "    }\n",
       "<\/style>\n",
       "<table border=\"1\" class=\"dataframe\">\n",
       "  <thead>\n",
       "    <tr style=\"text-align: right;\">\n",
       "      <th><\/th>\n",
       "      <th>Code ISO3<\/th>\n",
       "      <th>Facilité du Business<\/th>\n",
       "    <\/tr>\n",
       "  <\/thead>\n",
       "  <tbody>\n",
       "    <tr>\n",
       "      <th>0<\/th>\n",
       "      <td>AFG<\/td>\n",
       "      <td>38.9<\/td>\n",
       "    <\/tr>\n",
       "    <tr>\n",
       "      <th>1<\/th>\n",
       "      <td>ALB<\/td>\n",
       "      <td>64.2<\/td>\n",
       "    <\/tr>\n",
       "    <tr>\n",
       "      <th>2<\/th>\n",
       "      <td>DZA<\/td>\n",
       "      <td>46.1<\/td>\n",
       "    <\/tr>\n",
       "    <tr>\n",
       "      <th>3<\/th>\n",
       "      <td>AGO<\/td>\n",
       "      <td>37.7<\/td>\n",
       "    <\/tr>\n",
       "    <tr>\n",
       "      <th>4<\/th>\n",
       "      <td>ATG<\/td>\n",
       "      <td>58.8<\/td>\n",
       "    <\/tr>\n",
       "    <tr>\n",
       "      <th>...<\/th>\n",
       "      <td>...<\/td>\n",
       "      <td>...<\/td>\n",
       "    <\/tr>\n",
       "    <tr>\n",
       "      <th>186<\/th>\n",
       "      <td>VNM<\/td>\n",
       "      <td>65.3<\/td>\n",
       "    <\/tr>\n",
       "    <tr>\n",
       "      <th>187<\/th>\n",
       "      <td>PSE<\/td>\n",
       "      <td>55.5<\/td>\n",
       "    <\/tr>\n",
       "    <tr>\n",
       "      <th>188<\/th>\n",
       "      <td>YEM<\/td>\n",
       "      <td>31.2<\/td>\n",
       "    <\/tr>\n",
       "    <tr>\n",
       "      <th>189<\/th>\n",
       "      <td>ZMB<\/td>\n",
       "      <td>60.3<\/td>\n",
       "    <\/tr>\n",
       "    <tr>\n",
       "      <th>190<\/th>\n",
       "      <td>ZWE<\/td>\n",
       "      <td>47.8<\/td>\n",
       "    <\/tr>\n",
       "  <\/tbody>\n",
       "<\/table>\n",
       "<p>191 rows × 2 columns<\/p>\n",
       "<\/div>"
      ]
     },
     "metadata":{
      
     },
     "output_type":"display_data"
    }
   ],
   "metadata":{
    "datalore":{
     "node_id":"5ksVdrh6BhCAQeDy8viMHD",
     "type":"CODE",
     "hide_input_from_viewers":true,
     "hide_output_from_viewers":true
    }
   }
  },
  {
   "cell_type":"markdown",
   "source":[
    "On regarde s'il y a des valeurs `NAN`` dans le jeu de données."
   ],
   "attachments":{
    
   },
   "metadata":{
    "datalore":{
     "node_id":"rmlCtBNuoUKZ04j0wq3HTb",
     "type":"MD",
     "hide_input_from_viewers":true,
     "hide_output_from_viewers":true
    }
   }
  },
  {
   "cell_type":"code",
   "source":[
    "df_doing_business[df_doing_business['Facilité du Business'].isna()]"
   ],
   "execution_count":53,
   "outputs":[
    {
     "data":{
      "text\/html":[
       "<div>\n",
       "<style scoped>\n",
       "    .dataframe tbody tr th:only-of-type {\n",
       "        vertical-align: middle;\n",
       "    }\n",
       "\n",
       "    .dataframe tbody tr th {\n",
       "        vertical-align: top;\n",
       "    }\n",
       "\n",
       "    .dataframe thead th {\n",
       "        text-align: right;\n",
       "    }\n",
       "<\/style>\n",
       "<table border=\"1\" class=\"dataframe\">\n",
       "  <thead>\n",
       "    <tr style=\"text-align: right;\">\n",
       "      <th><\/th>\n",
       "      <th>Code ISO3<\/th>\n",
       "      <th>Facilité du Business<\/th>\n",
       "    <\/tr>\n",
       "  <\/thead>\n",
       "  <tbody>\n",
       "    <tr>\n",
       "      <th>98<\/th>\n",
       "      <td>LIE<\/td>\n",
       "      <td>NaN<\/td>\n",
       "    <\/tr>\n",
       "  <\/tbody>\n",
       "<\/table>\n",
       "<\/div>"
      ]
     },
     "metadata":{
      
     },
     "output_type":"display_data"
    }
   ],
   "metadata":{
    "datalore":{
     "node_id":"0KrV332uO8Uie94nJApJvR",
     "type":"CODE",
     "hide_input_from_viewers":true,
     "hide_output_from_viewers":true
    }
   }
  },
  {
   "cell_type":"markdown",
   "source":[
    "Cela correspond à la principauté du Liechtenstein. Ce n'est pas un grand territoire. On va le laisser comme ça parce que je ne suis pas sûre que dans les autres DataFrame on est des  données sur cette principauté."
   ],
   "attachments":{
    
   },
   "metadata":{
    "datalore":{
     "node_id":"udWd2IgbxBowUeH0pLkhPS",
     "type":"MD",
     "hide_input_from_viewers":true,
     "hide_output_from_viewers":true
    }
   }
  },
  {
   "cell_type":"markdown",
   "source":[
    "Maintenant que notre dataframe est propre, on va regarder les variables dans le détail."
   ],
   "attachments":{
    
   },
   "metadata":{
    "datalore":{
     "node_id":"KPolVGvEXhUbGEkxcrrlE3",
     "type":"MD",
     "hide_input_from_viewers":true,
     "hide_output_from_viewers":true
    }
   }
  },
  {
   "cell_type":"markdown",
   "source":[
    "### d - Analyse univariée\n",
    "#### Facilité du Business"
   ],
   "attachments":{
    
   },
   "metadata":{
    "datalore":{
     "node_id":"714qkONB7sYlvSRQ7q4gMQ",
     "type":"MD",
     "hide_input_from_viewers":true,
     "hide_output_from_viewers":true
    }
   }
  },
  {
   "cell_type":"code",
   "source":[
    "analyse_univarie(df_doing_business,'Facilité du Business', nbins=20)"
   ],
   "execution_count":54,
   "outputs":[
    {
     "name":"stdout",
     "text":[
      "Description rapide\n",
      "count    190.000000\n",
      "mean      60.508947\n",
      "std       13.983273\n",
      "min       20.300000\n",
      "25%       50.925000\n",
      "50%       60.600000\n",
      "75%       71.750000\n",
      "max       87.200000\n",
      "Name: Facilité du Business, dtype: float64\n",
      "--------------------\n",
      "Évaluation de la distribution avec les coefficients d'assymétrie et de Kurtosis.\n",
      "Skewness: -0.28978725392208116\n",
      "Kurtosis: -0.37610420953690316\n"
     ],
     "output_type":"stream"
    },
    {
     "data":{
      "application\/vnd.plotly.v1+json":{
       "data":[
        {
         "alignmentgroup":"True",
         "bingroup":"x",
         "hovertemplate":"Facilité du Business=%{x}<br>count=%{y}<extra><\/extra>",
         "legendgroup":"",
         "marker":{
          "color":"#636efa",
          "pattern":{
           "shape":""
          }
         },
         "name":"",
         "nbinsx":20,
         "offsetgroup":"",
         "orientation":"v",
         "showlegend":false,
         "x":[
          38.9,
          64.2,
          46.1,
          37.7,
          58.8,
          57.2,
          70.6,
          80.2,
          78.9,
          64.3,
          56.9,
          68.7,
          41,
          57.8,
          72.6,
          72.4,
          55.4,
          49.7,
          65,
          50.2,
          64.8,
          65.6,
          55.2,
          62.9,
          71.6,
          50.9,
          45.7,
          53.4,
          53.2,
          41.8,
          79.5,
          32,
          36,
          71.6,
          64.6,
          69.2,
          46.4,
          34.4,
          38.5,
          67.7,
          51,
          72.2,
          72.3,
          76.4,
          84.6,
          47.2,
          61.2,
          57.7,
          57.5,
          55.5,
          62.7,
          38.5,
          20.9,
          80.7,
          58.4,
          44.1,
          61.3,
          80.1,
          76.3,
          43.7,
          47.8,
          80.8,
          79.6,
          58,
          67.1,
          53.4,
          62,
          46,
          42.8,
          56.4,
          37.7,
          55.7,
          84.8,
          71.4,
          79,
          55.9,
          64.7,
          55.7,
          44.1,
          80.1,
          74.2,
          71.8,
          67.3,
          77.9,
          57,
          74.8,
          62.8,
          46.7,
          84,
          64.9,
          60,
          61.3,
          49.1,
          80.6,
          54.5,
          58,
          40,
          32.5,
          null,
          79.2,
          69.2,
          42.7,
          53.2,
          78.3,
          52.4,
          52.6,
          64.8,
          50.9,
          46.9,
          76.5,
          72.4,
          48.1,
          72.5,
          66.1,
          71.2,
          69.2,
          52.1,
          42.7,
          60.1,
          58,
          75.6,
          87.2,
          54.2,
          49.3,
          48.5,
          80.6,
          82.4,
          68.1,
          52.5,
          53.2,
          64.7,
          59.3,
          58,
          67.5,
          59.3,
          77.7,
          76.7,
          69.3,
          65.4,
          72.9,
          75.3,
          69,
          60,
          61.9,
          44.3,
          59.4,
          50.3,
          73.3,
          60.5,
          47.2,
          85.4,
          75,
          75.4,
          55.1,
          20.3,
          65.4,
          32.7,
          77.6,
          59.8,
          54.4,
          63.5,
          57,
          44.8,
          47.4,
          82.2,
          76.4,
          41.4,
          80.3,
          53.4,
          53.9,
          72.8,
          38.2,
          48.1,
          61.1,
          61.3,
          65.5,
          69.4,
          57.3,
          65.4,
          77.4,
          83.3,
          83.6,
          60.7,
          62.1,
          60.9,
          31.1,
          65.3,
          55.5,
          31.2,
          60.3,
          47.8
         ],
         "xaxis":"x",
         "yaxis":"y",
         "type":"histogram"
        }
       ],
       "layout":{
        "template":{
         "data":{
          "bar":[
           {
            "error_x":{
             "color":"#2a3f5f"
            },
            "error_y":{
             "color":"#2a3f5f"
            },
            "marker":{
             "line":{
              "color":"#E5ECF6",
              "width":0.5
             },
             "pattern":{
              "fillmode":"overlay",
              "size":10,
              "solidity":0.2
             }
            },
            "type":"bar"
           }
          ],
          "barpolar":[
           {
            "marker":{
             "line":{
              "color":"#E5ECF6",
              "width":0.5
             },
             "pattern":{
              "fillmode":"overlay",
              "size":10,
              "solidity":0.2
             }
            },
            "type":"barpolar"
           }
          ],
          "carpet":[
           {
            "aaxis":{
             "endlinecolor":"#2a3f5f",
             "gridcolor":"white",
             "linecolor":"white",
             "minorgridcolor":"white",
             "startlinecolor":"#2a3f5f"
            },
            "baxis":{
             "endlinecolor":"#2a3f5f",
             "gridcolor":"white",
             "linecolor":"white",
             "minorgridcolor":"white",
             "startlinecolor":"#2a3f5f"
            },
            "type":"carpet"
           }
          ],
          "choropleth":[
           {
            "colorbar":{
             "outlinewidth":0,
             "ticks":""
            },
            "type":"choropleth"
           }
          ],
          "contour":[
           {
            "colorbar":{
             "outlinewidth":0,
             "ticks":""
            },
            "colorscale":[
             [
              0,
              "#0d0887"
             ],
             [
              0.1111111111111111,
              "#46039f"
             ],
             [
              0.2222222222222222,
              "#7201a8"
             ],
             [
              0.3333333333333333,
              "#9c179e"
             ],
             [
              0.4444444444444444,
              "#bd3786"
             ],
             [
              0.5555555555555556,
              "#d8576b"
             ],
             [
              0.6666666666666666,
              "#ed7953"
             ],
             [
              0.7777777777777778,
              "#fb9f3a"
             ],
             [
              0.8888888888888888,
              "#fdca26"
             ],
             [
              1,
              "#f0f921"
             ]
            ],
            "type":"contour"
           }
          ],
          "contourcarpet":[
           {
            "colorbar":{
             "outlinewidth":0,
             "ticks":""
            },
            "type":"contourcarpet"
           }
          ],
          "heatmap":[
           {
            "colorbar":{
             "outlinewidth":0,
             "ticks":""
            },
            "colorscale":[
             [
              0,
              "#0d0887"
             ],
             [
              0.1111111111111111,
              "#46039f"
             ],
             [
              0.2222222222222222,
              "#7201a8"
             ],
             [
              0.3333333333333333,
              "#9c179e"
             ],
             [
              0.4444444444444444,
              "#bd3786"
             ],
             [
              0.5555555555555556,
              "#d8576b"
             ],
             [
              0.6666666666666666,
              "#ed7953"
             ],
             [
              0.7777777777777778,
              "#fb9f3a"
             ],
             [
              0.8888888888888888,
              "#fdca26"
             ],
             [
              1,
              "#f0f921"
             ]
            ],
            "type":"heatmap"
           }
          ],
          "heatmapgl":[
           {
            "colorbar":{
             "outlinewidth":0,
             "ticks":""
            },
            "colorscale":[
             [
              0,
              "#0d0887"
             ],
             [
              0.1111111111111111,
              "#46039f"
             ],
             [
              0.2222222222222222,
              "#7201a8"
             ],
             [
              0.3333333333333333,
              "#9c179e"
             ],
             [
              0.4444444444444444,
              "#bd3786"
             ],
             [
              0.5555555555555556,
              "#d8576b"
             ],
             [
              0.6666666666666666,
              "#ed7953"
             ],
             [
              0.7777777777777778,
              "#fb9f3a"
             ],
             [
              0.8888888888888888,
              "#fdca26"
             ],
             [
              1,
              "#f0f921"
             ]
            ],
            "type":"heatmapgl"
           }
          ],
          "histogram":[
           {
            "marker":{
             "pattern":{
              "fillmode":"overlay",
              "size":10,
              "solidity":0.2
             }
            },
            "type":"histogram"
           }
          ],
          "histogram2d":[
           {
            "colorbar":{
             "outlinewidth":0,
             "ticks":""
            },
            "colorscale":[
             [
              0,
              "#0d0887"
             ],
             [
              0.1111111111111111,
              "#46039f"
             ],
             [
              0.2222222222222222,
              "#7201a8"
             ],
             [
              0.3333333333333333,
              "#9c179e"
             ],
             [
              0.4444444444444444,
              "#bd3786"
             ],
             [
              0.5555555555555556,
              "#d8576b"
             ],
             [
              0.6666666666666666,
              "#ed7953"
             ],
             [
              0.7777777777777778,
              "#fb9f3a"
             ],
             [
              0.8888888888888888,
              "#fdca26"
             ],
             [
              1,
              "#f0f921"
             ]
            ],
            "type":"histogram2d"
           }
          ],
          "histogram2dcontour":[
           {
            "colorbar":{
             "outlinewidth":0,
             "ticks":""
            },
            "colorscale":[
             [
              0,
              "#0d0887"
             ],
             [
              0.1111111111111111,
              "#46039f"
             ],
             [
              0.2222222222222222,
              "#7201a8"
             ],
             [
              0.3333333333333333,
              "#9c179e"
             ],
             [
              0.4444444444444444,
              "#bd3786"
             ],
             [
              0.5555555555555556,
              "#d8576b"
             ],
             [
              0.6666666666666666,
              "#ed7953"
             ],
             [
              0.7777777777777778,
              "#fb9f3a"
             ],
             [
              0.8888888888888888,
              "#fdca26"
             ],
             [
              1,
              "#f0f921"
             ]
            ],
            "type":"histogram2dcontour"
           }
          ],
          "mesh3d":[
           {
            "colorbar":{
             "outlinewidth":0,
             "ticks":""
            },
            "type":"mesh3d"
           }
          ],
          "parcoords":[
           {
            "line":{
             "colorbar":{
              "outlinewidth":0,
              "ticks":""
             }
            },
            "type":"parcoords"
           }
          ],
          "pie":[
           {
            "automargin":true,
            "type":"pie"
           }
          ],
          "scatter":[
           {
            "marker":{
             "colorbar":{
              "outlinewidth":0,
              "ticks":""
             }
            },
            "type":"scatter"
           }
          ],
          "scatter3d":[
           {
            "line":{
             "colorbar":{
              "outlinewidth":0,
              "ticks":""
             }
            },
            "marker":{
             "colorbar":{
              "outlinewidth":0,
              "ticks":""
             }
            },
            "type":"scatter3d"
           }
          ],
          "scattercarpet":[
           {
            "marker":{
             "colorbar":{
              "outlinewidth":0,
              "ticks":""
             }
            },
            "type":"scattercarpet"
           }
          ],
          "scattergeo":[
           {
            "marker":{
             "colorbar":{
              "outlinewidth":0,
              "ticks":""
             }
            },
            "type":"scattergeo"
           }
          ],
          "scattergl":[
           {
            "marker":{
             "colorbar":{
              "outlinewidth":0,
              "ticks":""
             }
            },
            "type":"scattergl"
           }
          ],
          "scattermapbox":[
           {
            "marker":{
             "colorbar":{
              "outlinewidth":0,
              "ticks":""
             }
            },
            "type":"scattermapbox"
           }
          ],
          "scatterpolar":[
           {
            "marker":{
             "colorbar":{
              "outlinewidth":0,
              "ticks":""
             }
            },
            "type":"scatterpolar"
           }
          ],
          "scatterpolargl":[
           {
            "marker":{
             "colorbar":{
              "outlinewidth":0,
              "ticks":""
             }
            },
            "type":"scatterpolargl"
           }
          ],
          "scatterternary":[
           {
            "marker":{
             "colorbar":{
              "outlinewidth":0,
              "ticks":""
             }
            },
            "type":"scatterternary"
           }
          ],
          "surface":[
           {
            "colorbar":{
             "outlinewidth":0,
             "ticks":""
            },
            "colorscale":[
             [
              0,
              "#0d0887"
             ],
             [
              0.1111111111111111,
              "#46039f"
             ],
             [
              0.2222222222222222,
              "#7201a8"
             ],
             [
              0.3333333333333333,
              "#9c179e"
             ],
             [
              0.4444444444444444,
              "#bd3786"
             ],
             [
              0.5555555555555556,
              "#d8576b"
             ],
             [
              0.6666666666666666,
              "#ed7953"
             ],
             [
              0.7777777777777778,
              "#fb9f3a"
             ],
             [
              0.8888888888888888,
              "#fdca26"
             ],
             [
              1,
              "#f0f921"
             ]
            ],
            "type":"surface"
           }
          ],
          "table":[
           {
            "cells":{
             "fill":{
              "color":"#EBF0F8"
             },
             "line":{
              "color":"white"
             }
            },
            "header":{
             "fill":{
              "color":"#C8D4E3"
             },
             "line":{
              "color":"white"
             }
            },
            "type":"table"
           }
          ]
         },
         "layout":{
          "annotationdefaults":{
           "arrowcolor":"#2a3f5f",
           "arrowhead":0,
           "arrowwidth":1
          },
          "autotypenumbers":"strict",
          "coloraxis":{
           "colorbar":{
            "outlinewidth":0,
            "ticks":""
           }
          },
          "colorscale":{
           "diverging":[
            [
             0,
             "#8e0152"
            ],
            [
             0.1,
             "#c51b7d"
            ],
            [
             0.2,
             "#de77ae"
            ],
            [
             0.3,
             "#f1b6da"
            ],
            [
             0.4,
             "#fde0ef"
            ],
            [
             0.5,
             "#f7f7f7"
            ],
            [
             0.6,
             "#e6f5d0"
            ],
            [
             0.7,
             "#b8e186"
            ],
            [
             0.8,
             "#7fbc41"
            ],
            [
             0.9,
             "#4d9221"
            ],
            [
             1,
             "#276419"
            ]
           ],
           "sequential":[
            [
             0,
             "#0d0887"
            ],
            [
             0.1111111111111111,
             "#46039f"
            ],
            [
             0.2222222222222222,
             "#7201a8"
            ],
            [
             0.3333333333333333,
             "#9c179e"
            ],
            [
             0.4444444444444444,
             "#bd3786"
            ],
            [
             0.5555555555555556,
             "#d8576b"
            ],
            [
             0.6666666666666666,
             "#ed7953"
            ],
            [
             0.7777777777777778,
             "#fb9f3a"
            ],
            [
             0.8888888888888888,
             "#fdca26"
            ],
            [
             1,
             "#f0f921"
            ]
           ],
           "sequentialminus":[
            [
             0,
             "#0d0887"
            ],
            [
             0.1111111111111111,
             "#46039f"
            ],
            [
             0.2222222222222222,
             "#7201a8"
            ],
            [
             0.3333333333333333,
             "#9c179e"
            ],
            [
             0.4444444444444444,
             "#bd3786"
            ],
            [
             0.5555555555555556,
             "#d8576b"
            ],
            [
             0.6666666666666666,
             "#ed7953"
            ],
            [
             0.7777777777777778,
             "#fb9f3a"
            ],
            [
             0.8888888888888888,
             "#fdca26"
            ],
            [
             1,
             "#f0f921"
            ]
           ]
          },
          "colorway":[
           "#636efa",
           "#EF553B",
           "#00cc96",
           "#ab63fa",
           "#FFA15A",
           "#19d3f3",
           "#FF6692",
           "#B6E880",
           "#FF97FF",
           "#FECB52"
          ],
          "font":{
           "color":"#2a3f5f"
          },
          "geo":{
           "bgcolor":"white",
           "lakecolor":"white",
           "landcolor":"#E5ECF6",
           "showlakes":true,
           "showland":true,
           "subunitcolor":"white"
          },
          "hoverlabel":{
           "align":"left"
          },
          "hovermode":"closest",
          "mapbox":{
           "style":"light"
          },
          "paper_bgcolor":"white",
          "plot_bgcolor":"#E5ECF6",
          "polar":{
           "angularaxis":{
            "gridcolor":"white",
            "linecolor":"white",
            "ticks":""
           },
           "bgcolor":"#E5ECF6",
           "radialaxis":{
            "gridcolor":"white",
            "linecolor":"white",
            "ticks":""
           }
          },
          "scene":{
           "xaxis":{
            "backgroundcolor":"#E5ECF6",
            "gridcolor":"white",
            "gridwidth":2,
            "linecolor":"white",
            "showbackground":true,
            "ticks":"",
            "zerolinecolor":"white"
           },
           "yaxis":{
            "backgroundcolor":"#E5ECF6",
            "gridcolor":"white",
            "gridwidth":2,
            "linecolor":"white",
            "showbackground":true,
            "ticks":"",
            "zerolinecolor":"white"
           },
           "zaxis":{
            "backgroundcolor":"#E5ECF6",
            "gridcolor":"white",
            "gridwidth":2,
            "linecolor":"white",
            "showbackground":true,
            "ticks":"",
            "zerolinecolor":"white"
           }
          },
          "shapedefaults":{
           "line":{
            "color":"#2a3f5f"
           }
          },
          "ternary":{
           "aaxis":{
            "gridcolor":"white",
            "linecolor":"white",
            "ticks":""
           },
           "baxis":{
            "gridcolor":"white",
            "linecolor":"white",
            "ticks":""
           },
           "bgcolor":"#E5ECF6",
           "caxis":{
            "gridcolor":"white",
            "linecolor":"white",
            "ticks":""
           }
          },
          "title":{
           "x":0.05
          },
          "xaxis":{
           "automargin":true,
           "gridcolor":"white",
           "linecolor":"white",
           "ticks":"",
           "title":{
            "standoff":15
           },
           "zerolinecolor":"white",
           "zerolinewidth":2
          },
          "yaxis":{
           "automargin":true,
           "gridcolor":"white",
           "linecolor":"white",
           "ticks":"",
           "title":{
            "standoff":15
           },
           "zerolinecolor":"white",
           "zerolinewidth":2
          }
         }
        },
        "xaxis":{
         "anchor":"y",
         "domain":[
          0,
          1
         ],
         "title":{
          "text":"Facilité du Business"
         }
        },
        "yaxis":{
         "anchor":"x",
         "domain":[
          0,
          1
         ],
         "title":{
          "text":"count"
         }
        },
        "legend":{
         "tracegroupgap":0
        },
        "margin":{
         "t":60
        },
        "barmode":"relative"
       },
       "config":{
        "plotlyServerURL":"https:\/\/plot.ly"
       }
      }
     },
     "metadata":{
      
     },
     "output_type":"display_data"
    }
   ],
   "metadata":{
    "datalore":{
     "node_id":"1OmYO91zvgL0FORYurDXQs",
     "type":"CODE",
     "hide_input_from_viewers":true,
     "hide_output_from_viewers":true
    }
   }
  },
  {
   "cell_type":"markdown",
   "source":[
    "On peut voir que la répartition de la facilité du business des pays du monde est assez symétrique autour de la moyenne de 60. Et la forme de la répartition est assez proche d'une loi normale."
   ],
   "attachments":{
    
   },
   "metadata":{
    "datalore":{
     "node_id":"YJbr4LSmQbUPpeP7jDgr6f",
     "type":"MD",
     "hide_input_from_viewers":true,
     "hide_output_from_viewers":true
    }
   }
  },
  {
   "cell_type":"markdown",
   "source":[
    "## 1.6 - Distance\n",
    "### a - Import"
   ],
   "attachments":{
    
   },
   "metadata":{
    "datalore":{
     "node_id":"NDhV5XBWsldMNNmm12sEjS",
     "type":"MD",
     "hide_input_from_viewers":true,
     "hide_output_from_viewers":true
    }
   }
  },
  {
   "cell_type":"code",
   "source":[
    "df_distance = pd.read_excel('dist_cepii.xls')\n",
    "\n",
    "df_distance.head()"
   ],
   "execution_count":55,
   "outputs":[
    {
     "data":{
      "text\/html":[
       "<div>\n",
       "<style scoped>\n",
       "    .dataframe tbody tr th:only-of-type {\n",
       "        vertical-align: middle;\n",
       "    }\n",
       "\n",
       "    .dataframe tbody tr th {\n",
       "        vertical-align: top;\n",
       "    }\n",
       "\n",
       "    .dataframe thead th {\n",
       "        text-align: right;\n",
       "    }\n",
       "<\/style>\n",
       "<table border=\"1\" class=\"dataframe\">\n",
       "  <thead>\n",
       "    <tr style=\"text-align: right;\">\n",
       "      <th><\/th>\n",
       "      <th>iso_o<\/th>\n",
       "      <th>iso_d<\/th>\n",
       "      <th>dist<\/th>\n",
       "    <\/tr>\n",
       "  <\/thead>\n",
       "  <tbody>\n",
       "    <tr>\n",
       "      <th>0<\/th>\n",
       "      <td>ABW<\/td>\n",
       "      <td>ABW<\/td>\n",
       "      <td>5.225315<\/td>\n",
       "    <\/tr>\n",
       "    <tr>\n",
       "      <th>1<\/th>\n",
       "      <td>ABW<\/td>\n",
       "      <td>AFG<\/td>\n",
       "      <td>13257.810000<\/td>\n",
       "    <\/tr>\n",
       "    <tr>\n",
       "      <th>2<\/th>\n",
       "      <td>ABW<\/td>\n",
       "      <td>AGO<\/td>\n",
       "      <td>9516.913000<\/td>\n",
       "    <\/tr>\n",
       "    <tr>\n",
       "      <th>3<\/th>\n",
       "      <td>ABW<\/td>\n",
       "      <td>AIA<\/td>\n",
       "      <td>983.268200<\/td>\n",
       "    <\/tr>\n",
       "    <tr>\n",
       "      <th>4<\/th>\n",
       "      <td>ABW<\/td>\n",
       "      <td>ALB<\/td>\n",
       "      <td>9091.742000<\/td>\n",
       "    <\/tr>\n",
       "  <\/tbody>\n",
       "<\/table>\n",
       "<\/div>"
      ]
     },
     "metadata":{
      
     },
     "output_type":"display_data"
    }
   ],
   "metadata":{
    "datalore":{
     "node_id":"Pl3z6wvLGGRhmbnDjlGeyL",
     "type":"CODE",
     "hide_input_from_viewers":true,
     "hide_output_from_viewers":true
    }
   }
  },
  {
   "cell_type":"markdown",
   "source":[
    "### b - Description\n",
    "Ici, on va voir en détail un petit peu, notre jeu de données et les variables qu'il contient"
   ],
   "attachments":{
    
   },
   "metadata":{
    "datalore":{
     "node_id":"DZs2b1ICAmuthBUN46Zq4x",
     "type":"MD",
     "hide_input_from_viewers":true,
     "hide_output_from_viewers":true
    }
   }
  },
  {
   "cell_type":"code",
   "source":[
    "df_distance.shape"
   ],
   "execution_count":56,
   "outputs":[
    {
     "data":{
      "text\/plain":[
       "(50176, 3)"
      ]
     },
     "metadata":{
      
     },
     "output_type":"display_data"
    }
   ],
   "metadata":{
    "datalore":{
     "node_id":"twiJllZbtqhy1K7vMHSdce",
     "type":"CODE",
     "hide_input_from_viewers":true,
     "hide_output_from_viewers":true
    }
   }
  },
  {
   "cell_type":"markdown",
   "source":[
    "Nous avons 3 variables et 50 176 lignes."
   ],
   "attachments":{
    
   },
   "metadata":{
    "datalore":{
     "node_id":"CJUGnQHTmRgFQjaoyssPnj",
     "type":"MD",
     "hide_input_from_viewers":true,
     "hide_output_from_viewers":true
    }
   }
  },
  {
   "cell_type":"code",
   "source":[
    "df_distance.describe(include= 'all')"
   ],
   "execution_count":57,
   "outputs":[
    {
     "data":{
      "text\/html":[
       "<div>\n",
       "<style scoped>\n",
       "    .dataframe tbody tr th:only-of-type {\n",
       "        vertical-align: middle;\n",
       "    }\n",
       "\n",
       "    .dataframe tbody tr th {\n",
       "        vertical-align: top;\n",
       "    }\n",
       "\n",
       "    .dataframe thead th {\n",
       "        text-align: right;\n",
       "    }\n",
       "<\/style>\n",
       "<table border=\"1\" class=\"dataframe\">\n",
       "  <thead>\n",
       "    <tr style=\"text-align: right;\">\n",
       "      <th><\/th>\n",
       "      <th>iso_o<\/th>\n",
       "      <th>iso_d<\/th>\n",
       "      <th>dist<\/th>\n",
       "    <\/tr>\n",
       "  <\/thead>\n",
       "  <tbody>\n",
       "    <tr>\n",
       "      <th>count<\/th>\n",
       "      <td>50176<\/td>\n",
       "      <td>50176<\/td>\n",
       "      <td>50176.000000<\/td>\n",
       "    <\/tr>\n",
       "    <tr>\n",
       "      <th>unique<\/th>\n",
       "      <td>224<\/td>\n",
       "      <td>224<\/td>\n",
       "      <td>NaN<\/td>\n",
       "    <\/tr>\n",
       "    <tr>\n",
       "      <th>top<\/th>\n",
       "      <td>ABW<\/td>\n",
       "      <td>ABW<\/td>\n",
       "      <td>NaN<\/td>\n",
       "    <\/tr>\n",
       "    <tr>\n",
       "      <th>freq<\/th>\n",
       "      <td>224<\/td>\n",
       "      <td>224<\/td>\n",
       "      <td>NaN<\/td>\n",
       "    <\/tr>\n",
       "    <tr>\n",
       "      <th>mean<\/th>\n",
       "      <td>NaN<\/td>\n",
       "      <td>NaN<\/td>\n",
       "      <td>8481.799404<\/td>\n",
       "    <\/tr>\n",
       "    <tr>\n",
       "      <th>std<\/th>\n",
       "      <td>NaN<\/td>\n",
       "      <td>NaN<\/td>\n",
       "      <td>4703.571509<\/td>\n",
       "    <\/tr>\n",
       "    <tr>\n",
       "      <th>min<\/th>\n",
       "      <td>NaN<\/td>\n",
       "      <td>NaN<\/td>\n",
       "      <td>0.995137<\/td>\n",
       "    <\/tr>\n",
       "    <tr>\n",
       "      <th>25%<\/th>\n",
       "      <td>NaN<\/td>\n",
       "      <td>NaN<\/td>\n",
       "      <td>4783.383250<\/td>\n",
       "    <\/tr>\n",
       "    <tr>\n",
       "      <th>50%<\/th>\n",
       "      <td>NaN<\/td>\n",
       "      <td>NaN<\/td>\n",
       "      <td>8084.515500<\/td>\n",
       "    <\/tr>\n",
       "    <tr>\n",
       "      <th>75%<\/th>\n",
       "      <td>NaN<\/td>\n",
       "      <td>NaN<\/td>\n",
       "      <td>12030.087500<\/td>\n",
       "    <\/tr>\n",
       "    <tr>\n",
       "      <th>max<\/th>\n",
       "      <td>NaN<\/td>\n",
       "      <td>NaN<\/td>\n",
       "      <td>19951.160000<\/td>\n",
       "    <\/tr>\n",
       "  <\/tbody>\n",
       "<\/table>\n",
       "<\/div>"
      ]
     },
     "metadata":{
      
     },
     "output_type":"display_data"
    }
   ],
   "metadata":{
    "datalore":{
     "node_id":"0VL34vQtspeXa6WUODGLaC",
     "type":"CODE",
     "hide_input_from_viewers":true,
     "hide_output_from_viewers":true
    }
   }
  },
  {
   "cell_type":"code",
   "source":[
    "df_distance.info()"
   ],
   "execution_count":58,
   "outputs":[
    {
     "name":"stdout",
     "text":[
      "<class 'pandas.core.frame.DataFrame'>\n",
      "RangeIndex: 50176 entries, 0 to 50175\n",
      "Data columns (total 3 columns):\n",
      " #   Column  Non-Null Count  Dtype  \n",
      "---  ------  --------------  -----  \n",
      " 0   iso_o   50176 non-null  object \n",
      " 1   iso_d   50176 non-null  object \n",
      " 2   dist    50176 non-null  float64\n",
      "dtypes: float64(1), object(2)\n",
      "memory usage: 1.1+ MB\n"
     ],
     "output_type":"stream"
    }
   ],
   "metadata":{
    "datalore":{
     "node_id":"cGuzwv8hfAiySUddXkAeRB",
     "type":"CODE",
     "hide_input_from_viewers":true,
     "hide_output_from_viewers":true
    }
   }
  },
  {
   "cell_type":"markdown",
   "source":[
    "On peut remplir le tableau suivant :\n",
    "\n",
    "\n",
    "|Variable|Type|Contexte|Utilité|Commentaire|\n",
    "|---|---|---|---|---|\n",
    "|iso_o|Texte|Code ISO3 du pays d'origine|Clef de liaison|à filtrer sur 'FRA' et supprimer la colonne|\n",
    "|iso_d|Texte|Code ISO3 du pays destinataire |Clef de liaison|à renommer 'Code ISO 3|\n",
    "|distance|Float|Distance pondérée entre les pays|Variable qui nous intéresse||"
   ],
   "attachments":{
    
   },
   "metadata":{
    "datalore":{
     "node_id":"FpP2miMhRdTtGuwED20uFG",
     "type":"MD",
     "hide_input_from_viewers":true,
     "hide_output_from_viewers":true
    }
   }
  },
  {
   "cell_type":"markdown",
   "source":[
    "On utilise ce tableau pour réaliser le nettoyage et la préparation des données"
   ],
   "attachments":{
    
   },
   "metadata":{
    "datalore":{
     "node_id":"yyVLyvzokcza4hJPBa5lM5",
     "type":"MD",
     "hide_input_from_viewers":true,
     "hide_output_from_viewers":true
    }
   }
  },
  {
   "cell_type":"markdown",
   "source":[
    "### c - Nettoyage et préparation\n",
    "On va tout d'abord voir s'il y a des doublons"
   ],
   "attachments":{
    
   },
   "metadata":{
    "datalore":{
     "node_id":"s25mK8kVpfm66zGarMo1VM",
     "type":"MD",
     "hide_input_from_viewers":true,
     "hide_output_from_viewers":true
    }
   }
  },
  {
   "cell_type":"code",
   "source":[
    "df_distance.duplicated().sum()"
   ],
   "execution_count":59,
   "outputs":[
    {
     "data":{
      "text\/plain":[
       "0"
      ]
     },
     "metadata":{
      
     },
     "output_type":"display_data"
    }
   ],
   "metadata":{
    "datalore":{
     "node_id":"kv0C16R2pEVvN2lvluZPGL",
     "type":"CODE",
     "hide_input_from_viewers":true,
     "hide_output_from_viewers":true
    }
   }
  },
  {
   "cell_type":"markdown",
   "source":[
    "Il n'y a pas de doublon."
   ],
   "attachments":{
    
   },
   "metadata":{
    "datalore":{
     "node_id":"ASxWcgWmW1cJSTWEtag7q4",
     "type":"MD",
     "hide_input_from_viewers":true,
     "hide_output_from_viewers":true
    }
   }
  },
  {
   "cell_type":"code",
   "source":[
    "df_distance = df_distance[df_distance['iso_o'] == 'FRA']\n",
    "\n",
    "df_distance.rename(columns={'iso_d' : 'Code ISO3'}, inplace= True)\n",
    "\n",
    "df_distance.drop(columns=['iso_o'], inplace= True)\n",
    "\n",
    "df_distance"
   ],
   "execution_count":60,
   "outputs":[
    {
     "data":{
      "text\/html":[
       "<div>\n",
       "<style scoped>\n",
       "    .dataframe tbody tr th:only-of-type {\n",
       "        vertical-align: middle;\n",
       "    }\n",
       "\n",
       "    .dataframe tbody tr th {\n",
       "        vertical-align: top;\n",
       "    }\n",
       "\n",
       "    .dataframe thead th {\n",
       "        text-align: right;\n",
       "    }\n",
       "<\/style>\n",
       "<table border=\"1\" class=\"dataframe\">\n",
       "  <thead>\n",
       "    <tr style=\"text-align: right;\">\n",
       "      <th><\/th>\n",
       "      <th>Code ISO3<\/th>\n",
       "      <th>dist<\/th>\n",
       "    <\/tr>\n",
       "  <\/thead>\n",
       "  <tbody>\n",
       "    <tr>\n",
       "      <th>15008<\/th>\n",
       "      <td>ABW<\/td>\n",
       "      <td>7685.884<\/td>\n",
       "    <\/tr>\n",
       "    <tr>\n",
       "      <th>15009<\/th>\n",
       "      <td>AFG<\/td>\n",
       "      <td>5590.381<\/td>\n",
       "    <\/tr>\n",
       "    <tr>\n",
       "      <th>15010<\/th>\n",
       "      <td>AGO<\/td>\n",
       "      <td>6510.322<\/td>\n",
       "    <\/tr>\n",
       "    <tr>\n",
       "      <th>15011<\/th>\n",
       "      <td>AIA<\/td>\n",
       "      <td>6710.570<\/td>\n",
       "    <\/tr>\n",
       "    <tr>\n",
       "      <th>15012<\/th>\n",
       "      <td>ALB<\/td>\n",
       "      <td>1603.534<\/td>\n",
       "    <\/tr>\n",
       "    <tr>\n",
       "      <th>...<\/th>\n",
       "      <td>...<\/td>\n",
       "      <td>...<\/td>\n",
       "    <\/tr>\n",
       "    <tr>\n",
       "      <th>15227<\/th>\n",
       "      <td>YUG<\/td>\n",
       "      <td>1449.718<\/td>\n",
       "    <\/tr>\n",
       "    <tr>\n",
       "      <th>15228<\/th>\n",
       "      <td>ZAF<\/td>\n",
       "      <td>9353.552<\/td>\n",
       "    <\/tr>\n",
       "    <tr>\n",
       "      <th>15229<\/th>\n",
       "      <td>ZAR<\/td>\n",
       "      <td>6049.656<\/td>\n",
       "    <\/tr>\n",
       "    <tr>\n",
       "      <th>15230<\/th>\n",
       "      <td>ZMB<\/td>\n",
       "      <td>7604.841<\/td>\n",
       "    <\/tr>\n",
       "    <tr>\n",
       "      <th>15231<\/th>\n",
       "      <td>ZWE<\/td>\n",
       "      <td>7949.676<\/td>\n",
       "    <\/tr>\n",
       "  <\/tbody>\n",
       "<\/table>\n",
       "<p>224 rows × 2 columns<\/p>\n",
       "<\/div>"
      ]
     },
     "metadata":{
      
     },
     "output_type":"display_data"
    }
   ],
   "metadata":{
    "datalore":{
     "node_id":"kh2MNCsFTtH3iUpiVzEJ17",
     "type":"CODE",
     "hide_input_from_viewers":true,
     "hide_output_from_viewers":true
    }
   }
  },
  {
   "cell_type":"markdown",
   "source":[
    "Maintenant que notre dataframe est propre, on va regarder les variables dans le détail."
   ],
   "attachments":{
    
   },
   "metadata":{
    "datalore":{
     "node_id":"1kAza3ZB87xD7cOIURFzgA",
     "type":"MD",
     "hide_input_from_viewers":true,
     "hide_output_from_viewers":true
    }
   }
  },
  {
   "cell_type":"markdown",
   "source":[
    "### d - Analyse univariée\n",
    "#### distance"
   ],
   "attachments":{
    
   },
   "metadata":{
    "datalore":{
     "node_id":"ngYPGTXpbxV9Fg81KaUSgN",
     "type":"MD",
     "hide_input_from_viewers":true,
     "hide_output_from_viewers":true
    }
   }
  },
  {
   "cell_type":"code",
   "source":[
    "analyse_univarie(df_distance, 'dist', nbins=20)"
   ],
   "execution_count":61,
   "outputs":[
    {
     "name":"stdout",
     "text":[
      "Description rapide\n",
      "count      224.000000\n",
      "mean      6671.631547\n",
      "std       4263.682062\n",
      "min        262.384500\n",
      "25%       3418.890500\n",
      "50%       6552.276000\n",
      "75%       8934.953500\n",
      "max      19263.880000\n",
      "Name: dist, dtype: float64\n",
      "--------------------\n",
      "Évaluation de la distribution avec les coefficients d'assymétrie et de Kurtosis.\n",
      "Skewness: 0.6794496254634893\n",
      "Kurtosis: 0.07840924008572081\n"
     ],
     "output_type":"stream"
    },
    {
     "data":{
      "application\/vnd.plotly.v1+json":{
       "data":[
        {
         "alignmentgroup":"True",
         "bingroup":"x",
         "hovertemplate":"dist=%{x}<br>count=%{y}<extra><\/extra>",
         "legendgroup":"",
         "marker":{
          "color":"#636efa",
          "pattern":{
           "shape":""
          }
         },
         "name":"",
         "nbinsx":20,
         "offsetgroup":"",
         "orientation":"v",
         "showlegend":false,
         "x":[
          7685.884,
          5590.381,
          6510.322,
          6710.57,
          1603.534,
          711.5485,
          7638.026,
          5249.535,
          11072.25,
          3434.071,
          6708.77,
          16975.46,
          1035.144,
          3817.547,
          6371.986,
          262.3845,
          4726.537,
          4082.87,
          7916.79,
          1760.707,
          4843.391,
          7209.45,
          1352.463,
          1823.709,
          8664.439,
          5764.324,
          10038.45,
          9408.406,
          6882.34,
          11219.33,
          7569.353,
          8522.764,
          5186.042,
          6004.645,
          11388.36,
          436.0778,
          11663.39,
          8225.232,
          4884.159,
          5085.718,
          6041.018,
          16568.87,
          8707.677,
          7842.67,
          4452.386,
          8919.449,
          7729.485,
          11866.1,
          7960.709,
          2954.551,
          884.6105,
          439.8984,
          5595.459,
          6826.396,
          1027.609,
          7178.52,
          1340.39,
          9367.098,
          3215.215,
          4993.154,
          2759.848,
          1054.656,
          1859.091,
          5582.502,
          1911.138,
          16595.08,
          12560.39,
          278.1876,
          1568.769,
          13396.33,
          5438.787,
          342.9475,
          3373.349,
          4827.292,
          1549.175,
          4691.556,
          6794.139,
          4308.25,
          4440.633,
          5058.926,
          2098.726,
          7120.287,
          3584.681,
          9001.048,
          7084.598,
          7320.075,
          9639.476,
          8810.234,
          1081.762,
          7361.197,
          1247.24,
          11584.25,
          6594.23,
          778.2031,
          4218.442,
          3867.434,
          2234.723,
          3281.899,
          1109.901,
          7734.696,
          3371.398,
          9725.629,
          5561.785,
          6491.402,
          5424.702,
          9947.79,
          14371.47,
          6760.687,
          8981.467,
          4415.222,
          9245.57,
          3197.032,
          4892.298,
          2007.716,
          6903.772,
          8526.015,
          9054.14,
          1700.296,
          289.1023,
          1704.598,
          9601.923,
          1816.853,
          1976.854,
          8763.332,
          8294.178,
          9206.813,
          13705.24,
          1672.04,
          4139.756,
          1752.693,
          8892.726,
          7053.423,
          12042.09,
          8855.655,
          3794.96,
          6771.885,
          6862.589,
          9422.744,
          7650.657,
          10436.4,
          8084.97,
          16757.74,
          3932.638,
          17511.67,
          4722.149,
          8906.699,
          16639.5,
          427.9169,
          1342.89,
          7244.016,
          14455.09,
          19263.88,
          5620.005,
          5932.586,
          3303.196,
          8671.104,
          15152.12,
          10268.11,
          10751.64,
          12240.69,
          14565.84,
          1368.178,
          6916.064,
          8783.568,
          1452.86,
          10168.73,
          15724.43,
          4981.916,
          9374.991,
          1875.018,
          2494.316,
          6253.41,
          4694.5,
          4612.387,
          4217.159,
          10748.26,
          7254.018,
          15178.2,
          4724.351,
          8984.298,
          951.0759,
          6623.439,
          4273.723,
          5432.882,
          7196.987,
          1094.61,
          965.7366,
          1545.797,
          8846.426,
          7855.244,
          3280.692,
          7041.488,
          4248.435,
          4753.381,
          9454.805,
          5291.823,
          15565.23,
          4581.08,
          13128.84,
          16941.44,
          7225.325,
          1483.828,
          2255.81,
          15531.51,
          9834.232,
          7168.277,
          6128.938,
          2025.144,
          10972.42,
          5838.157,
          5153.064,
          6989.701,
          7618.86,
          6804.749,
          9208.554,
          16346.35,
          16073.01,
          16011.92,
          5317.261,
          1449.718,
          9353.552,
          6049.656,
          7604.841,
          7949.676
         ],
         "xaxis":"x",
         "yaxis":"y",
         "type":"histogram"
        }
       ],
       "layout":{
        "template":{
         "data":{
          "bar":[
           {
            "error_x":{
             "color":"#2a3f5f"
            },
            "error_y":{
             "color":"#2a3f5f"
            },
            "marker":{
             "line":{
              "color":"#E5ECF6",
              "width":0.5
             },
             "pattern":{
              "fillmode":"overlay",
              "size":10,
              "solidity":0.2
             }
            },
            "type":"bar"
           }
          ],
          "barpolar":[
           {
            "marker":{
             "line":{
              "color":"#E5ECF6",
              "width":0.5
             },
             "pattern":{
              "fillmode":"overlay",
              "size":10,
              "solidity":0.2
             }
            },
            "type":"barpolar"
           }
          ],
          "carpet":[
           {
            "aaxis":{
             "endlinecolor":"#2a3f5f",
             "gridcolor":"white",
             "linecolor":"white",
             "minorgridcolor":"white",
             "startlinecolor":"#2a3f5f"
            },
            "baxis":{
             "endlinecolor":"#2a3f5f",
             "gridcolor":"white",
             "linecolor":"white",
             "minorgridcolor":"white",
             "startlinecolor":"#2a3f5f"
            },
            "type":"carpet"
           }
          ],
          "choropleth":[
           {
            "colorbar":{
             "outlinewidth":0,
             "ticks":""
            },
            "type":"choropleth"
           }
          ],
          "contour":[
           {
            "colorbar":{
             "outlinewidth":0,
             "ticks":""
            },
            "colorscale":[
             [
              0,
              "#0d0887"
             ],
             [
              0.1111111111111111,
              "#46039f"
             ],
             [
              0.2222222222222222,
              "#7201a8"
             ],
             [
              0.3333333333333333,
              "#9c179e"
             ],
             [
              0.4444444444444444,
              "#bd3786"
             ],
             [
              0.5555555555555556,
              "#d8576b"
             ],
             [
              0.6666666666666666,
              "#ed7953"
             ],
             [
              0.7777777777777778,
              "#fb9f3a"
             ],
             [
              0.8888888888888888,
              "#fdca26"
             ],
             [
              1,
              "#f0f921"
             ]
            ],
            "type":"contour"
           }
          ],
          "contourcarpet":[
           {
            "colorbar":{
             "outlinewidth":0,
             "ticks":""
            },
            "type":"contourcarpet"
           }
          ],
          "heatmap":[
           {
            "colorbar":{
             "outlinewidth":0,
             "ticks":""
            },
            "colorscale":[
             [
              0,
              "#0d0887"
             ],
             [
              0.1111111111111111,
              "#46039f"
             ],
             [
              0.2222222222222222,
              "#7201a8"
             ],
             [
              0.3333333333333333,
              "#9c179e"
             ],
             [
              0.4444444444444444,
              "#bd3786"
             ],
             [
              0.5555555555555556,
              "#d8576b"
             ],
             [
              0.6666666666666666,
              "#ed7953"
             ],
             [
              0.7777777777777778,
              "#fb9f3a"
             ],
             [
              0.8888888888888888,
              "#fdca26"
             ],
             [
              1,
              "#f0f921"
             ]
            ],
            "type":"heatmap"
           }
          ],
          "heatmapgl":[
           {
            "colorbar":{
             "outlinewidth":0,
             "ticks":""
            },
            "colorscale":[
             [
              0,
              "#0d0887"
             ],
             [
              0.1111111111111111,
              "#46039f"
             ],
             [
              0.2222222222222222,
              "#7201a8"
             ],
             [
              0.3333333333333333,
              "#9c179e"
             ],
             [
              0.4444444444444444,
              "#bd3786"
             ],
             [
              0.5555555555555556,
              "#d8576b"
             ],
             [
              0.6666666666666666,
              "#ed7953"
             ],
             [
              0.7777777777777778,
              "#fb9f3a"
             ],
             [
              0.8888888888888888,
              "#fdca26"
             ],
             [
              1,
              "#f0f921"
             ]
            ],
            "type":"heatmapgl"
           }
          ],
          "histogram":[
           {
            "marker":{
             "pattern":{
              "fillmode":"overlay",
              "size":10,
              "solidity":0.2
             }
            },
            "type":"histogram"
           }
          ],
          "histogram2d":[
           {
            "colorbar":{
             "outlinewidth":0,
             "ticks":""
            },
            "colorscale":[
             [
              0,
              "#0d0887"
             ],
             [
              0.1111111111111111,
              "#46039f"
             ],
             [
              0.2222222222222222,
              "#7201a8"
             ],
             [
              0.3333333333333333,
              "#9c179e"
             ],
             [
              0.4444444444444444,
              "#bd3786"
             ],
             [
              0.5555555555555556,
              "#d8576b"
             ],
             [
              0.6666666666666666,
              "#ed7953"
             ],
             [
              0.7777777777777778,
              "#fb9f3a"
             ],
             [
              0.8888888888888888,
              "#fdca26"
             ],
             [
              1,
              "#f0f921"
             ]
            ],
            "type":"histogram2d"
           }
          ],
          "histogram2dcontour":[
           {
            "colorbar":{
             "outlinewidth":0,
             "ticks":""
            },
            "colorscale":[
             [
              0,
              "#0d0887"
             ],
             [
              0.1111111111111111,
              "#46039f"
             ],
             [
              0.2222222222222222,
              "#7201a8"
             ],
             [
              0.3333333333333333,
              "#9c179e"
             ],
             [
              0.4444444444444444,
              "#bd3786"
             ],
             [
              0.5555555555555556,
              "#d8576b"
             ],
             [
              0.6666666666666666,
              "#ed7953"
             ],
             [
              0.7777777777777778,
              "#fb9f3a"
             ],
             [
              0.8888888888888888,
              "#fdca26"
             ],
             [
              1,
              "#f0f921"
             ]
            ],
            "type":"histogram2dcontour"
           }
          ],
          "mesh3d":[
           {
            "colorbar":{
             "outlinewidth":0,
             "ticks":""
            },
            "type":"mesh3d"
           }
          ],
          "parcoords":[
           {
            "line":{
             "colorbar":{
              "outlinewidth":0,
              "ticks":""
             }
            },
            "type":"parcoords"
           }
          ],
          "pie":[
           {
            "automargin":true,
            "type":"pie"
           }
          ],
          "scatter":[
           {
            "marker":{
             "colorbar":{
              "outlinewidth":0,
              "ticks":""
             }
            },
            "type":"scatter"
           }
          ],
          "scatter3d":[
           {
            "line":{
             "colorbar":{
              "outlinewidth":0,
              "ticks":""
             }
            },
            "marker":{
             "colorbar":{
              "outlinewidth":0,
              "ticks":""
             }
            },
            "type":"scatter3d"
           }
          ],
          "scattercarpet":[
           {
            "marker":{
             "colorbar":{
              "outlinewidth":0,
              "ticks":""
             }
            },
            "type":"scattercarpet"
           }
          ],
          "scattergeo":[
           {
            "marker":{
             "colorbar":{
              "outlinewidth":0,
              "ticks":""
             }
            },
            "type":"scattergeo"
           }
          ],
          "scattergl":[
           {
            "marker":{
             "colorbar":{
              "outlinewidth":0,
              "ticks":""
             }
            },
            "type":"scattergl"
           }
          ],
          "scattermapbox":[
           {
            "marker":{
             "colorbar":{
              "outlinewidth":0,
              "ticks":""
             }
            },
            "type":"scattermapbox"
           }
          ],
          "scatterpolar":[
           {
            "marker":{
             "colorbar":{
              "outlinewidth":0,
              "ticks":""
             }
            },
            "type":"scatterpolar"
           }
          ],
          "scatterpolargl":[
           {
            "marker":{
             "colorbar":{
              "outlinewidth":0,
              "ticks":""
             }
            },
            "type":"scatterpolargl"
           }
          ],
          "scatterternary":[
           {
            "marker":{
             "colorbar":{
              "outlinewidth":0,
              "ticks":""
             }
            },
            "type":"scatterternary"
           }
          ],
          "surface":[
           {
            "colorbar":{
             "outlinewidth":0,
             "ticks":""
            },
            "colorscale":[
             [
              0,
              "#0d0887"
             ],
             [
              0.1111111111111111,
              "#46039f"
             ],
             [
              0.2222222222222222,
              "#7201a8"
             ],
             [
              0.3333333333333333,
              "#9c179e"
             ],
             [
              0.4444444444444444,
              "#bd3786"
             ],
             [
              0.5555555555555556,
              "#d8576b"
             ],
             [
              0.6666666666666666,
              "#ed7953"
             ],
             [
              0.7777777777777778,
              "#fb9f3a"
             ],
             [
              0.8888888888888888,
              "#fdca26"
             ],
             [
              1,
              "#f0f921"
             ]
            ],
            "type":"surface"
           }
          ],
          "table":[
           {
            "cells":{
             "fill":{
              "color":"#EBF0F8"
             },
             "line":{
              "color":"white"
             }
            },
            "header":{
             "fill":{
              "color":"#C8D4E3"
             },
             "line":{
              "color":"white"
             }
            },
            "type":"table"
           }
          ]
         },
         "layout":{
          "annotationdefaults":{
           "arrowcolor":"#2a3f5f",
           "arrowhead":0,
           "arrowwidth":1
          },
          "autotypenumbers":"strict",
          "coloraxis":{
           "colorbar":{
            "outlinewidth":0,
            "ticks":""
           }
          },
          "colorscale":{
           "diverging":[
            [
             0,
             "#8e0152"
            ],
            [
             0.1,
             "#c51b7d"
            ],
            [
             0.2,
             "#de77ae"
            ],
            [
             0.3,
             "#f1b6da"
            ],
            [
             0.4,
             "#fde0ef"
            ],
            [
             0.5,
             "#f7f7f7"
            ],
            [
             0.6,
             "#e6f5d0"
            ],
            [
             0.7,
             "#b8e186"
            ],
            [
             0.8,
             "#7fbc41"
            ],
            [
             0.9,
             "#4d9221"
            ],
            [
             1,
             "#276419"
            ]
           ],
           "sequential":[
            [
             0,
             "#0d0887"
            ],
            [
             0.1111111111111111,
             "#46039f"
            ],
            [
             0.2222222222222222,
             "#7201a8"
            ],
            [
             0.3333333333333333,
             "#9c179e"
            ],
            [
             0.4444444444444444,
             "#bd3786"
            ],
            [
             0.5555555555555556,
             "#d8576b"
            ],
            [
             0.6666666666666666,
             "#ed7953"
            ],
            [
             0.7777777777777778,
             "#fb9f3a"
            ],
            [
             0.8888888888888888,
             "#fdca26"
            ],
            [
             1,
             "#f0f921"
            ]
           ],
           "sequentialminus":[
            [
             0,
             "#0d0887"
            ],
            [
             0.1111111111111111,
             "#46039f"
            ],
            [
             0.2222222222222222,
             "#7201a8"
            ],
            [
             0.3333333333333333,
             "#9c179e"
            ],
            [
             0.4444444444444444,
             "#bd3786"
            ],
            [
             0.5555555555555556,
             "#d8576b"
            ],
            [
             0.6666666666666666,
             "#ed7953"
            ],
            [
             0.7777777777777778,
             "#fb9f3a"
            ],
            [
             0.8888888888888888,
             "#fdca26"
            ],
            [
             1,
             "#f0f921"
            ]
           ]
          },
          "colorway":[
           "#636efa",
           "#EF553B",
           "#00cc96",
           "#ab63fa",
           "#FFA15A",
           "#19d3f3",
           "#FF6692",
           "#B6E880",
           "#FF97FF",
           "#FECB52"
          ],
          "font":{
           "color":"#2a3f5f"
          },
          "geo":{
           "bgcolor":"white",
           "lakecolor":"white",
           "landcolor":"#E5ECF6",
           "showlakes":true,
           "showland":true,
           "subunitcolor":"white"
          },
          "hoverlabel":{
           "align":"left"
          },
          "hovermode":"closest",
          "mapbox":{
           "style":"light"
          },
          "paper_bgcolor":"white",
          "plot_bgcolor":"#E5ECF6",
          "polar":{
           "angularaxis":{
            "gridcolor":"white",
            "linecolor":"white",
            "ticks":""
           },
           "bgcolor":"#E5ECF6",
           "radialaxis":{
            "gridcolor":"white",
            "linecolor":"white",
            "ticks":""
           }
          },
          "scene":{
           "xaxis":{
            "backgroundcolor":"#E5ECF6",
            "gridcolor":"white",
            "gridwidth":2,
            "linecolor":"white",
            "showbackground":true,
            "ticks":"",
            "zerolinecolor":"white"
           },
           "yaxis":{
            "backgroundcolor":"#E5ECF6",
            "gridcolor":"white",
            "gridwidth":2,
            "linecolor":"white",
            "showbackground":true,
            "ticks":"",
            "zerolinecolor":"white"
           },
           "zaxis":{
            "backgroundcolor":"#E5ECF6",
            "gridcolor":"white",
            "gridwidth":2,
            "linecolor":"white",
            "showbackground":true,
            "ticks":"",
            "zerolinecolor":"white"
           }
          },
          "shapedefaults":{
           "line":{
            "color":"#2a3f5f"
           }
          },
          "ternary":{
           "aaxis":{
            "gridcolor":"white",
            "linecolor":"white",
            "ticks":""
           },
           "baxis":{
            "gridcolor":"white",
            "linecolor":"white",
            "ticks":""
           },
           "bgcolor":"#E5ECF6",
           "caxis":{
            "gridcolor":"white",
            "linecolor":"white",
            "ticks":""
           }
          },
          "title":{
           "x":0.05
          },
          "xaxis":{
           "automargin":true,
           "gridcolor":"white",
           "linecolor":"white",
           "ticks":"",
           "title":{
            "standoff":15
           },
           "zerolinecolor":"white",
           "zerolinewidth":2
          },
          "yaxis":{
           "automargin":true,
           "gridcolor":"white",
           "linecolor":"white",
           "ticks":"",
           "title":{
            "standoff":15
           },
           "zerolinecolor":"white",
           "zerolinewidth":2
          }
         }
        },
        "xaxis":{
         "anchor":"y",
         "domain":[
          0,
          1
         ],
         "title":{
          "text":"dist"
         }
        },
        "yaxis":{
         "anchor":"x",
         "domain":[
          0,
          1
         ],
         "title":{
          "text":"count"
         }
        },
        "legend":{
         "tracegroupgap":0
        },
        "margin":{
         "t":60
        },
        "barmode":"relative"
       },
       "config":{
        "plotlyServerURL":"https:\/\/plot.ly"
       }
      }
     },
     "metadata":{
      
     },
     "output_type":"display_data"
    }
   ],
   "metadata":{
    "datalore":{
     "node_id":"7UAabTsY6IHuyaN0GXYt5M",
     "type":"CODE",
     "hide_input_from_viewers":true,
     "hide_output_from_viewers":true
    }
   }
  },
  {
   "cell_type":"markdown",
   "source":[
    "Il y a 41 pays à moins de 2000 km de nous, et la plus grande majorité des pays est à moins de 10 000 km de nous."
   ],
   "attachments":{
    
   },
   "metadata":{
    "datalore":{
     "node_id":"doT6m5cDefGbfAIMe4OXdM",
     "type":"MD",
     "hide_input_from_viewers":true,
     "hide_output_from_viewers":true
    }
   }
  },
  {
   "cell_type":"markdown",
   "source":[
    "# 2 - Merge\n",
    "\n",
    "On fusionne les tables sur la variable pays ou son code ISO3"
   ],
   "attachments":{
    
   },
   "metadata":{
    "datalore":{
     "node_id":"XVqk2vNdR7vkd0DVZ8tpY4",
     "type":"MD",
     "hide_input_from_viewers":false,
     "hide_output_from_viewers":false,
     "report_properties":{
      
     }
    }
   }
  },
  {
   "cell_type":"markdown",
   "source":[
    "## 2.1 - \"Disponibilité alimentaire\" + \"Population\" "
   ],
   "attachments":{
    
   },
   "metadata":{
    "datalore":{
     "node_id":"J1O39DYpnZcxamERentFpB",
     "type":"MD",
     "hide_input_from_viewers":true,
     "hide_output_from_viewers":true
    }
   }
  },
  {
   "cell_type":"code",
   "source":[
    "df_etude_marche = df_dispo_alimentaire.merge(df_population, how= 'outer', on='Zone', indicator= 'True')\n",
    "df_etude_marche.head()"
   ],
   "execution_count":62,
   "outputs":[
    {
     "data":{
      "text\/html":[
       "<div>\n",
       "<style scoped>\n",
       "    .dataframe tbody tr th:only-of-type {\n",
       "        vertical-align: middle;\n",
       "    }\n",
       "\n",
       "    .dataframe tbody tr th {\n",
       "        vertical-align: top;\n",
       "    }\n",
       "\n",
       "    .dataframe thead th {\n",
       "        text-align: right;\n",
       "    }\n",
       "<\/style>\n",
       "<table border=\"1\" class=\"dataframe\">\n",
       "  <thead>\n",
       "    <tr style=\"text-align: right;\">\n",
       "      <th><\/th>\n",
       "      <th>Zone<\/th>\n",
       "      <th>Exportations (en millier de tonnes)<\/th>\n",
       "      <th>Importations (en millier de tonnes)<\/th>\n",
       "      <th>Nourriture (en millier de tonnes)<\/th>\n",
       "      <th>Production(en millier de tonnes)<\/th>\n",
       "      <th>Population en 2017 (en millier de personne)<\/th>\n",
       "      <th>True<\/th>\n",
       "    <\/tr>\n",
       "  <\/thead>\n",
       "  <tbody>\n",
       "    <tr>\n",
       "      <th>0<\/th>\n",
       "      <td>Afghanistan<\/td>\n",
       "      <td>0.0<\/td>\n",
       "      <td>29.0<\/td>\n",
       "      <td>55.0<\/td>\n",
       "      <td>28.0<\/td>\n",
       "      <td>36296.113<\/td>\n",
       "      <td>both<\/td>\n",
       "    <\/tr>\n",
       "    <tr>\n",
       "      <th>1<\/th>\n",
       "      <td>Afrique du Sud<\/td>\n",
       "      <td>63.0<\/td>\n",
       "      <td>514.0<\/td>\n",
       "      <td>2035.0<\/td>\n",
       "      <td>1667.0<\/td>\n",
       "      <td>57009.756<\/td>\n",
       "      <td>both<\/td>\n",
       "    <\/tr>\n",
       "    <tr>\n",
       "      <th>2<\/th>\n",
       "      <td>Albanie<\/td>\n",
       "      <td>0.0<\/td>\n",
       "      <td>38.0<\/td>\n",
       "      <td>47.0<\/td>\n",
       "      <td>13.0<\/td>\n",
       "      <td>2884.169<\/td>\n",
       "      <td>both<\/td>\n",
       "    <\/tr>\n",
       "    <tr>\n",
       "      <th>3<\/th>\n",
       "      <td>Algérie<\/td>\n",
       "      <td>0.0<\/td>\n",
       "      <td>2.0<\/td>\n",
       "      <td>264.0<\/td>\n",
       "      <td>275.0<\/td>\n",
       "      <td>41389.189<\/td>\n",
       "      <td>both<\/td>\n",
       "    <\/tr>\n",
       "    <tr>\n",
       "      <th>4<\/th>\n",
       "      <td>Allemagne<\/td>\n",
       "      <td>646.0<\/td>\n",
       "      <td>842.0<\/td>\n",
       "      <td>1609.0<\/td>\n",
       "      <td>1514.0<\/td>\n",
       "      <td>82658.409<\/td>\n",
       "      <td>both<\/td>\n",
       "    <\/tr>\n",
       "  <\/tbody>\n",
       "<\/table>\n",
       "<\/div>"
      ]
     },
     "metadata":{
      
     },
     "output_type":"display_data"
    }
   ],
   "metadata":{
    "datalore":{
     "node_id":"nuGtOxuRXhSaoZFoAtsKv4",
     "type":"CODE",
     "hide_input_from_viewers":false,
     "hide_output_from_viewers":false,
     "report_properties":{
      
     }
    }
   }
  },
  {
   "cell_type":"markdown",
   "source":[
    "On teste si pour chaque ligne, la fusion a trouvé des données dans chaque table."
   ],
   "attachments":{
    
   },
   "metadata":{
    "datalore":{
     "node_id":"CuLrvWDMAKAGRcywmFhEFs",
     "type":"MD",
     "hide_input_from_viewers":false,
     "hide_output_from_viewers":false,
     "report_properties":{
      
     }
    }
   }
  },
  {
   "cell_type":"code",
   "source":[
    "df_etude_marche['True'].unique()"
   ],
   "execution_count":63,
   "outputs":[
    {
     "data":{
      "text\/plain":[
       "['both', 'right_only']\n",
       "Categories (3, object): ['left_only', 'right_only', 'both']"
      ]
     },
     "metadata":{
      
     },
     "output_type":"display_data"
    }
   ],
   "metadata":{
    "datalore":{
     "node_id":"qAXZ7vhOuFFswn6TT5h969",
     "type":"CODE",
     "hide_input_from_viewers":false,
     "hide_output_from_viewers":false,
     "report_properties":{
      
     }
    }
   }
  },
  {
   "cell_type":"markdown",
   "source":[
    "On s'aperçoit, qu'il y a des données importées qui proviennent seulement de la table `df_population`\n",
    "On affiche lesquelles."
   ],
   "attachments":{
    
   },
   "metadata":{
    "datalore":{
     "node_id":"mIuWjj4cSZtFcgI21OayhM",
     "type":"MD",
     "hide_input_from_viewers":false,
     "hide_output_from_viewers":false,
     "report_properties":{
      
     }
    }
   }
  },
  {
   "cell_type":"code",
   "source":[
    "df_pays_sans_data = df_etude_marche[df_etude_marche['True'] == 'right_only']\n",
    "df_pays_sans_data"
   ],
   "execution_count":64,
   "outputs":[
    {
     "data":{
      "text\/html":[
       "<div>\n",
       "<style scoped>\n",
       "    .dataframe tbody tr th:only-of-type {\n",
       "        vertical-align: middle;\n",
       "    }\n",
       "\n",
       "    .dataframe tbody tr th {\n",
       "        vertical-align: top;\n",
       "    }\n",
       "\n",
       "    .dataframe thead th {\n",
       "        text-align: right;\n",
       "    }\n",
       "<\/style>\n",
       "<table border=\"1\" class=\"dataframe\">\n",
       "  <thead>\n",
       "    <tr style=\"text-align: right;\">\n",
       "      <th><\/th>\n",
       "      <th>Zone<\/th>\n",
       "      <th>Exportations (en millier de tonnes)<\/th>\n",
       "      <th>Importations (en millier de tonnes)<\/th>\n",
       "      <th>Nourriture (en millier de tonnes)<\/th>\n",
       "      <th>Production(en millier de tonnes)<\/th>\n",
       "      <th>Population en 2017 (en millier de personne)<\/th>\n",
       "      <th>True<\/th>\n",
       "    <\/tr>\n",
       "  <\/thead>\n",
       "  <tbody>\n",
       "    <tr>\n",
       "      <th>172<\/th>\n",
       "      <td>Andorre<\/td>\n",
       "      <td>NaN<\/td>\n",
       "      <td>NaN<\/td>\n",
       "      <td>NaN<\/td>\n",
       "      <td>NaN<\/td>\n",
       "      <td>77.001<\/td>\n",
       "      <td>right_only<\/td>\n",
       "    <\/tr>\n",
       "    <tr>\n",
       "      <th>173<\/th>\n",
       "      <td>Anguilla<\/td>\n",
       "      <td>NaN<\/td>\n",
       "      <td>NaN<\/td>\n",
       "      <td>NaN<\/td>\n",
       "      <td>NaN<\/td>\n",
       "      <td>14.584<\/td>\n",
       "      <td>right_only<\/td>\n",
       "    <\/tr>\n",
       "    <tr>\n",
       "      <th>174<\/th>\n",
       "      <td>Antilles néerlandaises (ex)<\/td>\n",
       "      <td>NaN<\/td>\n",
       "      <td>NaN<\/td>\n",
       "      <td>NaN<\/td>\n",
       "      <td>NaN<\/td>\n",
       "      <td>275.186<\/td>\n",
       "      <td>right_only<\/td>\n",
       "    <\/tr>\n",
       "    <tr>\n",
       "      <th>175<\/th>\n",
       "      <td>Aruba<\/td>\n",
       "      <td>NaN<\/td>\n",
       "      <td>NaN<\/td>\n",
       "      <td>NaN<\/td>\n",
       "      <td>NaN<\/td>\n",
       "      <td>105.366<\/td>\n",
       "      <td>right_only<\/td>\n",
       "    <\/tr>\n",
       "    <tr>\n",
       "      <th>176<\/th>\n",
       "      <td>Bahreïn<\/td>\n",
       "      <td>NaN<\/td>\n",
       "      <td>NaN<\/td>\n",
       "      <td>NaN<\/td>\n",
       "      <td>NaN<\/td>\n",
       "      <td>1494.076<\/td>\n",
       "      <td>right_only<\/td>\n",
       "    <\/tr>\n",
       "    <tr>\n",
       "      <th>...<\/th>\n",
       "      <td>...<\/td>\n",
       "      <td>...<\/td>\n",
       "      <td>...<\/td>\n",
       "      <td>...<\/td>\n",
       "      <td>...<\/td>\n",
       "      <td>...<\/td>\n",
       "      <td>...<\/td>\n",
       "    <\/tr>\n",
       "    <tr>\n",
       "      <th>233<\/th>\n",
       "      <td>Îles Marshall<\/td>\n",
       "      <td>NaN<\/td>\n",
       "      <td>NaN<\/td>\n",
       "      <td>NaN<\/td>\n",
       "      <td>NaN<\/td>\n",
       "      <td>58.058<\/td>\n",
       "      <td>right_only<\/td>\n",
       "    <\/tr>\n",
       "    <tr>\n",
       "      <th>234<\/th>\n",
       "      <td>Îles Turques-et-Caïques<\/td>\n",
       "      <td>NaN<\/td>\n",
       "      <td>NaN<\/td>\n",
       "      <td>NaN<\/td>\n",
       "      <td>NaN<\/td>\n",
       "      <td>37.115<\/td>\n",
       "      <td>right_only<\/td>\n",
       "    <\/tr>\n",
       "    <tr>\n",
       "      <th>235<\/th>\n",
       "      <td>Îles Vierges américaines<\/td>\n",
       "      <td>NaN<\/td>\n",
       "      <td>NaN<\/td>\n",
       "      <td>NaN<\/td>\n",
       "      <td>NaN<\/td>\n",
       "      <td>104.751<\/td>\n",
       "      <td>right_only<\/td>\n",
       "    <\/tr>\n",
       "    <tr>\n",
       "      <th>236<\/th>\n",
       "      <td>Îles Vierges britanniques<\/td>\n",
       "      <td>NaN<\/td>\n",
       "      <td>NaN<\/td>\n",
       "      <td>NaN<\/td>\n",
       "      <td>NaN<\/td>\n",
       "      <td>29.577<\/td>\n",
       "      <td>right_only<\/td>\n",
       "    <\/tr>\n",
       "    <tr>\n",
       "      <th>237<\/th>\n",
       "      <td>Îles Wallis-et-Futuna<\/td>\n",
       "      <td>NaN<\/td>\n",
       "      <td>NaN<\/td>\n",
       "      <td>NaN<\/td>\n",
       "      <td>NaN<\/td>\n",
       "      <td>11.900<\/td>\n",
       "      <td>right_only<\/td>\n",
       "    <\/tr>\n",
       "  <\/tbody>\n",
       "<\/table>\n",
       "<p>66 rows × 7 columns<\/p>\n",
       "<\/div>"
      ]
     },
     "metadata":{
      
     },
     "output_type":"display_data"
    }
   ],
   "metadata":{
    "datalore":{
     "node_id":"gedULE9V7I6tnmf1MMP9g0",
     "type":"CODE",
     "hide_input_from_viewers":false,
     "hide_output_from_viewers":false,
     "report_properties":{
      
     }
    }
   }
  },
  {
   "cell_type":"markdown",
   "source":[
    "La liste des pays que nous avons ici sont des pays qui ne sont pas partenaires à la FAO, et qui n'ont pas communiqué sur leurs données, on peut supprimer ces lignes du jeu de données."
   ],
   "attachments":{
    
   },
   "metadata":{
    "datalore":{
     "node_id":"NLz0lss2NjSXLCKSHLWfmi",
     "type":"MD",
     "hide_input_from_viewers":false,
     "hide_output_from_viewers":false,
     "report_properties":{
      
     }
    }
   }
  },
  {
   "cell_type":"code",
   "source":[
    "df_etude_marche = df_etude_marche.loc[df_etude_marche['True'] == 'both'].drop(columns='True')\n",
    "\n",
    "df_etude_marche.head()"
   ],
   "execution_count":65,
   "outputs":[
    {
     "data":{
      "text\/html":[
       "<div>\n",
       "<style scoped>\n",
       "    .dataframe tbody tr th:only-of-type {\n",
       "        vertical-align: middle;\n",
       "    }\n",
       "\n",
       "    .dataframe tbody tr th {\n",
       "        vertical-align: top;\n",
       "    }\n",
       "\n",
       "    .dataframe thead th {\n",
       "        text-align: right;\n",
       "    }\n",
       "<\/style>\n",
       "<table border=\"1\" class=\"dataframe\">\n",
       "  <thead>\n",
       "    <tr style=\"text-align: right;\">\n",
       "      <th><\/th>\n",
       "      <th>Zone<\/th>\n",
       "      <th>Exportations (en millier de tonnes)<\/th>\n",
       "      <th>Importations (en millier de tonnes)<\/th>\n",
       "      <th>Nourriture (en millier de tonnes)<\/th>\n",
       "      <th>Production(en millier de tonnes)<\/th>\n",
       "      <th>Population en 2017 (en millier de personne)<\/th>\n",
       "    <\/tr>\n",
       "  <\/thead>\n",
       "  <tbody>\n",
       "    <tr>\n",
       "      <th>0<\/th>\n",
       "      <td>Afghanistan<\/td>\n",
       "      <td>0.0<\/td>\n",
       "      <td>29.0<\/td>\n",
       "      <td>55.0<\/td>\n",
       "      <td>28.0<\/td>\n",
       "      <td>36296.113<\/td>\n",
       "    <\/tr>\n",
       "    <tr>\n",
       "      <th>1<\/th>\n",
       "      <td>Afrique du Sud<\/td>\n",
       "      <td>63.0<\/td>\n",
       "      <td>514.0<\/td>\n",
       "      <td>2035.0<\/td>\n",
       "      <td>1667.0<\/td>\n",
       "      <td>57009.756<\/td>\n",
       "    <\/tr>\n",
       "    <tr>\n",
       "      <th>2<\/th>\n",
       "      <td>Albanie<\/td>\n",
       "      <td>0.0<\/td>\n",
       "      <td>38.0<\/td>\n",
       "      <td>47.0<\/td>\n",
       "      <td>13.0<\/td>\n",
       "      <td>2884.169<\/td>\n",
       "    <\/tr>\n",
       "    <tr>\n",
       "      <th>3<\/th>\n",
       "      <td>Algérie<\/td>\n",
       "      <td>0.0<\/td>\n",
       "      <td>2.0<\/td>\n",
       "      <td>264.0<\/td>\n",
       "      <td>275.0<\/td>\n",
       "      <td>41389.189<\/td>\n",
       "    <\/tr>\n",
       "    <tr>\n",
       "      <th>4<\/th>\n",
       "      <td>Allemagne<\/td>\n",
       "      <td>646.0<\/td>\n",
       "      <td>842.0<\/td>\n",
       "      <td>1609.0<\/td>\n",
       "      <td>1514.0<\/td>\n",
       "      <td>82658.409<\/td>\n",
       "    <\/tr>\n",
       "  <\/tbody>\n",
       "<\/table>\n",
       "<\/div>"
      ]
     },
     "metadata":{
      
     },
     "output_type":"display_data"
    }
   ],
   "metadata":{
    "datalore":{
     "node_id":"B2SsUKtuxmLmubx701J9QR",
     "type":"CODE",
     "hide_input_from_viewers":false,
     "hide_output_from_viewers":false,
     "report_properties":{
      
     }
    }
   }
  },
  {
   "cell_type":"markdown",
   "source":[
    "## 2.2 - Ajout de la \"Stabilité Politique\""
   ],
   "attachments":{
    
   },
   "metadata":{
    "datalore":{
     "node_id":"3NJWHxwnbXWr5ISFrFJGBn",
     "type":"MD",
     "hide_input_from_viewers":true,
     "hide_output_from_viewers":true
    }
   }
  },
  {
   "cell_type":"code",
   "source":[
    "df_etude_marche = df_etude_marche.merge(df_stabilite_politique, how= 'outer', on='Zone', indicator= 'True')"
   ],
   "execution_count":66,
   "outputs":[
    
   ],
   "metadata":{
    "datalore":{
     "node_id":"Dami93ohATvZrEskAaTlOj",
     "type":"CODE",
     "hide_input_from_viewers":false,
     "hide_output_from_viewers":false,
     "report_properties":{
      
     }
    }
   }
  },
  {
   "cell_type":"code",
   "source":[
    "df_etude_marche.head()"
   ],
   "execution_count":67,
   "outputs":[
    {
     "data":{
      "text\/html":[
       "<div>\n",
       "<style scoped>\n",
       "    .dataframe tbody tr th:only-of-type {\n",
       "        vertical-align: middle;\n",
       "    }\n",
       "\n",
       "    .dataframe tbody tr th {\n",
       "        vertical-align: top;\n",
       "    }\n",
       "\n",
       "    .dataframe thead th {\n",
       "        text-align: right;\n",
       "    }\n",
       "<\/style>\n",
       "<table border=\"1\" class=\"dataframe\">\n",
       "  <thead>\n",
       "    <tr style=\"text-align: right;\">\n",
       "      <th><\/th>\n",
       "      <th>Zone<\/th>\n",
       "      <th>Exportations (en millier de tonnes)<\/th>\n",
       "      <th>Importations (en millier de tonnes)<\/th>\n",
       "      <th>Nourriture (en millier de tonnes)<\/th>\n",
       "      <th>Production(en millier de tonnes)<\/th>\n",
       "      <th>Population en 2017 (en millier de personne)<\/th>\n",
       "      <th>Stabilité politique<\/th>\n",
       "      <th>True<\/th>\n",
       "    <\/tr>\n",
       "  <\/thead>\n",
       "  <tbody>\n",
       "    <tr>\n",
       "      <th>0<\/th>\n",
       "      <td>Afghanistan<\/td>\n",
       "      <td>0.0<\/td>\n",
       "      <td>29.0<\/td>\n",
       "      <td>55.0<\/td>\n",
       "      <td>28.0<\/td>\n",
       "      <td>36296.113<\/td>\n",
       "      <td>-2.80<\/td>\n",
       "      <td>both<\/td>\n",
       "    <\/tr>\n",
       "    <tr>\n",
       "      <th>1<\/th>\n",
       "      <td>Afrique du Sud<\/td>\n",
       "      <td>63.0<\/td>\n",
       "      <td>514.0<\/td>\n",
       "      <td>2035.0<\/td>\n",
       "      <td>1667.0<\/td>\n",
       "      <td>57009.756<\/td>\n",
       "      <td>-0.28<\/td>\n",
       "      <td>both<\/td>\n",
       "    <\/tr>\n",
       "    <tr>\n",
       "      <th>2<\/th>\n",
       "      <td>Albanie<\/td>\n",
       "      <td>0.0<\/td>\n",
       "      <td>38.0<\/td>\n",
       "      <td>47.0<\/td>\n",
       "      <td>13.0<\/td>\n",
       "      <td>2884.169<\/td>\n",
       "      <td>0.38<\/td>\n",
       "      <td>both<\/td>\n",
       "    <\/tr>\n",
       "    <tr>\n",
       "      <th>3<\/th>\n",
       "      <td>Algérie<\/td>\n",
       "      <td>0.0<\/td>\n",
       "      <td>2.0<\/td>\n",
       "      <td>264.0<\/td>\n",
       "      <td>275.0<\/td>\n",
       "      <td>41389.189<\/td>\n",
       "      <td>-0.92<\/td>\n",
       "      <td>both<\/td>\n",
       "    <\/tr>\n",
       "    <tr>\n",
       "      <th>4<\/th>\n",
       "      <td>Allemagne<\/td>\n",
       "      <td>646.0<\/td>\n",
       "      <td>842.0<\/td>\n",
       "      <td>1609.0<\/td>\n",
       "      <td>1514.0<\/td>\n",
       "      <td>82658.409<\/td>\n",
       "      <td>0.59<\/td>\n",
       "      <td>both<\/td>\n",
       "    <\/tr>\n",
       "  <\/tbody>\n",
       "<\/table>\n",
       "<\/div>"
      ]
     },
     "metadata":{
      
     },
     "output_type":"display_data"
    }
   ],
   "metadata":{
    "datalore":{
     "node_id":"8NsotFe1HH3aRH13OEWPWg",
     "type":"CODE",
     "hide_input_from_viewers":false,
     "hide_output_from_viewers":false,
     "report_properties":{
      
     }
    }
   }
  },
  {
   "cell_type":"markdown",
   "source":[
    "On teste si pour chaque ligne, la fusion a trouvé des données dans chaque table."
   ],
   "attachments":{
    
   },
   "metadata":{
    "datalore":{
     "node_id":"coR55izm8f7f0oFnkOYJRn",
     "type":"MD",
     "hide_input_from_viewers":true,
     "hide_output_from_viewers":true
    }
   }
  },
  {
   "cell_type":"code",
   "source":[
    "df_etude_marche['True'].unique()"
   ],
   "execution_count":68,
   "outputs":[
    {
     "data":{
      "text\/plain":[
       "['both', 'left_only', 'right_only']\n",
       "Categories (3, object): ['left_only', 'right_only', 'both']"
      ]
     },
     "metadata":{
      
     },
     "output_type":"display_data"
    }
   ],
   "metadata":{
    "datalore":{
     "node_id":"ZtJMvD9cBUrKqSGYoOcJOE",
     "type":"CODE",
     "hide_input_from_viewers":true,
     "hide_output_from_viewers":true
    }
   }
  },
  {
   "cell_type":"markdown",
   "source":[
    "On s'aperçoit, qu'il y a des données importées qui proviennent seulement de la table `df_stabilite_politique`\n",
    "On affiche lesquelles."
   ],
   "attachments":{
    
   },
   "metadata":{
    "datalore":{
     "node_id":"tK3n1zTOUj1Z6bQZwXKSvB",
     "type":"MD",
     "hide_input_from_viewers":true,
     "hide_output_from_viewers":true
    }
   }
  },
  {
   "cell_type":"code",
   "source":[
    "df_etude_marche[df_etude_marche['True'] == 'right_only']"
   ],
   "execution_count":69,
   "outputs":[
    {
     "data":{
      "text\/html":[
       "<div>\n",
       "<style scoped>\n",
       "    .dataframe tbody tr th:only-of-type {\n",
       "        vertical-align: middle;\n",
       "    }\n",
       "\n",
       "    .dataframe tbody tr th {\n",
       "        vertical-align: top;\n",
       "    }\n",
       "\n",
       "    .dataframe thead th {\n",
       "        text-align: right;\n",
       "    }\n",
       "<\/style>\n",
       "<table border=\"1\" class=\"dataframe\">\n",
       "  <thead>\n",
       "    <tr style=\"text-align: right;\">\n",
       "      <th><\/th>\n",
       "      <th>Zone<\/th>\n",
       "      <th>Exportations (en millier de tonnes)<\/th>\n",
       "      <th>Importations (en millier de tonnes)<\/th>\n",
       "      <th>Nourriture (en millier de tonnes)<\/th>\n",
       "      <th>Production(en millier de tonnes)<\/th>\n",
       "      <th>Population en 2017 (en millier de personne)<\/th>\n",
       "      <th>Stabilité politique<\/th>\n",
       "      <th>True<\/th>\n",
       "    <\/tr>\n",
       "  <\/thead>\n",
       "  <tbody>\n",
       "    <tr>\n",
       "      <th>172<\/th>\n",
       "      <td>Andorre<\/td>\n",
       "      <td>NaN<\/td>\n",
       "      <td>NaN<\/td>\n",
       "      <td>NaN<\/td>\n",
       "      <td>NaN<\/td>\n",
       "      <td>NaN<\/td>\n",
       "      <td>1.42<\/td>\n",
       "      <td>right_only<\/td>\n",
       "    <\/tr>\n",
       "    <tr>\n",
       "      <th>173<\/th>\n",
       "      <td>Bahreïn<\/td>\n",
       "      <td>NaN<\/td>\n",
       "      <td>NaN<\/td>\n",
       "      <td>NaN<\/td>\n",
       "      <td>NaN<\/td>\n",
       "      <td>NaN<\/td>\n",
       "      <td>-0.96<\/td>\n",
       "      <td>right_only<\/td>\n",
       "    <\/tr>\n",
       "    <tr>\n",
       "      <th>174<\/th>\n",
       "      <td>Bermudes<\/td>\n",
       "      <td>NaN<\/td>\n",
       "      <td>NaN<\/td>\n",
       "      <td>NaN<\/td>\n",
       "      <td>NaN<\/td>\n",
       "      <td>NaN<\/td>\n",
       "      <td>1.00<\/td>\n",
       "      <td>right_only<\/td>\n",
       "    <\/tr>\n",
       "    <tr>\n",
       "      <th>175<\/th>\n",
       "      <td>Bhoutan<\/td>\n",
       "      <td>NaN<\/td>\n",
       "      <td>NaN<\/td>\n",
       "      <td>NaN<\/td>\n",
       "      <td>NaN<\/td>\n",
       "      <td>NaN<\/td>\n",
       "      <td>1.12<\/td>\n",
       "      <td>right_only<\/td>\n",
       "    <\/tr>\n",
       "    <tr>\n",
       "      <th>176<\/th>\n",
       "      <td>Brunéi Darussalam<\/td>\n",
       "      <td>NaN<\/td>\n",
       "      <td>NaN<\/td>\n",
       "      <td>NaN<\/td>\n",
       "      <td>NaN<\/td>\n",
       "      <td>NaN<\/td>\n",
       "      <td>1.16<\/td>\n",
       "      <td>right_only<\/td>\n",
       "    <\/tr>\n",
       "    <tr>\n",
       "      <th>177<\/th>\n",
       "      <td>Burundi<\/td>\n",
       "      <td>NaN<\/td>\n",
       "      <td>NaN<\/td>\n",
       "      <td>NaN<\/td>\n",
       "      <td>NaN<\/td>\n",
       "      <td>NaN<\/td>\n",
       "      <td>-2.01<\/td>\n",
       "      <td>right_only<\/td>\n",
       "    <\/tr>\n",
       "    <tr>\n",
       "      <th>178<\/th>\n",
       "      <td>Comores<\/td>\n",
       "      <td>NaN<\/td>\n",
       "      <td>NaN<\/td>\n",
       "      <td>NaN<\/td>\n",
       "      <td>NaN<\/td>\n",
       "      <td>NaN<\/td>\n",
       "      <td>0.04<\/td>\n",
       "      <td>right_only<\/td>\n",
       "    <\/tr>\n",
       "    <tr>\n",
       "      <th>179<\/th>\n",
       "      <td>Érythrée<\/td>\n",
       "      <td>NaN<\/td>\n",
       "      <td>NaN<\/td>\n",
       "      <td>NaN<\/td>\n",
       "      <td>NaN<\/td>\n",
       "      <td>NaN<\/td>\n",
       "      <td>-0.73<\/td>\n",
       "      <td>right_only<\/td>\n",
       "    <\/tr>\n",
       "    <tr>\n",
       "      <th>180<\/th>\n",
       "      <td>Groenland<\/td>\n",
       "      <td>NaN<\/td>\n",
       "      <td>NaN<\/td>\n",
       "      <td>NaN<\/td>\n",
       "      <td>NaN<\/td>\n",
       "      <td>NaN<\/td>\n",
       "      <td>1.92<\/td>\n",
       "      <td>right_only<\/td>\n",
       "    <\/tr>\n",
       "    <tr>\n",
       "      <th>181<\/th>\n",
       "      <td>Guinée équatoriale<\/td>\n",
       "      <td>NaN<\/td>\n",
       "      <td>NaN<\/td>\n",
       "      <td>NaN<\/td>\n",
       "      <td>NaN<\/td>\n",
       "      <td>NaN<\/td>\n",
       "      <td>-0.17<\/td>\n",
       "      <td>right_only<\/td>\n",
       "    <\/tr>\n",
       "    <tr>\n",
       "      <th>182<\/th>\n",
       "      <td>Îles Marshall<\/td>\n",
       "      <td>NaN<\/td>\n",
       "      <td>NaN<\/td>\n",
       "      <td>NaN<\/td>\n",
       "      <td>NaN<\/td>\n",
       "      <td>NaN<\/td>\n",
       "      <td>0.87<\/td>\n",
       "      <td>right_only<\/td>\n",
       "    <\/tr>\n",
       "    <tr>\n",
       "      <th>183<\/th>\n",
       "      <td>Libye<\/td>\n",
       "      <td>NaN<\/td>\n",
       "      <td>NaN<\/td>\n",
       "      <td>NaN<\/td>\n",
       "      <td>NaN<\/td>\n",
       "      <td>NaN<\/td>\n",
       "      <td>-2.36<\/td>\n",
       "      <td>right_only<\/td>\n",
       "    <\/tr>\n",
       "    <tr>\n",
       "      <th>184<\/th>\n",
       "      <td>Micronésie (États fédérés de)<\/td>\n",
       "      <td>NaN<\/td>\n",
       "      <td>NaN<\/td>\n",
       "      <td>NaN<\/td>\n",
       "      <td>NaN<\/td>\n",
       "      <td>NaN<\/td>\n",
       "      <td>1.18<\/td>\n",
       "      <td>right_only<\/td>\n",
       "    <\/tr>\n",
       "    <tr>\n",
       "      <th>185<\/th>\n",
       "      <td>Nauru<\/td>\n",
       "      <td>NaN<\/td>\n",
       "      <td>NaN<\/td>\n",
       "      <td>NaN<\/td>\n",
       "      <td>NaN<\/td>\n",
       "      <td>NaN<\/td>\n",
       "      <td>0.52<\/td>\n",
       "      <td>right_only<\/td>\n",
       "    <\/tr>\n",
       "    <tr>\n",
       "      <th>186<\/th>\n",
       "      <td>Palaos<\/td>\n",
       "      <td>NaN<\/td>\n",
       "      <td>NaN<\/td>\n",
       "      <td>NaN<\/td>\n",
       "      <td>NaN<\/td>\n",
       "      <td>NaN<\/td>\n",
       "      <td>0.87<\/td>\n",
       "      <td>right_only<\/td>\n",
       "    <\/tr>\n",
       "    <tr>\n",
       "      <th>187<\/th>\n",
       "      <td>Palestine<\/td>\n",
       "      <td>NaN<\/td>\n",
       "      <td>NaN<\/td>\n",
       "      <td>NaN<\/td>\n",
       "      <td>NaN<\/td>\n",
       "      <td>NaN<\/td>\n",
       "      <td>-1.66<\/td>\n",
       "      <td>right_only<\/td>\n",
       "    <\/tr>\n",
       "    <tr>\n",
       "      <th>188<\/th>\n",
       "      <td>Papouasie-Nouvelle-Guinée<\/td>\n",
       "      <td>NaN<\/td>\n",
       "      <td>NaN<\/td>\n",
       "      <td>NaN<\/td>\n",
       "      <td>NaN<\/td>\n",
       "      <td>NaN<\/td>\n",
       "      <td>-0.70<\/td>\n",
       "      <td>right_only<\/td>\n",
       "    <\/tr>\n",
       "    <tr>\n",
       "      <th>189<\/th>\n",
       "      <td>Porto Rico<\/td>\n",
       "      <td>NaN<\/td>\n",
       "      <td>NaN<\/td>\n",
       "      <td>NaN<\/td>\n",
       "      <td>NaN<\/td>\n",
       "      <td>NaN<\/td>\n",
       "      <td>0.48<\/td>\n",
       "      <td>right_only<\/td>\n",
       "    <\/tr>\n",
       "    <tr>\n",
       "      <th>190<\/th>\n",
       "      <td>Qatar<\/td>\n",
       "      <td>NaN<\/td>\n",
       "      <td>NaN<\/td>\n",
       "      <td>NaN<\/td>\n",
       "      <td>NaN<\/td>\n",
       "      <td>NaN<\/td>\n",
       "      <td>0.66<\/td>\n",
       "      <td>right_only<\/td>\n",
       "    <\/tr>\n",
       "    <tr>\n",
       "      <th>191<\/th>\n",
       "      <td>République arabe syrienne<\/td>\n",
       "      <td>NaN<\/td>\n",
       "      <td>NaN<\/td>\n",
       "      <td>NaN<\/td>\n",
       "      <td>NaN<\/td>\n",
       "      <td>NaN<\/td>\n",
       "      <td>-2.62<\/td>\n",
       "      <td>right_only<\/td>\n",
       "    <\/tr>\n",
       "    <tr>\n",
       "      <th>192<\/th>\n",
       "      <td>République démocratique du Congo<\/td>\n",
       "      <td>NaN<\/td>\n",
       "      <td>NaN<\/td>\n",
       "      <td>NaN<\/td>\n",
       "      <td>NaN<\/td>\n",
       "      <td>NaN<\/td>\n",
       "      <td>-2.30<\/td>\n",
       "      <td>right_only<\/td>\n",
       "    <\/tr>\n",
       "    <tr>\n",
       "      <th>193<\/th>\n",
       "      <td>Samoa américaines<\/td>\n",
       "      <td>NaN<\/td>\n",
       "      <td>NaN<\/td>\n",
       "      <td>NaN<\/td>\n",
       "      <td>NaN<\/td>\n",
       "      <td>NaN<\/td>\n",
       "      <td>1.22<\/td>\n",
       "      <td>right_only<\/td>\n",
       "    <\/tr>\n",
       "    <tr>\n",
       "      <th>194<\/th>\n",
       "      <td>Seychelles<\/td>\n",
       "      <td>NaN<\/td>\n",
       "      <td>NaN<\/td>\n",
       "      <td>NaN<\/td>\n",
       "      <td>NaN<\/td>\n",
       "      <td>NaN<\/td>\n",
       "      <td>0.79<\/td>\n",
       "      <td>right_only<\/td>\n",
       "    <\/tr>\n",
       "    <tr>\n",
       "      <th>195<\/th>\n",
       "      <td>Singapour<\/td>\n",
       "      <td>NaN<\/td>\n",
       "      <td>NaN<\/td>\n",
       "      <td>NaN<\/td>\n",
       "      <td>NaN<\/td>\n",
       "      <td>NaN<\/td>\n",
       "      <td>1.62<\/td>\n",
       "      <td>right_only<\/td>\n",
       "    <\/tr>\n",
       "    <tr>\n",
       "      <th>196<\/th>\n",
       "      <td>Somalie<\/td>\n",
       "      <td>NaN<\/td>\n",
       "      <td>NaN<\/td>\n",
       "      <td>NaN<\/td>\n",
       "      <td>NaN<\/td>\n",
       "      <td>NaN<\/td>\n",
       "      <td>-2.26<\/td>\n",
       "      <td>right_only<\/td>\n",
       "    <\/tr>\n",
       "    <tr>\n",
       "      <th>197<\/th>\n",
       "      <td>Soudan du Sud<\/td>\n",
       "      <td>NaN<\/td>\n",
       "      <td>NaN<\/td>\n",
       "      <td>NaN<\/td>\n",
       "      <td>NaN<\/td>\n",
       "      <td>NaN<\/td>\n",
       "      <td>-2.45<\/td>\n",
       "      <td>right_only<\/td>\n",
       "    <\/tr>\n",
       "    <tr>\n",
       "      <th>198<\/th>\n",
       "      <td>Tonga<\/td>\n",
       "      <td>NaN<\/td>\n",
       "      <td>NaN<\/td>\n",
       "      <td>NaN<\/td>\n",
       "      <td>NaN<\/td>\n",
       "      <td>NaN<\/td>\n",
       "      <td>0.79<\/td>\n",
       "      <td>right_only<\/td>\n",
       "    <\/tr>\n",
       "    <tr>\n",
       "      <th>199<\/th>\n",
       "      <td>Tuvalu<\/td>\n",
       "      <td>NaN<\/td>\n",
       "      <td>NaN<\/td>\n",
       "      <td>NaN<\/td>\n",
       "      <td>NaN<\/td>\n",
       "      <td>NaN<\/td>\n",
       "      <td>1.24<\/td>\n",
       "      <td>right_only<\/td>\n",
       "    <\/tr>\n",
       "  <\/tbody>\n",
       "<\/table>\n",
       "<\/div>"
      ]
     },
     "metadata":{
      
     },
     "output_type":"display_data"
    }
   ],
   "metadata":{
    "datalore":{
     "node_id":"g0ChLBXicvlLLird85o2Uj",
     "type":"CODE",
     "hide_input_from_viewers":true,
     "hide_output_from_viewers":true
    }
   }
  },
  {
   "cell_type":"markdown",
   "source":[
    "Comme précédemment, on peut voir que ce sont des pays qui n'ont pas voulu partager leurs informations sur leurs disponibilités alimentaires au sein de l'association. On va pouvoir les supprimer."
   ],
   "attachments":{
    
   },
   "metadata":{
    "datalore":{
     "node_id":"KkWVg2eI2pJjdlbtgo38u9",
     "type":"MD",
     "hide_input_from_viewers":true,
     "hide_output_from_viewers":true
    }
   }
  },
  {
   "cell_type":"markdown",
   "source":[
    "On s'aperçoit, qu'il y a des données importées qui n'ont pas de correspondance dans la table `df_stabilite_politique`\n",
    "On affiche lesquelles."
   ],
   "attachments":{
    
   },
   "metadata":{
    "datalore":{
     "node_id":"iF4TugAc1eWn5eIezah5FB",
     "type":"MD",
     "hide_input_from_viewers":true,
     "hide_output_from_viewers":true
    }
   }
  },
  {
   "cell_type":"code",
   "source":[
    "df_etude_marche[df_etude_marche['True'] == 'left_only']"
   ],
   "execution_count":70,
   "outputs":[
    {
     "data":{
      "text\/html":[
       "<div>\n",
       "<style scoped>\n",
       "    .dataframe tbody tr th:only-of-type {\n",
       "        vertical-align: middle;\n",
       "    }\n",
       "\n",
       "    .dataframe tbody tr th {\n",
       "        vertical-align: top;\n",
       "    }\n",
       "\n",
       "    .dataframe thead th {\n",
       "        text-align: right;\n",
       "    }\n",
       "<\/style>\n",
       "<table border=\"1\" class=\"dataframe\">\n",
       "  <thead>\n",
       "    <tr style=\"text-align: right;\">\n",
       "      <th><\/th>\n",
       "      <th>Zone<\/th>\n",
       "      <th>Exportations (en millier de tonnes)<\/th>\n",
       "      <th>Importations (en millier de tonnes)<\/th>\n",
       "      <th>Nourriture (en millier de tonnes)<\/th>\n",
       "      <th>Production(en millier de tonnes)<\/th>\n",
       "      <th>Population en 2017 (en millier de personne)<\/th>\n",
       "      <th>Stabilité politique<\/th>\n",
       "      <th>True<\/th>\n",
       "    <\/tr>\n",
       "  <\/thead>\n",
       "  <tbody>\n",
       "    <tr>\n",
       "      <th>34<\/th>\n",
       "      <td>Chine, continentale<\/td>\n",
       "      <td>576.0<\/td>\n",
       "      <td>452.0<\/td>\n",
       "      <td>17518.0<\/td>\n",
       "      <td>18236.0<\/td>\n",
       "      <td>1421021.791<\/td>\n",
       "      <td>NaN<\/td>\n",
       "      <td>left_only<\/td>\n",
       "    <\/tr>\n",
       "    <tr>\n",
       "      <th>108<\/th>\n",
       "      <td>Nouvelle-Calédonie<\/td>\n",
       "      <td>0.0<\/td>\n",
       "      <td>9.0<\/td>\n",
       "      <td>11.0<\/td>\n",
       "      <td>1.0<\/td>\n",
       "      <td>277.150<\/td>\n",
       "      <td>NaN<\/td>\n",
       "      <td>left_only<\/td>\n",
       "    <\/tr>\n",
       "    <tr>\n",
       "      <th>120<\/th>\n",
       "      <td>Polynésie française<\/td>\n",
       "      <td>0.0<\/td>\n",
       "      <td>15.0<\/td>\n",
       "      <td>13.0<\/td>\n",
       "      <td>1.0<\/td>\n",
       "      <td>276.102<\/td>\n",
       "      <td>NaN<\/td>\n",
       "      <td>left_only<\/td>\n",
       "    <\/tr>\n",
       "  <\/tbody>\n",
       "<\/table>\n",
       "<\/div>"
      ]
     },
     "metadata":{
      
     },
     "output_type":"display_data"
    }
   ],
   "metadata":{
    "datalore":{
     "node_id":"OGX06VcZZwbavbnh0EqKHm",
     "type":"CODE",
     "hide_input_from_viewers":true,
     "hide_output_from_viewers":true
    }
   }
  },
  {
   "cell_type":"markdown",
   "source":[
    "Les trois pays pour lesquelles il n'y a pas de valeur pour la stabilité politique sont la Chine, la Nouvelle-Calédonie et la Polynésie française. Pour la Nouvelle-Calédonie et la Polynésie française, on va pouvoir prendre la valeur de la France parce que ce sont des territoires d'outre mers français. Et pour la Chine, on va regarder ça dans le détail."
   ],
   "attachments":{
    
   },
   "metadata":{
    "datalore":{
     "node_id":"eZOBeYxrBRzRtEarOV5O2h",
     "type":"MD",
     "hide_input_from_viewers":true,
     "hide_output_from_viewers":true
    }
   }
  },
  {
   "cell_type":"code",
   "source":[
    "# Valeur de la stabilité politique de la France\n",
    "df_etude_marche[df_etude_marche[\"Zone\"].str.contains(\"France\")]['Stabilité politique']"
   ],
   "execution_count":71,
   "outputs":[
    {
     "data":{
      "text\/html":[
       "<pre>51    0.28\n",
       "Name: Stabilité politique, dtype: float64<\/pre>"
      ]
     },
     "metadata":{
      
     },
     "output_type":"display_data"
    }
   ],
   "metadata":{
    "datalore":{
     "node_id":"o9i1pVmjxELGA9CezyiENr",
     "type":"CODE",
     "hide_input_from_viewers":true,
     "hide_output_from_viewers":true
    }
   }
  },
  {
   "cell_type":"code",
   "source":[
    "# Remplacement de la valeur pour la Nouvelle-calédonie et la polynésie française par celle de la france\n",
    "index1 = df_etude_marche[df_etude_marche[\"Zone\"].str.contains(\"Nouvelle-Calédonie\")].index[0]\n",
    "index2 = df_etude_marche[df_etude_marche[\"Zone\"].str.contains(\"Polynésie française\")].index[0]\n",
    "\n",
    "df_etude_marche.loc[(index1, index2), \n",
    "                    'Stabilité politique'] = df_etude_marche[\n",
    "                    df_etude_marche[\"Zone\"].str.contains(\"France\")]['Stabilité politique'].values[0]"
   ],
   "execution_count":72,
   "outputs":[
    
   ],
   "metadata":{
    "datalore":{
     "node_id":"Hr5lF8QvaZP6exZmgcQAzd",
     "type":"CODE",
     "hide_input_from_viewers":true,
     "hide_output_from_viewers":true
    }
   }
  },
  {
   "cell_type":"code",
   "source":[
    "df_etude_marche[df_etude_marche['True'] == 'left_only']"
   ],
   "execution_count":73,
   "outputs":[
    {
     "data":{
      "text\/html":[
       "<div>\n",
       "<style scoped>\n",
       "    .dataframe tbody tr th:only-of-type {\n",
       "        vertical-align: middle;\n",
       "    }\n",
       "\n",
       "    .dataframe tbody tr th {\n",
       "        vertical-align: top;\n",
       "    }\n",
       "\n",
       "    .dataframe thead th {\n",
       "        text-align: right;\n",
       "    }\n",
       "<\/style>\n",
       "<table border=\"1\" class=\"dataframe\">\n",
       "  <thead>\n",
       "    <tr style=\"text-align: right;\">\n",
       "      <th><\/th>\n",
       "      <th>Zone<\/th>\n",
       "      <th>Exportations (en millier de tonnes)<\/th>\n",
       "      <th>Importations (en millier de tonnes)<\/th>\n",
       "      <th>Nourriture (en millier de tonnes)<\/th>\n",
       "      <th>Production(en millier de tonnes)<\/th>\n",
       "      <th>Population en 2017 (en millier de personne)<\/th>\n",
       "      <th>Stabilité politique<\/th>\n",
       "      <th>True<\/th>\n",
       "    <\/tr>\n",
       "  <\/thead>\n",
       "  <tbody>\n",
       "    <tr>\n",
       "      <th>34<\/th>\n",
       "      <td>Chine, continentale<\/td>\n",
       "      <td>576.0<\/td>\n",
       "      <td>452.0<\/td>\n",
       "      <td>17518.0<\/td>\n",
       "      <td>18236.0<\/td>\n",
       "      <td>1421021.791<\/td>\n",
       "      <td>NaN<\/td>\n",
       "      <td>left_only<\/td>\n",
       "    <\/tr>\n",
       "    <tr>\n",
       "      <th>108<\/th>\n",
       "      <td>Nouvelle-Calédonie<\/td>\n",
       "      <td>0.0<\/td>\n",
       "      <td>9.0<\/td>\n",
       "      <td>11.0<\/td>\n",
       "      <td>1.0<\/td>\n",
       "      <td>277.150<\/td>\n",
       "      <td>0.28<\/td>\n",
       "      <td>left_only<\/td>\n",
       "    <\/tr>\n",
       "    <tr>\n",
       "      <th>120<\/th>\n",
       "      <td>Polynésie française<\/td>\n",
       "      <td>0.0<\/td>\n",
       "      <td>15.0<\/td>\n",
       "      <td>13.0<\/td>\n",
       "      <td>1.0<\/td>\n",
       "      <td>276.102<\/td>\n",
       "      <td>0.28<\/td>\n",
       "      <td>left_only<\/td>\n",
       "    <\/tr>\n",
       "  <\/tbody>\n",
       "<\/table>\n",
       "<\/div>"
      ]
     },
     "metadata":{
      
     },
     "output_type":"display_data"
    }
   ],
   "metadata":{
    "datalore":{
     "node_id":"sZImg3SHBL7JYVrARHY5H5",
     "type":"CODE",
     "hide_input_from_viewers":true,
     "hide_output_from_viewers":true
    }
   }
  },
  {
   "cell_type":"markdown",
   "source":[
    "Pour la Chine, on va regarder sur une autre source de données sur la stabilité politique afin de pouvoir renseigner  la valeur. On affiche d'abord ce qu'on a dans notre jeu de données afin de pouvoir comparer toutes les valeurs."
   ],
   "attachments":{
    
   },
   "metadata":{
    "datalore":{
     "node_id":"pMVZuEnXcQo1Lj1BKO9D29",
     "type":"MD",
     "hide_input_from_viewers":true,
     "hide_output_from_viewers":true
    }
   }
  },
  {
   "cell_type":"code",
   "source":[
    "df_etude_marche[df_etude_marche[\"Zone\"].str.contains(\"Chine\")]"
   ],
   "execution_count":74,
   "outputs":[
    {
     "data":{
      "text\/html":[
       "<div>\n",
       "<style scoped>\n",
       "    .dataframe tbody tr th:only-of-type {\n",
       "        vertical-align: middle;\n",
       "    }\n",
       "\n",
       "    .dataframe tbody tr th {\n",
       "        vertical-align: top;\n",
       "    }\n",
       "\n",
       "    .dataframe thead th {\n",
       "        text-align: right;\n",
       "    }\n",
       "<\/style>\n",
       "<table border=\"1\" class=\"dataframe\">\n",
       "  <thead>\n",
       "    <tr style=\"text-align: right;\">\n",
       "      <th><\/th>\n",
       "      <th>Zone<\/th>\n",
       "      <th>Exportations (en millier de tonnes)<\/th>\n",
       "      <th>Importations (en millier de tonnes)<\/th>\n",
       "      <th>Nourriture (en millier de tonnes)<\/th>\n",
       "      <th>Production(en millier de tonnes)<\/th>\n",
       "      <th>Population en 2017 (en millier de personne)<\/th>\n",
       "      <th>Stabilité politique<\/th>\n",
       "      <th>True<\/th>\n",
       "    <\/tr>\n",
       "  <\/thead>\n",
       "  <tbody>\n",
       "    <tr>\n",
       "      <th>31<\/th>\n",
       "      <td>Chine - RAS de Hong-Kong<\/td>\n",
       "      <td>663.0<\/td>\n",
       "      <td>907.0<\/td>\n",
       "      <td>391.0<\/td>\n",
       "      <td>24.0<\/td>\n",
       "      <td>7306.322<\/td>\n",
       "      <td>0.83<\/td>\n",
       "      <td>both<\/td>\n",
       "    <\/tr>\n",
       "    <tr>\n",
       "      <th>32<\/th>\n",
       "      <td>Chine - RAS de Macao<\/td>\n",
       "      <td>0.0<\/td>\n",
       "      <td>23.0<\/td>\n",
       "      <td>21.0<\/td>\n",
       "      <td>3.0<\/td>\n",
       "      <td>622.585<\/td>\n",
       "      <td>1.43<\/td>\n",
       "      <td>both<\/td>\n",
       "    <\/tr>\n",
       "    <tr>\n",
       "      <th>33<\/th>\n",
       "      <td>Chine, Taiwan Province de<\/td>\n",
       "      <td>8.0<\/td>\n",
       "      <td>161.0<\/td>\n",
       "      <td>785.0<\/td>\n",
       "      <td>652.0<\/td>\n",
       "      <td>23674.546<\/td>\n",
       "      <td>0.86<\/td>\n",
       "      <td>both<\/td>\n",
       "    <\/tr>\n",
       "    <tr>\n",
       "      <th>34<\/th>\n",
       "      <td>Chine, continentale<\/td>\n",
       "      <td>576.0<\/td>\n",
       "      <td>452.0<\/td>\n",
       "      <td>17518.0<\/td>\n",
       "      <td>18236.0<\/td>\n",
       "      <td>1421021.791<\/td>\n",
       "      <td>NaN<\/td>\n",
       "      <td>left_only<\/td>\n",
       "    <\/tr>\n",
       "  <\/tbody>\n",
       "<\/table>\n",
       "<\/div>"
      ]
     },
     "metadata":{
      
     },
     "output_type":"display_data"
    }
   ],
   "metadata":{
    "datalore":{
     "node_id":"qbvwLlnDMa1sq2ABFgBtkH",
     "type":"CODE",
     "hide_input_from_viewers":true,
     "hide_output_from_viewers":true
    }
   }
  },
  {
   "cell_type":"markdown",
   "source":[
    "On peut voir sur l'image suivante qui vient d'une autre source, que l'on a les mêmes valeurs pour les trois régions de la Chine, déjà renseigné dans notre jeu de données. Donc on va pouvoir tout simplement renseigner la valeur manquante avec celle qui est donnée dans l'image suivante :\n",
    "\n",
    "\n",
    "![ScreenShot](attachment:.\/stabilite_chine.png)"
   ],
   "attachments":{
    ".\/stabilite_chine.png":{
     "image\/png":"[encoded data removed]"
    }
   },
   "metadata":{
    "datalore":{
     "node_id":"p7xa75WLwG23xclu7pInVx",
     "type":"MD",
     "hide_input_from_viewers":true,
     "hide_output_from_viewers":true
    }
   }
  },
  {
   "cell_type":"code",
   "source":[
    "index1 = df_etude_marche[df_etude_marche[\"Zone\"].str.contains(\"Chine, continentale\")].index[0]\n",
    "\n",
    "df_etude_marche.loc[index1, 'Stabilité politique'] = -0.23"
   ],
   "execution_count":75,
   "outputs":[
    
   ],
   "metadata":{
    "datalore":{
     "node_id":"hmjEE97b64YvNqh9XscMVL",
     "type":"CODE",
     "hide_input_from_viewers":true,
     "hide_output_from_viewers":true
    }
   }
  },
  {
   "cell_type":"code",
   "source":[
    "df_etude_marche[df_etude_marche['True'] == 'left_only']"
   ],
   "execution_count":76,
   "outputs":[
    {
     "data":{
      "text\/html":[
       "<div>\n",
       "<style scoped>\n",
       "    .dataframe tbody tr th:only-of-type {\n",
       "        vertical-align: middle;\n",
       "    }\n",
       "\n",
       "    .dataframe tbody tr th {\n",
       "        vertical-align: top;\n",
       "    }\n",
       "\n",
       "    .dataframe thead th {\n",
       "        text-align: right;\n",
       "    }\n",
       "<\/style>\n",
       "<table border=\"1\" class=\"dataframe\">\n",
       "  <thead>\n",
       "    <tr style=\"text-align: right;\">\n",
       "      <th><\/th>\n",
       "      <th>Zone<\/th>\n",
       "      <th>Exportations (en millier de tonnes)<\/th>\n",
       "      <th>Importations (en millier de tonnes)<\/th>\n",
       "      <th>Nourriture (en millier de tonnes)<\/th>\n",
       "      <th>Production(en millier de tonnes)<\/th>\n",
       "      <th>Population en 2017 (en millier de personne)<\/th>\n",
       "      <th>Stabilité politique<\/th>\n",
       "      <th>True<\/th>\n",
       "    <\/tr>\n",
       "  <\/thead>\n",
       "  <tbody>\n",
       "    <tr>\n",
       "      <th>34<\/th>\n",
       "      <td>Chine, continentale<\/td>\n",
       "      <td>576.0<\/td>\n",
       "      <td>452.0<\/td>\n",
       "      <td>17518.0<\/td>\n",
       "      <td>18236.0<\/td>\n",
       "      <td>1421021.791<\/td>\n",
       "      <td>-0.23<\/td>\n",
       "      <td>left_only<\/td>\n",
       "    <\/tr>\n",
       "    <tr>\n",
       "      <th>108<\/th>\n",
       "      <td>Nouvelle-Calédonie<\/td>\n",
       "      <td>0.0<\/td>\n",
       "      <td>9.0<\/td>\n",
       "      <td>11.0<\/td>\n",
       "      <td>1.0<\/td>\n",
       "      <td>277.150<\/td>\n",
       "      <td>0.28<\/td>\n",
       "      <td>left_only<\/td>\n",
       "    <\/tr>\n",
       "    <tr>\n",
       "      <th>120<\/th>\n",
       "      <td>Polynésie française<\/td>\n",
       "      <td>0.0<\/td>\n",
       "      <td>15.0<\/td>\n",
       "      <td>13.0<\/td>\n",
       "      <td>1.0<\/td>\n",
       "      <td>276.102<\/td>\n",
       "      <td>0.28<\/td>\n",
       "      <td>left_only<\/td>\n",
       "    <\/tr>\n",
       "  <\/tbody>\n",
       "<\/table>\n",
       "<\/div>"
      ]
     },
     "metadata":{
      
     },
     "output_type":"display_data"
    }
   ],
   "metadata":{
    "datalore":{
     "node_id":"YtyeeKjIei3aotrVVnjQGT",
     "type":"CODE",
     "hide_input_from_viewers":true,
     "hide_output_from_viewers":true
    }
   }
  },
  {
   "cell_type":"markdown",
   "source":[
    "On va maintenant supprimer les lignes correspondant au pays qui n'ont pas de données sur la disponibilité alimentaire et supprimer la colonne de test"
   ],
   "attachments":{
    
   },
   "metadata":{
    "datalore":{
     "node_id":"YA2bnrDRdJwVccOolXodmA",
     "type":"MD",
     "hide_input_from_viewers":true,
     "hide_output_from_viewers":true
    }
   }
  },
  {
   "cell_type":"code",
   "source":[
    "# On garde que les lignes complètes, et on supprime la colonne de test `True`\n",
    "df_etude_marche = df_etude_marche.loc[(df_etude_marche['True'] == 'both') | (df_etude_marche['True'] == 'left_only'), :]\n",
    "df_etude_marche.drop(columns= 'True', inplace = True)\n",
    "\n",
    "df_etude_marche.head()"
   ],
   "execution_count":77,
   "outputs":[
    {
     "data":{
      "text\/html":[
       "<div>\n",
       "<style scoped>\n",
       "    .dataframe tbody tr th:only-of-type {\n",
       "        vertical-align: middle;\n",
       "    }\n",
       "\n",
       "    .dataframe tbody tr th {\n",
       "        vertical-align: top;\n",
       "    }\n",
       "\n",
       "    .dataframe thead th {\n",
       "        text-align: right;\n",
       "    }\n",
       "<\/style>\n",
       "<table border=\"1\" class=\"dataframe\">\n",
       "  <thead>\n",
       "    <tr style=\"text-align: right;\">\n",
       "      <th><\/th>\n",
       "      <th>Zone<\/th>\n",
       "      <th>Exportations (en millier de tonnes)<\/th>\n",
       "      <th>Importations (en millier de tonnes)<\/th>\n",
       "      <th>Nourriture (en millier de tonnes)<\/th>\n",
       "      <th>Production(en millier de tonnes)<\/th>\n",
       "      <th>Population en 2017 (en millier de personne)<\/th>\n",
       "      <th>Stabilité politique<\/th>\n",
       "    <\/tr>\n",
       "  <\/thead>\n",
       "  <tbody>\n",
       "    <tr>\n",
       "      <th>0<\/th>\n",
       "      <td>Afghanistan<\/td>\n",
       "      <td>0.0<\/td>\n",
       "      <td>29.0<\/td>\n",
       "      <td>55.0<\/td>\n",
       "      <td>28.0<\/td>\n",
       "      <td>36296.113<\/td>\n",
       "      <td>-2.80<\/td>\n",
       "    <\/tr>\n",
       "    <tr>\n",
       "      <th>1<\/th>\n",
       "      <td>Afrique du Sud<\/td>\n",
       "      <td>63.0<\/td>\n",
       "      <td>514.0<\/td>\n",
       "      <td>2035.0<\/td>\n",
       "      <td>1667.0<\/td>\n",
       "      <td>57009.756<\/td>\n",
       "      <td>-0.28<\/td>\n",
       "    <\/tr>\n",
       "    <tr>\n",
       "      <th>2<\/th>\n",
       "      <td>Albanie<\/td>\n",
       "      <td>0.0<\/td>\n",
       "      <td>38.0<\/td>\n",
       "      <td>47.0<\/td>\n",
       "      <td>13.0<\/td>\n",
       "      <td>2884.169<\/td>\n",
       "      <td>0.38<\/td>\n",
       "    <\/tr>\n",
       "    <tr>\n",
       "      <th>3<\/th>\n",
       "      <td>Algérie<\/td>\n",
       "      <td>0.0<\/td>\n",
       "      <td>2.0<\/td>\n",
       "      <td>264.0<\/td>\n",
       "      <td>275.0<\/td>\n",
       "      <td>41389.189<\/td>\n",
       "      <td>-0.92<\/td>\n",
       "    <\/tr>\n",
       "    <tr>\n",
       "      <th>4<\/th>\n",
       "      <td>Allemagne<\/td>\n",
       "      <td>646.0<\/td>\n",
       "      <td>842.0<\/td>\n",
       "      <td>1609.0<\/td>\n",
       "      <td>1514.0<\/td>\n",
       "      <td>82658.409<\/td>\n",
       "      <td>0.59<\/td>\n",
       "    <\/tr>\n",
       "  <\/tbody>\n",
       "<\/table>\n",
       "<\/div>"
      ]
     },
     "metadata":{
      
     },
     "output_type":"display_data"
    }
   ],
   "metadata":{
    "datalore":{
     "node_id":"CkeKJK5qWRwu1ynl58w8LI",
     "type":"CODE",
     "hide_input_from_viewers":true,
     "hide_output_from_viewers":true
    }
   }
  },
  {
   "cell_type":"markdown",
   "source":[
    "## 2.3 - Ajout du code ISO 3"
   ],
   "attachments":{
    
   },
   "metadata":{
    "datalore":{
     "node_id":"X0RzMYVMWBopqVJjAKHIuR",
     "type":"MD",
     "hide_input_from_viewers":true,
     "hide_output_from_viewers":true
    }
   }
  },
  {
   "cell_type":"code",
   "source":[
    "df_etude_marche = df_etude_marche.merge(df_iso3, how='left', on= 'Zone')"
   ],
   "execution_count":78,
   "outputs":[
    
   ],
   "metadata":{
    "datalore":{
     "node_id":"s908yWW25WJjcSKzSIV6oi",
     "type":"CODE",
     "hide_input_from_viewers":true,
     "hide_output_from_viewers":true
    }
   }
  },
  {
   "cell_type":"code",
   "source":[
    "df_etude_marche"
   ],
   "execution_count":79,
   "outputs":[
    {
     "data":{
      "text\/html":[
       "<div>\n",
       "<style scoped>\n",
       "    .dataframe tbody tr th:only-of-type {\n",
       "        vertical-align: middle;\n",
       "    }\n",
       "\n",
       "    .dataframe tbody tr th {\n",
       "        vertical-align: top;\n",
       "    }\n",
       "\n",
       "    .dataframe thead th {\n",
       "        text-align: right;\n",
       "    }\n",
       "<\/style>\n",
       "<table border=\"1\" class=\"dataframe\">\n",
       "  <thead>\n",
       "    <tr style=\"text-align: right;\">\n",
       "      <th><\/th>\n",
       "      <th>Zone<\/th>\n",
       "      <th>Exportations (en millier de tonnes)<\/th>\n",
       "      <th>Importations (en millier de tonnes)<\/th>\n",
       "      <th>Nourriture (en millier de tonnes)<\/th>\n",
       "      <th>Production(en millier de tonnes)<\/th>\n",
       "      <th>Population en 2017 (en millier de personne)<\/th>\n",
       "      <th>Stabilité politique<\/th>\n",
       "      <th>Code ISO3<\/th>\n",
       "    <\/tr>\n",
       "  <\/thead>\n",
       "  <tbody>\n",
       "    <tr>\n",
       "      <th>0<\/th>\n",
       "      <td>Afghanistan<\/td>\n",
       "      <td>0.0<\/td>\n",
       "      <td>29.0<\/td>\n",
       "      <td>55.0<\/td>\n",
       "      <td>28.0<\/td>\n",
       "      <td>36296.113<\/td>\n",
       "      <td>-2.80<\/td>\n",
       "      <td>AFG<\/td>\n",
       "    <\/tr>\n",
       "    <tr>\n",
       "      <th>1<\/th>\n",
       "      <td>Afrique du Sud<\/td>\n",
       "      <td>63.0<\/td>\n",
       "      <td>514.0<\/td>\n",
       "      <td>2035.0<\/td>\n",
       "      <td>1667.0<\/td>\n",
       "      <td>57009.756<\/td>\n",
       "      <td>-0.28<\/td>\n",
       "      <td>ZAF<\/td>\n",
       "    <\/tr>\n",
       "    <tr>\n",
       "      <th>2<\/th>\n",
       "      <td>Albanie<\/td>\n",
       "      <td>0.0<\/td>\n",
       "      <td>38.0<\/td>\n",
       "      <td>47.0<\/td>\n",
       "      <td>13.0<\/td>\n",
       "      <td>2884.169<\/td>\n",
       "      <td>0.38<\/td>\n",
       "      <td>ALB<\/td>\n",
       "    <\/tr>\n",
       "    <tr>\n",
       "      <th>3<\/th>\n",
       "      <td>Algérie<\/td>\n",
       "      <td>0.0<\/td>\n",
       "      <td>2.0<\/td>\n",
       "      <td>264.0<\/td>\n",
       "      <td>275.0<\/td>\n",
       "      <td>41389.189<\/td>\n",
       "      <td>-0.92<\/td>\n",
       "      <td>DZA<\/td>\n",
       "    <\/tr>\n",
       "    <tr>\n",
       "      <th>4<\/th>\n",
       "      <td>Allemagne<\/td>\n",
       "      <td>646.0<\/td>\n",
       "      <td>842.0<\/td>\n",
       "      <td>1609.0<\/td>\n",
       "      <td>1514.0<\/td>\n",
       "      <td>82658.409<\/td>\n",
       "      <td>0.59<\/td>\n",
       "      <td>DEU<\/td>\n",
       "    <\/tr>\n",
       "    <tr>\n",
       "      <th>...<\/th>\n",
       "      <td>...<\/td>\n",
       "      <td>...<\/td>\n",
       "      <td>...<\/td>\n",
       "      <td>...<\/td>\n",
       "      <td>...<\/td>\n",
       "      <td>...<\/td>\n",
       "      <td>...<\/td>\n",
       "      <td>...<\/td>\n",
       "    <\/tr>\n",
       "    <tr>\n",
       "      <th>167<\/th>\n",
       "      <td>Émirats arabes unis<\/td>\n",
       "      <td>94.0<\/td>\n",
       "      <td>433.0<\/td>\n",
       "      <td>412.0<\/td>\n",
       "      <td>48.0<\/td>\n",
       "      <td>9487.203<\/td>\n",
       "      <td>0.62<\/td>\n",
       "      <td>ARE<\/td>\n",
       "    <\/tr>\n",
       "    <tr>\n",
       "      <th>168<\/th>\n",
       "      <td>Équateur<\/td>\n",
       "      <td>0.0<\/td>\n",
       "      <td>0.0<\/td>\n",
       "      <td>324.0<\/td>\n",
       "      <td>340.0<\/td>\n",
       "      <td>16785.361<\/td>\n",
       "      <td>-0.07<\/td>\n",
       "      <td>ECU<\/td>\n",
       "    <\/tr>\n",
       "    <tr>\n",
       "      <th>169<\/th>\n",
       "      <td>États-Unis d'Amérique<\/td>\n",
       "      <td>3692.0<\/td>\n",
       "      <td>123.0<\/td>\n",
       "      <td>18100.0<\/td>\n",
       "      <td>21914.0<\/td>\n",
       "      <td>325084.756<\/td>\n",
       "      <td>0.29<\/td>\n",
       "      <td>USA<\/td>\n",
       "    <\/tr>\n",
       "    <tr>\n",
       "      <th>170<\/th>\n",
       "      <td>Éthiopie<\/td>\n",
       "      <td>0.0<\/td>\n",
       "      <td>1.0<\/td>\n",
       "      <td>14.0<\/td>\n",
       "      <td>14.0<\/td>\n",
       "      <td>106399.924<\/td>\n",
       "      <td>-1.68<\/td>\n",
       "      <td>ETH<\/td>\n",
       "    <\/tr>\n",
       "    <tr>\n",
       "      <th>171<\/th>\n",
       "      <td>Îles Salomon<\/td>\n",
       "      <td>0.0<\/td>\n",
       "      <td>6.0<\/td>\n",
       "      <td>3.0<\/td>\n",
       "      <td>0.0<\/td>\n",
       "      <td>636.039<\/td>\n",
       "      <td>0.20<\/td>\n",
       "      <td>SLB<\/td>\n",
       "    <\/tr>\n",
       "  <\/tbody>\n",
       "<\/table>\n",
       "<p>172 rows × 8 columns<\/p>\n",
       "<\/div>"
      ]
     },
     "metadata":{
      
     },
     "output_type":"display_data"
    }
   ],
   "metadata":{
    "datalore":{
     "node_id":"GkgE000Ai4CAnnjABiprWg",
     "type":"CODE",
     "hide_input_from_viewers":true,
     "hide_output_from_viewers":true
    }
   }
  },
  {
   "cell_type":"markdown",
   "source":[
    "On a juste ajouter le code ISO à chaque pays."
   ],
   "attachments":{
    
   },
   "metadata":{
    "datalore":{
     "node_id":"FfovUHKLQ0GN0TdkCtX4Xb",
     "type":"MD",
     "hide_input_from_viewers":true,
     "hide_output_from_viewers":true
    }
   }
  },
  {
   "cell_type":"markdown",
   "source":[
    "## 2.4 - Ajout du score sur facilité du business"
   ],
   "attachments":{
    
   },
   "metadata":{
    "datalore":{
     "node_id":"WPqJ3PVQR4luHwdpkt4ngY",
     "type":"MD",
     "hide_input_from_viewers":true,
     "hide_output_from_viewers":true
    }
   }
  },
  {
   "cell_type":"code",
   "source":[
    "df_etude_marche = df_etude_marche.merge(df_doing_business, how='left', on= 'Code ISO3')"
   ],
   "execution_count":80,
   "outputs":[
    
   ],
   "metadata":{
    "datalore":{
     "node_id":"VNB9gfqogmWSmsrOF5rQI9",
     "type":"CODE",
     "hide_input_from_viewers":true,
     "hide_output_from_viewers":true
    }
   }
  },
  {
   "cell_type":"code",
   "source":[
    "df_etude_marche"
   ],
   "execution_count":81,
   "outputs":[
    {
     "data":{
      "text\/html":[
       "<div>\n",
       "<style scoped>\n",
       "    .dataframe tbody tr th:only-of-type {\n",
       "        vertical-align: middle;\n",
       "    }\n",
       "\n",
       "    .dataframe tbody tr th {\n",
       "        vertical-align: top;\n",
       "    }\n",
       "\n",
       "    .dataframe thead th {\n",
       "        text-align: right;\n",
       "    }\n",
       "<\/style>\n",
       "<table border=\"1\" class=\"dataframe\">\n",
       "  <thead>\n",
       "    <tr style=\"text-align: right;\">\n",
       "      <th><\/th>\n",
       "      <th>Zone<\/th>\n",
       "      <th>Exportations (en millier de tonnes)<\/th>\n",
       "      <th>Importations (en millier de tonnes)<\/th>\n",
       "      <th>Nourriture (en millier de tonnes)<\/th>\n",
       "      <th>Production(en millier de tonnes)<\/th>\n",
       "      <th>Population en 2017 (en millier de personne)<\/th>\n",
       "      <th>Stabilité politique<\/th>\n",
       "      <th>Code ISO3<\/th>\n",
       "      <th>Facilité du Business<\/th>\n",
       "    <\/tr>\n",
       "  <\/thead>\n",
       "  <tbody>\n",
       "    <tr>\n",
       "      <th>0<\/th>\n",
       "      <td>Afghanistan<\/td>\n",
       "      <td>0.0<\/td>\n",
       "      <td>29.0<\/td>\n",
       "      <td>55.0<\/td>\n",
       "      <td>28.0<\/td>\n",
       "      <td>36296.113<\/td>\n",
       "      <td>-2.80<\/td>\n",
       "      <td>AFG<\/td>\n",
       "      <td>38.9<\/td>\n",
       "    <\/tr>\n",
       "    <tr>\n",
       "      <th>1<\/th>\n",
       "      <td>Afrique du Sud<\/td>\n",
       "      <td>63.0<\/td>\n",
       "      <td>514.0<\/td>\n",
       "      <td>2035.0<\/td>\n",
       "      <td>1667.0<\/td>\n",
       "      <td>57009.756<\/td>\n",
       "      <td>-0.28<\/td>\n",
       "      <td>ZAF<\/td>\n",
       "      <td>65.4<\/td>\n",
       "    <\/tr>\n",
       "    <tr>\n",
       "      <th>2<\/th>\n",
       "      <td>Albanie<\/td>\n",
       "      <td>0.0<\/td>\n",
       "      <td>38.0<\/td>\n",
       "      <td>47.0<\/td>\n",
       "      <td>13.0<\/td>\n",
       "      <td>2884.169<\/td>\n",
       "      <td>0.38<\/td>\n",
       "      <td>ALB<\/td>\n",
       "      <td>64.2<\/td>\n",
       "    <\/tr>\n",
       "    <tr>\n",
       "      <th>3<\/th>\n",
       "      <td>Algérie<\/td>\n",
       "      <td>0.0<\/td>\n",
       "      <td>2.0<\/td>\n",
       "      <td>264.0<\/td>\n",
       "      <td>275.0<\/td>\n",
       "      <td>41389.189<\/td>\n",
       "      <td>-0.92<\/td>\n",
       "      <td>DZA<\/td>\n",
       "      <td>46.1<\/td>\n",
       "    <\/tr>\n",
       "    <tr>\n",
       "      <th>4<\/th>\n",
       "      <td>Allemagne<\/td>\n",
       "      <td>646.0<\/td>\n",
       "      <td>842.0<\/td>\n",
       "      <td>1609.0<\/td>\n",
       "      <td>1514.0<\/td>\n",
       "      <td>82658.409<\/td>\n",
       "      <td>0.59<\/td>\n",
       "      <td>DEU<\/td>\n",
       "      <td>79.6<\/td>\n",
       "    <\/tr>\n",
       "    <tr>\n",
       "      <th>...<\/th>\n",
       "      <td>...<\/td>\n",
       "      <td>...<\/td>\n",
       "      <td>...<\/td>\n",
       "      <td>...<\/td>\n",
       "      <td>...<\/td>\n",
       "      <td>...<\/td>\n",
       "      <td>...<\/td>\n",
       "      <td>...<\/td>\n",
       "      <td>...<\/td>\n",
       "    <\/tr>\n",
       "    <tr>\n",
       "      <th>167<\/th>\n",
       "      <td>Émirats arabes unis<\/td>\n",
       "      <td>94.0<\/td>\n",
       "      <td>433.0<\/td>\n",
       "      <td>412.0<\/td>\n",
       "      <td>48.0<\/td>\n",
       "      <td>9487.203<\/td>\n",
       "      <td>0.62<\/td>\n",
       "      <td>ARE<\/td>\n",
       "      <td>77.4<\/td>\n",
       "    <\/tr>\n",
       "    <tr>\n",
       "      <th>168<\/th>\n",
       "      <td>Équateur<\/td>\n",
       "      <td>0.0<\/td>\n",
       "      <td>0.0<\/td>\n",
       "      <td>324.0<\/td>\n",
       "      <td>340.0<\/td>\n",
       "      <td>16785.361<\/td>\n",
       "      <td>-0.07<\/td>\n",
       "      <td>ECU<\/td>\n",
       "      <td>57.5<\/td>\n",
       "    <\/tr>\n",
       "    <tr>\n",
       "      <th>169<\/th>\n",
       "      <td>États-Unis d'Amérique<\/td>\n",
       "      <td>3692.0<\/td>\n",
       "      <td>123.0<\/td>\n",
       "      <td>18100.0<\/td>\n",
       "      <td>21914.0<\/td>\n",
       "      <td>325084.756<\/td>\n",
       "      <td>0.29<\/td>\n",
       "      <td>USA<\/td>\n",
       "      <td>83.6<\/td>\n",
       "    <\/tr>\n",
       "    <tr>\n",
       "      <th>170<\/th>\n",
       "      <td>Éthiopie<\/td>\n",
       "      <td>0.0<\/td>\n",
       "      <td>1.0<\/td>\n",
       "      <td>14.0<\/td>\n",
       "      <td>14.0<\/td>\n",
       "      <td>106399.924<\/td>\n",
       "      <td>-1.68<\/td>\n",
       "      <td>ETH<\/td>\n",
       "      <td>44.1<\/td>\n",
       "    <\/tr>\n",
       "    <tr>\n",
       "      <th>171<\/th>\n",
       "      <td>Îles Salomon<\/td>\n",
       "      <td>0.0<\/td>\n",
       "      <td>6.0<\/td>\n",
       "      <td>3.0<\/td>\n",
       "      <td>0.0<\/td>\n",
       "      <td>636.039<\/td>\n",
       "      <td>0.20<\/td>\n",
       "      <td>SLB<\/td>\n",
       "      <td>55.1<\/td>\n",
       "    <\/tr>\n",
       "  <\/tbody>\n",
       "<\/table>\n",
       "<p>172 rows × 9 columns<\/p>\n",
       "<\/div>"
      ]
     },
     "metadata":{
      
     },
     "output_type":"display_data"
    }
   ],
   "metadata":{
    "datalore":{
     "node_id":"z5ppPAQT7RL8gnuvBKlrrq",
     "type":"CODE",
     "hide_input_from_viewers":true,
     "hide_output_from_viewers":true
    }
   }
  },
  {
   "cell_type":"markdown",
   "source":[
    "On regarde si l'on a des valeurs vides sur la facilité du business"
   ],
   "attachments":{
    
   },
   "metadata":{
    "datalore":{
     "node_id":"EXq9XkrTqs8pcE4abC7mSx",
     "type":"MD",
     "hide_input_from_viewers":true,
     "hide_output_from_viewers":true
    }
   }
  },
  {
   "cell_type":"code",
   "source":[
    "df_etude_marche[df_etude_marche['Facilité du Business'].isna()]"
   ],
   "execution_count":82,
   "outputs":[
    {
     "data":{
      "text\/html":[
       "<div>\n",
       "<style scoped>\n",
       "    .dataframe tbody tr th:only-of-type {\n",
       "        vertical-align: middle;\n",
       "    }\n",
       "\n",
       "    .dataframe tbody tr th {\n",
       "        vertical-align: top;\n",
       "    }\n",
       "\n",
       "    .dataframe thead th {\n",
       "        text-align: right;\n",
       "    }\n",
       "<\/style>\n",
       "<table border=\"1\" class=\"dataframe\">\n",
       "  <thead>\n",
       "    <tr style=\"text-align: right;\">\n",
       "      <th><\/th>\n",
       "      <th>Zone<\/th>\n",
       "      <th>Exportations (en millier de tonnes)<\/th>\n",
       "      <th>Importations (en millier de tonnes)<\/th>\n",
       "      <th>Nourriture (en millier de tonnes)<\/th>\n",
       "      <th>Production(en millier de tonnes)<\/th>\n",
       "      <th>Population en 2017 (en millier de personne)<\/th>\n",
       "      <th>Stabilité politique<\/th>\n",
       "      <th>Code ISO3<\/th>\n",
       "      <th>Facilité du Business<\/th>\n",
       "    <\/tr>\n",
       "  <\/thead>\n",
       "  <tbody>\n",
       "    <tr>\n",
       "      <th>32<\/th>\n",
       "      <td>Chine - RAS de Macao<\/td>\n",
       "      <td>0.0<\/td>\n",
       "      <td>23.0<\/td>\n",
       "      <td>21.0<\/td>\n",
       "      <td>3.0<\/td>\n",
       "      <td>622.585<\/td>\n",
       "      <td>1.43<\/td>\n",
       "      <td>MAC<\/td>\n",
       "      <td>NaN<\/td>\n",
       "    <\/tr>\n",
       "    <tr>\n",
       "      <th>34<\/th>\n",
       "      <td>Chine, continentale<\/td>\n",
       "      <td>576.0<\/td>\n",
       "      <td>452.0<\/td>\n",
       "      <td>17518.0<\/td>\n",
       "      <td>18236.0<\/td>\n",
       "      <td>1421021.791<\/td>\n",
       "      <td>-0.23<\/td>\n",
       "      <td>F41<\/td>\n",
       "      <td>NaN<\/td>\n",
       "    <\/tr>\n",
       "    <tr>\n",
       "      <th>40<\/th>\n",
       "      <td>Cuba<\/td>\n",
       "      <td>0.0<\/td>\n",
       "      <td>312.0<\/td>\n",
       "      <td>269.0<\/td>\n",
       "      <td>29.0<\/td>\n",
       "      <td>11339.254<\/td>\n",
       "      <td>0.65<\/td>\n",
       "      <td>CUB<\/td>\n",
       "      <td>NaN<\/td>\n",
       "    <\/tr>\n",
       "    <tr>\n",
       "      <th>108<\/th>\n",
       "      <td>Nouvelle-Calédonie<\/td>\n",
       "      <td>0.0<\/td>\n",
       "      <td>9.0<\/td>\n",
       "      <td>11.0<\/td>\n",
       "      <td>1.0<\/td>\n",
       "      <td>277.150<\/td>\n",
       "      <td>0.28<\/td>\n",
       "      <td>NCL<\/td>\n",
       "      <td>NaN<\/td>\n",
       "    <\/tr>\n",
       "    <tr>\n",
       "      <th>120<\/th>\n",
       "      <td>Polynésie française<\/td>\n",
       "      <td>0.0<\/td>\n",
       "      <td>15.0<\/td>\n",
       "      <td>13.0<\/td>\n",
       "      <td>1.0<\/td>\n",
       "      <td>276.102<\/td>\n",
       "      <td>0.28<\/td>\n",
       "      <td>PYF<\/td>\n",
       "      <td>NaN<\/td>\n",
       "    <\/tr>\n",
       "    <tr>\n",
       "      <th>131<\/th>\n",
       "      <td>République populaire démocratique de Corée<\/td>\n",
       "      <td>0.0<\/td>\n",
       "      <td>0.0<\/td>\n",
       "      <td>41.0<\/td>\n",
       "      <td>43.0<\/td>\n",
       "      <td>25429.825<\/td>\n",
       "      <td>-0.50<\/td>\n",
       "      <td>PRK<\/td>\n",
       "      <td>NaN<\/td>\n",
       "    <\/tr>\n",
       "    <tr>\n",
       "      <th>156<\/th>\n",
       "      <td>Turkménistan<\/td>\n",
       "      <td>0.0<\/td>\n",
       "      <td>9.0<\/td>\n",
       "      <td>26.0<\/td>\n",
       "      <td>20.0<\/td>\n",
       "      <td>5757.667<\/td>\n",
       "      <td>-0.13<\/td>\n",
       "      <td>TKM<\/td>\n",
       "      <td>NaN<\/td>\n",
       "    <\/tr>\n",
       "  <\/tbody>\n",
       "<\/table>\n",
       "<\/div>"
      ]
     },
     "metadata":{
      
     },
     "output_type":"display_data"
    }
   ],
   "metadata":{
    "datalore":{
     "node_id":"wm0VkOM0BsfOE9fmUoUHH9",
     "type":"CODE",
     "hide_input_from_viewers":true,
     "hide_output_from_viewers":true
    }
   }
  },
  {
   "cell_type":"markdown",
   "source":[
    "Si l'on regarde la Chine continentale, on peut voir que le code ISO trois est bizarre, normalement le code ISO3 de la Chine, c'est CHN. On va donc remplacer le code et remplacer la valeur de la facilité du business en regardant ce que l'on a pour l'ISO3"
   ],
   "attachments":{
    
   },
   "metadata":{
    "datalore":{
     "node_id":"5oW97kavbFjmfhDLzu3Vyg",
     "type":"MD",
     "hide_input_from_viewers":true,
     "hide_output_from_viewers":true
    }
   }
  },
  {
   "cell_type":"code",
   "source":[
    "# Valeur de la facilité du business pour la chine\n",
    "df_doing_business[df_doing_business['Code ISO3'] == 'CHN']"
   ],
   "execution_count":83,
   "outputs":[
    {
     "data":{
      "text\/html":[
       "<div>\n",
       "<style scoped>\n",
       "    .dataframe tbody tr th:only-of-type {\n",
       "        vertical-align: middle;\n",
       "    }\n",
       "\n",
       "    .dataframe tbody tr th {\n",
       "        vertical-align: top;\n",
       "    }\n",
       "\n",
       "    .dataframe thead th {\n",
       "        text-align: right;\n",
       "    }\n",
       "<\/style>\n",
       "<table border=\"1\" class=\"dataframe\">\n",
       "  <thead>\n",
       "    <tr style=\"text-align: right;\">\n",
       "      <th><\/th>\n",
       "      <th>Code ISO3<\/th>\n",
       "      <th>Facilité du Business<\/th>\n",
       "    <\/tr>\n",
       "  <\/thead>\n",
       "  <tbody>\n",
       "    <tr>\n",
       "      <th>34<\/th>\n",
       "      <td>CHN<\/td>\n",
       "      <td>64.6<\/td>\n",
       "    <\/tr>\n",
       "  <\/tbody>\n",
       "<\/table>\n",
       "<\/div>"
      ]
     },
     "metadata":{
      
     },
     "output_type":"display_data"
    }
   ],
   "metadata":{
    "datalore":{
     "node_id":"0j6bwtpfgxhXAXgEMGFtu4",
     "type":"CODE",
     "hide_input_from_viewers":true,
     "hide_output_from_viewers":true
    }
   }
  },
  {
   "cell_type":"code",
   "source":[
    "index1 = df_etude_marche[df_etude_marche[\"Zone\"].str.contains(\"Chine, continentale\")].index[0]\n",
    "\n",
    "df_etude_marche.loc[index1, 'Code ISO3'] = 'CHN'\n",
    "\n",
    "df_etude_marche.loc[index1, 'Facilité du Business'] = df_doing_business[df_doing_business['Code ISO3'] == 'CHN']['Facilité du Business'].values[0]"
   ],
   "execution_count":84,
   "outputs":[
    
   ],
   "metadata":{
    "datalore":{
     "node_id":"DiDoRxzh3GnfaAQpKnwjQc",
     "type":"CODE",
     "hide_input_from_viewers":true,
     "hide_output_from_viewers":true
    }
   }
  },
  {
   "cell_type":"markdown",
   "source":[
    "On va s'intéresser au cas de la Corée. La valeur manquante, c'est celle de la Corée-du-nord où je pense que la facilité du business est faible."
   ],
   "attachments":{
    
   },
   "metadata":{
    "datalore":{
     "node_id":"zxV8URTq0rxfqnjKXzys5k",
     "type":"MD",
     "hide_input_from_viewers":true,
     "hide_output_from_viewers":true
    }
   }
  },
  {
   "cell_type":"code",
   "source":[
    "df_etude_marche[df_etude_marche['Zone'].str.contains(\"Corée\")]"
   ],
   "execution_count":85,
   "outputs":[
    {
     "data":{
      "text\/html":[
       "<div>\n",
       "<style scoped>\n",
       "    .dataframe tbody tr th:only-of-type {\n",
       "        vertical-align: middle;\n",
       "    }\n",
       "\n",
       "    .dataframe tbody tr th {\n",
       "        vertical-align: top;\n",
       "    }\n",
       "\n",
       "    .dataframe thead th {\n",
       "        text-align: right;\n",
       "    }\n",
       "<\/style>\n",
       "<table border=\"1\" class=\"dataframe\">\n",
       "  <thead>\n",
       "    <tr style=\"text-align: right;\">\n",
       "      <th><\/th>\n",
       "      <th>Zone<\/th>\n",
       "      <th>Exportations (en millier de tonnes)<\/th>\n",
       "      <th>Importations (en millier de tonnes)<\/th>\n",
       "      <th>Nourriture (en millier de tonnes)<\/th>\n",
       "      <th>Production(en millier de tonnes)<\/th>\n",
       "      <th>Population en 2017 (en millier de personne)<\/th>\n",
       "      <th>Stabilité politique<\/th>\n",
       "      <th>Code ISO3<\/th>\n",
       "      <th>Facilité du Business<\/th>\n",
       "    <\/tr>\n",
       "  <\/thead>\n",
       "  <tbody>\n",
       "    <tr>\n",
       "      <th>127<\/th>\n",
       "      <td>République de Corée<\/td>\n",
       "      <td>6.0<\/td>\n",
       "      <td>137.0<\/td>\n",
       "      <td>854.0<\/td>\n",
       "      <td>838.0<\/td>\n",
       "      <td>51096.415<\/td>\n",
       "      <td>0.39<\/td>\n",
       "      <td>KOR<\/td>\n",
       "      <td>84.0<\/td>\n",
       "    <\/tr>\n",
       "    <tr>\n",
       "      <th>131<\/th>\n",
       "      <td>République populaire démocratique de Corée<\/td>\n",
       "      <td>0.0<\/td>\n",
       "      <td>0.0<\/td>\n",
       "      <td>41.0<\/td>\n",
       "      <td>43.0<\/td>\n",
       "      <td>25429.825<\/td>\n",
       "      <td>-0.50<\/td>\n",
       "      <td>PRK<\/td>\n",
       "      <td>NaN<\/td>\n",
       "    <\/tr>\n",
       "  <\/tbody>\n",
       "<\/table>\n",
       "<\/div>"
      ]
     },
     "metadata":{
      
     },
     "output_type":"display_data"
    }
   ],
   "metadata":{
    "datalore":{
     "node_id":"5MVFkRnI97TDu32lR6G5oU",
     "type":"CODE",
     "hide_input_from_viewers":true,
     "hide_output_from_viewers":true
    }
   }
  },
  {
   "cell_type":"markdown",
   "source":[
    "Il est difficile de faire des affaires avec la Corée du Nord, car c'est très réglementé par les Nations unies. Voici un extrait du règlement du conseil UE. https:\/\/eur-lex.europa.eu\/legal-content\/FR\/TXT\/?uri=uriserv:OJ.L_.2018.055.01.0001.01.FRA&toc=OJ:L:2018:055:TOC\n",
    "\n",
    "On va donc supprimer cette ligne"
   ],
   "attachments":{
    
   },
   "metadata":{
    "datalore":{
     "node_id":"28zoQJ9V7rCY2RY1q7DDqy",
     "type":"MD",
     "hide_input_from_viewers":true,
     "hide_output_from_viewers":true
    }
   }
  },
  {
   "cell_type":"code",
   "source":[
    "index1 = df_etude_marche[df_etude_marche[\"Zone\"].str.contains(\"République populaire démocratique de Corée\")].index[0]\n",
    "\n",
    "df_etude_marche.drop(index = index1, inplace= True)"
   ],
   "execution_count":86,
   "outputs":[
    
   ],
   "metadata":{
    "datalore":{
     "node_id":"jlgWRIznSzGVkqddnu25PD",
     "type":"CODE",
     "hide_input_from_viewers":true,
     "hide_output_from_viewers":true
    }
   }
  },
  {
   "cell_type":"markdown",
   "source":[
    "Pour la Nouvelle-Calédonie et la Polynésie française, on va faire comme précédemment, c'est-à-dire, on va récupérer la valeur de la France pour remplacer dans le jeu de données."
   ],
   "attachments":{
    
   },
   "metadata":{
    "datalore":{
     "node_id":"vMfXyyLYCXClKXGXzFAIY8",
     "type":"MD",
     "hide_input_from_viewers":true,
     "hide_output_from_viewers":true
    }
   }
  },
  {
   "cell_type":"code",
   "source":[
    "index1 = df_etude_marche[df_etude_marche[\"Zone\"].str.contains(\"Nouvelle-Calédonie\")].index[0]\n",
    "index2 = df_etude_marche[df_etude_marche[\"Zone\"].str.contains(\"Polynésie française\")].index[0]\n",
    "\n",
    "df_etude_marche.loc[(index1, index2), 'Facilité du Business'] = df_etude_marche[df_etude_marche[\"Zone\"].str.contains(\"France\")]['Facilité du Business'].values[0]"
   ],
   "execution_count":87,
   "outputs":[
    
   ],
   "metadata":{
    "datalore":{
     "node_id":"M1t89vXEPgJVEIKilOT5nN",
     "type":"CODE",
     "hide_input_from_viewers":true,
     "hide_output_from_viewers":true
    }
   }
  },
  {
   "cell_type":"markdown",
   "source":[
    "Il nous reste trois pays à traiter : Macao, Cuba, et le Turkménistan. Pour ce pays, on ne dispose pas de valeur sur la facilité du business. Ce que l'on va faire, on va prendre la valeur moyenne de notre jeu de données pour mettre cette valeur sur ce pays."
   ],
   "attachments":{
    
   },
   "metadata":{
    "datalore":{
     "node_id":"t1drZHqbMEhKRYtZ4C8G1t",
     "type":"MD",
     "hide_input_from_viewers":true,
     "hide_output_from_viewers":true
    }
   }
  },
  {
   "cell_type":"code",
   "source":[
    "df_etude_marche[df_etude_marche['Facilité du Business'].isna()]"
   ],
   "execution_count":88,
   "outputs":[
    {
     "data":{
      "text\/html":[
       "<div>\n",
       "<style scoped>\n",
       "    .dataframe tbody tr th:only-of-type {\n",
       "        vertical-align: middle;\n",
       "    }\n",
       "\n",
       "    .dataframe tbody tr th {\n",
       "        vertical-align: top;\n",
       "    }\n",
       "\n",
       "    .dataframe thead th {\n",
       "        text-align: right;\n",
       "    }\n",
       "<\/style>\n",
       "<table border=\"1\" class=\"dataframe\">\n",
       "  <thead>\n",
       "    <tr style=\"text-align: right;\">\n",
       "      <th><\/th>\n",
       "      <th>Zone<\/th>\n",
       "      <th>Exportations (en millier de tonnes)<\/th>\n",
       "      <th>Importations (en millier de tonnes)<\/th>\n",
       "      <th>Nourriture (en millier de tonnes)<\/th>\n",
       "      <th>Production(en millier de tonnes)<\/th>\n",
       "      <th>Population en 2017 (en millier de personne)<\/th>\n",
       "      <th>Stabilité politique<\/th>\n",
       "      <th>Code ISO3<\/th>\n",
       "      <th>Facilité du Business<\/th>\n",
       "    <\/tr>\n",
       "  <\/thead>\n",
       "  <tbody>\n",
       "    <tr>\n",
       "      <th>32<\/th>\n",
       "      <td>Chine - RAS de Macao<\/td>\n",
       "      <td>0.0<\/td>\n",
       "      <td>23.0<\/td>\n",
       "      <td>21.0<\/td>\n",
       "      <td>3.0<\/td>\n",
       "      <td>622.585<\/td>\n",
       "      <td>1.43<\/td>\n",
       "      <td>MAC<\/td>\n",
       "      <td>NaN<\/td>\n",
       "    <\/tr>\n",
       "    <tr>\n",
       "      <th>40<\/th>\n",
       "      <td>Cuba<\/td>\n",
       "      <td>0.0<\/td>\n",
       "      <td>312.0<\/td>\n",
       "      <td>269.0<\/td>\n",
       "      <td>29.0<\/td>\n",
       "      <td>11339.254<\/td>\n",
       "      <td>0.65<\/td>\n",
       "      <td>CUB<\/td>\n",
       "      <td>NaN<\/td>\n",
       "    <\/tr>\n",
       "    <tr>\n",
       "      <th>156<\/th>\n",
       "      <td>Turkménistan<\/td>\n",
       "      <td>0.0<\/td>\n",
       "      <td>9.0<\/td>\n",
       "      <td>26.0<\/td>\n",
       "      <td>20.0<\/td>\n",
       "      <td>5757.667<\/td>\n",
       "      <td>-0.13<\/td>\n",
       "      <td>TKM<\/td>\n",
       "      <td>NaN<\/td>\n",
       "    <\/tr>\n",
       "  <\/tbody>\n",
       "<\/table>\n",
       "<\/div>"
      ]
     },
     "metadata":{
      
     },
     "output_type":"display_data"
    }
   ],
   "metadata":{
    "datalore":{
     "node_id":"YVpFptjUYPu5VA4ml5rstZ",
     "type":"CODE",
     "hide_input_from_viewers":true,
     "hide_output_from_viewers":true
    }
   }
  },
  {
   "cell_type":"code",
   "source":[
    "index1 = df_etude_marche[df_etude_marche[\"Zone\"].str.contains(\"Macao\")].index[0]\n",
    "index2 = df_etude_marche[df_etude_marche[\"Zone\"].str.contains(\"Cuba\")].index[0]\n",
    "index3 = df_etude_marche[df_etude_marche[\"Zone\"].str.contains(\"Turkménistan\")].index[0]\n",
    "\n",
    "\n",
    "df_etude_marche.loc[(index1, index2, index3), 'Facilité du Business'] = round(\n",
    "    df_doing_business['Facilité du Business'].mean(),1)"
   ],
   "execution_count":89,
   "outputs":[
    
   ],
   "metadata":{
    "datalore":{
     "node_id":"yRdnyrxL9haxkp1fsMua3f",
     "type":"CODE",
     "hide_input_from_viewers":true,
     "hide_output_from_viewers":true
    }
   }
  },
  {
   "cell_type":"markdown",
   "source":[
    "On regarde maintenant s'il reste des valeurs ville dans notre jeu de données."
   ],
   "attachments":{
    
   },
   "metadata":{
    "datalore":{
     "node_id":"kgUhMRm5TRFoxKgHcAlP5P",
     "type":"MD",
     "hide_input_from_viewers":true,
     "hide_output_from_viewers":true
    }
   }
  },
  {
   "cell_type":"code",
   "source":[
    "df_etude_marche[df_etude_marche['Facilité du Business'].isna()]"
   ],
   "execution_count":90,
   "outputs":[
    {
     "data":{
      "text\/html":[
       "<div>\n",
       "<style scoped>\n",
       "    .dataframe tbody tr th:only-of-type {\n",
       "        vertical-align: middle;\n",
       "    }\n",
       "\n",
       "    .dataframe tbody tr th {\n",
       "        vertical-align: top;\n",
       "    }\n",
       "\n",
       "    .dataframe thead th {\n",
       "        text-align: right;\n",
       "    }\n",
       "<\/style>\n",
       "<table border=\"1\" class=\"dataframe\">\n",
       "  <thead>\n",
       "    <tr style=\"text-align: right;\">\n",
       "      <th><\/th>\n",
       "      <th>Zone<\/th>\n",
       "      <th>Exportations (en millier de tonnes)<\/th>\n",
       "      <th>Importations (en millier de tonnes)<\/th>\n",
       "      <th>Nourriture (en millier de tonnes)<\/th>\n",
       "      <th>Production(en millier de tonnes)<\/th>\n",
       "      <th>Population en 2017 (en millier de personne)<\/th>\n",
       "      <th>Stabilité politique<\/th>\n",
       "      <th>Code ISO3<\/th>\n",
       "      <th>Facilité du Business<\/th>\n",
       "    <\/tr>\n",
       "  <\/thead>\n",
       "  <tbody>\n",
       "  <\/tbody>\n",
       "<\/table>\n",
       "<\/div>"
      ]
     },
     "metadata":{
      
     },
     "output_type":"display_data"
    }
   ],
   "metadata":{
    "datalore":{
     "node_id":"qwZslxbdVa899KXeEYKOCX",
     "type":"CODE",
     "hide_input_from_viewers":true,
     "hide_output_from_viewers":true
    }
   }
  },
  {
   "cell_type":"markdown",
   "source":[
    "On peut maintenant continuer à construire notre dataframe."
   ],
   "attachments":{
    
   },
   "metadata":{
    "datalore":{
     "node_id":"BFKGQAe7e0wFpN7cJ2XuEC",
     "type":"MD",
     "hide_input_from_viewers":true,
     "hide_output_from_viewers":true
    }
   }
  },
  {
   "cell_type":"markdown",
   "source":[
    "## 2.5 - Ajout du paramètre distance"
   ],
   "attachments":{
    
   },
   "metadata":{
    "datalore":{
     "node_id":"OinQEFWUKu6jePlHDQmJxs",
     "type":"MD",
     "hide_input_from_viewers":true,
     "hide_output_from_viewers":true
    }
   }
  },
  {
   "cell_type":"code",
   "source":[
    "df_etude_marche = df_etude_marche.merge(df_distance, how='left', on= 'Code ISO3')"
   ],
   "execution_count":91,
   "outputs":[
    
   ],
   "metadata":{
    "datalore":{
     "node_id":"662LcEi97lwfCiS5AJwxuF",
     "type":"CODE",
     "hide_input_from_viewers":true,
     "hide_output_from_viewers":true
    }
   }
  },
  {
   "cell_type":"code",
   "source":[
    "df_etude_marche"
   ],
   "execution_count":92,
   "outputs":[
    {
     "data":{
      "text\/html":[
       "<div>\n",
       "<style scoped>\n",
       "    .dataframe tbody tr th:only-of-type {\n",
       "        vertical-align: middle;\n",
       "    }\n",
       "\n",
       "    .dataframe tbody tr th {\n",
       "        vertical-align: top;\n",
       "    }\n",
       "\n",
       "    .dataframe thead th {\n",
       "        text-align: right;\n",
       "    }\n",
       "<\/style>\n",
       "<table border=\"1\" class=\"dataframe\">\n",
       "  <thead>\n",
       "    <tr style=\"text-align: right;\">\n",
       "      <th><\/th>\n",
       "      <th>Zone<\/th>\n",
       "      <th>Exportations (en millier de tonnes)<\/th>\n",
       "      <th>Importations (en millier de tonnes)<\/th>\n",
       "      <th>Nourriture (en millier de tonnes)<\/th>\n",
       "      <th>Production(en millier de tonnes)<\/th>\n",
       "      <th>Population en 2017 (en millier de personne)<\/th>\n",
       "      <th>Stabilité politique<\/th>\n",
       "      <th>Code ISO3<\/th>\n",
       "      <th>Facilité du Business<\/th>\n",
       "      <th>dist<\/th>\n",
       "    <\/tr>\n",
       "  <\/thead>\n",
       "  <tbody>\n",
       "    <tr>\n",
       "      <th>0<\/th>\n",
       "      <td>Afghanistan<\/td>\n",
       "      <td>0.0<\/td>\n",
       "      <td>29.0<\/td>\n",
       "      <td>55.0<\/td>\n",
       "      <td>28.0<\/td>\n",
       "      <td>36296.113<\/td>\n",
       "      <td>-2.80<\/td>\n",
       "      <td>AFG<\/td>\n",
       "      <td>38.9<\/td>\n",
       "      <td>5590.3810<\/td>\n",
       "    <\/tr>\n",
       "    <tr>\n",
       "      <th>1<\/th>\n",
       "      <td>Afrique du Sud<\/td>\n",
       "      <td>63.0<\/td>\n",
       "      <td>514.0<\/td>\n",
       "      <td>2035.0<\/td>\n",
       "      <td>1667.0<\/td>\n",
       "      <td>57009.756<\/td>\n",
       "      <td>-0.28<\/td>\n",
       "      <td>ZAF<\/td>\n",
       "      <td>65.4<\/td>\n",
       "      <td>9353.5520<\/td>\n",
       "    <\/tr>\n",
       "    <tr>\n",
       "      <th>2<\/th>\n",
       "      <td>Albanie<\/td>\n",
       "      <td>0.0<\/td>\n",
       "      <td>38.0<\/td>\n",
       "      <td>47.0<\/td>\n",
       "      <td>13.0<\/td>\n",
       "      <td>2884.169<\/td>\n",
       "      <td>0.38<\/td>\n",
       "      <td>ALB<\/td>\n",
       "      <td>64.2<\/td>\n",
       "      <td>1603.5340<\/td>\n",
       "    <\/tr>\n",
       "    <tr>\n",
       "      <th>3<\/th>\n",
       "      <td>Algérie<\/td>\n",
       "      <td>0.0<\/td>\n",
       "      <td>2.0<\/td>\n",
       "      <td>264.0<\/td>\n",
       "      <td>275.0<\/td>\n",
       "      <td>41389.189<\/td>\n",
       "      <td>-0.92<\/td>\n",
       "      <td>DZA<\/td>\n",
       "      <td>46.1<\/td>\n",
       "      <td>1340.3900<\/td>\n",
       "    <\/tr>\n",
       "    <tr>\n",
       "      <th>4<\/th>\n",
       "      <td>Allemagne<\/td>\n",
       "      <td>646.0<\/td>\n",
       "      <td>842.0<\/td>\n",
       "      <td>1609.0<\/td>\n",
       "      <td>1514.0<\/td>\n",
       "      <td>82658.409<\/td>\n",
       "      <td>0.59<\/td>\n",
       "      <td>DEU<\/td>\n",
       "      <td>79.6<\/td>\n",
       "      <td>439.8984<\/td>\n",
       "    <\/tr>\n",
       "    <tr>\n",
       "      <th>...<\/th>\n",
       "      <td>...<\/td>\n",
       "      <td>...<\/td>\n",
       "      <td>...<\/td>\n",
       "      <td>...<\/td>\n",
       "      <td>...<\/td>\n",
       "      <td>...<\/td>\n",
       "      <td>...<\/td>\n",
       "      <td>...<\/td>\n",
       "      <td>...<\/td>\n",
       "      <td>...<\/td>\n",
       "    <\/tr>\n",
       "    <tr>\n",
       "      <th>166<\/th>\n",
       "      <td>Émirats arabes unis<\/td>\n",
       "      <td>94.0<\/td>\n",
       "      <td>433.0<\/td>\n",
       "      <td>412.0<\/td>\n",
       "      <td>48.0<\/td>\n",
       "      <td>9487.203<\/td>\n",
       "      <td>0.62<\/td>\n",
       "      <td>ARE<\/td>\n",
       "      <td>77.4<\/td>\n",
       "      <td>5249.5350<\/td>\n",
       "    <\/tr>\n",
       "    <tr>\n",
       "      <th>167<\/th>\n",
       "      <td>Équateur<\/td>\n",
       "      <td>0.0<\/td>\n",
       "      <td>0.0<\/td>\n",
       "      <td>324.0<\/td>\n",
       "      <td>340.0<\/td>\n",
       "      <td>16785.361<\/td>\n",
       "      <td>-0.07<\/td>\n",
       "      <td>ECU<\/td>\n",
       "      <td>57.5<\/td>\n",
       "      <td>9367.0980<\/td>\n",
       "    <\/tr>\n",
       "    <tr>\n",
       "      <th>168<\/th>\n",
       "      <td>États-Unis d'Amérique<\/td>\n",
       "      <td>3692.0<\/td>\n",
       "      <td>123.0<\/td>\n",
       "      <td>18100.0<\/td>\n",
       "      <td>21914.0<\/td>\n",
       "      <td>325084.756<\/td>\n",
       "      <td>0.29<\/td>\n",
       "      <td>USA<\/td>\n",
       "      <td>83.6<\/td>\n",
       "      <td>5838.1570<\/td>\n",
       "    <\/tr>\n",
       "    <tr>\n",
       "      <th>169<\/th>\n",
       "      <td>Éthiopie<\/td>\n",
       "      <td>0.0<\/td>\n",
       "      <td>1.0<\/td>\n",
       "      <td>14.0<\/td>\n",
       "      <td>14.0<\/td>\n",
       "      <td>106399.924<\/td>\n",
       "      <td>-1.68<\/td>\n",
       "      <td>ETH<\/td>\n",
       "      <td>44.1<\/td>\n",
       "      <td>5582.5020<\/td>\n",
       "    <\/tr>\n",
       "    <tr>\n",
       "      <th>170<\/th>\n",
       "      <td>Îles Salomon<\/td>\n",
       "      <td>0.0<\/td>\n",
       "      <td>6.0<\/td>\n",
       "      <td>3.0<\/td>\n",
       "      <td>0.0<\/td>\n",
       "      <td>636.039<\/td>\n",
       "      <td>0.20<\/td>\n",
       "      <td>SLB<\/td>\n",
       "      <td>55.1<\/td>\n",
       "      <td>15178.2000<\/td>\n",
       "    <\/tr>\n",
       "  <\/tbody>\n",
       "<\/table>\n",
       "<p>171 rows × 10 columns<\/p>\n",
       "<\/div>"
      ]
     },
     "metadata":{
      
     },
     "output_type":"display_data"
    }
   ],
   "metadata":{
    "datalore":{
     "node_id":"V2TkpHQGMWiyimHqYnitOg",
     "type":"CODE",
     "hide_input_from_viewers":true,
     "hide_output_from_viewers":true
    }
   }
  },
  {
   "cell_type":"markdown",
   "source":[
    "- On regarde s'il manque des valeurs"
   ],
   "attachments":{
    
   },
   "metadata":{
    "datalore":{
     "node_id":"SJAmtgp9D9sO5bpCNd4z37",
     "type":"MD",
     "hide_input_from_viewers":true,
     "hide_output_from_viewers":true
    }
   }
  },
  {
   "cell_type":"code",
   "source":[
    "df_etude_marche[df_etude_marche['dist'].isna()]"
   ],
   "execution_count":93,
   "outputs":[
    {
     "data":{
      "text\/html":[
       "<div>\n",
       "<style scoped>\n",
       "    .dataframe tbody tr th:only-of-type {\n",
       "        vertical-align: middle;\n",
       "    }\n",
       "\n",
       "    .dataframe tbody tr th {\n",
       "        vertical-align: top;\n",
       "    }\n",
       "\n",
       "    .dataframe thead th {\n",
       "        text-align: right;\n",
       "    }\n",
       "<\/style>\n",
       "<table border=\"1\" class=\"dataframe\">\n",
       "  <thead>\n",
       "    <tr style=\"text-align: right;\">\n",
       "      <th><\/th>\n",
       "      <th>Zone<\/th>\n",
       "      <th>Exportations (en millier de tonnes)<\/th>\n",
       "      <th>Importations (en millier de tonnes)<\/th>\n",
       "      <th>Nourriture (en millier de tonnes)<\/th>\n",
       "      <th>Production(en millier de tonnes)<\/th>\n",
       "      <th>Population en 2017 (en millier de personne)<\/th>\n",
       "      <th>Stabilité politique<\/th>\n",
       "      <th>Code ISO3<\/th>\n",
       "      <th>Facilité du Business<\/th>\n",
       "      <th>dist<\/th>\n",
       "    <\/tr>\n",
       "  <\/thead>\n",
       "  <tbody>\n",
       "    <tr>\n",
       "      <th>100<\/th>\n",
       "      <td>Monténégro<\/td>\n",
       "      <td>0.0<\/td>\n",
       "      <td>8.0<\/td>\n",
       "      <td>10.0<\/td>\n",
       "      <td>4.0<\/td>\n",
       "      <td>627.563<\/td>\n",
       "      <td>-0.06<\/td>\n",
       "      <td>MNE<\/td>\n",
       "      <td>71.2<\/td>\n",
       "      <td>NaN<\/td>\n",
       "    <\/tr>\n",
       "    <tr>\n",
       "      <th>123<\/th>\n",
       "      <td>Roumanie<\/td>\n",
       "      <td>69.0<\/td>\n",
       "      <td>146.0<\/td>\n",
       "      <td>381.0<\/td>\n",
       "      <td>392.0<\/td>\n",
       "      <td>19653.969<\/td>\n",
       "      <td>0.06<\/td>\n",
       "      <td>ROU<\/td>\n",
       "      <td>72.9<\/td>\n",
       "      <td>NaN<\/td>\n",
       "    <\/tr>\n",
       "    <tr>\n",
       "      <th>137<\/th>\n",
       "      <td>Serbie<\/td>\n",
       "      <td>7.0<\/td>\n",
       "      <td>12.0<\/td>\n",
       "      <td>90.0<\/td>\n",
       "      <td>85.0<\/td>\n",
       "      <td>8829.628<\/td>\n",
       "      <td>0.09<\/td>\n",
       "      <td>SRB<\/td>\n",
       "      <td>73.3<\/td>\n",
       "      <td>NaN<\/td>\n",
       "    <\/tr>\n",
       "    <tr>\n",
       "      <th>151<\/th>\n",
       "      <td>Timor-Leste<\/td>\n",
       "      <td>0.0<\/td>\n",
       "      <td>11.0<\/td>\n",
       "      <td>5.0<\/td>\n",
       "      <td>1.0<\/td>\n",
       "      <td>1243.258<\/td>\n",
       "      <td>0.07<\/td>\n",
       "      <td>TLS<\/td>\n",
       "      <td>38.2<\/td>\n",
       "      <td>NaN<\/td>\n",
       "    <\/tr>\n",
       "  <\/tbody>\n",
       "<\/table>\n",
       "<\/div>"
      ]
     },
     "metadata":{
      
     },
     "output_type":"display_data"
    }
   ],
   "metadata":{
    "datalore":{
     "node_id":"zRNW2LXhFkRiiWgRDeXJi1",
     "type":"CODE",
     "hide_input_from_viewers":true,
     "hide_output_from_viewers":true
    }
   }
  },
  {
   "cell_type":"markdown",
   "source":[
    "Il manque 4 valeurs.\n",
    "\n",
    "Pour la Roumanie, on a encore un problème sur le code ISO.  Nous avons le code ROU que c'est le code ROM. On va récupérer dans le dataframe distance la valeur."
   ],
   "attachments":{
    
   },
   "metadata":{
    "datalore":{
     "node_id":"BjaMoZzBFyby39Yu2e0KYH",
     "type":"MD",
     "hide_input_from_viewers":true,
     "hide_output_from_viewers":true
    }
   }
  },
  {
   "cell_type":"code",
   "source":[
    "df_distance[df_distance['Code ISO3']=='ROM']['dist']"
   ],
   "execution_count":94,
   "outputs":[
    {
     "data":{
      "text\/html":[
       "<pre>15177    1875.018\n",
       "Name: dist, dtype: float64<\/pre>"
      ]
     },
     "metadata":{
      
     },
     "output_type":"display_data"
    }
   ],
   "metadata":{
    "datalore":{
     "node_id":"W0Pqxf4PXPJGw5kHJqsfwE",
     "type":"CODE",
     "hide_input_from_viewers":true,
     "hide_output_from_viewers":true
    }
   }
  },
  {
   "cell_type":"code",
   "source":[
    "index1 = df_etude_marche[df_etude_marche[\"Zone\"].str.contains(\"Roumanie\")].index[0]\n",
    "\n",
    "df_etude_marche.loc[index1, 'dist'] = df_distance[df_distance['Code ISO3']=='ROM']['dist'].values[0]"
   ],
   "execution_count":95,
   "outputs":[
    
   ],
   "metadata":{
    "datalore":{
     "node_id":"puIP3pJbRTrHkgqqPwf0HY",
     "type":"CODE",
     "hide_input_from_viewers":true,
     "hide_output_from_viewers":true
    }
   }
  },
  {
   "cell_type":"markdown",
   "source":[
    "Pour le Monténégro et la Serbie, c'est anciennement la Yougoslavie . On va donc prendre le code ISO de la Yougoslavie, c'est-à-dire, YUG et mettre la valeur aux deux pays."
   ],
   "attachments":{
    
   },
   "metadata":{
    "datalore":{
     "node_id":"svVyDllTibvizflFw4naWs",
     "type":"MD",
     "hide_input_from_viewers":true,
     "hide_output_from_viewers":true
    }
   }
  },
  {
   "cell_type":"code",
   "source":[
    "index1 = df_etude_marche[df_etude_marche[\"Zone\"].str.contains(\"Monténégro\")].index[0]\n",
    "index2 = df_etude_marche[df_etude_marche[\"Zone\"].str.contains(\"Serbie\")].index[0]\n",
    "\n",
    "df_etude_marche.loc[(index1, index2), 'dist'] = df_distance[df_distance['Code ISO3']=='YUG']['dist'].index[0]"
   ],
   "execution_count":96,
   "outputs":[
    
   ],
   "metadata":{
    "datalore":{
     "node_id":"Wq6GXSq2my4l9lUKz3EJXi",
     "type":"CODE",
     "hide_input_from_viewers":true,
     "hide_output_from_viewers":true
    }
   }
  },
  {
   "cell_type":"markdown",
   "source":[
    "Pour le Timor-leste, on a encore un problème sur le code ISO3."
   ],
   "attachments":{
    
   },
   "metadata":{
    "datalore":{
     "node_id":"DwrmQChE2kG6vWRG0sqQ9H",
     "type":"MD",
     "hide_input_from_viewers":true,
     "hide_output_from_viewers":true
    }
   }
  },
  {
   "cell_type":"code",
   "source":[
    "index1 = df_etude_marche[df_etude_marche[\"Zone\"].str.contains(\"Timor-Leste\")].index[0]\n",
    "\n",
    "df_etude_marche.loc[index1, 'dist'] = df_distance[df_distance['Code ISO3']=='TMP']['dist'].index[0]"
   ],
   "execution_count":97,
   "outputs":[
    
   ],
   "metadata":{
    "datalore":{
     "node_id":"kzagcKiVW4DZRkG31jrpDU",
     "type":"CODE",
     "hide_input_from_viewers":true,
     "hide_output_from_viewers":true
    }
   }
  },
  {
   "cell_type":"markdown",
   "source":[
    "On va pouvoir maintenant, vérifier une dernière fois que l'on est sans valeur manquante dans notre jeu de données"
   ],
   "attachments":{
    
   },
   "metadata":{
    "datalore":{
     "node_id":"mFfqcwlz7eKc0TkzZCZH9d",
     "type":"MD",
     "hide_input_from_viewers":true,
     "hide_output_from_viewers":true
    }
   }
  },
  {
   "cell_type":"code",
   "source":[
    "df_etude_marche[df_etude_marche['dist'].isna()]"
   ],
   "execution_count":98,
   "outputs":[
    {
     "data":{
      "text\/html":[
       "<div>\n",
       "<style scoped>\n",
       "    .dataframe tbody tr th:only-of-type {\n",
       "        vertical-align: middle;\n",
       "    }\n",
       "\n",
       "    .dataframe tbody tr th {\n",
       "        vertical-align: top;\n",
       "    }\n",
       "\n",
       "    .dataframe thead th {\n",
       "        text-align: right;\n",
       "    }\n",
       "<\/style>\n",
       "<table border=\"1\" class=\"dataframe\">\n",
       "  <thead>\n",
       "    <tr style=\"text-align: right;\">\n",
       "      <th><\/th>\n",
       "      <th>Zone<\/th>\n",
       "      <th>Exportations (en millier de tonnes)<\/th>\n",
       "      <th>Importations (en millier de tonnes)<\/th>\n",
       "      <th>Nourriture (en millier de tonnes)<\/th>\n",
       "      <th>Production(en millier de tonnes)<\/th>\n",
       "      <th>Population en 2017 (en millier de personne)<\/th>\n",
       "      <th>Stabilité politique<\/th>\n",
       "      <th>Code ISO3<\/th>\n",
       "      <th>Facilité du Business<\/th>\n",
       "      <th>dist<\/th>\n",
       "    <\/tr>\n",
       "  <\/thead>\n",
       "  <tbody>\n",
       "  <\/tbody>\n",
       "<\/table>\n",
       "<\/div>"
      ]
     },
     "metadata":{
      
     },
     "output_type":"display_data"
    }
   ],
   "metadata":{
    "datalore":{
     "node_id":"xnI4pzscu08jEnZ15g6shg",
     "type":"CODE",
     "hide_input_from_viewers":true,
     "hide_output_from_viewers":true
    }
   }
  },
  {
   "cell_type":"markdown",
   "source":[
    "Maintenant, on peut faire l'analyse exploratoire. "
   ],
   "attachments":{
    
   },
   "metadata":{
    "datalore":{
     "node_id":"BiOTD0MQSOjwUEF722CcBW",
     "type":"MD",
     "hide_input_from_viewers":false,
     "hide_output_from_viewers":false,
     "report_properties":{
      
     }
    }
   }
  },
  {
   "cell_type":"markdown",
   "source":[
    "# 3 - Relations entre les variables\n",
    "\n",
    "Pour étudier la relation entre ces variables, on va utiliser la méthode de l'ACP. Ça va nous permettre de simplifier  le nombre de variables et de voir la relation entre elle."
   ],
   "attachments":{
    
   },
   "metadata":{
    "datalore":{
     "node_id":"E5lRXgA064lrThCie4AhiZ",
     "type":"MD",
     "hide_input_from_viewers":false,
     "hide_output_from_viewers":false,
     "report_properties":{
      
     }
    }
   }
  },
  {
   "cell_type":"markdown",
   "source":[
    "## 3.1 - Paramétrage de l'ACP\n",
    "Nous allons reprendre notre dataframe précédent et le préparer pour réaliser l'ACP.\n",
    "\n",
    "On commence par mettre dans une matrice de valeur notée X, seulement les valeurs numériques de notre dataframe précédent."
   ],
   "attachments":{
    
   },
   "metadata":{
    "datalore":{
     "node_id":"SCEvG2mzbyMLYML6myICg1",
     "type":"MD",
     "hide_input_from_viewers":true,
     "hide_output_from_viewers":true
    }
   }
  },
  {
   "cell_type":"code",
   "source":[
    "# On sélectionne seulement les données de type numérique\n",
    "X = df_etude_marche.select_dtypes(exclude= ['object']).values\n",
    "\n",
    "\n",
    "X[:5]"
   ],
   "execution_count":99,
   "outputs":[
    {
     "data":{
      "text\/html":[
       "<pre>array([[ 0.0000000e+00,  2.9000000e+01,  5.5000000e+01,  2.8000000e+01,\n",
       "         3.6296113e+04, -2.8000000e+00,  3.8900000e+01,  5.5903810e+03],\n",
       "       [ 6.3000000e+01,  5.1400000e+02,  2.0350000e+03,  1.6670000e+03,\n",
       "         5.7009756e+04, -2.8000000e-01,  6.5400000e+01,  9.3535520e+03],\n",
       "       [ 0.0000000e+00,  3.8000000e+01,  4.7000000e+01,  1.3000000e+01,\n",
       "         2.8841690e+03,  3.8000000e-01,  6.4200000e+01,  1.6035340e+03],\n",
       "       [ 0.0000000e+00,  2.0000000e+00,  2.6400000e+02,  2.7500000e+02,\n",
       "         4.1389189e+04, -9.2000000e-01,  4.6100000e+01,  1.3403900e+03],\n",
       "       [ 6.4600000e+02,  8.4200000e+02,  1.6090000e+03,  1.5140000e+03,\n",
       "         8.2658409e+04,  5.9000000e-01,  7.9600000e+01,  4.3989840e+02]])<\/pre>"
      ]
     },
     "metadata":{
      
     },
     "output_type":"display_data"
    }
   ],
   "metadata":{
    "datalore":{
     "node_id":"0mZZtMCMszDuwCGjHR8Ibx",
     "type":"CODE",
     "hide_input_from_viewers":false,
     "hide_output_from_viewers":false,
     "report_properties":{
      
     }
    }
   }
  },
  {
   "cell_type":"markdown",
   "source":[
    "On récupère dans une variable `pays`, la liste des pays."
   ],
   "attachments":{
    
   },
   "metadata":{
    "datalore":{
     "node_id":"sLK8SjtFFU4hYbLiBk0vyW",
     "type":"MD",
     "hide_input_from_viewers":true,
     "hide_output_from_viewers":true
    }
   }
  },
  {
   "cell_type":"code",
   "source":[
    "pays = df_etude_marche['Zone'].values\n",
    "pays[:5]"
   ],
   "execution_count":100,
   "outputs":[
    {
     "data":{
      "text\/html":[
       "<pre>array(['Afghanistan', 'Afrique du Sud', 'Albanie', 'Algérie', 'Allemagne'],\n",
       "      dtype=object)<\/pre>"
      ]
     },
     "metadata":{
      
     },
     "output_type":"display_data"
    }
   ],
   "metadata":{
    "datalore":{
     "node_id":"eE78v5tqpi0AIv4eqd8l5Y",
     "type":"CODE",
     "hide_input_from_viewers":false,
     "hide_output_from_viewers":false,
     "report_properties":{
      
     }
    }
   }
  },
  {
   "cell_type":"markdown",
   "source":[
    "On fait de mêmes pour le nom des variables numériques."
   ],
   "attachments":{
    
   },
   "metadata":{
    "datalore":{
     "node_id":"PuAt1SrSeFDcLaXvZFZKAR",
     "type":"MD",
     "hide_input_from_viewers":true,
     "hide_output_from_viewers":true
    }
   }
  },
  {
   "cell_type":"code",
   "source":[
    "variables = df_etude_marche.select_dtypes(exclude= ['object']).columns\n",
    "variables"
   ],
   "execution_count":101,
   "outputs":[
    {
     "data":{
      "text\/plain":[
       "Index(['Exportations (en millier de tonnes)',\n",
       "       'Importations (en millier de tonnes)',\n",
       "       'Nourriture (en millier de tonnes)', 'Production(en millier de tonnes)',\n",
       "       'Population en 2017 (en millier de personne)', 'Stabilité politique',\n",
       "       'Facilité du Business', 'dist'],\n",
       "      dtype='object')"
      ]
     },
     "metadata":{
      
     },
     "output_type":"display_data"
    }
   ],
   "metadata":{
    "datalore":{
     "node_id":"TYfmdOLWSMWsQgRdGp3UdF",
     "type":"CODE",
     "hide_input_from_viewers":false,
     "hide_output_from_viewers":false,
     "report_properties":{
      
     }
    }
   }
  },
  {
   "cell_type":"markdown",
   "source":[
    "On va centrer et réduire les données pour avoir une moyenne à 0 et un écart type de 1 pour chaque variable."
   ],
   "attachments":{
    
   },
   "metadata":{
    "datalore":{
     "node_id":"qtq7SSSNEhll8ofVPNxPsa",
     "type":"MD",
     "hide_input_from_viewers":true,
     "hide_output_from_viewers":true
    }
   }
  },
  {
   "cell_type":"code",
   "source":[
    "#On initialise le scaler\n",
    "scaler = StandardScaler()\n",
    "\n",
    "# on centre et reduit les données\n",
    "X_scaled = scaler.fit_transform(X)\n",
    "X_scaled[:5]"
   ],
   "execution_count":102,
   "outputs":[
    {
     "data":{
      "text\/html":[
       "<pre>array([[-0.2278546 , -0.32313214, -0.28143806, -0.27657061, -0.04343106,\n",
       "        -3.06893022, -1.75855216, -0.15279745],\n",
       "       [-0.09029912,  2.2885981 ,  0.6504684 ,  0.38593799,  0.09190103,\n",
       "        -0.24785549,  0.26709073,  0.776793  ],\n",
       "       [-0.2278546 , -0.27466704, -0.28520334, -0.28263384, -0.26172718,\n",
       "         0.49099741,  0.1753635 , -1.13764105],\n",
       "       [-0.2278546 , -0.46852743, -0.18307016, -0.17672947, -0.01015557,\n",
       "        -0.96431892, -1.20818881, -1.20264372],\n",
       "       [ 1.18263497,  4.05488164,  0.44996731,  0.32409307,  0.25947588,\n",
       "         0.72608697,  1.35252955, -1.42508601]])<\/pre>"
      ]
     },
     "metadata":{
      
     },
     "output_type":"display_data"
    }
   ],
   "metadata":{
    "datalore":{
     "node_id":"FW8eKqwFbahhEslciNpiag",
     "type":"CODE",
     "hide_input_from_viewers":false,
     "hide_output_from_viewers":false,
     "report_properties":{
      
     }
    }
   }
  },
  {
   "cell_type":"markdown",
   "source":[
    "On vérifie que l'on a bien 0 en moyenne et 1 en écart type"
   ],
   "attachments":{
    
   },
   "metadata":{
    "datalore":{
     "node_id":"Dy9OXGOiBp3ifXYC0V06IL",
     "type":"MD",
     "hide_input_from_viewers":true,
     "hide_output_from_viewers":true
    }
   }
  },
  {
   "cell_type":"code",
   "source":[
    "idx = [\"mean\", \"std\"]\n",
    "\n",
    "pd.DataFrame(X_scaled).describe().round(2).loc[idx, :]"
   ],
   "execution_count":103,
   "outputs":[
    {
     "data":{
      "text\/html":[
       "<div>\n",
       "<style scoped>\n",
       "    .dataframe tbody tr th:only-of-type {\n",
       "        vertical-align: middle;\n",
       "    }\n",
       "\n",
       "    .dataframe tbody tr th {\n",
       "        vertical-align: top;\n",
       "    }\n",
       "\n",
       "    .dataframe thead th {\n",
       "        text-align: right;\n",
       "    }\n",
       "<\/style>\n",
       "<table border=\"1\" class=\"dataframe\">\n",
       "  <thead>\n",
       "    <tr style=\"text-align: right;\">\n",
       "      <th><\/th>\n",
       "      <th>0<\/th>\n",
       "      <th>1<\/th>\n",
       "      <th>2<\/th>\n",
       "      <th>3<\/th>\n",
       "      <th>4<\/th>\n",
       "      <th>5<\/th>\n",
       "      <th>6<\/th>\n",
       "      <th>7<\/th>\n",
       "    <\/tr>\n",
       "  <\/thead>\n",
       "  <tbody>\n",
       "    <tr>\n",
       "      <th>mean<\/th>\n",
       "      <td>0.0<\/td>\n",
       "      <td>-0.0<\/td>\n",
       "      <td>-0.0<\/td>\n",
       "      <td>-0.0<\/td>\n",
       "      <td>-0.0<\/td>\n",
       "      <td>0.0<\/td>\n",
       "      <td>-0.0<\/td>\n",
       "      <td>0.0<\/td>\n",
       "    <\/tr>\n",
       "    <tr>\n",
       "      <th>std<\/th>\n",
       "      <td>1.0<\/td>\n",
       "      <td>1.0<\/td>\n",
       "      <td>1.0<\/td>\n",
       "      <td>1.0<\/td>\n",
       "      <td>1.0<\/td>\n",
       "      <td>1.0<\/td>\n",
       "      <td>1.0<\/td>\n",
       "      <td>1.0<\/td>\n",
       "    <\/tr>\n",
       "  <\/tbody>\n",
       "<\/table>\n",
       "<\/div>"
      ]
     },
     "metadata":{
      
     },
     "output_type":"display_data"
    }
   ],
   "metadata":{
    "datalore":{
     "node_id":"9jLTozMKuHdS0xChz9FQDh",
     "type":"CODE",
     "hide_input_from_viewers":false,
     "hide_output_from_viewers":false,
     "report_properties":{
      
     }
    }
   }
  },
  {
   "cell_type":"markdown",
   "source":[
    "On a bien nos données qui sont centrées et réduites. "
   ],
   "attachments":{
    
   },
   "metadata":{
    "datalore":{
     "node_id":"nquN6s6C1Uq2YePeDm2IvK",
     "type":"MD",
     "hide_input_from_viewers":true,
     "hide_output_from_viewers":true
    }
   }
  },
  {
   "cell_type":"markdown",
   "source":[
    "## 3.2 détermination du nombre de composante\n",
    "On commence par prendre arbitrairement 6 composantes."
   ],
   "attachments":{
    
   },
   "metadata":{
    "datalore":{
     "node_id":"x9NTKN15OIumfg3r5yYzQB",
     "type":"MD",
     "hide_input_from_viewers":true,
     "hide_output_from_viewers":true
    }
   }
  },
  {
   "cell_type":"code",
   "source":[
    "n_composantes = 6"
   ],
   "execution_count":104,
   "outputs":[
    
   ],
   "metadata":{
    "datalore":{
     "node_id":"3XuGLFXrEkkX7z0hGpQNw0",
     "type":"CODE",
     "hide_input_from_viewers":false,
     "hide_output_from_viewers":false,
     "report_properties":{
      
     }
    }
   }
  },
  {
   "cell_type":"markdown",
   "source":[
    "Nous créons notre ACP"
   ],
   "attachments":{
    
   },
   "metadata":{
    "datalore":{
     "node_id":"sYODAblZfyiNNgLBpdBCc4",
     "type":"MD",
     "hide_input_from_viewers":true,
     "hide_output_from_viewers":true
    }
   }
  },
  {
   "cell_type":"code",
   "source":[
    "acp = PCA(n_components= n_composantes)"
   ],
   "execution_count":105,
   "outputs":[
    
   ],
   "metadata":{
    "datalore":{
     "node_id":"57hKfQSd3FgoZ4nl2kJ3Lm",
     "type":"CODE",
     "hide_input_from_viewers":false,
     "hide_output_from_viewers":false,
     "report_properties":{
      
     }
    }
   }
  },
  {
   "cell_type":"code",
   "source":[
    "acp.fit(X_scaled)"
   ],
   "execution_count":106,
   "outputs":[
    {
     "data":{
      "text\/plain":[
       "PCA(n_components=6)"
      ]
     },
     "metadata":{
      
     },
     "output_type":"display_data"
    }
   ],
   "metadata":{
    "datalore":{
     "node_id":"wuTjUSmSPZ83WYpdZdPhZe",
     "type":"CODE",
     "hide_input_from_viewers":false,
     "hide_output_from_viewers":false,
     "report_properties":{
      
     }
    }
   }
  },
  {
   "cell_type":"markdown",
   "source":[
    "Nous définissons le pourcentage d'inertie pour chaque rang."
   ],
   "attachments":{
    
   },
   "metadata":{
    "datalore":{
     "node_id":"iHraARDf6Cm1riFo3syzUi",
     "type":"MD",
     "hide_input_from_viewers":true,
     "hide_output_from_viewers":true
    }
   }
  },
  {
   "cell_type":"code",
   "source":[
    "scree = (acp.explained_variance_ratio_*100).round(2)\n",
    "scree"
   ],
   "execution_count":107,
   "outputs":[
    {
     "data":{
      "text\/html":[
       "<pre>array([39.34, 21.14, 13.52, 10.85,  8.81,  4.31])<\/pre>"
      ]
     },
     "metadata":{
      
     },
     "output_type":"display_data"
    }
   ],
   "metadata":{
    "datalore":{
     "node_id":"5kjPZk2LDvRoDnI0vDn0h2",
     "type":"CODE",
     "hide_input_from_viewers":false,
     "hide_output_from_viewers":false,
     "report_properties":{
      
     }
    }
   }
  },
  {
   "cell_type":"markdown",
   "source":[
    "On calcule la somme cumulée du pourcentage d'inertie"
   ],
   "attachments":{
    
   },
   "metadata":{
    "datalore":{
     "node_id":"MKLsXGvZYT06vLEVFQMmfT",
     "type":"MD",
     "hide_input_from_viewers":true,
     "hide_output_from_viewers":true
    }
   }
  },
  {
   "cell_type":"code",
   "source":[
    "scree_cum = scree.cumsum().round()\n",
    "scree_cum"
   ],
   "execution_count":108,
   "outputs":[
    {
     "data":{
      "text\/html":[
       "<pre>array([39., 60., 74., 85., 94., 98.])<\/pre>"
      ]
     },
     "metadata":{
      
     },
     "output_type":"display_data"
    }
   ],
   "metadata":{
    "datalore":{
     "node_id":"jGe4I00US51hvNSBHYRou9",
     "type":"CODE",
     "hide_input_from_viewers":false,
     "hide_output_from_viewers":false,
     "report_properties":{
      
     }
    }
   }
  },
  {
   "cell_type":"markdown",
   "source":[
    "### Création de l'éboulis des valeurs\n",
    "\n",
    "On crée un éboulis de valeur, afin de pouvoir déterminer le nombre de rangs que l'on va utiliser pour notre ACP et nos plans factoriels."
   ],
   "attachments":{
    
   },
   "metadata":{
    "datalore":{
     "node_id":"UMnXbaEsTtHbkir0xHYWEt",
     "type":"MD",
     "hide_input_from_viewers":true,
     "hide_output_from_viewers":true
    }
   }
  },
  {
   "cell_type":"code",
   "source":[
    "# Liste des rangs\n",
    "x_list = range(1, n_composantes + 1)\n",
    "\n",
    "\n",
    "#Création du graphique\n",
    "fig = go.Figure()\n",
    "\n",
    "fig.add_bar(x=list(x_list), y=scree, name= \"Inertie\")\n",
    "fig.add_scatter(x=list(x_list), y=scree_cum, mode='lines+markers', \n",
    "                marker={'color': 'red'}, \n",
    "                line={'color': 'red'}, \n",
    "                name= \"Somme cumulée\")\n",
    "\n",
    "\n",
    "\n",
    "fig.update_layout(xaxis_title='Rang de l\\'axe d\\'inertie', \n",
    "                  yaxis_title='Pourcentage d\\'inertie', \n",
    "                  title='Eboulis des valeurs propres',\n",
    "                  height = 600)\n",
    "\n",
    "fig.show()"
   ],
   "execution_count":109,
   "outputs":[
    {
     "data":{
      "application\/vnd.plotly.v1+json":{
       "data":[
        {
         "name":"Inertie",
         "x":[
          1,
          2,
          3,
          4,
          5,
          6
         ],
         "y":[
          39.34,
          21.14,
          13.52,
          10.85,
          8.81,
          4.31
         ],
         "type":"bar"
        },
        {
         "line":{
          "color":"red"
         },
         "marker":{
          "color":"red"
         },
         "mode":"lines+markers",
         "name":"Somme cumulée",
         "x":[
          1,
          2,
          3,
          4,
          5,
          6
         ],
         "y":[
          39,
          60,
          74,
          85,
          94,
          98
         ],
         "type":"scatter"
        }
       ],
       "layout":{
        "template":{
         "data":{
          "bar":[
           {
            "error_x":{
             "color":"#2a3f5f"
            },
            "error_y":{
             "color":"#2a3f5f"
            },
            "marker":{
             "line":{
              "color":"#E5ECF6",
              "width":0.5
             },
             "pattern":{
              "fillmode":"overlay",
              "size":10,
              "solidity":0.2
             }
            },
            "type":"bar"
           }
          ],
          "barpolar":[
           {
            "marker":{
             "line":{
              "color":"#E5ECF6",
              "width":0.5
             },
             "pattern":{
              "fillmode":"overlay",
              "size":10,
              "solidity":0.2
             }
            },
            "type":"barpolar"
           }
          ],
          "carpet":[
           {
            "aaxis":{
             "endlinecolor":"#2a3f5f",
             "gridcolor":"white",
             "linecolor":"white",
             "minorgridcolor":"white",
             "startlinecolor":"#2a3f5f"
            },
            "baxis":{
             "endlinecolor":"#2a3f5f",
             "gridcolor":"white",
             "linecolor":"white",
             "minorgridcolor":"white",
             "startlinecolor":"#2a3f5f"
            },
            "type":"carpet"
           }
          ],
          "choropleth":[
           {
            "colorbar":{
             "outlinewidth":0,
             "ticks":""
            },
            "type":"choropleth"
           }
          ],
          "contour":[
           {
            "colorbar":{
             "outlinewidth":0,
             "ticks":""
            },
            "colorscale":[
             [
              0,
              "#0d0887"
             ],
             [
              0.1111111111111111,
              "#46039f"
             ],
             [
              0.2222222222222222,
              "#7201a8"
             ],
             [
              0.3333333333333333,
              "#9c179e"
             ],
             [
              0.4444444444444444,
              "#bd3786"
             ],
             [
              0.5555555555555556,
              "#d8576b"
             ],
             [
              0.6666666666666666,
              "#ed7953"
             ],
             [
              0.7777777777777778,
              "#fb9f3a"
             ],
             [
              0.8888888888888888,
              "#fdca26"
             ],
             [
              1,
              "#f0f921"
             ]
            ],
            "type":"contour"
           }
          ],
          "contourcarpet":[
           {
            "colorbar":{
             "outlinewidth":0,
             "ticks":""
            },
            "type":"contourcarpet"
           }
          ],
          "heatmap":[
           {
            "colorbar":{
             "outlinewidth":0,
             "ticks":""
            },
            "colorscale":[
             [
              0,
              "#0d0887"
             ],
             [
              0.1111111111111111,
              "#46039f"
             ],
             [
              0.2222222222222222,
              "#7201a8"
             ],
             [
              0.3333333333333333,
              "#9c179e"
             ],
             [
              0.4444444444444444,
              "#bd3786"
             ],
             [
              0.5555555555555556,
              "#d8576b"
             ],
             [
              0.6666666666666666,
              "#ed7953"
             ],
             [
              0.7777777777777778,
              "#fb9f3a"
             ],
             [
              0.8888888888888888,
              "#fdca26"
             ],
             [
              1,
              "#f0f921"
             ]
            ],
            "type":"heatmap"
           }
          ],
          "heatmapgl":[
           {
            "colorbar":{
             "outlinewidth":0,
             "ticks":""
            },
            "colorscale":[
             [
              0,
              "#0d0887"
             ],
             [
              0.1111111111111111,
              "#46039f"
             ],
             [
              0.2222222222222222,
              "#7201a8"
             ],
             [
              0.3333333333333333,
              "#9c179e"
             ],
             [
              0.4444444444444444,
              "#bd3786"
             ],
             [
              0.5555555555555556,
              "#d8576b"
             ],
             [
              0.6666666666666666,
              "#ed7953"
             ],
             [
              0.7777777777777778,
              "#fb9f3a"
             ],
             [
              0.8888888888888888,
              "#fdca26"
             ],
             [
              1,
              "#f0f921"
             ]
            ],
            "type":"heatmapgl"
           }
          ],
          "histogram":[
           {
            "marker":{
             "pattern":{
              "fillmode":"overlay",
              "size":10,
              "solidity":0.2
             }
            },
            "type":"histogram"
           }
          ],
          "histogram2d":[
           {
            "colorbar":{
             "outlinewidth":0,
             "ticks":""
            },
            "colorscale":[
             [
              0,
              "#0d0887"
             ],
             [
              0.1111111111111111,
              "#46039f"
             ],
             [
              0.2222222222222222,
              "#7201a8"
             ],
             [
              0.3333333333333333,
              "#9c179e"
             ],
             [
              0.4444444444444444,
              "#bd3786"
             ],
             [
              0.5555555555555556,
              "#d8576b"
             ],
             [
              0.6666666666666666,
              "#ed7953"
             ],
             [
              0.7777777777777778,
              "#fb9f3a"
             ],
             [
              0.8888888888888888,
              "#fdca26"
             ],
             [
              1,
              "#f0f921"
             ]
            ],
            "type":"histogram2d"
           }
          ],
          "histogram2dcontour":[
           {
            "colorbar":{
             "outlinewidth":0,
             "ticks":""
            },
            "colorscale":[
             [
              0,
              "#0d0887"
             ],
             [
              0.1111111111111111,
              "#46039f"
             ],
             [
              0.2222222222222222,
              "#7201a8"
             ],
             [
              0.3333333333333333,
              "#9c179e"
             ],
             [
              0.4444444444444444,
              "#bd3786"
             ],
             [
              0.5555555555555556,
              "#d8576b"
             ],
             [
              0.6666666666666666,
              "#ed7953"
             ],
             [
              0.7777777777777778,
              "#fb9f3a"
             ],
             [
              0.8888888888888888,
              "#fdca26"
             ],
             [
              1,
              "#f0f921"
             ]
            ],
            "type":"histogram2dcontour"
           }
          ],
          "mesh3d":[
           {
            "colorbar":{
             "outlinewidth":0,
             "ticks":""
            },
            "type":"mesh3d"
           }
          ],
          "parcoords":[
           {
            "line":{
             "colorbar":{
              "outlinewidth":0,
              "ticks":""
             }
            },
            "type":"parcoords"
           }
          ],
          "pie":[
           {
            "automargin":true,
            "type":"pie"
           }
          ],
          "scatter":[
           {
            "marker":{
             "colorbar":{
              "outlinewidth":0,
              "ticks":""
             }
            },
            "type":"scatter"
           }
          ],
          "scatter3d":[
           {
            "line":{
             "colorbar":{
              "outlinewidth":0,
              "ticks":""
             }
            },
            "marker":{
             "colorbar":{
              "outlinewidth":0,
              "ticks":""
             }
            },
            "type":"scatter3d"
           }
          ],
          "scattercarpet":[
           {
            "marker":{
             "colorbar":{
              "outlinewidth":0,
              "ticks":""
             }
            },
            "type":"scattercarpet"
           }
          ],
          "scattergeo":[
           {
            "marker":{
             "colorbar":{
              "outlinewidth":0,
              "ticks":""
             }
            },
            "type":"scattergeo"
           }
          ],
          "scattergl":[
           {
            "marker":{
             "colorbar":{
              "outlinewidth":0,
              "ticks":""
             }
            },
            "type":"scattergl"
           }
          ],
          "scattermapbox":[
           {
            "marker":{
             "colorbar":{
              "outlinewidth":0,
              "ticks":""
             }
            },
            "type":"scattermapbox"
           }
          ],
          "scatterpolar":[
           {
            "marker":{
             "colorbar":{
              "outlinewidth":0,
              "ticks":""
             }
            },
            "type":"scatterpolar"
           }
          ],
          "scatterpolargl":[
           {
            "marker":{
             "colorbar":{
              "outlinewidth":0,
              "ticks":""
             }
            },
            "type":"scatterpolargl"
           }
          ],
          "scatterternary":[
           {
            "marker":{
             "colorbar":{
              "outlinewidth":0,
              "ticks":""
             }
            },
            "type":"scatterternary"
           }
          ],
          "surface":[
           {
            "colorbar":{
             "outlinewidth":0,
             "ticks":""
            },
            "colorscale":[
             [
              0,
              "#0d0887"
             ],
             [
              0.1111111111111111,
              "#46039f"
             ],
             [
              0.2222222222222222,
              "#7201a8"
             ],
             [
              0.3333333333333333,
              "#9c179e"
             ],
             [
              0.4444444444444444,
              "#bd3786"
             ],
             [
              0.5555555555555556,
              "#d8576b"
             ],
             [
              0.6666666666666666,
              "#ed7953"
             ],
             [
              0.7777777777777778,
              "#fb9f3a"
             ],
             [
              0.8888888888888888,
              "#fdca26"
             ],
             [
              1,
              "#f0f921"
             ]
            ],
            "type":"surface"
           }
          ],
          "table":[
           {
            "cells":{
             "fill":{
              "color":"#EBF0F8"
             },
             "line":{
              "color":"white"
             }
            },
            "header":{
             "fill":{
              "color":"#C8D4E3"
             },
             "line":{
              "color":"white"
             }
            },
            "type":"table"
           }
          ]
         },
         "layout":{
          "annotationdefaults":{
           "arrowcolor":"#2a3f5f",
           "arrowhead":0,
           "arrowwidth":1
          },
          "autotypenumbers":"strict",
          "coloraxis":{
           "colorbar":{
            "outlinewidth":0,
            "ticks":""
           }
          },
          "colorscale":{
           "diverging":[
            [
             0,
             "#8e0152"
            ],
            [
             0.1,
             "#c51b7d"
            ],
            [
             0.2,
             "#de77ae"
            ],
            [
             0.3,
             "#f1b6da"
            ],
            [
             0.4,
             "#fde0ef"
            ],
            [
             0.5,
             "#f7f7f7"
            ],
            [
             0.6,
             "#e6f5d0"
            ],
            [
             0.7,
             "#b8e186"
            ],
            [
             0.8,
             "#7fbc41"
            ],
            [
             0.9,
             "#4d9221"
            ],
            [
             1,
             "#276419"
            ]
           ],
           "sequential":[
            [
             0,
             "#0d0887"
            ],
            [
             0.1111111111111111,
             "#46039f"
            ],
            [
             0.2222222222222222,
             "#7201a8"
            ],
            [
             0.3333333333333333,
             "#9c179e"
            ],
            [
             0.4444444444444444,
             "#bd3786"
            ],
            [
             0.5555555555555556,
             "#d8576b"
            ],
            [
             0.6666666666666666,
             "#ed7953"
            ],
            [
             0.7777777777777778,
             "#fb9f3a"
            ],
            [
             0.8888888888888888,
             "#fdca26"
            ],
            [
             1,
             "#f0f921"
            ]
           ],
           "sequentialminus":[
            [
             0,
             "#0d0887"
            ],
            [
             0.1111111111111111,
             "#46039f"
            ],
            [
             0.2222222222222222,
             "#7201a8"
            ],
            [
             0.3333333333333333,
             "#9c179e"
            ],
            [
             0.4444444444444444,
             "#bd3786"
            ],
            [
             0.5555555555555556,
             "#d8576b"
            ],
            [
             0.6666666666666666,
             "#ed7953"
            ],
            [
             0.7777777777777778,
             "#fb9f3a"
            ],
            [
             0.8888888888888888,
             "#fdca26"
            ],
            [
             1,
             "#f0f921"
            ]
           ]
          },
          "colorway":[
           "#636efa",
           "#EF553B",
           "#00cc96",
           "#ab63fa",
           "#FFA15A",
           "#19d3f3",
           "#FF6692",
           "#B6E880",
           "#FF97FF",
           "#FECB52"
          ],
          "font":{
           "color":"#2a3f5f"
          },
          "geo":{
           "bgcolor":"white",
           "lakecolor":"white",
           "landcolor":"#E5ECF6",
           "showlakes":true,
           "showland":true,
           "subunitcolor":"white"
          },
          "hoverlabel":{
           "align":"left"
          },
          "hovermode":"closest",
          "mapbox":{
           "style":"light"
          },
          "paper_bgcolor":"white",
          "plot_bgcolor":"#E5ECF6",
          "polar":{
           "angularaxis":{
            "gridcolor":"white",
            "linecolor":"white",
            "ticks":""
           },
           "bgcolor":"#E5ECF6",
           "radialaxis":{
            "gridcolor":"white",
            "linecolor":"white",
            "ticks":""
           }
          },
          "scene":{
           "xaxis":{
            "backgroundcolor":"#E5ECF6",
            "gridcolor":"white",
            "gridwidth":2,
            "linecolor":"white",
            "showbackground":true,
            "ticks":"",
            "zerolinecolor":"white"
           },
           "yaxis":{
            "backgroundcolor":"#E5ECF6",
            "gridcolor":"white",
            "gridwidth":2,
            "linecolor":"white",
            "showbackground":true,
            "ticks":"",
            "zerolinecolor":"white"
           },
           "zaxis":{
            "backgroundcolor":"#E5ECF6",
            "gridcolor":"white",
            "gridwidth":2,
            "linecolor":"white",
            "showbackground":true,
            "ticks":"",
            "zerolinecolor":"white"
           }
          },
          "shapedefaults":{
           "line":{
            "color":"#2a3f5f"
           }
          },
          "ternary":{
           "aaxis":{
            "gridcolor":"white",
            "linecolor":"white",
            "ticks":""
           },
           "baxis":{
            "gridcolor":"white",
            "linecolor":"white",
            "ticks":""
           },
           "bgcolor":"#E5ECF6",
           "caxis":{
            "gridcolor":"white",
            "linecolor":"white",
            "ticks":""
           }
          },
          "title":{
           "x":0.05
          },
          "xaxis":{
           "automargin":true,
           "gridcolor":"white",
           "linecolor":"white",
           "ticks":"",
           "title":{
            "standoff":15
           },
           "zerolinecolor":"white",
           "zerolinewidth":2
          },
          "yaxis":{
           "automargin":true,
           "gridcolor":"white",
           "linecolor":"white",
           "ticks":"",
           "title":{
            "standoff":15
           },
           "zerolinecolor":"white",
           "zerolinewidth":2
          }
         }
        },
        "xaxis":{
         "title":{
          "text":"Rang de l'axe d'inertie"
         }
        },
        "yaxis":{
         "title":{
          "text":"Pourcentage d'inertie"
         }
        },
        "title":{
         "text":"Eboulis des valeurs propres"
        },
        "height":600
       },
       "config":{
        "plotlyServerURL":"https:\/\/plot.ly"
       }
      }
     },
     "metadata":{
      
     },
     "output_type":"display_data"
    }
   ],
   "metadata":{
    "datalore":{
     "node_id":"1tVIrwK6W2FwS5wXSkhJHD",
     "type":"CODE",
     "hide_input_from_viewers":false,
     "hide_output_from_viewers":false,
     "report_properties":{
      
     }
    }
   }
  },
  {
   "cell_type":"markdown",
   "source":[
    "On va regarder les 4 premiers axes d'inertie ce qui va nous permettre d'avoir plus de 85 % d'inertie cumulée. "
   ],
   "attachments":{
    
   },
   "metadata":{
    "datalore":{
     "node_id":"G28IDCzUNu3TsCouXCVEuD",
     "type":"MD",
     "hide_input_from_viewers":true,
     "hide_output_from_viewers":true
    }
   }
  },
  {
   "cell_type":"markdown",
   "source":[
    "## 3.3 Cercles de corrélations\n",
    "\n",
    "On va créer différents cercles de corrélation en fonction de différents plans factoriels."
   ],
   "attachments":{
    
   },
   "metadata":{
    "datalore":{
     "node_id":"DHFgmQ5ry3c55R6anQk1pV",
     "type":"MD",
     "hide_input_from_viewers":true,
     "hide_output_from_viewers":true
    }
   }
  },
  {
   "cell_type":"code",
   "source":[
    "cercle_correlation(acp= acp, rang_1=1, rang_2= 2)"
   ],
   "execution_count":110,
   "outputs":[
    {
     "data":{
      "application\/vnd.plotly.v1+json":{
       "data":[
        {
         "line":{
          "width":4
         },
         "mode":"lines",
         "name":"Exportations (en millier de tonnes)",
         "x":[
          0,
          0.44042331611683716
         ],
         "y":[
          0,
          -0.042409288589963484
         ],
         "type":"scatter"
        },
        {
         "line":{
          "width":4
         },
         "mode":"lines",
         "name":"Importations (en millier de tonnes)",
         "x":[
          0,
          0.19636182192587426
         ],
         "y":[
          0,
          -0.2936384746968019
         ],
         "type":"scatter"
        },
        {
         "line":{
          "width":4
         },
         "mode":"lines",
         "name":"Nourriture (en millier de tonnes)",
         "x":[
          0,
          0.547253940267331
         ],
         "y":[
          0,
          0.07873430775932269
         ],
         "type":"scatter"
        },
        {
         "line":{
          "width":4
         },
         "mode":"lines",
         "name":"Production(en millier de tonnes)",
         "x":[
          0,
          0.5495587755564211
         ],
         "y":[
          0,
          0.08053656706065013
         ],
         "type":"scatter"
        },
        {
         "line":{
          "width":4
         },
         "mode":"lines",
         "name":"Population en 2017 (en millier de personne)",
         "x":[
          0,
          0.38218655072751034
         ],
         "y":[
          0,
          0.2188105125747009
         ],
         "type":"scatter"
        },
        {
         "line":{
          "width":4
         },
         "mode":"lines",
         "name":"Stabilité politique",
         "x":[
          0,
          0.0017585534013603542
         ],
         "y":[
          0,
          -0.6306712254942424
         ],
         "type":"scatter"
        },
        {
         "line":{
          "width":4
         },
         "mode":"lines",
         "name":"Facilité du Business",
         "x":[
          0,
          0.14097679621158737
         ],
         "y":[
          0,
          -0.658563525464705
         ],
         "type":"scatter"
        },
        {
         "line":{
          "width":4
         },
         "mode":"lines",
         "name":"dist",
         "x":[
          0,
          -0.004848241358226292
         ],
         "y":[
          0,
          0.14128876959850722
         ],
         "type":"scatter"
        }
       ],
       "layout":{
        "annotations":[
         {
          "text":"Exportations (en millier de tonnes)",
          "x":0.44042331611683716,
          "y":-0.042409288589963484
         },
         {
          "text":"Importations (en millier de tonnes)",
          "x":0.19636182192587426,
          "y":-0.2936384746968019
         },
         {
          "text":"Nourriture (en millier de tonnes)",
          "x":0.547253940267331,
          "y":0.07873430775932269
         },
         {
          "text":"Production(en millier de tonnes)",
          "x":0.5495587755564211,
          "y":0.08053656706065013
         },
         {
          "text":"Population en 2017 (en millier de personne)",
          "x":0.38218655072751034,
          "y":0.2188105125747009
         },
         {
          "text":"Stabilité politique",
          "x":0.0017585534013603542,
          "y":-0.6306712254942424
         },
         {
          "text":"Facilité du Business",
          "x":0.14097679621158737,
          "y":-0.658563525464705
         },
         {
          "text":"dist",
          "x":-0.004848241358226292,
          "y":0.14128876959850722
         }
        ],
        "xaxis":{
         "range":[
          -1,
          1
         ],
         "title":{
          "text":"F1 (39.3%)"
         }
        },
        "yaxis":{
         "range":[
          -1,
          1
         ],
         "title":{
          "text":"F2 (21.1%)"
         }
        },
        "template":{
         "data":{
          "bar":[
           {
            "error_x":{
             "color":"#2a3f5f"
            },
            "error_y":{
             "color":"#2a3f5f"
            },
            "marker":{
             "line":{
              "color":"#E5ECF6",
              "width":0.5
             },
             "pattern":{
              "fillmode":"overlay",
              "size":10,
              "solidity":0.2
             }
            },
            "type":"bar"
           }
          ],
          "barpolar":[
           {
            "marker":{
             "line":{
              "color":"#E5ECF6",
              "width":0.5
             },
             "pattern":{
              "fillmode":"overlay",
              "size":10,
              "solidity":0.2
             }
            },
            "type":"barpolar"
           }
          ],
          "carpet":[
           {
            "aaxis":{
             "endlinecolor":"#2a3f5f",
             "gridcolor":"white",
             "linecolor":"white",
             "minorgridcolor":"white",
             "startlinecolor":"#2a3f5f"
            },
            "baxis":{
             "endlinecolor":"#2a3f5f",
             "gridcolor":"white",
             "linecolor":"white",
             "minorgridcolor":"white",
             "startlinecolor":"#2a3f5f"
            },
            "type":"carpet"
           }
          ],
          "choropleth":[
           {
            "colorbar":{
             "outlinewidth":0,
             "ticks":""
            },
            "type":"choropleth"
           }
          ],
          "contour":[
           {
            "colorbar":{
             "outlinewidth":0,
             "ticks":""
            },
            "colorscale":[
             [
              0,
              "#0d0887"
             ],
             [
              0.1111111111111111,
              "#46039f"
             ],
             [
              0.2222222222222222,
              "#7201a8"
             ],
             [
              0.3333333333333333,
              "#9c179e"
             ],
             [
              0.4444444444444444,
              "#bd3786"
             ],
             [
              0.5555555555555556,
              "#d8576b"
             ],
             [
              0.6666666666666666,
              "#ed7953"
             ],
             [
              0.7777777777777778,
              "#fb9f3a"
             ],
             [
              0.8888888888888888,
              "#fdca26"
             ],
             [
              1,
              "#f0f921"
             ]
            ],
            "type":"contour"
           }
          ],
          "contourcarpet":[
           {
            "colorbar":{
             "outlinewidth":0,
             "ticks":""
            },
            "type":"contourcarpet"
           }
          ],
          "heatmap":[
           {
            "colorbar":{
             "outlinewidth":0,
             "ticks":""
            },
            "colorscale":[
             [
              0,
              "#0d0887"
             ],
             [
              0.1111111111111111,
              "#46039f"
             ],
             [
              0.2222222222222222,
              "#7201a8"
             ],
             [
              0.3333333333333333,
              "#9c179e"
             ],
             [
              0.4444444444444444,
              "#bd3786"
             ],
             [
              0.5555555555555556,
              "#d8576b"
             ],
             [
              0.6666666666666666,
              "#ed7953"
             ],
             [
              0.7777777777777778,
              "#fb9f3a"
             ],
             [
              0.8888888888888888,
              "#fdca26"
             ],
             [
              1,
              "#f0f921"
             ]
            ],
            "type":"heatmap"
           }
          ],
          "heatmapgl":[
           {
            "colorbar":{
             "outlinewidth":0,
             "ticks":""
            },
            "colorscale":[
             [
              0,
              "#0d0887"
             ],
             [
              0.1111111111111111,
              "#46039f"
             ],
             [
              0.2222222222222222,
              "#7201a8"
             ],
             [
              0.3333333333333333,
              "#9c179e"
             ],
             [
              0.4444444444444444,
              "#bd3786"
             ],
             [
              0.5555555555555556,
              "#d8576b"
             ],
             [
              0.6666666666666666,
              "#ed7953"
             ],
             [
              0.7777777777777778,
              "#fb9f3a"
             ],
             [
              0.8888888888888888,
              "#fdca26"
             ],
             [
              1,
              "#f0f921"
             ]
            ],
            "type":"heatmapgl"
           }
          ],
          "histogram":[
           {
            "marker":{
             "pattern":{
              "fillmode":"overlay",
              "size":10,
              "solidity":0.2
             }
            },
            "type":"histogram"
           }
          ],
          "histogram2d":[
           {
            "colorbar":{
             "outlinewidth":0,
             "ticks":""
            },
            "colorscale":[
             [
              0,
              "#0d0887"
             ],
             [
              0.1111111111111111,
              "#46039f"
             ],
             [
              0.2222222222222222,
              "#7201a8"
             ],
             [
              0.3333333333333333,
              "#9c179e"
             ],
             [
              0.4444444444444444,
              "#bd3786"
             ],
             [
              0.5555555555555556,
              "#d8576b"
             ],
             [
              0.6666666666666666,
              "#ed7953"
             ],
             [
              0.7777777777777778,
              "#fb9f3a"
             ],
             [
              0.8888888888888888,
              "#fdca26"
             ],
             [
              1,
              "#f0f921"
             ]
            ],
            "type":"histogram2d"
           }
          ],
          "histogram2dcontour":[
           {
            "colorbar":{
             "outlinewidth":0,
             "ticks":""
            },
            "colorscale":[
             [
              0,
              "#0d0887"
             ],
             [
              0.1111111111111111,
              "#46039f"
             ],
             [
              0.2222222222222222,
              "#7201a8"
             ],
             [
              0.3333333333333333,
              "#9c179e"
             ],
             [
              0.4444444444444444,
              "#bd3786"
             ],
             [
              0.5555555555555556,
              "#d8576b"
             ],
             [
              0.6666666666666666,
              "#ed7953"
             ],
             [
              0.7777777777777778,
              "#fb9f3a"
             ],
             [
              0.8888888888888888,
              "#fdca26"
             ],
             [
              1,
              "#f0f921"
             ]
            ],
            "type":"histogram2dcontour"
           }
          ],
          "mesh3d":[
           {
            "colorbar":{
             "outlinewidth":0,
             "ticks":""
            },
            "type":"mesh3d"
           }
          ],
          "parcoords":[
           {
            "line":{
             "colorbar":{
              "outlinewidth":0,
              "ticks":""
             }
            },
            "type":"parcoords"
           }
          ],
          "pie":[
           {
            "automargin":true,
            "type":"pie"
           }
          ],
          "scatter":[
           {
            "marker":{
             "colorbar":{
              "outlinewidth":0,
              "ticks":""
             }
            },
            "type":"scatter"
           }
          ],
          "scatter3d":[
           {
            "line":{
             "colorbar":{
              "outlinewidth":0,
              "ticks":""
             }
            },
            "marker":{
             "colorbar":{
              "outlinewidth":0,
              "ticks":""
             }
            },
            "type":"scatter3d"
           }
          ],
          "scattercarpet":[
           {
            "marker":{
             "colorbar":{
              "outlinewidth":0,
              "ticks":""
             }
            },
            "type":"scattercarpet"
           }
          ],
          "scattergeo":[
           {
            "marker":{
             "colorbar":{
              "outlinewidth":0,
              "ticks":""
             }
            },
            "type":"scattergeo"
           }
          ],
          "scattergl":[
           {
            "marker":{
             "colorbar":{
              "outlinewidth":0,
              "ticks":""
             }
            },
            "type":"scattergl"
           }
          ],
          "scattermapbox":[
           {
            "marker":{
             "colorbar":{
              "outlinewidth":0,
              "ticks":""
             }
            },
            "type":"scattermapbox"
           }
          ],
          "scatterpolar":[
           {
            "marker":{
             "colorbar":{
              "outlinewidth":0,
              "ticks":""
             }
            },
            "type":"scatterpolar"
           }
          ],
          "scatterpolargl":[
           {
            "marker":{
             "colorbar":{
              "outlinewidth":0,
              "ticks":""
             }
            },
            "type":"scatterpolargl"
           }
          ],
          "scatterternary":[
           {
            "marker":{
             "colorbar":{
              "outlinewidth":0,
              "ticks":""
             }
            },
            "type":"scatterternary"
           }
          ],
          "surface":[
           {
            "colorbar":{
             "outlinewidth":0,
             "ticks":""
            },
            "colorscale":[
             [
              0,
              "#0d0887"
             ],
             [
              0.1111111111111111,
              "#46039f"
             ],
             [
              0.2222222222222222,
              "#7201a8"
             ],
             [
              0.3333333333333333,
              "#9c179e"
             ],
             [
              0.4444444444444444,
              "#bd3786"
             ],
             [
              0.5555555555555556,
              "#d8576b"
             ],
             [
              0.6666666666666666,
              "#ed7953"
             ],
             [
              0.7777777777777778,
              "#fb9f3a"
             ],
             [
              0.8888888888888888,
              "#fdca26"
             ],
             [
              1,
              "#f0f921"
             ]
            ],
            "type":"surface"
           }
          ],
          "table":[
           {
            "cells":{
             "fill":{
              "color":"#EBF0F8"
             },
             "line":{
              "color":"white"
             }
            },
            "header":{
             "fill":{
              "color":"#C8D4E3"
             },
             "line":{
              "color":"white"
             }
            },
            "type":"table"
           }
          ]
         },
         "layout":{
          "annotationdefaults":{
           "arrowcolor":"#2a3f5f",
           "arrowhead":0,
           "arrowwidth":1
          },
          "autotypenumbers":"strict",
          "coloraxis":{
           "colorbar":{
            "outlinewidth":0,
            "ticks":""
           }
          },
          "colorscale":{
           "diverging":[
            [
             0,
             "#8e0152"
            ],
            [
             0.1,
             "#c51b7d"
            ],
            [
             0.2,
             "#de77ae"
            ],
            [
             0.3,
             "#f1b6da"
            ],
            [
             0.4,
             "#fde0ef"
            ],
            [
             0.5,
             "#f7f7f7"
            ],
            [
             0.6,
             "#e6f5d0"
            ],
            [
             0.7,
             "#b8e186"
            ],
            [
             0.8,
             "#7fbc41"
            ],
            [
             0.9,
             "#4d9221"
            ],
            [
             1,
             "#276419"
            ]
           ],
           "sequential":[
            [
             0,
             "#0d0887"
            ],
            [
             0.1111111111111111,
             "#46039f"
            ],
            [
             0.2222222222222222,
             "#7201a8"
            ],
            [
             0.3333333333333333,
             "#9c179e"
            ],
            [
             0.4444444444444444,
             "#bd3786"
            ],
            [
             0.5555555555555556,
             "#d8576b"
            ],
            [
             0.6666666666666666,
             "#ed7953"
            ],
            [
             0.7777777777777778,
             "#fb9f3a"
            ],
            [
             0.8888888888888888,
             "#fdca26"
            ],
            [
             1,
             "#f0f921"
            ]
           ],
           "sequentialminus":[
            [
             0,
             "#0d0887"
            ],
            [
             0.1111111111111111,
             "#46039f"
            ],
            [
             0.2222222222222222,
             "#7201a8"
            ],
            [
             0.3333333333333333,
             "#9c179e"
            ],
            [
             0.4444444444444444,
             "#bd3786"
            ],
            [
             0.5555555555555556,
             "#d8576b"
            ],
            [
             0.6666666666666666,
             "#ed7953"
            ],
            [
             0.7777777777777778,
             "#fb9f3a"
            ],
            [
             0.8888888888888888,
             "#fdca26"
            ],
            [
             1,
             "#f0f921"
            ]
           ]
          },
          "colorway":[
           "#636efa",
           "#EF553B",
           "#00cc96",
           "#ab63fa",
           "#FFA15A",
           "#19d3f3",
           "#FF6692",
           "#B6E880",
           "#FF97FF",
           "#FECB52"
          ],
          "font":{
           "color":"#2a3f5f"
          },
          "geo":{
           "bgcolor":"white",
           "lakecolor":"white",
           "landcolor":"#E5ECF6",
           "showlakes":true,
           "showland":true,
           "subunitcolor":"white"
          },
          "hoverlabel":{
           "align":"left"
          },
          "hovermode":"closest",
          "mapbox":{
           "style":"light"
          },
          "paper_bgcolor":"white",
          "plot_bgcolor":"#E5ECF6",
          "polar":{
           "angularaxis":{
            "gridcolor":"white",
            "linecolor":"white",
            "ticks":""
           },
           "bgcolor":"#E5ECF6",
           "radialaxis":{
            "gridcolor":"white",
            "linecolor":"white",
            "ticks":""
           }
          },
          "scene":{
           "xaxis":{
            "backgroundcolor":"#E5ECF6",
            "gridcolor":"white",
            "gridwidth":2,
            "linecolor":"white",
            "showbackground":true,
            "ticks":"",
            "zerolinecolor":"white"
           },
           "yaxis":{
            "backgroundcolor":"#E5ECF6",
            "gridcolor":"white",
            "gridwidth":2,
            "linecolor":"white",
            "showbackground":true,
            "ticks":"",
            "zerolinecolor":"white"
           },
           "zaxis":{
            "backgroundcolor":"#E5ECF6",
            "gridcolor":"white",
            "gridwidth":2,
            "linecolor":"white",
            "showbackground":true,
            "ticks":"",
            "zerolinecolor":"white"
           }
          },
          "shapedefaults":{
           "line":{
            "color":"#2a3f5f"
           }
          },
          "ternary":{
           "aaxis":{
            "gridcolor":"white",
            "linecolor":"white",
            "ticks":""
           },
           "baxis":{
            "gridcolor":"white",
            "linecolor":"white",
            "ticks":""
           },
           "bgcolor":"#E5ECF6",
           "caxis":{
            "gridcolor":"white",
            "linecolor":"white",
            "ticks":""
           }
          },
          "title":{
           "x":0.05
          },
          "xaxis":{
           "automargin":true,
           "gridcolor":"white",
           "linecolor":"white",
           "ticks":"",
           "title":{
            "standoff":15
           },
           "zerolinecolor":"white",
           "zerolinewidth":2
          },
          "yaxis":{
           "automargin":true,
           "gridcolor":"white",
           "linecolor":"white",
           "ticks":"",
           "title":{
            "standoff":15
           },
           "zerolinecolor":"white",
           "zerolinewidth":2
          }
         }
        },
        "shapes":[
         {
          "line":{
           "color":"LightSeaGreen"
          },
          "type":"circle",
          "x0":-1,
          "x1":1,
          "xref":"x",
          "y0":-1,
          "y1":1,
          "yref":"y"
         }
        ],
        "width":800,
        "height":800,
        "showlegend":false,
        "title":{
         "text":"Cercle des corrélations (F1 et F2)"
        }
       },
       "config":{
        "plotlyServerURL":"https:\/\/plot.ly"
       }
      }
     },
     "metadata":{
      
     },
     "output_type":"display_data"
    }
   ],
   "metadata":{
    "datalore":{
     "node_id":"sfjEn3bKlLmDsGj0vqYgJt",
     "type":"CODE",
     "hide_input_from_viewers":true,
     "hide_output_from_viewers":true
    }
   }
  },
  {
   "cell_type":"markdown",
   "source":[
    "On retrouve une corrélation presque parfaite entre la nourriture et la production de nourriture qui est fortement corrélée à l'axe F1. On a aussi une corrélation avec l'exportation et également la population. Cet axe représente les besoins en nourriture de la population, plus on a une grande population, plus on va avoir des besoins que ce soit en production.\n",
    "\n",
    "On voit qu'il y a une grande corrélation avec la stabilité politique et la facilité du business sur l'axe F2. Cette corrélation est inversée, c'est-à-dire plus la valeur de l'axe F2 augmente moins, il est facile de faire du business. Cet axe F2 pourrait représenter la difficulté à faire du business avec les pays. On voit aussi que l'importation est faiblement corrélée à l'axe F2.\n"
   ],
   "attachments":{
    
   },
   "metadata":{
    "datalore":{
     "node_id":"U6VWe5usV0hkREYUELC1oQ",
     "type":"MD",
     "hide_input_from_viewers":true,
     "hide_output_from_viewers":true
    }
   }
  },
  {
   "cell_type":"code",
   "source":[
    "cercle_correlation(acp= acp, rang_1=3, rang_2= 4)"
   ],
   "execution_count":111,
   "outputs":[
    {
     "data":{
      "application\/vnd.plotly.v1+json":{
       "data":[
        {
         "line":{
          "width":4
         },
         "mode":"lines",
         "name":"Exportations (en millier de tonnes)",
         "x":[
          0,
          0.01968019665597883
         ],
         "y":[
          0,
          0.4602553485389481
         ],
         "type":"scatter"
        },
        {
         "line":{
          "width":4
         },
         "mode":"lines",
         "name":"Importations (en millier de tonnes)",
         "x":[
          0,
          -0.3488280407627072
         ],
         "y":[
          0,
          -0.7058304123987212
         ],
         "type":"scatter"
        },
        {
         "line":{
          "width":4
         },
         "mode":"lines",
         "name":"Nourriture (en millier de tonnes)",
         "x":[
          0,
          0.0451081146483987
         ],
         "y":[
          0,
          0.01197154561989977
         ],
         "type":"scatter"
        },
        {
         "line":{
          "width":4
         },
         "mode":"lines",
         "name":"Production(en millier de tonnes)",
         "x":[
          0,
          0.07112570265232021
         ],
         "y":[
          0,
          0.12828379426256875
         ],
         "type":"scatter"
        },
        {
         "line":{
          "width":4
         },
         "mode":"lines",
         "name":"Population en 2017 (en millier de personne)",
         "x":[
          0,
          3.232151080926754E-4
         ],
         "y":[
          0,
          -0.38073928587374956
         ],
         "type":"scatter"
        },
        {
         "line":{
          "width":4
         },
         "mode":"lines",
         "name":"Stabilité politique",
         "x":[
          0,
          0.3718967426471817
         ],
         "y":[
          0,
          0.0870452678839294
         ],
         "type":"scatter"
        },
        {
         "line":{
          "width":4
         },
         "mode":"lines",
         "name":"Facilité du Business",
         "x":[
          0,
          -0.004061075619791972
         ],
         "y":[
          0,
          0.017856215645934648
         ],
         "type":"scatter"
        },
        {
         "line":{
          "width":4
         },
         "mode":"lines",
         "name":"dist",
         "x":[
          0,
          0.8558704903532625
         ],
         "y":[
          0,
          -0.34714588632674404
         ],
         "type":"scatter"
        }
       ],
       "layout":{
        "annotations":[
         {
          "text":"Exportations (en millier de tonnes)",
          "x":0.01968019665597883,
          "y":0.4602553485389481
         },
         {
          "text":"Importations (en millier de tonnes)",
          "x":-0.3488280407627072,
          "y":-0.7058304123987212
         },
         {
          "text":"Nourriture (en millier de tonnes)",
          "x":0.0451081146483987,
          "y":0.01197154561989977
         },
         {
          "text":"Production(en millier de tonnes)",
          "x":0.07112570265232021,
          "y":0.12828379426256875
         },
         {
          "text":"Population en 2017 (en millier de personne)",
          "x":3.232151080926754E-4,
          "y":-0.38073928587374956
         },
         {
          "text":"Stabilité politique",
          "x":0.3718967426471817,
          "y":0.0870452678839294
         },
         {
          "text":"Facilité du Business",
          "x":-0.004061075619791972,
          "y":0.017856215645934648
         },
         {
          "text":"dist",
          "x":0.8558704903532625,
          "y":-0.34714588632674404
         }
        ],
        "xaxis":{
         "range":[
          -1,
          1
         ],
         "title":{
          "text":"F3 (13.5%)"
         }
        },
        "yaxis":{
         "range":[
          -1,
          1
         ],
         "title":{
          "text":"F4 (10.8%)"
         }
        },
        "template":{
         "data":{
          "bar":[
           {
            "error_x":{
             "color":"#2a3f5f"
            },
            "error_y":{
             "color":"#2a3f5f"
            },
            "marker":{
             "line":{
              "color":"#E5ECF6",
              "width":0.5
             },
             "pattern":{
              "fillmode":"overlay",
              "size":10,
              "solidity":0.2
             }
            },
            "type":"bar"
           }
          ],
          "barpolar":[
           {
            "marker":{
             "line":{
              "color":"#E5ECF6",
              "width":0.5
             },
             "pattern":{
              "fillmode":"overlay",
              "size":10,
              "solidity":0.2
             }
            },
            "type":"barpolar"
           }
          ],
          "carpet":[
           {
            "aaxis":{
             "endlinecolor":"#2a3f5f",
             "gridcolor":"white",
             "linecolor":"white",
             "minorgridcolor":"white",
             "startlinecolor":"#2a3f5f"
            },
            "baxis":{
             "endlinecolor":"#2a3f5f",
             "gridcolor":"white",
             "linecolor":"white",
             "minorgridcolor":"white",
             "startlinecolor":"#2a3f5f"
            },
            "type":"carpet"
           }
          ],
          "choropleth":[
           {
            "colorbar":{
             "outlinewidth":0,
             "ticks":""
            },
            "type":"choropleth"
           }
          ],
          "contour":[
           {
            "colorbar":{
             "outlinewidth":0,
             "ticks":""
            },
            "colorscale":[
             [
              0,
              "#0d0887"
             ],
             [
              0.1111111111111111,
              "#46039f"
             ],
             [
              0.2222222222222222,
              "#7201a8"
             ],
             [
              0.3333333333333333,
              "#9c179e"
             ],
             [
              0.4444444444444444,
              "#bd3786"
             ],
             [
              0.5555555555555556,
              "#d8576b"
             ],
             [
              0.6666666666666666,
              "#ed7953"
             ],
             [
              0.7777777777777778,
              "#fb9f3a"
             ],
             [
              0.8888888888888888,
              "#fdca26"
             ],
             [
              1,
              "#f0f921"
             ]
            ],
            "type":"contour"
           }
          ],
          "contourcarpet":[
           {
            "colorbar":{
             "outlinewidth":0,
             "ticks":""
            },
            "type":"contourcarpet"
           }
          ],
          "heatmap":[
           {
            "colorbar":{
             "outlinewidth":0,
             "ticks":""
            },
            "colorscale":[
             [
              0,
              "#0d0887"
             ],
             [
              0.1111111111111111,
              "#46039f"
             ],
             [
              0.2222222222222222,
              "#7201a8"
             ],
             [
              0.3333333333333333,
              "#9c179e"
             ],
             [
              0.4444444444444444,
              "#bd3786"
             ],
             [
              0.5555555555555556,
              "#d8576b"
             ],
             [
              0.6666666666666666,
              "#ed7953"
             ],
             [
              0.7777777777777778,
              "#fb9f3a"
             ],
             [
              0.8888888888888888,
              "#fdca26"
             ],
             [
              1,
              "#f0f921"
             ]
            ],
            "type":"heatmap"
           }
          ],
          "heatmapgl":[
           {
            "colorbar":{
             "outlinewidth":0,
             "ticks":""
            },
            "colorscale":[
             [
              0,
              "#0d0887"
             ],
             [
              0.1111111111111111,
              "#46039f"
             ],
             [
              0.2222222222222222,
              "#7201a8"
             ],
             [
              0.3333333333333333,
              "#9c179e"
             ],
             [
              0.4444444444444444,
              "#bd3786"
             ],
             [
              0.5555555555555556,
              "#d8576b"
             ],
             [
              0.6666666666666666,
              "#ed7953"
             ],
             [
              0.7777777777777778,
              "#fb9f3a"
             ],
             [
              0.8888888888888888,
              "#fdca26"
             ],
             [
              1,
              "#f0f921"
             ]
            ],
            "type":"heatmapgl"
           }
          ],
          "histogram":[
           {
            "marker":{
             "pattern":{
              "fillmode":"overlay",
              "size":10,
              "solidity":0.2
             }
            },
            "type":"histogram"
           }
          ],
          "histogram2d":[
           {
            "colorbar":{
             "outlinewidth":0,
             "ticks":""
            },
            "colorscale":[
             [
              0,
              "#0d0887"
             ],
             [
              0.1111111111111111,
              "#46039f"
             ],
             [
              0.2222222222222222,
              "#7201a8"
             ],
             [
              0.3333333333333333,
              "#9c179e"
             ],
             [
              0.4444444444444444,
              "#bd3786"
             ],
             [
              0.5555555555555556,
              "#d8576b"
             ],
             [
              0.6666666666666666,
              "#ed7953"
             ],
             [
              0.7777777777777778,
              "#fb9f3a"
             ],
             [
              0.8888888888888888,
              "#fdca26"
             ],
             [
              1,
              "#f0f921"
             ]
            ],
            "type":"histogram2d"
           }
          ],
          "histogram2dcontour":[
           {
            "colorbar":{
             "outlinewidth":0,
             "ticks":""
            },
            "colorscale":[
             [
              0,
              "#0d0887"
             ],
             [
              0.1111111111111111,
              "#46039f"
             ],
             [
              0.2222222222222222,
              "#7201a8"
             ],
             [
              0.3333333333333333,
              "#9c179e"
             ],
             [
              0.4444444444444444,
              "#bd3786"
             ],
             [
              0.5555555555555556,
              "#d8576b"
             ],
             [
              0.6666666666666666,
              "#ed7953"
             ],
             [
              0.7777777777777778,
              "#fb9f3a"
             ],
             [
              0.8888888888888888,
              "#fdca26"
             ],
             [
              1,
              "#f0f921"
             ]
            ],
            "type":"histogram2dcontour"
           }
          ],
          "mesh3d":[
           {
            "colorbar":{
             "outlinewidth":0,
             "ticks":""
            },
            "type":"mesh3d"
           }
          ],
          "parcoords":[
           {
            "line":{
             "colorbar":{
              "outlinewidth":0,
              "ticks":""
             }
            },
            "type":"parcoords"
           }
          ],
          "pie":[
           {
            "automargin":true,
            "type":"pie"
           }
          ],
          "scatter":[
           {
            "marker":{
             "colorbar":{
              "outlinewidth":0,
              "ticks":""
             }
            },
            "type":"scatter"
           }
          ],
          "scatter3d":[
           {
            "line":{
             "colorbar":{
              "outlinewidth":0,
              "ticks":""
             }
            },
            "marker":{
             "colorbar":{
              "outlinewidth":0,
              "ticks":""
             }
            },
            "type":"scatter3d"
           }
          ],
          "scattercarpet":[
           {
            "marker":{
             "colorbar":{
              "outlinewidth":0,
              "ticks":""
             }
            },
            "type":"scattercarpet"
           }
          ],
          "scattergeo":[
           {
            "marker":{
             "colorbar":{
              "outlinewidth":0,
              "ticks":""
             }
            },
            "type":"scattergeo"
           }
          ],
          "scattergl":[
           {
            "marker":{
             "colorbar":{
              "outlinewidth":0,
              "ticks":""
             }
            },
            "type":"scattergl"
           }
          ],
          "scattermapbox":[
           {
            "marker":{
             "colorbar":{
              "outlinewidth":0,
              "ticks":""
             }
            },
            "type":"scattermapbox"
           }
          ],
          "scatterpolar":[
           {
            "marker":{
             "colorbar":{
              "outlinewidth":0,
              "ticks":""
             }
            },
            "type":"scatterpolar"
           }
          ],
          "scatterpolargl":[
           {
            "marker":{
             "colorbar":{
              "outlinewidth":0,
              "ticks":""
             }
            },
            "type":"scatterpolargl"
           }
          ],
          "scatterternary":[
           {
            "marker":{
             "colorbar":{
              "outlinewidth":0,
              "ticks":""
             }
            },
            "type":"scatterternary"
           }
          ],
          "surface":[
           {
            "colorbar":{
             "outlinewidth":0,
             "ticks":""
            },
            "colorscale":[
             [
              0,
              "#0d0887"
             ],
             [
              0.1111111111111111,
              "#46039f"
             ],
             [
              0.2222222222222222,
              "#7201a8"
             ],
             [
              0.3333333333333333,
              "#9c179e"
             ],
             [
              0.4444444444444444,
              "#bd3786"
             ],
             [
              0.5555555555555556,
              "#d8576b"
             ],
             [
              0.6666666666666666,
              "#ed7953"
             ],
             [
              0.7777777777777778,
              "#fb9f3a"
             ],
             [
              0.8888888888888888,
              "#fdca26"
             ],
             [
              1,
              "#f0f921"
             ]
            ],
            "type":"surface"
           }
          ],
          "table":[
           {
            "cells":{
             "fill":{
              "color":"#EBF0F8"
             },
             "line":{
              "color":"white"
             }
            },
            "header":{
             "fill":{
              "color":"#C8D4E3"
             },
             "line":{
              "color":"white"
             }
            },
            "type":"table"
           }
          ]
         },
         "layout":{
          "annotationdefaults":{
           "arrowcolor":"#2a3f5f",
           "arrowhead":0,
           "arrowwidth":1
          },
          "autotypenumbers":"strict",
          "coloraxis":{
           "colorbar":{
            "outlinewidth":0,
            "ticks":""
           }
          },
          "colorscale":{
           "diverging":[
            [
             0,
             "#8e0152"
            ],
            [
             0.1,
             "#c51b7d"
            ],
            [
             0.2,
             "#de77ae"
            ],
            [
             0.3,
             "#f1b6da"
            ],
            [
             0.4,
             "#fde0ef"
            ],
            [
             0.5,
             "#f7f7f7"
            ],
            [
             0.6,
             "#e6f5d0"
            ],
            [
             0.7,
             "#b8e186"
            ],
            [
             0.8,
             "#7fbc41"
            ],
            [
             0.9,
             "#4d9221"
            ],
            [
             1,
             "#276419"
            ]
           ],
           "sequential":[
            [
             0,
             "#0d0887"
            ],
            [
             0.1111111111111111,
             "#46039f"
            ],
            [
             0.2222222222222222,
             "#7201a8"
            ],
            [
             0.3333333333333333,
             "#9c179e"
            ],
            [
             0.4444444444444444,
             "#bd3786"
            ],
            [
             0.5555555555555556,
             "#d8576b"
            ],
            [
             0.6666666666666666,
             "#ed7953"
            ],
            [
             0.7777777777777778,
             "#fb9f3a"
            ],
            [
             0.8888888888888888,
             "#fdca26"
            ],
            [
             1,
             "#f0f921"
            ]
           ],
           "sequentialminus":[
            [
             0,
             "#0d0887"
            ],
            [
             0.1111111111111111,
             "#46039f"
            ],
            [
             0.2222222222222222,
             "#7201a8"
            ],
            [
             0.3333333333333333,
             "#9c179e"
            ],
            [
             0.4444444444444444,
             "#bd3786"
            ],
            [
             0.5555555555555556,
             "#d8576b"
            ],
            [
             0.6666666666666666,
             "#ed7953"
            ],
            [
             0.7777777777777778,
             "#fb9f3a"
            ],
            [
             0.8888888888888888,
             "#fdca26"
            ],
            [
             1,
             "#f0f921"
            ]
           ]
          },
          "colorway":[
           "#636efa",
           "#EF553B",
           "#00cc96",
           "#ab63fa",
           "#FFA15A",
           "#19d3f3",
           "#FF6692",
           "#B6E880",
           "#FF97FF",
           "#FECB52"
          ],
          "font":{
           "color":"#2a3f5f"
          },
          "geo":{
           "bgcolor":"white",
           "lakecolor":"white",
           "landcolor":"#E5ECF6",
           "showlakes":true,
           "showland":true,
           "subunitcolor":"white"
          },
          "hoverlabel":{
           "align":"left"
          },
          "hovermode":"closest",
          "mapbox":{
           "style":"light"
          },
          "paper_bgcolor":"white",
          "plot_bgcolor":"#E5ECF6",
          "polar":{
           "angularaxis":{
            "gridcolor":"white",
            "linecolor":"white",
            "ticks":""
           },
           "bgcolor":"#E5ECF6",
           "radialaxis":{
            "gridcolor":"white",
            "linecolor":"white",
            "ticks":""
           }
          },
          "scene":{
           "xaxis":{
            "backgroundcolor":"#E5ECF6",
            "gridcolor":"white",
            "gridwidth":2,
            "linecolor":"white",
            "showbackground":true,
            "ticks":"",
            "zerolinecolor":"white"
           },
           "yaxis":{
            "backgroundcolor":"#E5ECF6",
            "gridcolor":"white",
            "gridwidth":2,
            "linecolor":"white",
            "showbackground":true,
            "ticks":"",
            "zerolinecolor":"white"
           },
           "zaxis":{
            "backgroundcolor":"#E5ECF6",
            "gridcolor":"white",
            "gridwidth":2,
            "linecolor":"white",
            "showbackground":true,
            "ticks":"",
            "zerolinecolor":"white"
           }
          },
          "shapedefaults":{
           "line":{
            "color":"#2a3f5f"
           }
          },
          "ternary":{
           "aaxis":{
            "gridcolor":"white",
            "linecolor":"white",
            "ticks":""
           },
           "baxis":{
            "gridcolor":"white",
            "linecolor":"white",
            "ticks":""
           },
           "bgcolor":"#E5ECF6",
           "caxis":{
            "gridcolor":"white",
            "linecolor":"white",
            "ticks":""
           }
          },
          "title":{
           "x":0.05
          },
          "xaxis":{
           "automargin":true,
           "gridcolor":"white",
           "linecolor":"white",
           "ticks":"",
           "title":{
            "standoff":15
           },
           "zerolinecolor":"white",
           "zerolinewidth":2
          },
          "yaxis":{
           "automargin":true,
           "gridcolor":"white",
           "linecolor":"white",
           "ticks":"",
           "title":{
            "standoff":15
           },
           "zerolinecolor":"white",
           "zerolinewidth":2
          }
         }
        },
        "shapes":[
         {
          "line":{
           "color":"LightSeaGreen"
          },
          "type":"circle",
          "x0":-1,
          "x1":1,
          "xref":"x",
          "y0":-1,
          "y1":1,
          "yref":"y"
         }
        ],
        "width":800,
        "height":800,
        "showlegend":false,
        "title":{
         "text":"Cercle des corrélations (F3 et F4)"
        }
       },
       "config":{
        "plotlyServerURL":"https:\/\/plot.ly"
       }
      }
     },
     "metadata":{
      
     },
     "output_type":"display_data"
    }
   ],
   "metadata":{
    "datalore":{
     "node_id":"UIFZxV85CohdjchPQ4zgsl",
     "type":"CODE",
     "hide_input_from_viewers":true,
     "hide_output_from_viewers":true
    }
   }
  },
  {
   "cell_type":"markdown",
   "source":[
    "Ici, l'axe F3 a l'air, d'être fortement corrélée à la distance entre la France et le pays cible. Tandis que l'axe F4 semble d'être fortement corrélée positivement à l'exportation et négativement à l'importation. Cette taxe F4 pourrait représenter l'importation ou l'exportation du pays. Je trouve cet axe F4 super pertinent pour notre étude."
   ],
   "attachments":{
    
   },
   "metadata":{
    "datalore":{
     "node_id":"kyFcrixPa3Z6y37zgMSlmV",
     "type":"MD",
     "hide_input_from_viewers":true,
     "hide_output_from_viewers":true
    }
   }
  },
  {
   "cell_type":"markdown",
   "source":[
    "Si l'on résume, on a :\n",
    "- F1 qui correspond au besoin en viande de volaille ;\n",
    "- F2 qui correspond à la difficulté à faire du business ;\n",
    "- F3 qui correspond à la distance entre la France et le pays cible ;\n",
    "- F4 qui correspond à un indicateur d'import export ;\n",
    "  \n",
    "Nous allons projeter nos données sur ces axes, mais avant, nous rajoutons ces informations dans un dataframe afin d'avoir des graphiques pertinents pour nos projections."
   ],
   "attachments":{
    
   },
   "metadata":{
    "datalore":{
     "node_id":"YzaUT13gBh7fiQiwBRpKdv",
     "type":"MD",
     "hide_input_from_viewers":true,
     "hide_output_from_viewers":true
    }
   }
  },
  {
   "cell_type":"code",
   "source":[
    "data = {'rang': range(1,7),\n",
    "        'pourcentage': scree,\n",
    "        'signification': ['Besoin en viande de volaille', 'Difficulté à faire du business', 'Distance', 'Exportation', '', '']\n",
    "        }\n",
    "df_axe_inertie = pd.DataFrame(data)\n",
    "\n",
    "df_axe_inertie"
   ],
   "execution_count":112,
   "outputs":[
    {
     "data":{
      "text\/html":[
       "<div>\n",
       "<style scoped>\n",
       "    .dataframe tbody tr th:only-of-type {\n",
       "        vertical-align: middle;\n",
       "    }\n",
       "\n",
       "    .dataframe tbody tr th {\n",
       "        vertical-align: top;\n",
       "    }\n",
       "\n",
       "    .dataframe thead th {\n",
       "        text-align: right;\n",
       "    }\n",
       "<\/style>\n",
       "<table border=\"1\" class=\"dataframe\">\n",
       "  <thead>\n",
       "    <tr style=\"text-align: right;\">\n",
       "      <th><\/th>\n",
       "      <th>rang<\/th>\n",
       "      <th>pourcentage<\/th>\n",
       "      <th>signification<\/th>\n",
       "    <\/tr>\n",
       "  <\/thead>\n",
       "  <tbody>\n",
       "    <tr>\n",
       "      <th>0<\/th>\n",
       "      <td>1<\/td>\n",
       "      <td>39.34<\/td>\n",
       "      <td>Besoin en viande de volaille<\/td>\n",
       "    <\/tr>\n",
       "    <tr>\n",
       "      <th>1<\/th>\n",
       "      <td>2<\/td>\n",
       "      <td>21.14<\/td>\n",
       "      <td>Difficulté à faire du business<\/td>\n",
       "    <\/tr>\n",
       "    <tr>\n",
       "      <th>2<\/th>\n",
       "      <td>3<\/td>\n",
       "      <td>13.52<\/td>\n",
       "      <td>Distance<\/td>\n",
       "    <\/tr>\n",
       "    <tr>\n",
       "      <th>3<\/th>\n",
       "      <td>4<\/td>\n",
       "      <td>10.85<\/td>\n",
       "      <td>Exportation<\/td>\n",
       "    <\/tr>\n",
       "    <tr>\n",
       "      <th>4<\/th>\n",
       "      <td>5<\/td>\n",
       "      <td>8.81<\/td>\n",
       "      <td><\/td>\n",
       "    <\/tr>\n",
       "    <tr>\n",
       "      <th>5<\/th>\n",
       "      <td>6<\/td>\n",
       "      <td>4.31<\/td>\n",
       "      <td><\/td>\n",
       "    <\/tr>\n",
       "  <\/tbody>\n",
       "<\/table>\n",
       "<\/div>"
      ]
     },
     "metadata":{
      
     },
     "output_type":"display_data"
    }
   ],
   "metadata":{
    "datalore":{
     "node_id":"prMpqzlVVXpdyZdQJ8KfJD",
     "type":"CODE",
     "hide_input_from_viewers":true,
     "hide_output_from_viewers":true
    }
   }
  },
  {
   "cell_type":"markdown",
   "source":[
    "## 3.4 - projection des données sur les axes d'inertie\n",
    "\n",
    "On crée le DataFrame contenant les données de chaque pays projeté sur les axes d'inertie"
   ],
   "attachments":{
    
   },
   "metadata":{
    "datalore":{
     "node_id":"FGvdUU7G5U3A57b2HoFbS2",
     "type":"MD",
     "hide_input_from_viewers":true,
     "hide_output_from_viewers":true
    }
   }
  },
  {
   "cell_type":"code",
   "source":[
    "X_proj = acp.transform(X_scaled)\n",
    "X_proj"
   ],
   "execution_count":113,
   "outputs":[
    {
     "data":{
      "text\/html":[
       "<pre>array([[-7.38983084e-01,  3.12262685e+00, -1.18910550e+00,\n",
       "        -1.44601607e-01, -7.15144978e-01,  7.74706584e-01],\n",
       "       [ 1.04626544e+00, -4.75614479e-01, -1.71710202e-01,\n",
       "        -1.92108233e+00, -1.17729606e+00,  1.51054933e-01],\n",
       "       [-5.34616580e-01, -5.98052192e-01, -7.33509999e-01,\n",
       "         5.89772950e-01,  4.99175694e-01, -3.62008693e-01],\n",
       "       ...,\n",
       "       [ 1.36289514e+01,  2.98471713e-03,  1.13087125e+00,\n",
       "         4.06736806e+00, -1.75658995e+00,  1.65649203e-01],\n",
       "       [-5.48960808e-01,  2.21236020e+00, -6.74625784e-01,\n",
       "        -9.66085243e-02, -1.66540610e-02,  2.27381187e-01],\n",
       "       [-7.02963184e-01,  5.06236803e-01,  2.12312701e+00,\n",
       "        -4.77958037e-01, -5.21891278e-01,  4.96481927e-02]])<\/pre>"
      ]
     },
     "metadata":{
      
     },
     "output_type":"display_data"
    }
   ],
   "metadata":{
    "datalore":{
     "node_id":"WuFHvWxX64yMR1tnuKov3A",
     "type":"CODE",
     "hide_input_from_viewers":false,
     "hide_output_from_viewers":false,
     "report_properties":{
      
     }
    }
   }
  },
  {
   "cell_type":"code",
   "source":[
    "projection_acp(X_proj = X_proj, rang_1 = 1, rang_2 = 2)"
   ],
   "execution_count":114,
   "outputs":[
    {
     "data":{
      "application\/vnd.plotly.v1+json":{
       "data":[
        {
         "mode":"markers",
         "text":[
          "Afghanistan",
          "Afrique du Sud",
          "Albanie",
          "Algérie",
          "Allemagne",
          "Angola",
          "Antigua-et-Barbuda",
          "Arabie saoudite",
          "Argentine",
          "Arménie",
          "Australie",
          "Autriche",
          "Azerbaïdjan",
          "Bahamas",
          "Bangladesh",
          "Barbade",
          "Belgique",
          "Belize",
          "Bolivie (État plurinational de)",
          "Bosnie-Herzégovine",
          "Botswana",
          "Brésil",
          "Bulgarie",
          "Burkina Faso",
          "Bélarus",
          "Bénin",
          "Cabo Verde",
          "Cambodge",
          "Cameroun",
          "Canada",
          "Chili",
          "Chine - RAS de Hong-Kong",
          "Chine - RAS de Macao",
          "Chine, Taiwan Province de",
          "Chine, continentale",
          "Chypre",
          "Colombie",
          "Congo",
          "Costa Rica",
          "Croatie",
          "Cuba",
          "Côte d'Ivoire",
          "Danemark",
          "Djibouti",
          "Dominique",
          "El Salvador",
          "Espagne",
          "Estonie",
          "Eswatini",
          "Fidji",
          "Finlande",
          "France",
          "Fédération de Russie",
          "Gabon",
          "Gambie",
          "Ghana",
          "Grenade",
          "Grèce",
          "Guatemala",
          "Guinée",
          "Guinée-Bissau",
          "Guyana",
          "Géorgie",
          "Haïti",
          "Honduras",
          "Hongrie",
          "Inde",
          "Indonésie",
          "Iran (République islamique d')",
          "Iraq",
          "Irlande",
          "Islande",
          "Israël",
          "Italie",
          "Jamaïque",
          "Japon",
          "Jordanie",
          "Kazakhstan",
          "Kenya",
          "Kirghizistan",
          "Kiribati",
          "Koweït",
          "Lesotho",
          "Lettonie",
          "Liban",
          "Libéria",
          "Lituanie",
          "Luxembourg",
          "Macédoine du Nord",
          "Madagascar",
          "Malaisie",
          "Malawi",
          "Maldives",
          "Mali",
          "Malte",
          "Maroc",
          "Maurice",
          "Mauritanie",
          "Mexique",
          "Mongolie",
          "Monténégro",
          "Mozambique",
          "Myanmar",
          "Namibie",
          "Nicaragua",
          "Niger",
          "Nigéria",
          "Norvège",
          "Nouvelle-Calédonie",
          "Nouvelle-Zélande",
          "Népal",
          "Oman",
          "Ouganda",
          "Ouzbékistan",
          "Pakistan",
          "Panama",
          "Paraguay",
          "Pays-Bas",
          "Philippines",
          "Pologne",
          "Polynésie française",
          "Portugal",
          "Pérou",
          "Roumanie",
          "Royaume-Uni de Grande-Bretagne et d'Irlande du Nord",
          "Rwanda",
          "République centrafricaine",
          "République de Corée",
          "République de Moldova",
          "République dominicaine",
          "République démocratique populaire lao",
          "République-Unie de Tanzanie",
          "Saint-Kitts-et-Nevis",
          "Saint-Vincent-et-les Grenadines",
          "Sainte-Lucie",
          "Samoa",
          "Sao Tomé-et-Principe",
          "Serbie",
          "Sierra Leone",
          "Slovaquie",
          "Slovénie",
          "Soudan",
          "Sri Lanka",
          "Suisse",
          "Suriname",
          "Suède",
          "Sénégal",
          "Tadjikistan",
          "Tchad",
          "Tchéquie",
          "Thaïlande",
          "Timor-Leste",
          "Togo",
          "Trinité-et-Tobago",
          "Tunisie",
          "Turkménistan",
          "Turquie",
          "Ukraine",
          "Uruguay",
          "Vanuatu",
          "Venezuela (République bolivarienne du)",
          "Viet Nam",
          "Yémen",
          "Zambie",
          "Zimbabwe",
          "Égypte",
          "Émirats arabes unis",
          "Équateur",
          "États-Unis d'Amérique",
          "Éthiopie",
          "Îles Salomon"
         ],
         "x":[
          -0.7389830837225204,
          1.0462654431489793,
          -0.5346165804587358,
          -0.5597354862324805,
          2.0394680359341755,
          -0.4321149805739762,
          -0.6516427122799183,
          0.7077432746766296,
          0.5911428507364715,
          -0.47327515429577843,
          0.2602446277068655,
          -0.14915052800248266,
          -0.49132906888796846,
          -0.6493875372037808,
          -0.3419250771171554,
          -0.6616116013652524,
          0.6497653494867984,
          -0.6929928207174096,
          -0.5070920895344345,
          -0.5370539210357494,
          -0.5773416552831364,
          9.603773032484128,
          -0.27812053110341856,
          -0.6763878210322157,
          -0.144763977221071,
          -0.5542439663919434,
          -0.6994490457169791,
          -0.6597960214464412,
          -0.7460384172440708,
          0.6888137756833053,
          0.12263868131232666,
          1.337174315059507,
          -0.6124270149003603,
          0.15167015020404212,
          12.541398040908673,
          -0.479017958726419,
          0.40316933727497484,
          -0.7284273714033914,
          -0.47107866146729704,
          -0.4322376468380066,
          -0.20971573496262236,
          -0.6487861212048136,
          -0.005702739736789806,
          -0.7808719494275596,
          -0.6287820899173421,
          -0.5245114273367699,
          0.7867580785915362,
          -0.37122839401337315,
          -0.6613900328689853,
          -0.6288145930348888,
          -0.3272368892507962,
          1.4847637435093999,
          2.38107398631874,
          -0.7213239189627949,
          -0.7529161914171633,
          -0.36817641685956076,
          -0.7095543387635245,
          -0.33303413071442295,
          -0.30437680656333294,
          -0.7141788028096933,
          -0.822242721746541,
          -0.6721717045724355,
          -0.3323604124336127,
          -0.7427511288505363,
          -0.5662027516155465,
          -0.05768718869405287,
          4.203056714114613,
          1.0581596991072921,
          0.611497971722155,
          -0.06502676534280474,
          -0.16134271541054593,
          -0.42860563435427046,
          -0.18733705543864712,
          0.5026981135133205,
          -0.4632214686334065,
          2.1003618867259113,
          -0.45912614116412087,
          -0.13030636722653208,
          -0.4789719458239176,
          -0.5859771382699693,
          -0.7978038318974722,
          -0.42676446597737316,
          -0.6479443644990649,
          -0.3327637239512974,
          -0.6397474403203216,
          -0.7844056849097171,
          -0.2688393726949172,
          -0.5227638785364188,
          -0.36212514736052337,
          -0.7379491103822371,
          0.43294949863107896,
          -0.6275742813514292,
          -0.7167292300424053,
          -0.6582034513130958,
          -0.5744041806597285,
          -0.09044599159998971,
          -0.44435125962008476,
          -0.7451855784172594,
          2.5949232645099554,
          -0.5615712748188362,
          -0.5252518482397962,
          -0.5947683288818906,
          0.08290172604778166,
          -0.5905867450333784,
          -0.6247501455745478,
          -0.6971107020093485,
          -0.20388448451441069,
          -0.33520928488130125,
          -0.47168369142376726,
          -0.24119567519424379,
          -0.5764605749146892,
          -0.3712081097944498,
          -0.5454374750170305,
          -0.545291357313352,
          0.38963462641958113,
          -0.48886129914753423,
          -0.6322041828156035,
          1.9107974554102938,
          0.52234961777233,
          1.5060962300970355,
          -0.4635891832413286,
          -0.14461706313793252,
          0.004498709898477761,
          -0.04917232746069924,
          1.8977718902059864,
          -0.512634224704143,
          -0.9328878433282359,
          0.29189989771031316,
          -0.4533256686796085,
          -0.4268522086545515,
          -0.7514650150505818,
          -0.5280467324209085,
          -0.7031126211706897,
          -0.6681771750258847,
          -0.5958599635778881,
          -0.6361223082546228,
          -0.8130304615218581,
          -0.4322859514356361,
          -0.7397471101171706,
          -0.3297333978171918,
          -0.39122155373217077,
          -0.6786493129162319,
          -0.5140127015780485,
          -0.3290334087024864,
          -0.753100647802139,
          -0.18898202900819103,
          -0.6763494566559662,
          -0.6470153633552415,
          -0.865646828433194,
          -0.19176805031868266,
          1.027532789516713,
          -0.8778292015639595,
          -0.7178067598672548,
          -0.5745294196182896,
          -0.45565937565504677,
          -0.6064021968003092,
          0.9903525793039637,
          0.44068834025375614,
          -0.6146579172116116,
          -0.6436440039477223,
          -0.5774879750421614,
          0.45459507905840557,
          -0.7132455219118331,
          -0.5651027596748806,
          -0.7089908125451045,
          0.23219002095963423,
          0.23008109734016843,
          -0.4784841583795425,
          13.628951392361632,
          -0.5489608083226185,
          -0.7029631843440487
         ],
         "y":[
          3.1226268548284417,
          -0.47561447857054534,
          -0.5980521919939461,
          1.3502888201266712,
          -2.6725161489873765,
          1.1152524981742031,
          -0.36620953346861346,
          -0.49663431856676765,
          0.45698781564646784,
          -0.14555521539600813,
          -1.089659301393633,
          -1.9349282784379702,
          0.30533552919474694,
          -0.4484024022309838,
          2.2471396166213102,
          -0.4561721395946692,
          -1.5976223117760597,
          0.38678316393967305,
          0.9674875378171944,
          -0.07552604132755424,
          -0.8262590089646021,
          1.514868389898927,
          -1.031470201987494,
          1.1672570053276021,
          -0.6647525952120985,
          0.3698192527524786,
          -0.19433789405628418,
          0.5148197931488206,
          1.7904572817711522,
          -1.8203224648171332,
          -0.7751616841789852,
          -3.0883690020542476,
          -0.8547615652586225,
          -1.5775161600067762,
          2.603637221742856,
          -1.0364368678063662,
          0.319223016016245,
          1.394003811517487,
          -0.6383893698659376,
          -1.213942091720193,
          -0.8010401286879111,
          1.3006385490106807,
          -2.140441572829359,
          1.2383141868195522,
          -0.7959942918575447,
          0.2336398108801928,
          -1.342598792382067,
          -1.5872216687039304,
          0.4583219168612119,
          -0.04629644518336378,
          -1.8386555467691128,
          -1.7708277345099512,
          -0.1999993584046253,
          0.8456345372762899,
          0.6787206378683007,
          -0.1022477682885203,
          -0.26352059894818464,
          -0.4537295759632911,
          0.3919798920212005,
          1.2032013440579383,
          1.2498781361432412,
          0.34767443834448564,
          -0.8610143283270049,
          1.6109283414419622,
          0.8071145434348003,
          -1.2948088286578674,
          2.9912880374988844,
          0.9224432823834857,
          1.1545051468470455,
          1.7802059502933423,
          -1.9614201588551536,
          -1.9540857537975318,
          -0.03984363685837474,
          -0.8929568194172294,
          -0.47214584085178907,
          -2.8153101313518496,
          0.3947853803986295,
          -0.924652173600937,
          0.8371032386785984,
          0.24192334928178652,
          0.4280000493241215,
          -0.13351594336328515,
          0.410292108884609,
          -1.487248651778134,
          1.4123737481561691,
          1.2232002290958952,
          -1.6433840752550977,
          -1.5287811115012104,
          -0.9814296633315654,
          1.30994031566567,
          -0.7280020666338024,
          0.6982013229996632,
          0.3711724012456499,
          1.7733708725692863,
          -1.1965188566897547,
          -0.1605123212038337,
          -1.3050993549209804,
          1.0853470670487286,
          -0.9618501203182265,
          -0.7501851243556575,
          -0.12175651089187949,
          1.2526785034525099,
          2.009000558405776,
          -0.33028757278423926,
          0.5270389565490893,
          1.4795368071143271,
          2.3217896879844058,
          -2.0158569516082516,
          -0.5672557382984622,
          -1.9306990730517604,
          0.7071076703259376,
          -1.0517033166384966,
          0.695022238318644,
          0.16876768450589572,
          2.5461397516093522,
          -0.34397095992790466,
          0.34593258125008386,
          -2.56014852603376,
          0.9820630758518859,
          -1.3393751764512218,
          -0.6127347732171514,
          -1.7968217396176245,
          0.05727409738474709,
          -0.9290847785764983,
          -2.588425305352159,
          -0.40043832393035456,
          2.8900048518179697,
          -1.3757589814881463,
          -0.4701253399805926,
          0.10570410478205056,
          0.4784225652983929,
          0.9143427971460482,
          -0.06769117928718589,
          -0.36766583320879487,
          -0.7698509062502727,
          -0.42088471112085607,
          0.7225509087012539,
          -0.32301998619009914,
          0.7072130246746532,
          -1.5698231276864523,
          -1.503380857291543,
          2.2633415214306782,
          0.27890559987153307,
          -1.881481342185054,
          0.6460701701500646,
          -1.9856092531419929,
          0.5775390403824929,
          0.8235873741705506,
          2.167046073848211,
          -1.777961708512037,
          0.20448200203091044,
          1.4428070737250898,
          1.2547528583418546,
          -0.161079841402614,
          0.4046900200166038,
          0.10161156843339154,
          0.9536949758454489,
          0.9222908659506223,
          -0.5119921380936217,
          -0.09528199860665458,
          2.541005316456567,
          -0.48019834026203384,
          3.521281338109256,
          0.03268430010782943,
          1.287972430850791,
          1.2673538080375983,
          -1.9139275759456986,
          0.4287672151812248,
          0.0029847171289340063,
          2.2123601970265807,
          0.5062368029784743
         ],
         "type":"scatter"
        }
       ],
       "layout":{
        "hovermode":"closest",
        "template":{
         "data":{
          "bar":[
           {
            "error_x":{
             "color":"#2a3f5f"
            },
            "error_y":{
             "color":"#2a3f5f"
            },
            "marker":{
             "line":{
              "color":"#E5ECF6",
              "width":0.5
             },
             "pattern":{
              "fillmode":"overlay",
              "size":10,
              "solidity":0.2
             }
            },
            "type":"bar"
           }
          ],
          "barpolar":[
           {
            "marker":{
             "line":{
              "color":"#E5ECF6",
              "width":0.5
             },
             "pattern":{
              "fillmode":"overlay",
              "size":10,
              "solidity":0.2
             }
            },
            "type":"barpolar"
           }
          ],
          "carpet":[
           {
            "aaxis":{
             "endlinecolor":"#2a3f5f",
             "gridcolor":"white",
             "linecolor":"white",
             "minorgridcolor":"white",
             "startlinecolor":"#2a3f5f"
            },
            "baxis":{
             "endlinecolor":"#2a3f5f",
             "gridcolor":"white",
             "linecolor":"white",
             "minorgridcolor":"white",
             "startlinecolor":"#2a3f5f"
            },
            "type":"carpet"
           }
          ],
          "choropleth":[
           {
            "colorbar":{
             "outlinewidth":0,
             "ticks":""
            },
            "type":"choropleth"
           }
          ],
          "contour":[
           {
            "colorbar":{
             "outlinewidth":0,
             "ticks":""
            },
            "colorscale":[
             [
              0,
              "#0d0887"
             ],
             [
              0.1111111111111111,
              "#46039f"
             ],
             [
              0.2222222222222222,
              "#7201a8"
             ],
             [
              0.3333333333333333,
              "#9c179e"
             ],
             [
              0.4444444444444444,
              "#bd3786"
             ],
             [
              0.5555555555555556,
              "#d8576b"
             ],
             [
              0.6666666666666666,
              "#ed7953"
             ],
             [
              0.7777777777777778,
              "#fb9f3a"
             ],
             [
              0.8888888888888888,
              "#fdca26"
             ],
             [
              1,
              "#f0f921"
             ]
            ],
            "type":"contour"
           }
          ],
          "contourcarpet":[
           {
            "colorbar":{
             "outlinewidth":0,
             "ticks":""
            },
            "type":"contourcarpet"
           }
          ],
          "heatmap":[
           {
            "colorbar":{
             "outlinewidth":0,
             "ticks":""
            },
            "colorscale":[
             [
              0,
              "#0d0887"
             ],
             [
              0.1111111111111111,
              "#46039f"
             ],
             [
              0.2222222222222222,
              "#7201a8"
             ],
             [
              0.3333333333333333,
              "#9c179e"
             ],
             [
              0.4444444444444444,
              "#bd3786"
             ],
             [
              0.5555555555555556,
              "#d8576b"
             ],
             [
              0.6666666666666666,
              "#ed7953"
             ],
             [
              0.7777777777777778,
              "#fb9f3a"
             ],
             [
              0.8888888888888888,
              "#fdca26"
             ],
             [
              1,
              "#f0f921"
             ]
            ],
            "type":"heatmap"
           }
          ],
          "heatmapgl":[
           {
            "colorbar":{
             "outlinewidth":0,
             "ticks":""
            },
            "colorscale":[
             [
              0,
              "#0d0887"
             ],
             [
              0.1111111111111111,
              "#46039f"
             ],
             [
              0.2222222222222222,
              "#7201a8"
             ],
             [
              0.3333333333333333,
              "#9c179e"
             ],
             [
              0.4444444444444444,
              "#bd3786"
             ],
             [
              0.5555555555555556,
              "#d8576b"
             ],
             [
              0.6666666666666666,
              "#ed7953"
             ],
             [
              0.7777777777777778,
              "#fb9f3a"
             ],
             [
              0.8888888888888888,
              "#fdca26"
             ],
             [
              1,
              "#f0f921"
             ]
            ],
            "type":"heatmapgl"
           }
          ],
          "histogram":[
           {
            "marker":{
             "pattern":{
              "fillmode":"overlay",
              "size":10,
              "solidity":0.2
             }
            },
            "type":"histogram"
           }
          ],
          "histogram2d":[
           {
            "colorbar":{
             "outlinewidth":0,
             "ticks":""
            },
            "colorscale":[
             [
              0,
              "#0d0887"
             ],
             [
              0.1111111111111111,
              "#46039f"
             ],
             [
              0.2222222222222222,
              "#7201a8"
             ],
             [
              0.3333333333333333,
              "#9c179e"
             ],
             [
              0.4444444444444444,
              "#bd3786"
             ],
             [
              0.5555555555555556,
              "#d8576b"
             ],
             [
              0.6666666666666666,
              "#ed7953"
             ],
             [
              0.7777777777777778,
              "#fb9f3a"
             ],
             [
              0.8888888888888888,
              "#fdca26"
             ],
             [
              1,
              "#f0f921"
             ]
            ],
            "type":"histogram2d"
           }
          ],
          "histogram2dcontour":[
           {
            "colorbar":{
             "outlinewidth":0,
             "ticks":""
            },
            "colorscale":[
             [
              0,
              "#0d0887"
             ],
             [
              0.1111111111111111,
              "#46039f"
             ],
             [
              0.2222222222222222,
              "#7201a8"
             ],
             [
              0.3333333333333333,
              "#9c179e"
             ],
             [
              0.4444444444444444,
              "#bd3786"
             ],
             [
              0.5555555555555556,
              "#d8576b"
             ],
             [
              0.6666666666666666,
              "#ed7953"
             ],
             [
              0.7777777777777778,
              "#fb9f3a"
             ],
             [
              0.8888888888888888,
              "#fdca26"
             ],
             [
              1,
              "#f0f921"
             ]
            ],
            "type":"histogram2dcontour"
           }
          ],
          "mesh3d":[
           {
            "colorbar":{
             "outlinewidth":0,
             "ticks":""
            },
            "type":"mesh3d"
           }
          ],
          "parcoords":[
           {
            "line":{
             "colorbar":{
              "outlinewidth":0,
              "ticks":""
             }
            },
            "type":"parcoords"
           }
          ],
          "pie":[
           {
            "automargin":true,
            "type":"pie"
           }
          ],
          "scatter":[
           {
            "marker":{
             "colorbar":{
              "outlinewidth":0,
              "ticks":""
             }
            },
            "type":"scatter"
           }
          ],
          "scatter3d":[
           {
            "line":{
             "colorbar":{
              "outlinewidth":0,
              "ticks":""
             }
            },
            "marker":{
             "colorbar":{
              "outlinewidth":0,
              "ticks":""
             }
            },
            "type":"scatter3d"
           }
          ],
          "scattercarpet":[
           {
            "marker":{
             "colorbar":{
              "outlinewidth":0,
              "ticks":""
             }
            },
            "type":"scattercarpet"
           }
          ],
          "scattergeo":[
           {
            "marker":{
             "colorbar":{
              "outlinewidth":0,
              "ticks":""
             }
            },
            "type":"scattergeo"
           }
          ],
          "scattergl":[
           {
            "marker":{
             "colorbar":{
              "outlinewidth":0,
              "ticks":""
             }
            },
            "type":"scattergl"
           }
          ],
          "scattermapbox":[
           {
            "marker":{
             "colorbar":{
              "outlinewidth":0,
              "ticks":""
             }
            },
            "type":"scattermapbox"
           }
          ],
          "scatterpolar":[
           {
            "marker":{
             "colorbar":{
              "outlinewidth":0,
              "ticks":""
             }
            },
            "type":"scatterpolar"
           }
          ],
          "scatterpolargl":[
           {
            "marker":{
             "colorbar":{
              "outlinewidth":0,
              "ticks":""
             }
            },
            "type":"scatterpolargl"
           }
          ],
          "scatterternary":[
           {
            "marker":{
             "colorbar":{
              "outlinewidth":0,
              "ticks":""
             }
            },
            "type":"scatterternary"
           }
          ],
          "surface":[
           {
            "colorbar":{
             "outlinewidth":0,
             "ticks":""
            },
            "colorscale":[
             [
              0,
              "#0d0887"
             ],
             [
              0.1111111111111111,
              "#46039f"
             ],
             [
              0.2222222222222222,
              "#7201a8"
             ],
             [
              0.3333333333333333,
              "#9c179e"
             ],
             [
              0.4444444444444444,
              "#bd3786"
             ],
             [
              0.5555555555555556,
              "#d8576b"
             ],
             [
              0.6666666666666666,
              "#ed7953"
             ],
             [
              0.7777777777777778,
              "#fb9f3a"
             ],
             [
              0.8888888888888888,
              "#fdca26"
             ],
             [
              1,
              "#f0f921"
             ]
            ],
            "type":"surface"
           }
          ],
          "table":[
           {
            "cells":{
             "fill":{
              "color":"#EBF0F8"
             },
             "line":{
              "color":"white"
             }
            },
            "header":{
             "fill":{
              "color":"#C8D4E3"
             },
             "line":{
              "color":"white"
             }
            },
            "type":"table"
           }
          ]
         },
         "layout":{
          "annotationdefaults":{
           "arrowcolor":"#2a3f5f",
           "arrowhead":0,
           "arrowwidth":1
          },
          "autotypenumbers":"strict",
          "coloraxis":{
           "colorbar":{
            "outlinewidth":0,
            "ticks":""
           }
          },
          "colorscale":{
           "diverging":[
            [
             0,
             "#8e0152"
            ],
            [
             0.1,
             "#c51b7d"
            ],
            [
             0.2,
             "#de77ae"
            ],
            [
             0.3,
             "#f1b6da"
            ],
            [
             0.4,
             "#fde0ef"
            ],
            [
             0.5,
             "#f7f7f7"
            ],
            [
             0.6,
             "#e6f5d0"
            ],
            [
             0.7,
             "#b8e186"
            ],
            [
             0.8,
             "#7fbc41"
            ],
            [
             0.9,
             "#4d9221"
            ],
            [
             1,
             "#276419"
            ]
           ],
           "sequential":[
            [
             0,
             "#0d0887"
            ],
            [
             0.1111111111111111,
             "#46039f"
            ],
            [
             0.2222222222222222,
             "#7201a8"
            ],
            [
             0.3333333333333333,
             "#9c179e"
            ],
            [
             0.4444444444444444,
             "#bd3786"
            ],
            [
             0.5555555555555556,
             "#d8576b"
            ],
            [
             0.6666666666666666,
             "#ed7953"
            ],
            [
             0.7777777777777778,
             "#fb9f3a"
            ],
            [
             0.8888888888888888,
             "#fdca26"
            ],
            [
             1,
             "#f0f921"
            ]
           ],
           "sequentialminus":[
            [
             0,
             "#0d0887"
            ],
            [
             0.1111111111111111,
             "#46039f"
            ],
            [
             0.2222222222222222,
             "#7201a8"
            ],
            [
             0.3333333333333333,
             "#9c179e"
            ],
            [
             0.4444444444444444,
             "#bd3786"
            ],
            [
             0.5555555555555556,
             "#d8576b"
            ],
            [
             0.6666666666666666,
             "#ed7953"
            ],
            [
             0.7777777777777778,
             "#fb9f3a"
            ],
            [
             0.8888888888888888,
             "#fdca26"
            ],
            [
             1,
             "#f0f921"
            ]
           ]
          },
          "colorway":[
           "#636efa",
           "#EF553B",
           "#00cc96",
           "#ab63fa",
           "#FFA15A",
           "#19d3f3",
           "#FF6692",
           "#B6E880",
           "#FF97FF",
           "#FECB52"
          ],
          "font":{
           "color":"#2a3f5f"
          },
          "geo":{
           "bgcolor":"white",
           "lakecolor":"white",
           "landcolor":"#E5ECF6",
           "showlakes":true,
           "showland":true,
           "subunitcolor":"white"
          },
          "hoverlabel":{
           "align":"left"
          },
          "hovermode":"closest",
          "mapbox":{
           "style":"light"
          },
          "paper_bgcolor":"white",
          "plot_bgcolor":"#E5ECF6",
          "polar":{
           "angularaxis":{
            "gridcolor":"white",
            "linecolor":"white",
            "ticks":""
           },
           "bgcolor":"#E5ECF6",
           "radialaxis":{
            "gridcolor":"white",
            "linecolor":"white",
            "ticks":""
           }
          },
          "scene":{
           "xaxis":{
            "backgroundcolor":"#E5ECF6",
            "gridcolor":"white",
            "gridwidth":2,
            "linecolor":"white",
            "showbackground":true,
            "ticks":"",
            "zerolinecolor":"white"
           },
           "yaxis":{
            "backgroundcolor":"#E5ECF6",
            "gridcolor":"white",
            "gridwidth":2,
            "linecolor":"white",
            "showbackground":true,
            "ticks":"",
            "zerolinecolor":"white"
           },
           "zaxis":{
            "backgroundcolor":"#E5ECF6",
            "gridcolor":"white",
            "gridwidth":2,
            "linecolor":"white",
            "showbackground":true,
            "ticks":"",
            "zerolinecolor":"white"
           }
          },
          "shapedefaults":{
           "line":{
            "color":"#2a3f5f"
           }
          },
          "ternary":{
           "aaxis":{
            "gridcolor":"white",
            "linecolor":"white",
            "ticks":""
           },
           "baxis":{
            "gridcolor":"white",
            "linecolor":"white",
            "ticks":""
           },
           "bgcolor":"#E5ECF6",
           "caxis":{
            "gridcolor":"white",
            "linecolor":"white",
            "ticks":""
           }
          },
          "title":{
           "x":0.05
          },
          "xaxis":{
           "automargin":true,
           "gridcolor":"white",
           "linecolor":"white",
           "ticks":"",
           "title":{
            "standoff":15
           },
           "zerolinecolor":"white",
           "zerolinewidth":2
          },
          "yaxis":{
           "automargin":true,
           "gridcolor":"white",
           "linecolor":"white",
           "ticks":"",
           "title":{
            "standoff":15
           },
           "zerolinecolor":"white",
           "zerolinewidth":2
          }
         }
        },
        "xaxis":{
         "title":{
          "text":"F1 (39.3%) Besoin en viande de volaille"
         },
         "range":[
          -14.991846531597796,
          14.991846531597796
         ]
        },
        "yaxis":{
         "title":{
          "text":"F2 (21.1%) Difficulté à faire du business"
         },
         "range":[
          -3.8734094719201817,
          3.8734094719201817
         ]
        },
        "width":800,
        "height":800,
        "showlegend":false,
        "title":{
         "text":"Projection des individus sur (F1 et F2)"
        }
       },
       "config":{
        "plotlyServerURL":"https:\/\/plot.ly"
       }
      }
     },
     "metadata":{
      
     },
     "output_type":"display_data"
    }
   ],
   "metadata":{
    "datalore":{
     "node_id":"8aQKpgWzPC3fkHu3hB7pQw",
     "type":"CODE",
     "hide_input_from_viewers":true,
     "hide_output_from_viewers":true
    }
   }
  },
  {
   "cell_type":"markdown",
   "source":[
    "On peut s'apercevoir que l'on a une grande dispersion sur la difficulté à faire du business, alors que la dispersion sur le besoin en viande de volaille est proche de zéro ou positive."
   ],
   "attachments":{
    
   },
   "metadata":{
    "datalore":{
     "node_id":"cwoK3GTmANa2TmF61OPV1o",
     "type":"MD",
     "hide_input_from_viewers":true,
     "hide_output_from_viewers":true
    }
   }
  },
  {
   "cell_type":"code",
   "source":[
    "projection_acp(X_proj = X_proj, rang_1 = 3, rang_2 = 4)"
   ],
   "execution_count":115,
   "outputs":[
    {
     "data":{
      "application\/vnd.plotly.v1+json":{
       "data":[
        {
         "mode":"markers",
         "text":[
          "Afghanistan",
          "Afrique du Sud",
          "Albanie",
          "Algérie",
          "Allemagne",
          "Angola",
          "Antigua-et-Barbuda",
          "Arabie saoudite",
          "Argentine",
          "Arménie",
          "Australie",
          "Autriche",
          "Azerbaïdjan",
          "Bahamas",
          "Bangladesh",
          "Barbade",
          "Belgique",
          "Belize",
          "Bolivie (État plurinational de)",
          "Bosnie-Herzégovine",
          "Botswana",
          "Brésil",
          "Bulgarie",
          "Burkina Faso",
          "Bélarus",
          "Bénin",
          "Cabo Verde",
          "Cambodge",
          "Cameroun",
          "Canada",
          "Chili",
          "Chine - RAS de Hong-Kong",
          "Chine - RAS de Macao",
          "Chine, Taiwan Province de",
          "Chine, continentale",
          "Chypre",
          "Colombie",
          "Congo",
          "Costa Rica",
          "Croatie",
          "Cuba",
          "Côte d'Ivoire",
          "Danemark",
          "Djibouti",
          "Dominique",
          "El Salvador",
          "Espagne",
          "Estonie",
          "Eswatini",
          "Fidji",
          "Finlande",
          "France",
          "Fédération de Russie",
          "Gabon",
          "Gambie",
          "Ghana",
          "Grenade",
          "Grèce",
          "Guatemala",
          "Guinée",
          "Guinée-Bissau",
          "Guyana",
          "Géorgie",
          "Haïti",
          "Honduras",
          "Hongrie",
          "Inde",
          "Indonésie",
          "Iran (République islamique d')",
          "Iraq",
          "Irlande",
          "Islande",
          "Israël",
          "Italie",
          "Jamaïque",
          "Japon",
          "Jordanie",
          "Kazakhstan",
          "Kenya",
          "Kirghizistan",
          "Kiribati",
          "Koweït",
          "Lesotho",
          "Lettonie",
          "Liban",
          "Libéria",
          "Lituanie",
          "Luxembourg",
          "Macédoine du Nord",
          "Madagascar",
          "Malaisie",
          "Malawi",
          "Maldives",
          "Mali",
          "Malte",
          "Maroc",
          "Maurice",
          "Mauritanie",
          "Mexique",
          "Mongolie",
          "Monténégro",
          "Mozambique",
          "Myanmar",
          "Namibie",
          "Nicaragua",
          "Niger",
          "Nigéria",
          "Norvège",
          "Nouvelle-Calédonie",
          "Nouvelle-Zélande",
          "Népal",
          "Oman",
          "Ouganda",
          "Ouzbékistan",
          "Pakistan",
          "Panama",
          "Paraguay",
          "Pays-Bas",
          "Philippines",
          "Pologne",
          "Polynésie française",
          "Portugal",
          "Pérou",
          "Roumanie",
          "Royaume-Uni de Grande-Bretagne et d'Irlande du Nord",
          "Rwanda",
          "République centrafricaine",
          "République de Corée",
          "République de Moldova",
          "République dominicaine",
          "République démocratique populaire lao",
          "République-Unie de Tanzanie",
          "Saint-Kitts-et-Nevis",
          "Saint-Vincent-et-les Grenadines",
          "Sainte-Lucie",
          "Samoa",
          "Sao Tomé-et-Principe",
          "Serbie",
          "Sierra Leone",
          "Slovaquie",
          "Slovénie",
          "Soudan",
          "Sri Lanka",
          "Suisse",
          "Suriname",
          "Suède",
          "Sénégal",
          "Tadjikistan",
          "Tchad",
          "Tchéquie",
          "Thaïlande",
          "Timor-Leste",
          "Togo",
          "Trinité-et-Tobago",
          "Tunisie",
          "Turkménistan",
          "Turquie",
          "Ukraine",
          "Uruguay",
          "Vanuatu",
          "Venezuela (République bolivarienne du)",
          "Viet Nam",
          "Yémen",
          "Zambie",
          "Zimbabwe",
          "Égypte",
          "Émirats arabes unis",
          "Équateur",
          "États-Unis d'Amérique",
          "Éthiopie",
          "Îles Salomon"
         ],
         "x":[
          -1.189105496463755,
          -0.1717102016965706,
          -0.7335099990076236,
          -1.2449077446055612,
          -2.30290194922166,
          -0.44666861477376646,
          0.5585165543388466,
          -1.7407407448554175,
          1.348604508096605,
          -0.7592356897358238,
          2.831093954458943,
          -0.704905267906268,
          -0.7108715300016022,
          0.7333520713159274,
          0.008254776022916976,
          0.6971091650574202,
          -1.5191141616581851,
          0.6912766597004109,
          0.8714386424995336,
          -1.0361854240890152,
          1.0600331944699708,
          1.4319824149030953,
          -0.847904656528847,
          -0.6782908617519013,
          -0.8125661560277192,
          -0.3715451705041149,
          0.0821974654630929,
          0.9661537180297122,
          -0.5324804683314835,
          0.29834995769697653,
          1.226261297932759,
          -0.4498478646998587,
          1.4231343227278643,
          1.0048415267572972,
          0.5572660757018488,
          -0.3386739624987915,
          0.2899814226312413,
          -0.2890265450351318,
          0.9527026960852515,
          -0.6888754672598293,
          0.16569268518019964,
          -0.5879369845985691,
          -0.8229503128542833,
          -0.2861153094030612,
          0.7755807658625168,
          0.607683921378446,
          -1.1275543929329088,
          -0.5399926746337308,
          0.5955376296402627,
          2.6023811683499503,
          -0.3356111902367356,
          -1.8360874287619726,
          -1.0990640617779703,
          -0.1874795570591998,
          -0.30791952605443407,
          -0.37812984111956705,
          0.755469978279216,
          -0.8836782688085563,
          0.24450062297095318,
          -0.5226858869528183,
          -0.43075275976799976,
          0.37417640887640785,
          -0.7003821860386523,
          -0.0399604177403049,
          0.4588447282997608,
          -0.642557060897265,
          0.08745356565678172,
          1.185347442861067,
          -0.5529475475014921,
          -2.1666767318461253,
          -0.7609958225873474,
          -0.1340727420750075,
          -0.8104746579512148,
          -0.9114535994458113,
          0.5512979151682667,
          -0.5402596128606557,
          -0.7409571750460722,
          -0.2902903085219969,
          -0.2565022562817715,
          -0.21748910098285543,
          2.2476780539471415,
          -0.4983426519892791,
          0.6485625543640507,
          -0.6920149115996314,
          -1.1812630849117176,
          -0.3449405364572217,
          -0.5558068744994111,
          -0.5678287118208668,
          -0.9905638264592,
          0.5777197165272752,
          1.0410025397798315,
          0.36180932677672223,
          0.6698501287036707,
          -1.0764464871385182,
          -0.2864871981788258,
          -0.8999773350655889,
          1.230089909046651,
          -0.6597803541640748,
          -1.195469657256761,
          0.6402260473275708,
          2.0167076730706848,
          0.28791054403853433,
          0.3530819568317088,
          0.759108866736168,
          0.7003939606284268,
          -0.8580240153151203,
          -0.979900427659963,
          -0.39405984570260977,
          2.478360894320275,
          3.5800349562476,
          0.12165567830839634,
          0.10484493495563388,
          -0.09684504676740181,
          -0.1704702212216759,
          -0.8466428954120407,
          0.8058091639361997,
          0.9915374177736662,
          -1.7329316818316216,
          0.21859053051608202,
          -0.62635370005489,
          2.2486704560620256,
          -0.5262128429260856,
          0.8394050935236624,
          -0.9939229771609128,
          -2.2821304148939188,
          0.19829752732255476,
          -0.8981928871323439,
          0.6795940030757861,
          -0.9056790595209997,
          0.3645895143517902,
          0.9651999088910445,
          0.1264026467152955,
          0.5348186113582123,
          0.6730625742066795,
          0.6927035050209213,
          2.6854215783196516,
          0.06948308404575497,
          2.075336637502319,
          -0.19844176264784763,
          -0.6669734936380142,
          -0.6309911250147828,
          -1.0042537055522136,
          0.6231933267030745,
          -0.6379190611677457,
          0.3872668176898421,
          -0.5802883908151775,
          -0.28184495864098985,
          -0.3879985498575299,
          -0.7923629420734568,
          -0.7682273848882167,
          0.6210877153349008,
          2.0708082230747653,
          -0.5448854511164974,
          0.4444634781888379,
          -1.2616191532892653,
          -0.2609404635037359,
          -1.3191200765756343,
          -1.6707748421897037,
          1.5933960854852367,
          2.5802459148124757,
          -0.08541043341048374,
          0.38631784309797795,
          -1.3869168188046157,
          0.4909209652059466,
          0.22165174715075942,
          -1.2171578424566714,
          -0.5960280915792879,
          0.8092857386799293,
          1.130871248965479,
          -0.6746257837653201,
          2.123127012484422
         ],
         "y":[
          -0.1446016069199749,
          -1.9210823339192198,
          0.5897729496456741,
          0.5168128165011923,
          -1.7875084421109888,
          -0.9136262168665565,
          0.30452173182222314,
          -2.407079141124021,
          0.08928580496079422,
          0.3552375201513321,
          -0.5125988277775029,
          0.5214576129260601,
          0.3196127461275304,
          0.21742579090214104,
          -0.375375622152136,
          0.3290633076369895,
          0.24245685029902514,
          0.0899646998339598,
          -0.06702934690520668,
          0.6568291311932128,
          0.19478401615674132,
          4.4840880069436295,
          0.35568253170353625,
          0.3369150257133213,
          0.7660448207215316,
          -0.07473082417284967,
          0.4725621441862423,
          -0.09454872542241116,
          0.21057259726409377,
          -0.0837043991013708,
          -0.5870351885316909,
          -2.6725746864714313,
          0.0631277717185451,
          -0.5211817775975911,
          -3.515996415538083,
          0.5975592110181326,
          -0.30020461690561084,
          -0.17086266482486323,
          0.07399110733756804,
          0.7451874413247697,
          -0.974686001902278,
          0.2138193686865601,
          0.4952344836077286,
          0.25204683021644303,
          0.35301202334989273,
          -0.023797554587401154,
          0.2004273344780663,
          0.6965074253321303,
          0.03803764393477647,
          -0.5379517263984763,
          0.7487829905449455,
          -0.6211076214135881,
          -0.26979208933403287,
          0.043349816095830156,
          0.37512302135913855,
          -0.21480333537269597,
          0.2872114335492368,
          0.3743351560411038,
          -0.5085002205563309,
          0.17585166169216981,
          0.36261904278776186,
          0.19850680333320803,
          0.3409409053985835,
          -0.25636272238448055,
          -0.03765195794697204,
          0.8160547814982083,
          -2.935417912538582,
          -0.7325921737702003,
          0.32392770740133936,
          -1.6149557187985146,
          0.6050776434217883,
          0.7931801205492548,
          0.5046689849593511,
          0.5252569004854993,
          0.09547501226573323,
          -4.108355581409867,
          0.2530239647332421,
          -0.3082031776438626,
          0.04931928312628155,
          0.22479973269074865,
          -0.3336322682934151,
          -0.07113277007613752,
          -0.024492460815037413,
          0.6157050808997241,
          0.3360659724538914,
          0.1631234689659715,
          0.6921839592364615,
          0.9103412917837282,
          0.539687060758738,
          -0.028136527939461434,
          -0.21844097046649538,
          0.10877737791735273,
          0.0891705810370536,
          0.23690262664852538,
          0.7782256068810457,
          0.600699370582282,
          0.13621471166741575,
          0.3289973475393201,
          -3.819839637457828,
          0.26993987198305763,
          -0.4928371591665802,
          -0.18275379879249268,
          -0.1051221917503468,
          0.0999893169706567,
          0.028128195592784202,
          0.2955518555253788,
          -0.24363843266225632,
          0.8496465975673123,
          -0.5870896361516339,
          -0.6036067096220724,
          0.0864009903126662,
          -0.036113774521818964,
          0.15170085536016878,
          0.2932760086530641,
          -0.3660987186973597,
          0.06085038216178221,
          -0.053839469634520146,
          0.04012592006800358,
          -1.3355709324336842,
          1.647677104130664,
          -0.5212716725938393,
          0.5699782029021265,
          -0.28734479428008125,
          0.1858462877714887,
          -1.784465045278597,
          0.2912777012179146,
          0.1301766040376812,
          -0.4577712504311636,
          0.5838058039256668,
          0.07196956388182882,
          0.04915740442173442,
          0.020045049757755985,
          0.2958189161510745,
          0.2839957427017992,
          0.3060661624839622,
          -0.4879253448172845,
          0.35833429963669833,
          -0.49927529293884215,
          0.33790283611027455,
          0.636745176832005,
          0.810151725320486,
          0.12068834590302736,
          0.05729587912086221,
          0.7375668813339918,
          0.1493044450436229,
          0.5166931898083126,
          0.42149051108009794,
          0.14090145884444244,
          0.2716055302018379,
          0.448689488826011,
          0.6809143009718247,
          -0.5365288062119365,
          0.247991670032339,
          0.15737624602912756,
          0.6037817051411046,
          0.38301501665454,
          0.8211783810945228,
          0.25891047095419956,
          -0.01750790685317657,
          -0.5129658905149603,
          -0.1150447715582536,
          -1.2110364203019157,
          -0.3022442176879964,
          0.11441439603319319,
          0.01337785160333126,
          -0.1770235440331691,
          -1.100926781897936,
          -6.001815697614467E-4,
          4.067368062577121,
          -0.09660852431628768,
          -0.4779580365651934
         ],
         "type":"scatter"
        }
       ],
       "layout":{
        "hovermode":"closest",
        "template":{
         "data":{
          "bar":[
           {
            "error_x":{
             "color":"#2a3f5f"
            },
            "error_y":{
             "color":"#2a3f5f"
            },
            "marker":{
             "line":{
              "color":"#E5ECF6",
              "width":0.5
             },
             "pattern":{
              "fillmode":"overlay",
              "size":10,
              "solidity":0.2
             }
            },
            "type":"bar"
           }
          ],
          "barpolar":[
           {
            "marker":{
             "line":{
              "color":"#E5ECF6",
              "width":0.5
             },
             "pattern":{
              "fillmode":"overlay",
              "size":10,
              "solidity":0.2
             }
            },
            "type":"barpolar"
           }
          ],
          "carpet":[
           {
            "aaxis":{
             "endlinecolor":"#2a3f5f",
             "gridcolor":"white",
             "linecolor":"white",
             "minorgridcolor":"white",
             "startlinecolor":"#2a3f5f"
            },
            "baxis":{
             "endlinecolor":"#2a3f5f",
             "gridcolor":"white",
             "linecolor":"white",
             "minorgridcolor":"white",
             "startlinecolor":"#2a3f5f"
            },
            "type":"carpet"
           }
          ],
          "choropleth":[
           {
            "colorbar":{
             "outlinewidth":0,
             "ticks":""
            },
            "type":"choropleth"
           }
          ],
          "contour":[
           {
            "colorbar":{
             "outlinewidth":0,
             "ticks":""
            },
            "colorscale":[
             [
              0,
              "#0d0887"
             ],
             [
              0.1111111111111111,
              "#46039f"
             ],
             [
              0.2222222222222222,
              "#7201a8"
             ],
             [
              0.3333333333333333,
              "#9c179e"
             ],
             [
              0.4444444444444444,
              "#bd3786"
             ],
             [
              0.5555555555555556,
              "#d8576b"
             ],
             [
              0.6666666666666666,
              "#ed7953"
             ],
             [
              0.7777777777777778,
              "#fb9f3a"
             ],
             [
              0.8888888888888888,
              "#fdca26"
             ],
             [
              1,
              "#f0f921"
             ]
            ],
            "type":"contour"
           }
          ],
          "contourcarpet":[
           {
            "colorbar":{
             "outlinewidth":0,
             "ticks":""
            },
            "type":"contourcarpet"
           }
          ],
          "heatmap":[
           {
            "colorbar":{
             "outlinewidth":0,
             "ticks":""
            },
            "colorscale":[
             [
              0,
              "#0d0887"
             ],
             [
              0.1111111111111111,
              "#46039f"
             ],
             [
              0.2222222222222222,
              "#7201a8"
             ],
             [
              0.3333333333333333,
              "#9c179e"
             ],
             [
              0.4444444444444444,
              "#bd3786"
             ],
             [
              0.5555555555555556,
              "#d8576b"
             ],
             [
              0.6666666666666666,
              "#ed7953"
             ],
             [
              0.7777777777777778,
              "#fb9f3a"
             ],
             [
              0.8888888888888888,
              "#fdca26"
             ],
             [
              1,
              "#f0f921"
             ]
            ],
            "type":"heatmap"
           }
          ],
          "heatmapgl":[
           {
            "colorbar":{
             "outlinewidth":0,
             "ticks":""
            },
            "colorscale":[
             [
              0,
              "#0d0887"
             ],
             [
              0.1111111111111111,
              "#46039f"
             ],
             [
              0.2222222222222222,
              "#7201a8"
             ],
             [
              0.3333333333333333,
              "#9c179e"
             ],
             [
              0.4444444444444444,
              "#bd3786"
             ],
             [
              0.5555555555555556,
              "#d8576b"
             ],
             [
              0.6666666666666666,
              "#ed7953"
             ],
             [
              0.7777777777777778,
              "#fb9f3a"
             ],
             [
              0.8888888888888888,
              "#fdca26"
             ],
             [
              1,
              "#f0f921"
             ]
            ],
            "type":"heatmapgl"
           }
          ],
          "histogram":[
           {
            "marker":{
             "pattern":{
              "fillmode":"overlay",
              "size":10,
              "solidity":0.2
             }
            },
            "type":"histogram"
           }
          ],
          "histogram2d":[
           {
            "colorbar":{
             "outlinewidth":0,
             "ticks":""
            },
            "colorscale":[
             [
              0,
              "#0d0887"
             ],
             [
              0.1111111111111111,
              "#46039f"
             ],
             [
              0.2222222222222222,
              "#7201a8"
             ],
             [
              0.3333333333333333,
              "#9c179e"
             ],
             [
              0.4444444444444444,
              "#bd3786"
             ],
             [
              0.5555555555555556,
              "#d8576b"
             ],
             [
              0.6666666666666666,
              "#ed7953"
             ],
             [
              0.7777777777777778,
              "#fb9f3a"
             ],
             [
              0.8888888888888888,
              "#fdca26"
             ],
             [
              1,
              "#f0f921"
             ]
            ],
            "type":"histogram2d"
           }
          ],
          "histogram2dcontour":[
           {
            "colorbar":{
             "outlinewidth":0,
             "ticks":""
            },
            "colorscale":[
             [
              0,
              "#0d0887"
             ],
             [
              0.1111111111111111,
              "#46039f"
             ],
             [
              0.2222222222222222,
              "#7201a8"
             ],
             [
              0.3333333333333333,
              "#9c179e"
             ],
             [
              0.4444444444444444,
              "#bd3786"
             ],
             [
              0.5555555555555556,
              "#d8576b"
             ],
             [
              0.6666666666666666,
              "#ed7953"
             ],
             [
              0.7777777777777778,
              "#fb9f3a"
             ],
             [
              0.8888888888888888,
              "#fdca26"
             ],
             [
              1,
              "#f0f921"
             ]
            ],
            "type":"histogram2dcontour"
           }
          ],
          "mesh3d":[
           {
            "colorbar":{
             "outlinewidth":0,
             "ticks":""
            },
            "type":"mesh3d"
           }
          ],
          "parcoords":[
           {
            "line":{
             "colorbar":{
              "outlinewidth":0,
              "ticks":""
             }
            },
            "type":"parcoords"
           }
          ],
          "pie":[
           {
            "automargin":true,
            "type":"pie"
           }
          ],
          "scatter":[
           {
            "marker":{
             "colorbar":{
              "outlinewidth":0,
              "ticks":""
             }
            },
            "type":"scatter"
           }
          ],
          "scatter3d":[
           {
            "line":{
             "colorbar":{
              "outlinewidth":0,
              "ticks":""
             }
            },
            "marker":{
             "colorbar":{
              "outlinewidth":0,
              "ticks":""
             }
            },
            "type":"scatter3d"
           }
          ],
          "scattercarpet":[
           {
            "marker":{
             "colorbar":{
              "outlinewidth":0,
              "ticks":""
             }
            },
            "type":"scattercarpet"
           }
          ],
          "scattergeo":[
           {
            "marker":{
             "colorbar":{
              "outlinewidth":0,
              "ticks":""
             }
            },
            "type":"scattergeo"
           }
          ],
          "scattergl":[
           {
            "marker":{
             "colorbar":{
              "outlinewidth":0,
              "ticks":""
             }
            },
            "type":"scattergl"
           }
          ],
          "scattermapbox":[
           {
            "marker":{
             "colorbar":{
              "outlinewidth":0,
              "ticks":""
             }
            },
            "type":"scattermapbox"
           }
          ],
          "scatterpolar":[
           {
            "marker":{
             "colorbar":{
              "outlinewidth":0,
              "ticks":""
             }
            },
            "type":"scatterpolar"
           }
          ],
          "scatterpolargl":[
           {
            "marker":{
             "colorbar":{
              "outlinewidth":0,
              "ticks":""
             }
            },
            "type":"scatterpolargl"
           }
          ],
          "scatterternary":[
           {
            "marker":{
             "colorbar":{
              "outlinewidth":0,
              "ticks":""
             }
            },
            "type":"scatterternary"
           }
          ],
          "surface":[
           {
            "colorbar":{
             "outlinewidth":0,
             "ticks":""
            },
            "colorscale":[
             [
              0,
              "#0d0887"
             ],
             [
              0.1111111111111111,
              "#46039f"
             ],
             [
              0.2222222222222222,
              "#7201a8"
             ],
             [
              0.3333333333333333,
              "#9c179e"
             ],
             [
              0.4444444444444444,
              "#bd3786"
             ],
             [
              0.5555555555555556,
              "#d8576b"
             ],
             [
              0.6666666666666666,
              "#ed7953"
             ],
             [
              0.7777777777777778,
              "#fb9f3a"
             ],
             [
              0.8888888888888888,
              "#fdca26"
             ],
             [
              1,
              "#f0f921"
             ]
            ],
            "type":"surface"
           }
          ],
          "table":[
           {
            "cells":{
             "fill":{
              "color":"#EBF0F8"
             },
             "line":{
              "color":"white"
             }
            },
            "header":{
             "fill":{
              "color":"#C8D4E3"
             },
             "line":{
              "color":"white"
             }
            },
            "type":"table"
           }
          ]
         },
         "layout":{
          "annotationdefaults":{
           "arrowcolor":"#2a3f5f",
           "arrowhead":0,
           "arrowwidth":1
          },
          "autotypenumbers":"strict",
          "coloraxis":{
           "colorbar":{
            "outlinewidth":0,
            "ticks":""
           }
          },
          "colorscale":{
           "diverging":[
            [
             0,
             "#8e0152"
            ],
            [
             0.1,
             "#c51b7d"
            ],
            [
             0.2,
             "#de77ae"
            ],
            [
             0.3,
             "#f1b6da"
            ],
            [
             0.4,
             "#fde0ef"
            ],
            [
             0.5,
             "#f7f7f7"
            ],
            [
             0.6,
             "#e6f5d0"
            ],
            [
             0.7,
             "#b8e186"
            ],
            [
             0.8,
             "#7fbc41"
            ],
            [
             0.9,
             "#4d9221"
            ],
            [
             1,
             "#276419"
            ]
           ],
           "sequential":[
            [
             0,
             "#0d0887"
            ],
            [
             0.1111111111111111,
             "#46039f"
            ],
            [
             0.2222222222222222,
             "#7201a8"
            ],
            [
             0.3333333333333333,
             "#9c179e"
            ],
            [
             0.4444444444444444,
             "#bd3786"
            ],
            [
             0.5555555555555556,
             "#d8576b"
            ],
            [
             0.6666666666666666,
             "#ed7953"
            ],
            [
             0.7777777777777778,
             "#fb9f3a"
            ],
            [
             0.8888888888888888,
             "#fdca26"
            ],
            [
             1,
             "#f0f921"
            ]
           ],
           "sequentialminus":[
            [
             0,
             "#0d0887"
            ],
            [
             0.1111111111111111,
             "#46039f"
            ],
            [
             0.2222222222222222,
             "#7201a8"
            ],
            [
             0.3333333333333333,
             "#9c179e"
            ],
            [
             0.4444444444444444,
             "#bd3786"
            ],
            [
             0.5555555555555556,
             "#d8576b"
            ],
            [
             0.6666666666666666,
             "#ed7953"
            ],
            [
             0.7777777777777778,
             "#fb9f3a"
            ],
            [
             0.8888888888888888,
             "#fdca26"
            ],
            [
             1,
             "#f0f921"
            ]
           ]
          },
          "colorway":[
           "#636efa",
           "#EF553B",
           "#00cc96",
           "#ab63fa",
           "#FFA15A",
           "#19d3f3",
           "#FF6692",
           "#B6E880",
           "#FF97FF",
           "#FECB52"
          ],
          "font":{
           "color":"#2a3f5f"
          },
          "geo":{
           "bgcolor":"white",
           "lakecolor":"white",
           "landcolor":"#E5ECF6",
           "showlakes":true,
           "showland":true,
           "subunitcolor":"white"
          },
          "hoverlabel":{
           "align":"left"
          },
          "hovermode":"closest",
          "mapbox":{
           "style":"light"
          },
          "paper_bgcolor":"white",
          "plot_bgcolor":"#E5ECF6",
          "polar":{
           "angularaxis":{
            "gridcolor":"white",
            "linecolor":"white",
            "ticks":""
           },
           "bgcolor":"#E5ECF6",
           "radialaxis":{
            "gridcolor":"white",
            "linecolor":"white",
            "ticks":""
           }
          },
          "scene":{
           "xaxis":{
            "backgroundcolor":"#E5ECF6",
            "gridcolor":"white",
            "gridwidth":2,
            "linecolor":"white",
            "showbackground":true,
            "ticks":"",
            "zerolinecolor":"white"
           },
           "yaxis":{
            "backgroundcolor":"#E5ECF6",
            "gridcolor":"white",
            "gridwidth":2,
            "linecolor":"white",
            "showbackground":true,
            "ticks":"",
            "zerolinecolor":"white"
           },
           "zaxis":{
            "backgroundcolor":"#E5ECF6",
            "gridcolor":"white",
            "gridwidth":2,
            "linecolor":"white",
            "showbackground":true,
            "ticks":"",
            "zerolinecolor":"white"
           }
          },
          "shapedefaults":{
           "line":{
            "color":"#2a3f5f"
           }
          },
          "ternary":{
           "aaxis":{
            "gridcolor":"white",
            "linecolor":"white",
            "ticks":""
           },
           "baxis":{
            "gridcolor":"white",
            "linecolor":"white",
            "ticks":""
           },
           "bgcolor":"#E5ECF6",
           "caxis":{
            "gridcolor":"white",
            "linecolor":"white",
            "ticks":""
           }
          },
          "title":{
           "x":0.05
          },
          "xaxis":{
           "automargin":true,
           "gridcolor":"white",
           "linecolor":"white",
           "ticks":"",
           "title":{
            "standoff":15
           },
           "zerolinecolor":"white",
           "zerolinewidth":2
          },
          "yaxis":{
           "automargin":true,
           "gridcolor":"white",
           "linecolor":"white",
           "ticks":"",
           "title":{
            "standoff":15
           },
           "zerolinecolor":"white",
           "zerolinewidth":2
          }
         }
        },
        "xaxis":{
         "title":{
          "text":"F3 (13.5%) Distance"
         },
         "range":[
          -3.9380384518723606,
          3.9380384518723606
         ]
        },
        "yaxis":{
         "title":{
          "text":"F4 (10.8%) Exportation"
         },
         "range":[
          -4.9324968076379925,
          4.9324968076379925
         ]
        },
        "width":800,
        "height":800,
        "showlegend":false,
        "title":{
         "text":"Projection des individus sur (F3 et F4)"
        }
       },
       "config":{
        "plotlyServerURL":"https:\/\/plot.ly"
       }
      }
     },
     "metadata":{
      
     },
     "output_type":"display_data"
    }
   ],
   "metadata":{
    "datalore":{
     "node_id":"wlmEUNInzeGzjC2DeRdvSf",
     "type":"CODE",
     "hide_input_from_viewers":true,
     "hide_output_from_viewers":true
    }
   }
  },
  {
   "cell_type":"markdown",
   "source":[
    "On peut voir que le cadran en bas à gauche est intéressant parce qu'il représente des pays qui ont une valeur d'exploitation négative, c'est-à-dire pas besoin d'importation et qui sont assez proches de nous."
   ],
   "attachments":{
    
   },
   "metadata":{
    "datalore":{
     "node_id":"DRgdxrUu0nWnszboEZgmiR",
     "type":"MD",
     "hide_input_from_viewers":true,
     "hide_output_from_viewers":true
    }
   }
  },
  {
   "cell_type":"code",
   "source":[
    "projection_acp_3d(X_proj = X_proj, rang_1 = 1, rang_2 = 2, rang_3= 4)"
   ],
   "execution_count":116,
   "outputs":[
    {
     "data":{
      "application\/vnd.plotly.v1+json":{
       "data":[
        {
         "mode":"markers",
         "text":[
          "Afghanistan",
          "Afrique du Sud",
          "Albanie",
          "Algérie",
          "Allemagne",
          "Angola",
          "Antigua-et-Barbuda",
          "Arabie saoudite",
          "Argentine",
          "Arménie",
          "Australie",
          "Autriche",
          "Azerbaïdjan",
          "Bahamas",
          "Bangladesh",
          "Barbade",
          "Belgique",
          "Belize",
          "Bolivie (État plurinational de)",
          "Bosnie-Herzégovine",
          "Botswana",
          "Brésil",
          "Bulgarie",
          "Burkina Faso",
          "Bélarus",
          "Bénin",
          "Cabo Verde",
          "Cambodge",
          "Cameroun",
          "Canada",
          "Chili",
          "Chine - RAS de Hong-Kong",
          "Chine - RAS de Macao",
          "Chine, Taiwan Province de",
          "Chine, continentale",
          "Chypre",
          "Colombie",
          "Congo",
          "Costa Rica",
          "Croatie",
          "Cuba",
          "Côte d'Ivoire",
          "Danemark",
          "Djibouti",
          "Dominique",
          "El Salvador",
          "Espagne",
          "Estonie",
          "Eswatini",
          "Fidji",
          "Finlande",
          "France",
          "Fédération de Russie",
          "Gabon",
          "Gambie",
          "Ghana",
          "Grenade",
          "Grèce",
          "Guatemala",
          "Guinée",
          "Guinée-Bissau",
          "Guyana",
          "Géorgie",
          "Haïti",
          "Honduras",
          "Hongrie",
          "Inde",
          "Indonésie",
          "Iran (République islamique d')",
          "Iraq",
          "Irlande",
          "Islande",
          "Israël",
          "Italie",
          "Jamaïque",
          "Japon",
          "Jordanie",
          "Kazakhstan",
          "Kenya",
          "Kirghizistan",
          "Kiribati",
          "Koweït",
          "Lesotho",
          "Lettonie",
          "Liban",
          "Libéria",
          "Lituanie",
          "Luxembourg",
          "Macédoine du Nord",
          "Madagascar",
          "Malaisie",
          "Malawi",
          "Maldives",
          "Mali",
          "Malte",
          "Maroc",
          "Maurice",
          "Mauritanie",
          "Mexique",
          "Mongolie",
          "Monténégro",
          "Mozambique",
          "Myanmar",
          "Namibie",
          "Nicaragua",
          "Niger",
          "Nigéria",
          "Norvège",
          "Nouvelle-Calédonie",
          "Nouvelle-Zélande",
          "Népal",
          "Oman",
          "Ouganda",
          "Ouzbékistan",
          "Pakistan",
          "Panama",
          "Paraguay",
          "Pays-Bas",
          "Philippines",
          "Pologne",
          "Polynésie française",
          "Portugal",
          "Pérou",
          "Roumanie",
          "Royaume-Uni de Grande-Bretagne et d'Irlande du Nord",
          "Rwanda",
          "République centrafricaine",
          "République de Corée",
          "République de Moldova",
          "République dominicaine",
          "République démocratique populaire lao",
          "République-Unie de Tanzanie",
          "Saint-Kitts-et-Nevis",
          "Saint-Vincent-et-les Grenadines",
          "Sainte-Lucie",
          "Samoa",
          "Sao Tomé-et-Principe",
          "Serbie",
          "Sierra Leone",
          "Slovaquie",
          "Slovénie",
          "Soudan",
          "Sri Lanka",
          "Suisse",
          "Suriname",
          "Suède",
          "Sénégal",
          "Tadjikistan",
          "Tchad",
          "Tchéquie",
          "Thaïlande",
          "Timor-Leste",
          "Togo",
          "Trinité-et-Tobago",
          "Tunisie",
          "Turkménistan",
          "Turquie",
          "Ukraine",
          "Uruguay",
          "Vanuatu",
          "Venezuela (République bolivarienne du)",
          "Viet Nam",
          "Yémen",
          "Zambie",
          "Zimbabwe",
          "Égypte",
          "Émirats arabes unis",
          "Équateur",
          "États-Unis d'Amérique",
          "Éthiopie",
          "Îles Salomon"
         ],
         "x":[
          -0.7389830837225204,
          1.0462654431489793,
          -0.5346165804587358,
          -0.5597354862324805,
          2.0394680359341755,
          -0.4321149805739762,
          -0.6516427122799183,
          0.7077432746766296,
          0.5911428507364715,
          -0.47327515429577843,
          0.2602446277068655,
          -0.14915052800248266,
          -0.49132906888796846,
          -0.6493875372037808,
          -0.3419250771171554,
          -0.6616116013652524,
          0.6497653494867984,
          -0.6929928207174096,
          -0.5070920895344345,
          -0.5370539210357494,
          -0.5773416552831364,
          9.603773032484128,
          -0.27812053110341856,
          -0.6763878210322157,
          -0.144763977221071,
          -0.5542439663919434,
          -0.6994490457169791,
          -0.6597960214464412,
          -0.7460384172440708,
          0.6888137756833053,
          0.12263868131232666,
          1.337174315059507,
          -0.6124270149003603,
          0.15167015020404212,
          12.541398040908673,
          -0.479017958726419,
          0.40316933727497484,
          -0.7284273714033914,
          -0.47107866146729704,
          -0.4322376468380066,
          -0.20971573496262236,
          -0.6487861212048136,
          -0.005702739736789806,
          -0.7808719494275596,
          -0.6287820899173421,
          -0.5245114273367699,
          0.7867580785915362,
          -0.37122839401337315,
          -0.6613900328689853,
          -0.6288145930348888,
          -0.3272368892507962,
          1.4847637435093999,
          2.38107398631874,
          -0.7213239189627949,
          -0.7529161914171633,
          -0.36817641685956076,
          -0.7095543387635245,
          -0.33303413071442295,
          -0.30437680656333294,
          -0.7141788028096933,
          -0.822242721746541,
          -0.6721717045724355,
          -0.3323604124336127,
          -0.7427511288505363,
          -0.5662027516155465,
          -0.05768718869405287,
          4.203056714114613,
          1.0581596991072921,
          0.611497971722155,
          -0.06502676534280474,
          -0.16134271541054593,
          -0.42860563435427046,
          -0.18733705543864712,
          0.5026981135133205,
          -0.4632214686334065,
          2.1003618867259113,
          -0.45912614116412087,
          -0.13030636722653208,
          -0.4789719458239176,
          -0.5859771382699693,
          -0.7978038318974722,
          -0.42676446597737316,
          -0.6479443644990649,
          -0.3327637239512974,
          -0.6397474403203216,
          -0.7844056849097171,
          -0.2688393726949172,
          -0.5227638785364188,
          -0.36212514736052337,
          -0.7379491103822371,
          0.43294949863107896,
          -0.6275742813514292,
          -0.7167292300424053,
          -0.6582034513130958,
          -0.5744041806597285,
          -0.09044599159998971,
          -0.44435125962008476,
          -0.7451855784172594,
          2.5949232645099554,
          -0.5615712748188362,
          -0.5252518482397962,
          -0.5947683288818906,
          0.08290172604778166,
          -0.5905867450333784,
          -0.6247501455745478,
          -0.6971107020093485,
          -0.20388448451441069,
          -0.33520928488130125,
          -0.47168369142376726,
          -0.24119567519424379,
          -0.5764605749146892,
          -0.3712081097944498,
          -0.5454374750170305,
          -0.545291357313352,
          0.38963462641958113,
          -0.48886129914753423,
          -0.6322041828156035,
          1.9107974554102938,
          0.52234961777233,
          1.5060962300970355,
          -0.4635891832413286,
          -0.14461706313793252,
          0.004498709898477761,
          -0.04917232746069924,
          1.8977718902059864,
          -0.512634224704143,
          -0.9328878433282359,
          0.29189989771031316,
          -0.4533256686796085,
          -0.4268522086545515,
          -0.7514650150505818,
          -0.5280467324209085,
          -0.7031126211706897,
          -0.6681771750258847,
          -0.5958599635778881,
          -0.6361223082546228,
          -0.8130304615218581,
          -0.4322859514356361,
          -0.7397471101171706,
          -0.3297333978171918,
          -0.39122155373217077,
          -0.6786493129162319,
          -0.5140127015780485,
          -0.3290334087024864,
          -0.753100647802139,
          -0.18898202900819103,
          -0.6763494566559662,
          -0.6470153633552415,
          -0.865646828433194,
          -0.19176805031868266,
          1.027532789516713,
          -0.8778292015639595,
          -0.7178067598672548,
          -0.5745294196182896,
          -0.45565937565504677,
          -0.6064021968003092,
          0.9903525793039637,
          0.44068834025375614,
          -0.6146579172116116,
          -0.6436440039477223,
          -0.5774879750421614,
          0.45459507905840557,
          -0.7132455219118331,
          -0.5651027596748806,
          -0.7089908125451045,
          0.23219002095963423,
          0.23008109734016843,
          -0.4784841583795425,
          13.628951392361632,
          -0.5489608083226185,
          -0.7029631843440487
         ],
         "y":[
          3.1226268548284417,
          -0.47561447857054534,
          -0.5980521919939461,
          1.3502888201266712,
          -2.6725161489873765,
          1.1152524981742031,
          -0.36620953346861346,
          -0.49663431856676765,
          0.45698781564646784,
          -0.14555521539600813,
          -1.089659301393633,
          -1.9349282784379702,
          0.30533552919474694,
          -0.4484024022309838,
          2.2471396166213102,
          -0.4561721395946692,
          -1.5976223117760597,
          0.38678316393967305,
          0.9674875378171944,
          -0.07552604132755424,
          -0.8262590089646021,
          1.514868389898927,
          -1.031470201987494,
          1.1672570053276021,
          -0.6647525952120985,
          0.3698192527524786,
          -0.19433789405628418,
          0.5148197931488206,
          1.7904572817711522,
          -1.8203224648171332,
          -0.7751616841789852,
          -3.0883690020542476,
          -0.8547615652586225,
          -1.5775161600067762,
          2.603637221742856,
          -1.0364368678063662,
          0.319223016016245,
          1.394003811517487,
          -0.6383893698659376,
          -1.213942091720193,
          -0.8010401286879111,
          1.3006385490106807,
          -2.140441572829359,
          1.2383141868195522,
          -0.7959942918575447,
          0.2336398108801928,
          -1.342598792382067,
          -1.5872216687039304,
          0.4583219168612119,
          -0.04629644518336378,
          -1.8386555467691128,
          -1.7708277345099512,
          -0.1999993584046253,
          0.8456345372762899,
          0.6787206378683007,
          -0.1022477682885203,
          -0.26352059894818464,
          -0.4537295759632911,
          0.3919798920212005,
          1.2032013440579383,
          1.2498781361432412,
          0.34767443834448564,
          -0.8610143283270049,
          1.6109283414419622,
          0.8071145434348003,
          -1.2948088286578674,
          2.9912880374988844,
          0.9224432823834857,
          1.1545051468470455,
          1.7802059502933423,
          -1.9614201588551536,
          -1.9540857537975318,
          -0.03984363685837474,
          -0.8929568194172294,
          -0.47214584085178907,
          -2.8153101313518496,
          0.3947853803986295,
          -0.924652173600937,
          0.8371032386785984,
          0.24192334928178652,
          0.4280000493241215,
          -0.13351594336328515,
          0.410292108884609,
          -1.487248651778134,
          1.4123737481561691,
          1.2232002290958952,
          -1.6433840752550977,
          -1.5287811115012104,
          -0.9814296633315654,
          1.30994031566567,
          -0.7280020666338024,
          0.6982013229996632,
          0.3711724012456499,
          1.7733708725692863,
          -1.1965188566897547,
          -0.1605123212038337,
          -1.3050993549209804,
          1.0853470670487286,
          -0.9618501203182265,
          -0.7501851243556575,
          -0.12175651089187949,
          1.2526785034525099,
          2.009000558405776,
          -0.33028757278423926,
          0.5270389565490893,
          1.4795368071143271,
          2.3217896879844058,
          -2.0158569516082516,
          -0.5672557382984622,
          -1.9306990730517604,
          0.7071076703259376,
          -1.0517033166384966,
          0.695022238318644,
          0.16876768450589572,
          2.5461397516093522,
          -0.34397095992790466,
          0.34593258125008386,
          -2.56014852603376,
          0.9820630758518859,
          -1.3393751764512218,
          -0.6127347732171514,
          -1.7968217396176245,
          0.05727409738474709,
          -0.9290847785764983,
          -2.588425305352159,
          -0.40043832393035456,
          2.8900048518179697,
          -1.3757589814881463,
          -0.4701253399805926,
          0.10570410478205056,
          0.4784225652983929,
          0.9143427971460482,
          -0.06769117928718589,
          -0.36766583320879487,
          -0.7698509062502727,
          -0.42088471112085607,
          0.7225509087012539,
          -0.32301998619009914,
          0.7072130246746532,
          -1.5698231276864523,
          -1.503380857291543,
          2.2633415214306782,
          0.27890559987153307,
          -1.881481342185054,
          0.6460701701500646,
          -1.9856092531419929,
          0.5775390403824929,
          0.8235873741705506,
          2.167046073848211,
          -1.777961708512037,
          0.20448200203091044,
          1.4428070737250898,
          1.2547528583418546,
          -0.161079841402614,
          0.4046900200166038,
          0.10161156843339154,
          0.9536949758454489,
          0.9222908659506223,
          -0.5119921380936217,
          -0.09528199860665458,
          2.541005316456567,
          -0.48019834026203384,
          3.521281338109256,
          0.03268430010782943,
          1.287972430850791,
          1.2673538080375983,
          -1.9139275759456986,
          0.4287672151812248,
          0.0029847171289340063,
          2.2123601970265807,
          0.5062368029784743
         ],
         "z":[
          -0.1446016069199749,
          -1.9210823339192198,
          0.5897729496456741,
          0.5168128165011923,
          -1.7875084421109888,
          -0.9136262168665565,
          0.30452173182222314,
          -2.407079141124021,
          0.08928580496079422,
          0.3552375201513321,
          -0.5125988277775029,
          0.5214576129260601,
          0.3196127461275304,
          0.21742579090214104,
          -0.375375622152136,
          0.3290633076369895,
          0.24245685029902514,
          0.0899646998339598,
          -0.06702934690520668,
          0.6568291311932128,
          0.19478401615674132,
          4.4840880069436295,
          0.35568253170353625,
          0.3369150257133213,
          0.7660448207215316,
          -0.07473082417284967,
          0.4725621441862423,
          -0.09454872542241116,
          0.21057259726409377,
          -0.0837043991013708,
          -0.5870351885316909,
          -2.6725746864714313,
          0.0631277717185451,
          -0.5211817775975911,
          -3.515996415538083,
          0.5975592110181326,
          -0.30020461690561084,
          -0.17086266482486323,
          0.07399110733756804,
          0.7451874413247697,
          -0.974686001902278,
          0.2138193686865601,
          0.4952344836077286,
          0.25204683021644303,
          0.35301202334989273,
          -0.023797554587401154,
          0.2004273344780663,
          0.6965074253321303,
          0.03803764393477647,
          -0.5379517263984763,
          0.7487829905449455,
          -0.6211076214135881,
          -0.26979208933403287,
          0.043349816095830156,
          0.37512302135913855,
          -0.21480333537269597,
          0.2872114335492368,
          0.3743351560411038,
          -0.5085002205563309,
          0.17585166169216981,
          0.36261904278776186,
          0.19850680333320803,
          0.3409409053985835,
          -0.25636272238448055,
          -0.03765195794697204,
          0.8160547814982083,
          -2.935417912538582,
          -0.7325921737702003,
          0.32392770740133936,
          -1.6149557187985146,
          0.6050776434217883,
          0.7931801205492548,
          0.5046689849593511,
          0.5252569004854993,
          0.09547501226573323,
          -4.108355581409867,
          0.2530239647332421,
          -0.3082031776438626,
          0.04931928312628155,
          0.22479973269074865,
          -0.3336322682934151,
          -0.07113277007613752,
          -0.024492460815037413,
          0.6157050808997241,
          0.3360659724538914,
          0.1631234689659715,
          0.6921839592364615,
          0.9103412917837282,
          0.539687060758738,
          -0.028136527939461434,
          -0.21844097046649538,
          0.10877737791735273,
          0.0891705810370536,
          0.23690262664852538,
          0.7782256068810457,
          0.600699370582282,
          0.13621471166741575,
          0.3289973475393201,
          -3.819839637457828,
          0.26993987198305763,
          -0.4928371591665802,
          -0.18275379879249268,
          -0.1051221917503468,
          0.0999893169706567,
          0.028128195592784202,
          0.2955518555253788,
          -0.24363843266225632,
          0.8496465975673123,
          -0.5870896361516339,
          -0.6036067096220724,
          0.0864009903126662,
          -0.036113774521818964,
          0.15170085536016878,
          0.2932760086530641,
          -0.3660987186973597,
          0.06085038216178221,
          -0.053839469634520146,
          0.04012592006800358,
          -1.3355709324336842,
          1.647677104130664,
          -0.5212716725938393,
          0.5699782029021265,
          -0.28734479428008125,
          0.1858462877714887,
          -1.784465045278597,
          0.2912777012179146,
          0.1301766040376812,
          -0.4577712504311636,
          0.5838058039256668,
          0.07196956388182882,
          0.04915740442173442,
          0.020045049757755985,
          0.2958189161510745,
          0.2839957427017992,
          0.3060661624839622,
          -0.4879253448172845,
          0.35833429963669833,
          -0.49927529293884215,
          0.33790283611027455,
          0.636745176832005,
          0.810151725320486,
          0.12068834590302736,
          0.05729587912086221,
          0.7375668813339918,
          0.1493044450436229,
          0.5166931898083126,
          0.42149051108009794,
          0.14090145884444244,
          0.2716055302018379,
          0.448689488826011,
          0.6809143009718247,
          -0.5365288062119365,
          0.247991670032339,
          0.15737624602912756,
          0.6037817051411046,
          0.38301501665454,
          0.8211783810945228,
          0.25891047095419956,
          -0.01750790685317657,
          -0.5129658905149603,
          -0.1150447715582536,
          -1.2110364203019157,
          -0.3022442176879964,
          0.11441439603319319,
          0.01337785160333126,
          -0.1770235440331691,
          -1.100926781897936,
          -6.001815697614467E-4,
          4.067368062577121,
          -0.09660852431628768,
          -0.4779580365651934
         ],
         "type":"scatter3d"
        }
       ],
       "layout":{
        "scene":{
         "hovermode":"closest",
         "xaxis":{
          "title":{
           "text":"F1 (39.3%) Besoin en viande de volaille"
          },
          "range":[
           -14.991846531597796,
           14.991846531597796
          ]
         },
         "yaxis":{
          "title":{
           "text":"F2 (21.1%) Difficulté à faire du business"
          },
          "range":[
           -3.8734094719201817,
           3.8734094719201817
          ]
         },
         "zaxis":{
          "title":{
           "text":"F4 (10.8%) Exportation"
          },
          "range":[
           -4.9324968076379925,
           4.9324968076379925
          ]
         },
         "aspectratio":{
          "x":1,
          "y":1,
          "z":1
         },
         "aspectmode":"manual"
        },
        "template":{
         "data":{
          "bar":[
           {
            "error_x":{
             "color":"#2a3f5f"
            },
            "error_y":{
             "color":"#2a3f5f"
            },
            "marker":{
             "line":{
              "color":"#E5ECF6",
              "width":0.5
             },
             "pattern":{
              "fillmode":"overlay",
              "size":10,
              "solidity":0.2
             }
            },
            "type":"bar"
           }
          ],
          "barpolar":[
           {
            "marker":{
             "line":{
              "color":"#E5ECF6",
              "width":0.5
             },
             "pattern":{
              "fillmode":"overlay",
              "size":10,
              "solidity":0.2
             }
            },
            "type":"barpolar"
           }
          ],
          "carpet":[
           {
            "aaxis":{
             "endlinecolor":"#2a3f5f",
             "gridcolor":"white",
             "linecolor":"white",
             "minorgridcolor":"white",
             "startlinecolor":"#2a3f5f"
            },
            "baxis":{
             "endlinecolor":"#2a3f5f",
             "gridcolor":"white",
             "linecolor":"white",
             "minorgridcolor":"white",
             "startlinecolor":"#2a3f5f"
            },
            "type":"carpet"
           }
          ],
          "choropleth":[
           {
            "colorbar":{
             "outlinewidth":0,
             "ticks":""
            },
            "type":"choropleth"
           }
          ],
          "contour":[
           {
            "colorbar":{
             "outlinewidth":0,
             "ticks":""
            },
            "colorscale":[
             [
              0,
              "#0d0887"
             ],
             [
              0.1111111111111111,
              "#46039f"
             ],
             [
              0.2222222222222222,
              "#7201a8"
             ],
             [
              0.3333333333333333,
              "#9c179e"
             ],
             [
              0.4444444444444444,
              "#bd3786"
             ],
             [
              0.5555555555555556,
              "#d8576b"
             ],
             [
              0.6666666666666666,
              "#ed7953"
             ],
             [
              0.7777777777777778,
              "#fb9f3a"
             ],
             [
              0.8888888888888888,
              "#fdca26"
             ],
             [
              1,
              "#f0f921"
             ]
            ],
            "type":"contour"
           }
          ],
          "contourcarpet":[
           {
            "colorbar":{
             "outlinewidth":0,
             "ticks":""
            },
            "type":"contourcarpet"
           }
          ],
          "heatmap":[
           {
            "colorbar":{
             "outlinewidth":0,
             "ticks":""
            },
            "colorscale":[
             [
              0,
              "#0d0887"
             ],
             [
              0.1111111111111111,
              "#46039f"
             ],
             [
              0.2222222222222222,
              "#7201a8"
             ],
             [
              0.3333333333333333,
              "#9c179e"
             ],
             [
              0.4444444444444444,
              "#bd3786"
             ],
             [
              0.5555555555555556,
              "#d8576b"
             ],
             [
              0.6666666666666666,
              "#ed7953"
             ],
             [
              0.7777777777777778,
              "#fb9f3a"
             ],
             [
              0.8888888888888888,
              "#fdca26"
             ],
             [
              1,
              "#f0f921"
             ]
            ],
            "type":"heatmap"
           }
          ],
          "heatmapgl":[
           {
            "colorbar":{
             "outlinewidth":0,
             "ticks":""
            },
            "colorscale":[
             [
              0,
              "#0d0887"
             ],
             [
              0.1111111111111111,
              "#46039f"
             ],
             [
              0.2222222222222222,
              "#7201a8"
             ],
             [
              0.3333333333333333,
              "#9c179e"
             ],
             [
              0.4444444444444444,
              "#bd3786"
             ],
             [
              0.5555555555555556,
              "#d8576b"
             ],
             [
              0.6666666666666666,
              "#ed7953"
             ],
             [
              0.7777777777777778,
              "#fb9f3a"
             ],
             [
              0.8888888888888888,
              "#fdca26"
             ],
             [
              1,
              "#f0f921"
             ]
            ],
            "type":"heatmapgl"
           }
          ],
          "histogram":[
           {
            "marker":{
             "pattern":{
              "fillmode":"overlay",
              "size":10,
              "solidity":0.2
             }
            },
            "type":"histogram"
           }
          ],
          "histogram2d":[
           {
            "colorbar":{
             "outlinewidth":0,
             "ticks":""
            },
            "colorscale":[
             [
              0,
              "#0d0887"
             ],
             [
              0.1111111111111111,
              "#46039f"
             ],
             [
              0.2222222222222222,
              "#7201a8"
             ],
             [
              0.3333333333333333,
              "#9c179e"
             ],
             [
              0.4444444444444444,
              "#bd3786"
             ],
             [
              0.5555555555555556,
              "#d8576b"
             ],
             [
              0.6666666666666666,
              "#ed7953"
             ],
             [
              0.7777777777777778,
              "#fb9f3a"
             ],
             [
              0.8888888888888888,
              "#fdca26"
             ],
             [
              1,
              "#f0f921"
             ]
            ],
            "type":"histogram2d"
           }
          ],
          "histogram2dcontour":[
           {
            "colorbar":{
             "outlinewidth":0,
             "ticks":""
            },
            "colorscale":[
             [
              0,
              "#0d0887"
             ],
             [
              0.1111111111111111,
              "#46039f"
             ],
             [
              0.2222222222222222,
              "#7201a8"
             ],
             [
              0.3333333333333333,
              "#9c179e"
             ],
             [
              0.4444444444444444,
              "#bd3786"
             ],
             [
              0.5555555555555556,
              "#d8576b"
             ],
             [
              0.6666666666666666,
              "#ed7953"
             ],
             [
              0.7777777777777778,
              "#fb9f3a"
             ],
             [
              0.8888888888888888,
              "#fdca26"
             ],
             [
              1,
              "#f0f921"
             ]
            ],
            "type":"histogram2dcontour"
           }
          ],
          "mesh3d":[
           {
            "colorbar":{
             "outlinewidth":0,
             "ticks":""
            },
            "type":"mesh3d"
           }
          ],
          "parcoords":[
           {
            "line":{
             "colorbar":{
              "outlinewidth":0,
              "ticks":""
             }
            },
            "type":"parcoords"
           }
          ],
          "pie":[
           {
            "automargin":true,
            "type":"pie"
           }
          ],
          "scatter":[
           {
            "marker":{
             "colorbar":{
              "outlinewidth":0,
              "ticks":""
             }
            },
            "type":"scatter"
           }
          ],
          "scatter3d":[
           {
            "line":{
             "colorbar":{
              "outlinewidth":0,
              "ticks":""
             }
            },
            "marker":{
             "colorbar":{
              "outlinewidth":0,
              "ticks":""
             }
            },
            "type":"scatter3d"
           }
          ],
          "scattercarpet":[
           {
            "marker":{
             "colorbar":{
              "outlinewidth":0,
              "ticks":""
             }
            },
            "type":"scattercarpet"
           }
          ],
          "scattergeo":[
           {
            "marker":{
             "colorbar":{
              "outlinewidth":0,
              "ticks":""
             }
            },
            "type":"scattergeo"
           }
          ],
          "scattergl":[
           {
            "marker":{
             "colorbar":{
              "outlinewidth":0,
              "ticks":""
             }
            },
            "type":"scattergl"
           }
          ],
          "scattermapbox":[
           {
            "marker":{
             "colorbar":{
              "outlinewidth":0,
              "ticks":""
             }
            },
            "type":"scattermapbox"
           }
          ],
          "scatterpolar":[
           {
            "marker":{
             "colorbar":{
              "outlinewidth":0,
              "ticks":""
             }
            },
            "type":"scatterpolar"
           }
          ],
          "scatterpolargl":[
           {
            "marker":{
             "colorbar":{
              "outlinewidth":0,
              "ticks":""
             }
            },
            "type":"scatterpolargl"
           }
          ],
          "scatterternary":[
           {
            "marker":{
             "colorbar":{
              "outlinewidth":0,
              "ticks":""
             }
            },
            "type":"scatterternary"
           }
          ],
          "surface":[
           {
            "colorbar":{
             "outlinewidth":0,
             "ticks":""
            },
            "colorscale":[
             [
              0,
              "#0d0887"
             ],
             [
              0.1111111111111111,
              "#46039f"
             ],
             [
              0.2222222222222222,
              "#7201a8"
             ],
             [
              0.3333333333333333,
              "#9c179e"
             ],
             [
              0.4444444444444444,
              "#bd3786"
             ],
             [
              0.5555555555555556,
              "#d8576b"
             ],
             [
              0.6666666666666666,
              "#ed7953"
             ],
             [
              0.7777777777777778,
              "#fb9f3a"
             ],
             [
              0.8888888888888888,
              "#fdca26"
             ],
             [
              1,
              "#f0f921"
             ]
            ],
            "type":"surface"
           }
          ],
          "table":[
           {
            "cells":{
             "fill":{
              "color":"#EBF0F8"
             },
             "line":{
              "color":"white"
             }
            },
            "header":{
             "fill":{
              "color":"#C8D4E3"
             },
             "line":{
              "color":"white"
             }
            },
            "type":"table"
           }
          ]
         },
         "layout":{
          "annotationdefaults":{
           "arrowcolor":"#2a3f5f",
           "arrowhead":0,
           "arrowwidth":1
          },
          "autotypenumbers":"strict",
          "coloraxis":{
           "colorbar":{
            "outlinewidth":0,
            "ticks":""
           }
          },
          "colorscale":{
           "diverging":[
            [
             0,
             "#8e0152"
            ],
            [
             0.1,
             "#c51b7d"
            ],
            [
             0.2,
             "#de77ae"
            ],
            [
             0.3,
             "#f1b6da"
            ],
            [
             0.4,
             "#fde0ef"
            ],
            [
             0.5,
             "#f7f7f7"
            ],
            [
             0.6,
             "#e6f5d0"
            ],
            [
             0.7,
             "#b8e186"
            ],
            [
             0.8,
             "#7fbc41"
            ],
            [
             0.9,
             "#4d9221"
            ],
            [
             1,
             "#276419"
            ]
           ],
           "sequential":[
            [
             0,
             "#0d0887"
            ],
            [
             0.1111111111111111,
             "#46039f"
            ],
            [
             0.2222222222222222,
             "#7201a8"
            ],
            [
             0.3333333333333333,
             "#9c179e"
            ],
            [
             0.4444444444444444,
             "#bd3786"
            ],
            [
             0.5555555555555556,
             "#d8576b"
            ],
            [
             0.6666666666666666,
             "#ed7953"
            ],
            [
             0.7777777777777778,
             "#fb9f3a"
            ],
            [
             0.8888888888888888,
             "#fdca26"
            ],
            [
             1,
             "#f0f921"
            ]
           ],
           "sequentialminus":[
            [
             0,
             "#0d0887"
            ],
            [
             0.1111111111111111,
             "#46039f"
            ],
            [
             0.2222222222222222,
             "#7201a8"
            ],
            [
             0.3333333333333333,
             "#9c179e"
            ],
            [
             0.4444444444444444,
             "#bd3786"
            ],
            [
             0.5555555555555556,
             "#d8576b"
            ],
            [
             0.6666666666666666,
             "#ed7953"
            ],
            [
             0.7777777777777778,
             "#fb9f3a"
            ],
            [
             0.8888888888888888,
             "#fdca26"
            ],
            [
             1,
             "#f0f921"
            ]
           ]
          },
          "colorway":[
           "#636efa",
           "#EF553B",
           "#00cc96",
           "#ab63fa",
           "#FFA15A",
           "#19d3f3",
           "#FF6692",
           "#B6E880",
           "#FF97FF",
           "#FECB52"
          ],
          "font":{
           "color":"#2a3f5f"
          },
          "geo":{
           "bgcolor":"white",
           "lakecolor":"white",
           "landcolor":"#E5ECF6",
           "showlakes":true,
           "showland":true,
           "subunitcolor":"white"
          },
          "hoverlabel":{
           "align":"left"
          },
          "hovermode":"closest",
          "mapbox":{
           "style":"light"
          },
          "paper_bgcolor":"white",
          "plot_bgcolor":"#E5ECF6",
          "polar":{
           "angularaxis":{
            "gridcolor":"white",
            "linecolor":"white",
            "ticks":""
           },
           "bgcolor":"#E5ECF6",
           "radialaxis":{
            "gridcolor":"white",
            "linecolor":"white",
            "ticks":""
           }
          },
          "scene":{
           "xaxis":{
            "backgroundcolor":"#E5ECF6",
            "gridcolor":"white",
            "gridwidth":2,
            "linecolor":"white",
            "showbackground":true,
            "ticks":"",
            "zerolinecolor":"white"
           },
           "yaxis":{
            "backgroundcolor":"#E5ECF6",
            "gridcolor":"white",
            "gridwidth":2,
            "linecolor":"white",
            "showbackground":true,
            "ticks":"",
            "zerolinecolor":"white"
           },
           "zaxis":{
            "backgroundcolor":"#E5ECF6",
            "gridcolor":"white",
            "gridwidth":2,
            "linecolor":"white",
            "showbackground":true,
            "ticks":"",
            "zerolinecolor":"white"
           }
          },
          "shapedefaults":{
           "line":{
            "color":"#2a3f5f"
           }
          },
          "ternary":{
           "aaxis":{
            "gridcolor":"white",
            "linecolor":"white",
            "ticks":""
           },
           "baxis":{
            "gridcolor":"white",
            "linecolor":"white",
            "ticks":""
           },
           "bgcolor":"#E5ECF6",
           "caxis":{
            "gridcolor":"white",
            "linecolor":"white",
            "ticks":""
           }
          },
          "title":{
           "x":0.05
          },
          "xaxis":{
           "automargin":true,
           "gridcolor":"white",
           "linecolor":"white",
           "ticks":"",
           "title":{
            "standoff":15
           },
           "zerolinecolor":"white",
           "zerolinewidth":2
          },
          "yaxis":{
           "automargin":true,
           "gridcolor":"white",
           "linecolor":"white",
           "ticks":"",
           "title":{
            "standoff":15
           },
           "zerolinecolor":"white",
           "zerolinewidth":2
          }
         }
        },
        "width":1200,
        "height":1200,
        "showlegend":false,
        "title":{
         "text":"Projection des individus sur (F1, F2, F4)"
        }
       },
       "config":{
        "plotlyServerURL":"https:\/\/plot.ly"
       }
      }
     },
     "metadata":{
      
     },
     "output_type":"display_data"
    }
   ],
   "metadata":{
    "datalore":{
     "node_id":"keQ8cJYRy9vCky4RDbD8tm",
     "type":"CODE",
     "hide_input_from_viewers":true,
     "hide_output_from_viewers":true
    }
   }
  },
  {
   "cell_type":"markdown",
   "source":[
    "On peut voir sur ce graphique que l'on a beaucoup de pays regroupés. Il serait peut-être intéressant de définir les clusters que l'on a. À fin de pouvoir se concentrer sur un seul cluster."
   ],
   "attachments":{
    
   },
   "metadata":{
    "datalore":{
     "node_id":"GQViYsHOnPG6BLq3yOLEIY",
     "type":"MD",
     "hide_input_from_viewers":true,
     "hide_output_from_viewers":true
    }
   }
  },
  {
   "cell_type":"markdown",
   "source":[
    "# 4 - Export\n",
    "Maintenant que l'on a fait tout ça, on va pouvoir exporter les dataframe à fin de classifier les données dans un autre Notebook."
   ],
   "attachments":{
    
   },
   "metadata":{
    "datalore":{
     "node_id":"SHeE4J4mldvWxSpNxEHAFH",
     "type":"MD",
     "hide_input_from_viewers":true,
     "hide_output_from_viewers":true
    }
   }
  },
  {
   "cell_type":"code",
   "source":[
    "# On crée un Dataframe contenant les résultat de l'ACP\n",
    "df_acp = pd.DataFrame(X_proj)\n",
    "df_acp = df_acp.assign(Zone=pays)\n",
    "df_acp = df_acp.rename(columns={0: 'Besoin en viande', \n",
    "                                    1: 'Difficulté à faire des affaires', \n",
    "                                    2: 'Distance', \n",
    "                                    3: 'Exportation'}).drop(columns=[4,5])\n",
    "\n",
    "df_acp"
   ],
   "execution_count":117,
   "outputs":[
    {
     "data":{
      "text\/html":[
       "<div>\n",
       "<style scoped>\n",
       "    .dataframe tbody tr th:only-of-type {\n",
       "        vertical-align: middle;\n",
       "    }\n",
       "\n",
       "    .dataframe tbody tr th {\n",
       "        vertical-align: top;\n",
       "    }\n",
       "\n",
       "    .dataframe thead th {\n",
       "        text-align: right;\n",
       "    }\n",
       "<\/style>\n",
       "<table border=\"1\" class=\"dataframe\">\n",
       "  <thead>\n",
       "    <tr style=\"text-align: right;\">\n",
       "      <th><\/th>\n",
       "      <th>Besoin en viande<\/th>\n",
       "      <th>Difficulté à faire des affaires<\/th>\n",
       "      <th>Distance<\/th>\n",
       "      <th>Exportation<\/th>\n",
       "      <th>Zone<\/th>\n",
       "    <\/tr>\n",
       "  <\/thead>\n",
       "  <tbody>\n",
       "    <tr>\n",
       "      <th>0<\/th>\n",
       "      <td>-0.738983<\/td>\n",
       "      <td>3.122627<\/td>\n",
       "      <td>-1.189105<\/td>\n",
       "      <td>-0.144602<\/td>\n",
       "      <td>Afghanistan<\/td>\n",
       "    <\/tr>\n",
       "    <tr>\n",
       "      <th>1<\/th>\n",
       "      <td>1.046265<\/td>\n",
       "      <td>-0.475614<\/td>\n",
       "      <td>-0.171710<\/td>\n",
       "      <td>-1.921082<\/td>\n",
       "      <td>Afrique du Sud<\/td>\n",
       "    <\/tr>\n",
       "    <tr>\n",
       "      <th>2<\/th>\n",
       "      <td>-0.534617<\/td>\n",
       "      <td>-0.598052<\/td>\n",
       "      <td>-0.733510<\/td>\n",
       "      <td>0.589773<\/td>\n",
       "      <td>Albanie<\/td>\n",
       "    <\/tr>\n",
       "    <tr>\n",
       "      <th>3<\/th>\n",
       "      <td>-0.559735<\/td>\n",
       "      <td>1.350289<\/td>\n",
       "      <td>-1.244908<\/td>\n",
       "      <td>0.516813<\/td>\n",
       "      <td>Algérie<\/td>\n",
       "    <\/tr>\n",
       "    <tr>\n",
       "      <th>4<\/th>\n",
       "      <td>2.039468<\/td>\n",
       "      <td>-2.672516<\/td>\n",
       "      <td>-2.302902<\/td>\n",
       "      <td>-1.787508<\/td>\n",
       "      <td>Allemagne<\/td>\n",
       "    <\/tr>\n",
       "    <tr>\n",
       "      <th>...<\/th>\n",
       "      <td>...<\/td>\n",
       "      <td>...<\/td>\n",
       "      <td>...<\/td>\n",
       "      <td>...<\/td>\n",
       "      <td>...<\/td>\n",
       "    <\/tr>\n",
       "    <tr>\n",
       "      <th>166<\/th>\n",
       "      <td>0.230081<\/td>\n",
       "      <td>-1.913928<\/td>\n",
       "      <td>-0.596028<\/td>\n",
       "      <td>-1.100927<\/td>\n",
       "      <td>Émirats arabes unis<\/td>\n",
       "    <\/tr>\n",
       "    <tr>\n",
       "      <th>167<\/th>\n",
       "      <td>-0.478484<\/td>\n",
       "      <td>0.428767<\/td>\n",
       "      <td>0.809286<\/td>\n",
       "      <td>-0.000600<\/td>\n",
       "      <td>Équateur<\/td>\n",
       "    <\/tr>\n",
       "    <tr>\n",
       "      <th>168<\/th>\n",
       "      <td>13.628951<\/td>\n",
       "      <td>0.002985<\/td>\n",
       "      <td>1.130871<\/td>\n",
       "      <td>4.067368<\/td>\n",
       "      <td>États-Unis d'Amérique<\/td>\n",
       "    <\/tr>\n",
       "    <tr>\n",
       "      <th>169<\/th>\n",
       "      <td>-0.548961<\/td>\n",
       "      <td>2.212360<\/td>\n",
       "      <td>-0.674626<\/td>\n",
       "      <td>-0.096609<\/td>\n",
       "      <td>Éthiopie<\/td>\n",
       "    <\/tr>\n",
       "    <tr>\n",
       "      <th>170<\/th>\n",
       "      <td>-0.702963<\/td>\n",
       "      <td>0.506237<\/td>\n",
       "      <td>2.123127<\/td>\n",
       "      <td>-0.477958<\/td>\n",
       "      <td>Îles Salomon<\/td>\n",
       "    <\/tr>\n",
       "  <\/tbody>\n",
       "<\/table>\n",
       "<p>171 rows × 5 columns<\/p>\n",
       "<\/div>"
      ]
     },
     "metadata":{
      
     },
     "output_type":"display_data"
    }
   ],
   "metadata":{
    "datalore":{
     "node_id":"RLCg8BvyFBiHcz4TqnnWp1",
     "type":"CODE",
     "hide_input_from_viewers":true,
     "hide_output_from_viewers":true
    }
   }
  },
  {
   "cell_type":"code",
   "source":[
    "df_etude_marche.to_csv('df_etude_marche.csv', index= False)\n",
    "\n",
    "df_acp.to_csv('df_acp.csv', index= False)"
   ],
   "execution_count":118,
   "outputs":[
    
   ],
   "metadata":{
    "datalore":{
     "node_id":"SbOOilQ2xH5QkbXlU4YqXM",
     "type":"CODE",
     "hide_input_from_viewers":true,
     "hide_output_from_viewers":true
    }
   }
  }
 ],
 "metadata":{
  "kernelspec":{
   "display_name":"Python",
   "language":"python",
   "name":"python"
  },
  "datalore":{
   "version":1,
   "computation_mode":"JUPYTER",
   "package_manager":"pip",
   "base_environment":"default",
   "packages":[
    {
     "name":"pandas-profiling",
     "source":"PIP"
    }
   ]
  }
 },
 "nbformat":4,
 "nbformat_minor":4
}